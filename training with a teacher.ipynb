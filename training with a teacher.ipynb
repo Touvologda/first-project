{
 "cells": [
  {
   "cell_type": "markdown",
   "metadata": {},
   "source": [
    "<h1>Построение модели для предсказания оттока \n",
    "<h1> клиентов из банка.<span class=\"tocSkip\"></span></h1>"
   ]
  },
  {
   "cell_type": "markdown",
   "metadata": {},
   "source": [
    "**Цель**\n",
    "\n",
    "Построить модель, позволяющую спрогнозировать, уйдет клиент избанка в ближайшее время или нет, основывваясь на исторических данных о поведении клиентов и расторжении договора с банком. \n",
    "\n",
    "Значения F1-меры для модели необходимо получить не менее 0.59, измерить AUC-ROC, сравнить её  с F1-мерой."
   ]
  },
  {
   "cell_type": "markdown",
   "metadata": {},
   "source": [
    "**Структура данных**\n",
    "\n",
    "*Данные находятся в файле \"/datasets/Churn.csv\"*\n",
    "\n",
    "RowNumber — индекс строки в данных\n",
    "CustomerId — уникальный идентификатор клиента\n",
    "Surname — фамилия\n",
    "CreditScore — кредитный рейтинг\n",
    "Geography — страна проживания\n",
    "Gender — пол\n",
    "Age — возраст\n",
    "Tenure — сколько лет человек является клиентом банка\n",
    "Balance — баланс на счёте\n",
    "NumOfProducts — количество продуктов банка, используемых клиентом\n",
    "HasCrCard — наличие кредитной карты\n",
    "IsActiveMember — активность клиента\n",
    "EstimatedSalary — предполагаемая зарплата"
   ]
  },
  {
   "cell_type": "markdown",
   "metadata": {
    "toc": true
   },
   "source": [
    "<h1>Содержание<span class=\"tocSkip\"></span></h1>\n",
    "<div class=\"toc\"><ul class=\"toc-item\"><li><span><a href=\"#Подготовка-данных\" data-toc-modified-id=\"Подготовка-данных-1\"><span class=\"toc-item-num\">1&nbsp;&nbsp;</span>Подготовка данных</a></span></li><li><span><a href=\"#Подготовка-признаков\" data-toc-modified-id=\"Подготовка-признаков-2\"><span class=\"toc-item-num\">2&nbsp;&nbsp;</span>Подготовка признаков</a></span></li><li><span><a href=\"#Исследование-задачи\" data-toc-modified-id=\"Исследование-задачи-3\"><span class=\"toc-item-num\">3&nbsp;&nbsp;</span>Исследование задачи</a></span></li><li><span><a href=\"#Борьба-с-дисбалансом\" data-toc-modified-id=\"Борьба-с-дисбалансом-4\"><span class=\"toc-item-num\">4&nbsp;&nbsp;</span>Борьба с дисбалансом</a></span></li><li><span><a href=\"#Подбор-гиперпараметров\" data-toc-modified-id=\"Подбор-гиперпараметров-5\"><span class=\"toc-item-num\">5&nbsp;&nbsp;</span>Подбор гиперпараметров</a></span></li><li><span><a href=\"#Тестирование-модели\" data-toc-modified-id=\"Тестирование-модели-6\"><span class=\"toc-item-num\">6&nbsp;&nbsp;</span>Тестирование модели</a></span></li><li><span><a href=\"#Итоги\" data-toc-modified-id=\"Итоги-7\"><span class=\"toc-item-num\">7&nbsp;&nbsp;</span>Итоги</a></span></li><li><span><a href=\"#Чек-лист-готовности-проекта\" data-toc-modified-id=\"Чек-лист-готовности-проекта-8\"><span class=\"toc-item-num\">8&nbsp;&nbsp;</span>Чек-лист готовности проекта</a></span></li></ul></div>"
   ]
  },
  {
   "cell_type": "markdown",
   "metadata": {},
   "source": [
    "# Отток клиентов"
   ]
  },
  {
   "cell_type": "markdown",
   "metadata": {},
   "source": [
    "Из «Бета-Банка» стали уходить клиенты. Каждый месяц. Немного, но заметно. Банковские маркетологи посчитали: сохранять текущих клиентов дешевле, чем привлекать новых.\n",
    "\n",
    "Нужно спрогнозировать, уйдёт клиент из банка в ближайшее время или нет. Вам предоставлены исторические данные о поведении клиентов и расторжении договоров с банком. \n",
    "\n",
    "Постройте модель с предельно большим значением *F1*-меры. Чтобы сдать проект успешно, нужно довести метрику до 0.59. Проверьте *F1*-меру на тестовой выборке самостоятельно.\n",
    "\n",
    "Дополнительно измеряйте *AUC-ROC*, сравнивайте её значение с *F1*-мерой.\n",
    "\n",
    "Источник данных: [https://www.kaggle.com/barelydedicated/bank-customer-churn-modeling](https://www.kaggle.com/barelydedicated/bank-customer-churn-modeling)"
   ]
  },
  {
   "cell_type": "markdown",
   "metadata": {},
   "source": [
    "## Подготовка данных"
   ]
  },
  {
   "cell_type": "markdown",
   "metadata": {},
   "source": [
    "**Цель**\n",
    "осуществить предобработку данных."
   ]
  },
  {
   "cell_type": "markdown",
   "metadata": {},
   "source": [
    "Подключим библиотеки, необходимы для работы"
   ]
  },
  {
   "cell_type": "code",
   "execution_count": 1,
   "metadata": {},
   "outputs": [
    {
     "name": "stdout",
     "output_type": "stream",
     "text": [
      "Requirement already satisfied: fast_ml in /opt/conda/lib/python3.9/site-packages (3.68)\n",
      "Note: you may need to restart the kernel to use updated packages.\n"
     ]
    }
   ],
   "source": [
    "pip install fast_ml"
   ]
  },
  {
   "cell_type": "code",
   "execution_count": 2,
   "metadata": {},
   "outputs": [
    {
     "name": "stdout",
     "output_type": "stream",
     "text": [
      "Requirement already satisfied: phik in /opt/conda/lib/python3.9/site-packages (0.12.3)\n",
      "Requirement already satisfied: numpy>=1.18.0 in /opt/conda/lib/python3.9/site-packages (from phik) (1.21.1)\n",
      "Requirement already satisfied: joblib>=0.14.1 in /opt/conda/lib/python3.9/site-packages (from phik) (1.1.0)\n",
      "Requirement already satisfied: scipy>=1.5.2 in /opt/conda/lib/python3.9/site-packages (from phik) (1.9.1)\n",
      "Requirement already satisfied: pandas>=0.25.1 in /opt/conda/lib/python3.9/site-packages (from phik) (1.2.4)\n",
      "Requirement already satisfied: matplotlib>=2.2.3 in /opt/conda/lib/python3.9/site-packages (from phik) (3.3.4)\n",
      "Requirement already satisfied: pillow>=6.2.0 in /opt/conda/lib/python3.9/site-packages (from matplotlib>=2.2.3->phik) (8.4.0)\n",
      "Requirement already satisfied: kiwisolver>=1.0.1 in /opt/conda/lib/python3.9/site-packages (from matplotlib>=2.2.3->phik) (1.4.4)\n",
      "Requirement already satisfied: pyparsing!=2.0.4,!=2.1.2,!=2.1.6,>=2.0.3 in /opt/conda/lib/python3.9/site-packages (from matplotlib>=2.2.3->phik) (2.4.7)\n",
      "Requirement already satisfied: cycler>=0.10 in /opt/conda/lib/python3.9/site-packages (from matplotlib>=2.2.3->phik) (0.11.0)\n",
      "Requirement already satisfied: python-dateutil>=2.1 in /opt/conda/lib/python3.9/site-packages (from matplotlib>=2.2.3->phik) (2.8.1)\n",
      "Requirement already satisfied: pytz>=2017.3 in /opt/conda/lib/python3.9/site-packages (from pandas>=0.25.1->phik) (2021.1)\n",
      "Requirement already satisfied: six>=1.5 in /opt/conda/lib/python3.9/site-packages (from python-dateutil>=2.1->matplotlib>=2.2.3->phik) (1.16.0)\n",
      "Note: you may need to restart the kernel to use updated packages.\n"
     ]
    }
   ],
   "source": [
    "pip install phik"
   ]
  },
  {
   "cell_type": "code",
   "execution_count": 3,
   "metadata": {},
   "outputs": [],
   "source": [
    "#подключим библиотеки\n",
    "import pandas as pd\n",
    "import datetime as dt\n",
    "import matplotlib.pyplot as plt \n",
    "import warnings\n",
    "import seaborn as sns\n",
    "import numpy as np\n",
    "from sklearn.model_selection import train_test_split\n",
    "from sklearn.tree import DecisionTreeClassifier\n",
    "from sklearn.ensemble import RandomForestClassifier \n",
    "from sklearn.linear_model import LogisticRegression\n",
    "from sklearn.metrics import accuracy_score\n",
    "from sklearn.model_selection import GridSearchCV, cross_val_score\n",
    "from sklearn.model_selection import RandomizedSearchCV\n",
    "from sklearn.linear_model import LinearRegression\n",
    "from sklearn.metrics import r2_score\n",
    "from sklearn.metrics import f1_score\n",
    "from sklearn.ensemble import RandomForestRegressor\n",
    "import sklearn.metrics\n",
    "from sklearn.preprocessing import OrdinalEncoder\n",
    "from sklearn.preprocessing import StandardScaler\n",
    "from fast_ml.model_development import train_valid_test_split\n",
    "from sklearn.metrics import roc_auc_score \n",
    "from sklearn.metrics import roc_curve, auc\n",
    "from sklearn.utils import shuffle\n",
    "import phik\n",
    "#отключим тревожность компилятора \n",
    "warnings.simplefilter(\"ignore\")\n",
    "pd.set_option('display.max_colwidth', None)\n",
    "pd.set_option('display.max_columns', None)"
   ]
  },
  {
   "cell_type": "markdown",
   "metadata": {},
   "source": [
    "Пробуем прочитать предоставленные данные в DataFrame df"
   ]
  },
  {
   "cell_type": "code",
   "execution_count": 4,
   "metadata": {},
   "outputs": [],
   "source": [
    "try:\n",
    "    df = pd.read_csv('/datasets/Churn.csv',sep=',')\n",
    "except:\n",
    "    try:\n",
    "        df = pd.read_csv('Churn.csv',sep=',')\n",
    "    except:\n",
    "        print('Ошибка чтения файла!')"
   ]
  },
  {
   "cell_type": "markdown",
   "metadata": {},
   "source": [
    "Получим общую информацию о DF"
   ]
  },
  {
   "cell_type": "code",
   "execution_count": 5,
   "metadata": {},
   "outputs": [
    {
     "name": "stdout",
     "output_type": "stream",
     "text": [
      "<class 'pandas.core.frame.DataFrame'>\n",
      "RangeIndex: 10000 entries, 0 to 9999\n",
      "Data columns (total 14 columns):\n",
      " #   Column           Non-Null Count  Dtype  \n",
      "---  ------           --------------  -----  \n",
      " 0   RowNumber        10000 non-null  int64  \n",
      " 1   CustomerId       10000 non-null  int64  \n",
      " 2   Surname          10000 non-null  object \n",
      " 3   CreditScore      10000 non-null  int64  \n",
      " 4   Geography        10000 non-null  object \n",
      " 5   Gender           10000 non-null  object \n",
      " 6   Age              10000 non-null  int64  \n",
      " 7   Tenure           9091 non-null   float64\n",
      " 8   Balance          10000 non-null  float64\n",
      " 9   NumOfProducts    10000 non-null  int64  \n",
      " 10  HasCrCard        10000 non-null  int64  \n",
      " 11  IsActiveMember   10000 non-null  int64  \n",
      " 12  EstimatedSalary  10000 non-null  float64\n",
      " 13  Exited           10000 non-null  int64  \n",
      "dtypes: float64(3), int64(8), object(3)\n",
      "memory usage: 1.1+ MB\n"
     ]
    }
   ],
   "source": [
    "df.info()"
   ]
  },
  {
   "cell_type": "markdown",
   "metadata": {},
   "source": [
    "Ознакомимся с некоторыми данными"
   ]
  },
  {
   "cell_type": "code",
   "execution_count": 6,
   "metadata": {},
   "outputs": [
    {
     "data": {
      "text/html": [
       "<div>\n",
       "<style scoped>\n",
       "    .dataframe tbody tr th:only-of-type {\n",
       "        vertical-align: middle;\n",
       "    }\n",
       "\n",
       "    .dataframe tbody tr th {\n",
       "        vertical-align: top;\n",
       "    }\n",
       "\n",
       "    .dataframe thead th {\n",
       "        text-align: right;\n",
       "    }\n",
       "</style>\n",
       "<table border=\"1\" class=\"dataframe\">\n",
       "  <thead>\n",
       "    <tr style=\"text-align: right;\">\n",
       "      <th></th>\n",
       "      <th>RowNumber</th>\n",
       "      <th>CustomerId</th>\n",
       "      <th>Surname</th>\n",
       "      <th>CreditScore</th>\n",
       "      <th>Geography</th>\n",
       "      <th>Gender</th>\n",
       "      <th>Age</th>\n",
       "      <th>Tenure</th>\n",
       "      <th>Balance</th>\n",
       "      <th>NumOfProducts</th>\n",
       "      <th>HasCrCard</th>\n",
       "      <th>IsActiveMember</th>\n",
       "      <th>EstimatedSalary</th>\n",
       "      <th>Exited</th>\n",
       "    </tr>\n",
       "  </thead>\n",
       "  <tbody>\n",
       "    <tr>\n",
       "      <th>0</th>\n",
       "      <td>1</td>\n",
       "      <td>15634602</td>\n",
       "      <td>Hargrave</td>\n",
       "      <td>619</td>\n",
       "      <td>France</td>\n",
       "      <td>Female</td>\n",
       "      <td>42</td>\n",
       "      <td>2.0</td>\n",
       "      <td>0.00</td>\n",
       "      <td>1</td>\n",
       "      <td>1</td>\n",
       "      <td>1</td>\n",
       "      <td>101348.88</td>\n",
       "      <td>1</td>\n",
       "    </tr>\n",
       "    <tr>\n",
       "      <th>1</th>\n",
       "      <td>2</td>\n",
       "      <td>15647311</td>\n",
       "      <td>Hill</td>\n",
       "      <td>608</td>\n",
       "      <td>Spain</td>\n",
       "      <td>Female</td>\n",
       "      <td>41</td>\n",
       "      <td>1.0</td>\n",
       "      <td>83807.86</td>\n",
       "      <td>1</td>\n",
       "      <td>0</td>\n",
       "      <td>1</td>\n",
       "      <td>112542.58</td>\n",
       "      <td>0</td>\n",
       "    </tr>\n",
       "    <tr>\n",
       "      <th>2</th>\n",
       "      <td>3</td>\n",
       "      <td>15619304</td>\n",
       "      <td>Onio</td>\n",
       "      <td>502</td>\n",
       "      <td>France</td>\n",
       "      <td>Female</td>\n",
       "      <td>42</td>\n",
       "      <td>8.0</td>\n",
       "      <td>159660.80</td>\n",
       "      <td>3</td>\n",
       "      <td>1</td>\n",
       "      <td>0</td>\n",
       "      <td>113931.57</td>\n",
       "      <td>1</td>\n",
       "    </tr>\n",
       "    <tr>\n",
       "      <th>3</th>\n",
       "      <td>4</td>\n",
       "      <td>15701354</td>\n",
       "      <td>Boni</td>\n",
       "      <td>699</td>\n",
       "      <td>France</td>\n",
       "      <td>Female</td>\n",
       "      <td>39</td>\n",
       "      <td>1.0</td>\n",
       "      <td>0.00</td>\n",
       "      <td>2</td>\n",
       "      <td>0</td>\n",
       "      <td>0</td>\n",
       "      <td>93826.63</td>\n",
       "      <td>0</td>\n",
       "    </tr>\n",
       "    <tr>\n",
       "      <th>4</th>\n",
       "      <td>5</td>\n",
       "      <td>15737888</td>\n",
       "      <td>Mitchell</td>\n",
       "      <td>850</td>\n",
       "      <td>Spain</td>\n",
       "      <td>Female</td>\n",
       "      <td>43</td>\n",
       "      <td>2.0</td>\n",
       "      <td>125510.82</td>\n",
       "      <td>1</td>\n",
       "      <td>1</td>\n",
       "      <td>1</td>\n",
       "      <td>79084.10</td>\n",
       "      <td>0</td>\n",
       "    </tr>\n",
       "  </tbody>\n",
       "</table>\n",
       "</div>"
      ],
      "text/plain": [
       "   RowNumber  CustomerId   Surname  CreditScore Geography  Gender  Age  \\\n",
       "0          1    15634602  Hargrave          619    France  Female   42   \n",
       "1          2    15647311      Hill          608     Spain  Female   41   \n",
       "2          3    15619304      Onio          502    France  Female   42   \n",
       "3          4    15701354      Boni          699    France  Female   39   \n",
       "4          5    15737888  Mitchell          850     Spain  Female   43   \n",
       "\n",
       "   Tenure    Balance  NumOfProducts  HasCrCard  IsActiveMember  \\\n",
       "0     2.0       0.00              1          1               1   \n",
       "1     1.0   83807.86              1          0               1   \n",
       "2     8.0  159660.80              3          1               0   \n",
       "3     1.0       0.00              2          0               0   \n",
       "4     2.0  125510.82              1          1               1   \n",
       "\n",
       "   EstimatedSalary  Exited  \n",
       "0        101348.88       1  \n",
       "1        112542.58       0  \n",
       "2        113931.57       1  \n",
       "3         93826.63       0  \n",
       "4         79084.10       0  "
      ]
     },
     "execution_count": 6,
     "metadata": {},
     "output_type": "execute_result"
    }
   ],
   "source": [
    "df.head()"
   ]
  },
  {
   "cell_type": "markdown",
   "metadata": {},
   "source": [
    "Перед нами данные, содержащие информацию о 10 000 клиентов. \n",
    "\n",
    "Полагаем, что можно удалить столбец RowNumber, поскольку фактически он дублирует индекс.\n",
    "\n",
    "Пропуски наблюдаем только в столбце Tenure.\n",
    "\n",
    "Типы данных у столбцов HasCrCard, IsActiveMember можно было изменить на логический, но для построения модели намбудут нужны численные значения, поэтому оставим их без изменения.\n",
    "\n",
    "Сменим названия столбцов, приведя их к стилю snake_case."
   ]
  },
  {
   "cell_type": "markdown",
   "metadata": {},
   "source": [
    "Учитывая значения в столбце Exited, нам надо будет решить задачу **бинарной классификации с учителем**."
   ]
  },
  {
   "cell_type": "markdown",
   "metadata": {},
   "source": [
    "Удалим столбец RowNumber"
   ]
  },
  {
   "cell_type": "code",
   "execution_count": 7,
   "metadata": {},
   "outputs": [
    {
     "data": {
      "text/plain": [
       "Index(['CustomerId', 'Surname', 'CreditScore', 'Geography', 'Gender', 'Age',\n",
       "       'Tenure', 'Balance', 'NumOfProducts', 'HasCrCard', 'IsActiveMember',\n",
       "       'EstimatedSalary', 'Exited'],\n",
       "      dtype='object')"
      ]
     },
     "execution_count": 7,
     "metadata": {},
     "output_type": "execute_result"
    }
   ],
   "source": [
    "df = df.drop('RowNumber', axis = 1)\n",
    "df.columns"
   ]
  },
  {
   "cell_type": "markdown",
   "metadata": {},
   "source": [
    "Переименуем столбцы"
   ]
  },
  {
   "cell_type": "code",
   "execution_count": 8,
   "metadata": {},
   "outputs": [
    {
     "data": {
      "text/plain": [
       "Index(['customer_id', 'surname', 'credit_score', 'geography', 'gender', 'age',\n",
       "       'tenure', 'balance', 'num_of_products', 'has_cr_card',\n",
       "       'is_active_member', 'estimated_salary', 'exited'],\n",
       "      dtype='object')"
      ]
     },
     "execution_count": 8,
     "metadata": {},
     "output_type": "execute_result"
    }
   ],
   "source": [
    "df.columns= ['customer_id', 'surname', 'credit_score', 'geography', 'gender', 'age',\n",
    "       'tenure', 'balance', 'num_of_products', 'has_cr_card', 'is_active_member',\n",
    "       'estimated_salary', 'exited']\n",
    "df.columns"
   ]
  },
  {
   "cell_type": "markdown",
   "metadata": {},
   "source": [
    "Проверим на наличие полных дубликатов."
   ]
  },
  {
   "cell_type": "code",
   "execution_count": 9,
   "metadata": {},
   "outputs": [
    {
     "data": {
      "text/plain": [
       "'Найдено 0 полных дубликатов.'"
      ]
     },
     "execution_count": 9,
     "metadata": {},
     "output_type": "execute_result"
    }
   ],
   "source": [
    "f'Найдено {df.duplicated().sum()} полных дубликатов.'"
   ]
  },
  {
   "cell_type": "code",
   "execution_count": 10,
   "metadata": {},
   "outputs": [
    {
     "data": {
      "text/plain": [
       "'Найдено 0 дубликатов в идентификаторе клиента.'"
      ]
     },
     "execution_count": 10,
     "metadata": {},
     "output_type": "execute_result"
    }
   ],
   "source": [
    "f'Найдено {df.duplicated([\"customer_id\"]).sum()} дубликатов в идентификаторе клиента.'"
   ]
  },
  {
   "cell_type": "markdown",
   "metadata": {},
   "source": [
    "Изучим уникальные значения в столбце tenure."
   ]
  },
  {
   "cell_type": "code",
   "execution_count": 11,
   "metadata": {},
   "outputs": [
    {
     "data": {
      "text/plain": [
       "array([ 2.,  1.,  8.,  7.,  4.,  6.,  3., 10.,  5.,  9.,  0., nan])"
      ]
     },
     "execution_count": 11,
     "metadata": {},
     "output_type": "execute_result"
    }
   ],
   "source": [
    "df['tenure'].unique()"
   ]
  },
  {
   "cell_type": "markdown",
   "metadata": {},
   "source": [
    "Содержащиеся данные больше соотвествуют целочисленному типу, но пропуски не дадут нам изменить ТД.\n",
    "\n",
    "Попробуем найти зависимости, которые позволят заполнить пропуски."
   ]
  },
  {
   "cell_type": "code",
   "execution_count": 12,
   "metadata": {},
   "outputs": [
    {
     "data": {
      "text/plain": [
       "<AxesSubplot:>"
      ]
     },
     "execution_count": 12,
     "metadata": {},
     "output_type": "execute_result"
    },
    {
     "data": {
      "image/png": "[encoded data removed]",
      "text/plain": [
       "<Figure size 432x288 with 1 Axes>"
      ]
     },
     "metadata": {
      "needs_background": "light"
     },
     "output_type": "display_data"
    }
   ],
   "source": [
    "df['tenure'].hist(bins = 30, range = (0,10))"
   ]
  },
  {
   "cell_type": "code",
   "execution_count": 13,
   "metadata": {},
   "outputs": [
    {
     "data": {
      "text/plain": [
       "909"
      ]
     },
     "execution_count": 13,
     "metadata": {},
     "output_type": "execute_result"
    }
   ],
   "source": [
    "df['tenure'].isna().sum()"
   ]
  },
  {
   "cell_type": "markdown",
   "metadata": {},
   "source": [
    "Число клиентов в разрезе по годам примерно одинаково, за исключением 10 лет и 0 лет. Количество пропусков вписывается в эти показатели, возможно, данные не указаны у клиентов, которые пользуются услугами банка уже более 10 лет."
   ]
  },
  {
   "cell_type": "code",
   "execution_count": 14,
   "metadata": {
    "scrolled": true
   },
   "outputs": [
    {
     "data": {
      "text/html": [
       "<div>\n",
       "<style scoped>\n",
       "    .dataframe tbody tr th:only-of-type {\n",
       "        vertical-align: middle;\n",
       "    }\n",
       "\n",
       "    .dataframe tbody tr th {\n",
       "        vertical-align: top;\n",
       "    }\n",
       "\n",
       "    .dataframe thead th {\n",
       "        text-align: right;\n",
       "    }\n",
       "</style>\n",
       "<table border=\"1\" class=\"dataframe\">\n",
       "  <thead>\n",
       "    <tr style=\"text-align: right;\">\n",
       "      <th></th>\n",
       "      <th>customer_id</th>\n",
       "      <th>credit_score</th>\n",
       "      <th>age</th>\n",
       "      <th>tenure</th>\n",
       "      <th>balance</th>\n",
       "      <th>num_of_products</th>\n",
       "      <th>has_cr_card</th>\n",
       "      <th>is_active_member</th>\n",
       "      <th>estimated_salary</th>\n",
       "      <th>exited</th>\n",
       "    </tr>\n",
       "  </thead>\n",
       "  <tbody>\n",
       "    <tr>\n",
       "      <th>customer_id</th>\n",
       "      <td>1.000000</td>\n",
       "      <td>0.005308</td>\n",
       "      <td>0.009497</td>\n",
       "      <td>-0.021418</td>\n",
       "      <td>-0.012419</td>\n",
       "      <td>0.016972</td>\n",
       "      <td>-0.014025</td>\n",
       "      <td>0.001665</td>\n",
       "      <td>0.015271</td>\n",
       "      <td>-0.006248</td>\n",
       "    </tr>\n",
       "    <tr>\n",
       "      <th>credit_score</th>\n",
       "      <td>0.005308</td>\n",
       "      <td>1.000000</td>\n",
       "      <td>-0.003965</td>\n",
       "      <td>-0.000062</td>\n",
       "      <td>0.006268</td>\n",
       "      <td>0.012238</td>\n",
       "      <td>-0.005458</td>\n",
       "      <td>0.025651</td>\n",
       "      <td>-0.001384</td>\n",
       "      <td>-0.027094</td>\n",
       "    </tr>\n",
       "    <tr>\n",
       "      <th>age</th>\n",
       "      <td>0.009497</td>\n",
       "      <td>-0.003965</td>\n",
       "      <td>1.000000</td>\n",
       "      <td>-0.013134</td>\n",
       "      <td>0.028308</td>\n",
       "      <td>-0.030680</td>\n",
       "      <td>-0.011721</td>\n",
       "      <td>0.085472</td>\n",
       "      <td>-0.007201</td>\n",
       "      <td>0.285323</td>\n",
       "    </tr>\n",
       "    <tr>\n",
       "      <th>tenure</th>\n",
       "      <td>-0.021418</td>\n",
       "      <td>-0.000062</td>\n",
       "      <td>-0.013134</td>\n",
       "      <td>1.000000</td>\n",
       "      <td>-0.007911</td>\n",
       "      <td>0.011979</td>\n",
       "      <td>0.027232</td>\n",
       "      <td>-0.032178</td>\n",
       "      <td>0.010520</td>\n",
       "      <td>-0.016761</td>\n",
       "    </tr>\n",
       "    <tr>\n",
       "      <th>balance</th>\n",
       "      <td>-0.012419</td>\n",
       "      <td>0.006268</td>\n",
       "      <td>0.028308</td>\n",
       "      <td>-0.007911</td>\n",
       "      <td>1.000000</td>\n",
       "      <td>-0.304180</td>\n",
       "      <td>-0.014858</td>\n",
       "      <td>-0.010084</td>\n",
       "      <td>0.012797</td>\n",
       "      <td>0.118533</td>\n",
       "    </tr>\n",
       "    <tr>\n",
       "      <th>num_of_products</th>\n",
       "      <td>0.016972</td>\n",
       "      <td>0.012238</td>\n",
       "      <td>-0.030680</td>\n",
       "      <td>0.011979</td>\n",
       "      <td>-0.304180</td>\n",
       "      <td>1.000000</td>\n",
       "      <td>0.003183</td>\n",
       "      <td>0.009612</td>\n",
       "      <td>0.014204</td>\n",
       "      <td>-0.047820</td>\n",
       "    </tr>\n",
       "    <tr>\n",
       "      <th>has_cr_card</th>\n",
       "      <td>-0.014025</td>\n",
       "      <td>-0.005458</td>\n",
       "      <td>-0.011721</td>\n",
       "      <td>0.027232</td>\n",
       "      <td>-0.014858</td>\n",
       "      <td>0.003183</td>\n",
       "      <td>1.000000</td>\n",
       "      <td>-0.011866</td>\n",
       "      <td>-0.009933</td>\n",
       "      <td>-0.007138</td>\n",
       "    </tr>\n",
       "    <tr>\n",
       "      <th>is_active_member</th>\n",
       "      <td>0.001665</td>\n",
       "      <td>0.025651</td>\n",
       "      <td>0.085472</td>\n",
       "      <td>-0.032178</td>\n",
       "      <td>-0.010084</td>\n",
       "      <td>0.009612</td>\n",
       "      <td>-0.011866</td>\n",
       "      <td>1.000000</td>\n",
       "      <td>-0.011421</td>\n",
       "      <td>-0.156128</td>\n",
       "    </tr>\n",
       "    <tr>\n",
       "      <th>estimated_salary</th>\n",
       "      <td>0.015271</td>\n",
       "      <td>-0.001384</td>\n",
       "      <td>-0.007201</td>\n",
       "      <td>0.010520</td>\n",
       "      <td>0.012797</td>\n",
       "      <td>0.014204</td>\n",
       "      <td>-0.009933</td>\n",
       "      <td>-0.011421</td>\n",
       "      <td>1.000000</td>\n",
       "      <td>0.012097</td>\n",
       "    </tr>\n",
       "    <tr>\n",
       "      <th>exited</th>\n",
       "      <td>-0.006248</td>\n",
       "      <td>-0.027094</td>\n",
       "      <td>0.285323</td>\n",
       "      <td>-0.016761</td>\n",
       "      <td>0.118533</td>\n",
       "      <td>-0.047820</td>\n",
       "      <td>-0.007138</td>\n",
       "      <td>-0.156128</td>\n",
       "      <td>0.012097</td>\n",
       "      <td>1.000000</td>\n",
       "    </tr>\n",
       "  </tbody>\n",
       "</table>\n",
       "</div>"
      ],
      "text/plain": [
       "                  customer_id  credit_score       age    tenure   balance  \\\n",
       "customer_id          1.000000      0.005308  0.009497 -0.021418 -0.012419   \n",
       "credit_score         0.005308      1.000000 -0.003965 -0.000062  0.006268   \n",
       "age                  0.009497     -0.003965  1.000000 -0.013134  0.028308   \n",
       "tenure              -0.021418     -0.000062 -0.013134  1.000000 -0.007911   \n",
       "balance             -0.012419      0.006268  0.028308 -0.007911  1.000000   \n",
       "num_of_products      0.016972      0.012238 -0.030680  0.011979 -0.304180   \n",
       "has_cr_card         -0.014025     -0.005458 -0.011721  0.027232 -0.014858   \n",
       "is_active_member     0.001665      0.025651  0.085472 -0.032178 -0.010084   \n",
       "estimated_salary     0.015271     -0.001384 -0.007201  0.010520  0.012797   \n",
       "exited              -0.006248     -0.027094  0.285323 -0.016761  0.118533   \n",
       "\n",
       "                  num_of_products  has_cr_card  is_active_member  \\\n",
       "customer_id              0.016972    -0.014025          0.001665   \n",
       "credit_score             0.012238    -0.005458          0.025651   \n",
       "age                     -0.030680    -0.011721          0.085472   \n",
       "tenure                   0.011979     0.027232         -0.032178   \n",
       "balance                 -0.304180    -0.014858         -0.010084   \n",
       "num_of_products          1.000000     0.003183          0.009612   \n",
       "has_cr_card              0.003183     1.000000         -0.011866   \n",
       "is_active_member         0.009612    -0.011866          1.000000   \n",
       "estimated_salary         0.014204    -0.009933         -0.011421   \n",
       "exited                  -0.047820    -0.007138         -0.156128   \n",
       "\n",
       "                  estimated_salary    exited  \n",
       "customer_id               0.015271 -0.006248  \n",
       "credit_score             -0.001384 -0.027094  \n",
       "age                      -0.007201  0.285323  \n",
       "tenure                    0.010520 -0.016761  \n",
       "balance                   0.012797  0.118533  \n",
       "num_of_products           0.014204 -0.047820  \n",
       "has_cr_card              -0.009933 -0.007138  \n",
       "is_active_member         -0.011421 -0.156128  \n",
       "estimated_salary          1.000000  0.012097  \n",
       "exited                    0.012097  1.000000  "
      ]
     },
     "execution_count": 14,
     "metadata": {},
     "output_type": "execute_result"
    }
   ],
   "source": [
    "df.corr()"
   ]
  },
  {
   "cell_type": "markdown",
   "metadata": {},
   "source": [
    "Ярко выраженной корреляции между признаком tenure и остальными не выявлено.\n",
    "\n",
    "Проанализируем остальные признаки и позже заполним пропуски в tenure."
   ]
  },
  {
   "cell_type": "markdown",
   "metadata": {},
   "source": [
    "Проанализируем числовые данные."
   ]
  },
  {
   "cell_type": "code",
   "execution_count": 15,
   "metadata": {},
   "outputs": [
    {
     "data": {
      "text/html": [
       "<div>\n",
       "<style scoped>\n",
       "    .dataframe tbody tr th:only-of-type {\n",
       "        vertical-align: middle;\n",
       "    }\n",
       "\n",
       "    .dataframe tbody tr th {\n",
       "        vertical-align: top;\n",
       "    }\n",
       "\n",
       "    .dataframe thead th {\n",
       "        text-align: right;\n",
       "    }\n",
       "</style>\n",
       "<table border=\"1\" class=\"dataframe\">\n",
       "  <thead>\n",
       "    <tr style=\"text-align: right;\">\n",
       "      <th></th>\n",
       "      <th>customer_id</th>\n",
       "      <th>credit_score</th>\n",
       "      <th>age</th>\n",
       "      <th>tenure</th>\n",
       "      <th>balance</th>\n",
       "      <th>num_of_products</th>\n",
       "      <th>has_cr_card</th>\n",
       "      <th>is_active_member</th>\n",
       "      <th>estimated_salary</th>\n",
       "      <th>exited</th>\n",
       "    </tr>\n",
       "  </thead>\n",
       "  <tbody>\n",
       "    <tr>\n",
       "      <th>count</th>\n",
       "      <td>1.000000e+04</td>\n",
       "      <td>10000.000000</td>\n",
       "      <td>10000.000000</td>\n",
       "      <td>9091.000000</td>\n",
       "      <td>10000.000000</td>\n",
       "      <td>10000.000000</td>\n",
       "      <td>10000.00000</td>\n",
       "      <td>10000.000000</td>\n",
       "      <td>10000.000000</td>\n",
       "      <td>10000.000000</td>\n",
       "    </tr>\n",
       "    <tr>\n",
       "      <th>mean</th>\n",
       "      <td>1.569094e+07</td>\n",
       "      <td>650.528800</td>\n",
       "      <td>38.921800</td>\n",
       "      <td>4.997690</td>\n",
       "      <td>76485.889288</td>\n",
       "      <td>1.530200</td>\n",
       "      <td>0.70550</td>\n",
       "      <td>0.515100</td>\n",
       "      <td>100090.239881</td>\n",
       "      <td>0.203700</td>\n",
       "    </tr>\n",
       "    <tr>\n",
       "      <th>std</th>\n",
       "      <td>7.193619e+04</td>\n",
       "      <td>96.653299</td>\n",
       "      <td>10.487806</td>\n",
       "      <td>2.894723</td>\n",
       "      <td>62397.405202</td>\n",
       "      <td>0.581654</td>\n",
       "      <td>0.45584</td>\n",
       "      <td>0.499797</td>\n",
       "      <td>57510.492818</td>\n",
       "      <td>0.402769</td>\n",
       "    </tr>\n",
       "    <tr>\n",
       "      <th>min</th>\n",
       "      <td>1.556570e+07</td>\n",
       "      <td>350.000000</td>\n",
       "      <td>18.000000</td>\n",
       "      <td>0.000000</td>\n",
       "      <td>0.000000</td>\n",
       "      <td>1.000000</td>\n",
       "      <td>0.00000</td>\n",
       "      <td>0.000000</td>\n",
       "      <td>11.580000</td>\n",
       "      <td>0.000000</td>\n",
       "    </tr>\n",
       "    <tr>\n",
       "      <th>25%</th>\n",
       "      <td>1.562853e+07</td>\n",
       "      <td>584.000000</td>\n",
       "      <td>32.000000</td>\n",
       "      <td>2.000000</td>\n",
       "      <td>0.000000</td>\n",
       "      <td>1.000000</td>\n",
       "      <td>0.00000</td>\n",
       "      <td>0.000000</td>\n",
       "      <td>51002.110000</td>\n",
       "      <td>0.000000</td>\n",
       "    </tr>\n",
       "    <tr>\n",
       "      <th>50%</th>\n",
       "      <td>1.569074e+07</td>\n",
       "      <td>652.000000</td>\n",
       "      <td>37.000000</td>\n",
       "      <td>5.000000</td>\n",
       "      <td>97198.540000</td>\n",
       "      <td>1.000000</td>\n",
       "      <td>1.00000</td>\n",
       "      <td>1.000000</td>\n",
       "      <td>100193.915000</td>\n",
       "      <td>0.000000</td>\n",
       "    </tr>\n",
       "    <tr>\n",
       "      <th>75%</th>\n",
       "      <td>1.575323e+07</td>\n",
       "      <td>718.000000</td>\n",
       "      <td>44.000000</td>\n",
       "      <td>7.000000</td>\n",
       "      <td>127644.240000</td>\n",
       "      <td>2.000000</td>\n",
       "      <td>1.00000</td>\n",
       "      <td>1.000000</td>\n",
       "      <td>149388.247500</td>\n",
       "      <td>0.000000</td>\n",
       "    </tr>\n",
       "    <tr>\n",
       "      <th>max</th>\n",
       "      <td>1.581569e+07</td>\n",
       "      <td>850.000000</td>\n",
       "      <td>92.000000</td>\n",
       "      <td>10.000000</td>\n",
       "      <td>250898.090000</td>\n",
       "      <td>4.000000</td>\n",
       "      <td>1.00000</td>\n",
       "      <td>1.000000</td>\n",
       "      <td>199992.480000</td>\n",
       "      <td>1.000000</td>\n",
       "    </tr>\n",
       "  </tbody>\n",
       "</table>\n",
       "</div>"
      ],
      "text/plain": [
       "        customer_id  credit_score           age       tenure        balance  \\\n",
       "count  1.000000e+04  10000.000000  10000.000000  9091.000000   10000.000000   \n",
       "mean   1.569094e+07    650.528800     38.921800     4.997690   76485.889288   \n",
       "std    7.193619e+04     96.653299     10.487806     2.894723   62397.405202   \n",
       "min    1.556570e+07    350.000000     18.000000     0.000000       0.000000   \n",
       "25%    1.562853e+07    584.000000     32.000000     2.000000       0.000000   \n",
       "50%    1.569074e+07    652.000000     37.000000     5.000000   97198.540000   \n",
       "75%    1.575323e+07    718.000000     44.000000     7.000000  127644.240000   \n",
       "max    1.581569e+07    850.000000     92.000000    10.000000  250898.090000   \n",
       "\n",
       "       num_of_products  has_cr_card  is_active_member  estimated_salary  \\\n",
       "count     10000.000000  10000.00000      10000.000000      10000.000000   \n",
       "mean          1.530200      0.70550          0.515100     100090.239881   \n",
       "std           0.581654      0.45584          0.499797      57510.492818   \n",
       "min           1.000000      0.00000          0.000000         11.580000   \n",
       "25%           1.000000      0.00000          0.000000      51002.110000   \n",
       "50%           1.000000      1.00000          1.000000     100193.915000   \n",
       "75%           2.000000      1.00000          1.000000     149388.247500   \n",
       "max           4.000000      1.00000          1.000000     199992.480000   \n",
       "\n",
       "             exited  \n",
       "count  10000.000000  \n",
       "mean       0.203700  \n",
       "std        0.402769  \n",
       "min        0.000000  \n",
       "25%        0.000000  \n",
       "50%        0.000000  \n",
       "75%        0.000000  \n",
       "max        1.000000  "
      ]
     },
     "execution_count": 15,
     "metadata": {},
     "output_type": "execute_result"
    }
   ],
   "source": [
    "df.describe()"
   ]
  },
  {
   "cell_type": "markdown",
   "metadata": {},
   "source": [
    "Явных аномлий не найдено. Возраст в 92 года вполне может быть, минимальный  равен 18, что соответсвует закону РФ.\n",
    "\n",
    "В целевом признаке данные явно не сбалансированы."
   ]
  },
  {
   "cell_type": "markdown",
   "metadata": {},
   "source": [
    "Исследуем категориальные признаки."
   ]
  },
  {
   "cell_type": "code",
   "execution_count": 16,
   "metadata": {},
   "outputs": [
    {
     "data": {
      "image/png": "[encoded data removed]",
      "text/plain": [
       "<Figure size 432x288 with 1 Axes>"
      ]
     },
     "metadata": {
      "needs_background": "light"
     },
     "output_type": "display_data"
    }
   ],
   "source": [
    "score_counts = df.geography.value_counts()\n",
    "sns.barplot(x = score_counts.index, y = score_counts.values)\n",
    "plt.title('Распределение данных по категориям')\n",
    "plt.ylabel('Количество наблюдений в категории')\n",
    "plt.xlabel('Категории');"
   ]
  },
  {
   "cell_type": "code",
   "execution_count": 17,
   "metadata": {},
   "outputs": [
    {
     "data": {
      "image/png": "[encoded data removed]",
      "text/plain": [
       "<Figure size 432x288 with 1 Axes>"
      ]
     },
     "metadata": {
      "needs_background": "light"
     },
     "output_type": "display_data"
    }
   ],
   "source": [
    "score_counts = df.gender.value_counts()\n",
    "sns.barplot(x = score_counts.index, y = score_counts.values)\n",
    "plt.title('Распределение данных по категориям')\n",
    "plt.ylabel('Количество наблюдений в категории')\n",
    "plt.xlabel('Категории');"
   ]
  },
  {
   "cell_type": "code",
   "execution_count": 18,
   "metadata": {},
   "outputs": [
    {
     "data": {
      "text/plain": [
       "array(['Abazu', 'Abbie', 'Abbott', ..., 'Zuev', 'Zuyev', 'Zuyeva'],\n",
       "      dtype=object)"
      ]
     },
     "execution_count": 18,
     "metadata": {},
     "output_type": "execute_result"
    }
   ],
   "source": [
    "df.sort_values(by='surname', ascending=True)['surname'].unique()"
   ]
  },
  {
   "cell_type": "markdown",
   "metadata": {},
   "source": [
    "В наименовании фамилий лишних пробелов не выявлено."
   ]
  },
  {
   "cell_type": "code",
   "execution_count": 19,
   "metadata": {},
   "outputs": [
    {
     "data": {
      "text/plain": [
       "array(['France', 'Germany', 'Spain'], dtype=object)"
      ]
     },
     "execution_count": 19,
     "metadata": {},
     "output_type": "execute_result"
    }
   ],
   "source": [
    "df.sort_values(by='geography', ascending=True)['geography'].unique()"
   ]
  },
  {
   "cell_type": "markdown",
   "metadata": {},
   "source": [
    "В названиях стран лишних пробелов не выявлено."
   ]
  },
  {
   "cell_type": "code",
   "execution_count": 20,
   "metadata": {},
   "outputs": [
    {
     "data": {
      "text/plain": [
       "array(['Female', 'Male'], dtype=object)"
      ]
     },
     "execution_count": 20,
     "metadata": {},
     "output_type": "execute_result"
    }
   ],
   "source": [
    "df['gender'].unique()"
   ]
  },
  {
   "cell_type": "markdown",
   "metadata": {},
   "source": [
    "В признаке пол данные без аномалий."
   ]
  },
  {
   "cell_type": "code",
   "execution_count": 21,
   "metadata": {},
   "outputs": [
    {
     "data": {
      "text/plain": [
       "array([1, 0])"
      ]
     },
     "execution_count": 21,
     "metadata": {},
     "output_type": "execute_result"
    }
   ],
   "source": [
    "df['has_cr_card'].unique()"
   ]
  },
  {
   "cell_type": "markdown",
   "metadata": {},
   "source": [
    "Данные о наличии/отсутствии кредитной карты без аномалий. "
   ]
  },
  {
   "cell_type": "code",
   "execution_count": 22,
   "metadata": {},
   "outputs": [
    {
     "data": {
      "text/plain": [
       "array([1, 0])"
      ]
     },
     "execution_count": 22,
     "metadata": {},
     "output_type": "execute_result"
    }
   ],
   "source": [
    "df['is_active_member'].unique()"
   ]
  },
  {
   "cell_type": "markdown",
   "metadata": {},
   "source": [
    "Данные об активности клиента без аномалий. "
   ]
  },
  {
   "cell_type": "markdown",
   "metadata": {},
   "source": [
    "Построим графики для наглядного анализа имеющихся данных."
   ]
  },
  {
   "cell_type": "code",
   "execution_count": 23,
   "metadata": {},
   "outputs": [],
   "source": [
    "numeric = ['credit_score', 'tenure', 'balance','age','num_of_products','estimated_salary', 'has_cr_card','is_active_member','exited']"
   ]
  },
  {
   "cell_type": "code",
   "execution_count": 24,
   "metadata": {},
   "outputs": [
    {
     "data": {
      "image/png": "[encoded data removed]",
      "text/plain": [
       "<Figure size 1152x1152 with 9 Axes>"
      ]
     },
     "metadata": {
      "needs_background": "light"
     },
     "output_type": "display_data"
    }
   ],
   "source": [
    "df[numeric].hist(figsize=(16, 16), alpha=0.7, bins=100)\n",
    "plt.show()"
   ]
  },
  {
   "cell_type": "markdown",
   "metadata": {},
   "source": [
    "График наглядно демонстрирует несбалансированность целевого признака exited.\n",
    "\n",
    "Большинство клиентов используют 1-2 продукта банка.\n",
    "\n",
    "Основные клиенты банка - люди в возрасте 30-40 лет.\n",
    "\n",
    "Большая часть клиентов имеет кредитный рейтинг в диапазоне 600-700.\n",
    "\n",
    "Порядка 35% не держит деньги на балансе счета.\n",
    "\n",
    "Активно пользуется сервисами банка примерно половина клиентов."
   ]
  },
  {
   "cell_type": "markdown",
   "metadata": {},
   "source": [
    "Визуализируем корреляцию."
   ]
  },
  {
   "cell_type": "code",
   "execution_count": 26,
   "metadata": {},
   "outputs": [
    {
     "name": "stdout",
     "output_type": "stream",
     "text": [
      "interval columns not set, guessing: ['customer_id', 'credit_score', 'age', 'tenure', 'balance', 'num_of_products', 'has_cr_card', 'is_active_member', 'estimated_salary', 'exited']\n"
     ]
    },
    {
     "data": {
      "text/html": [
       "<style  type=\"text/css\" >\n",
       "#T_384d7_row0_col0,#T_384d7_row1_col1,#T_384d7_row2_col2,#T_384d7_row3_col3,#T_384d7_row4_col4,#T_384d7_row5_col5,#T_384d7_row6_col6,#T_384d7_row7_col7,#T_384d7_row8_col8,#T_384d7_row9_col9,#T_384d7_row10_col10,#T_384d7_row11_col11,#T_384d7_row12_col12{\n",
       "            background-color:  #b40426;\n",
       "            color:  #f1f1f1;\n",
       "        }#T_384d7_row0_col1,#T_384d7_row0_col3,#T_384d7_row0_col4,#T_384d7_row0_col7,#T_384d7_row0_col9,#T_384d7_row0_col11,#T_384d7_row1_col0,#T_384d7_row1_col3,#T_384d7_row1_col9,#T_384d7_row1_col10,#T_384d7_row1_col12,#T_384d7_row2_col4,#T_384d7_row2_col5,#T_384d7_row2_col6,#T_384d7_row2_col7,#T_384d7_row2_col9,#T_384d7_row3_col0,#T_384d7_row3_col1,#T_384d7_row3_col6,#T_384d7_row3_col9,#T_384d7_row4_col0,#T_384d7_row4_col2,#T_384d7_row4_col7,#T_384d7_row4_col9,#T_384d7_row5_col2,#T_384d7_row6_col2,#T_384d7_row6_col3,#T_384d7_row6_col11,#T_384d7_row7_col0,#T_384d7_row7_col2,#T_384d7_row7_col4,#T_384d7_row7_col11,#T_384d7_row8_col9,#T_384d7_row9_col0,#T_384d7_row9_col1,#T_384d7_row9_col2,#T_384d7_row9_col3,#T_384d7_row9_col4,#T_384d7_row9_col8,#T_384d7_row9_col11,#T_384d7_row9_col12,#T_384d7_row10_col1,#T_384d7_row11_col0,#T_384d7_row11_col6,#T_384d7_row11_col7,#T_384d7_row11_col9,#T_384d7_row11_col12,#T_384d7_row12_col1,#T_384d7_row12_col9,#T_384d7_row12_col11{\n",
       "            background-color:  #3b4cc0;\n",
       "            color:  #f1f1f1;\n",
       "        }#T_384d7_row0_col2,#T_384d7_row2_col0,#T_384d7_row5_col9,#T_384d7_row7_col10,#T_384d7_row9_col5,#T_384d7_row10_col7{\n",
       "            background-color:  #3f53c6;\n",
       "            color:  #f1f1f1;\n",
       "        }#T_384d7_row0_col5,#T_384d7_row1_col4,#T_384d7_row4_col1,#T_384d7_row5_col0{\n",
       "            background-color:  #465ecf;\n",
       "            color:  #f1f1f1;\n",
       "        }#T_384d7_row0_col6,#T_384d7_row0_col8,#T_384d7_row3_col10,#T_384d7_row6_col0,#T_384d7_row8_col0,#T_384d7_row9_col10,#T_384d7_row10_col3,#T_384d7_row10_col9{\n",
       "            background-color:  #3d50c3;\n",
       "            color:  #f1f1f1;\n",
       "        }#T_384d7_row0_col10,#T_384d7_row3_col4,#T_384d7_row4_col3,#T_384d7_row10_col0{\n",
       "            background-color:  #3e51c5;\n",
       "            color:  #f1f1f1;\n",
       "        }#T_384d7_row0_col12,#T_384d7_row3_col11,#T_384d7_row4_col6,#T_384d7_row4_col11,#T_384d7_row6_col4,#T_384d7_row11_col3,#T_384d7_row11_col4,#T_384d7_row12_col0{\n",
       "            background-color:  #4358cb;\n",
       "            color:  #f1f1f1;\n",
       "        }#T_384d7_row1_col2,#T_384d7_row2_col1{\n",
       "            background-color:  #8badfd;\n",
       "            color:  #000000;\n",
       "        }#T_384d7_row1_col5,#T_384d7_row5_col1{\n",
       "            background-color:  #aac7fd;\n",
       "            color:  #000000;\n",
       "        }#T_384d7_row1_col6,#T_384d7_row6_col1,#T_384d7_row6_col12,#T_384d7_row12_col6{\n",
       "            background-color:  #4055c8;\n",
       "            color:  #f1f1f1;\n",
       "        }#T_384d7_row1_col7,#T_384d7_row7_col1{\n",
       "            background-color:  #d8dce2;\n",
       "            color:  #000000;\n",
       "        }#T_384d7_row1_col8,#T_384d7_row8_col1{\n",
       "            background-color:  #7b9ff9;\n",
       "            color:  #000000;\n",
       "        }#T_384d7_row1_col11,#T_384d7_row3_col5,#T_384d7_row5_col3,#T_384d7_row11_col1{\n",
       "            background-color:  #5470de;\n",
       "            color:  #000000;\n",
       "        }#T_384d7_row2_col3,#T_384d7_row2_col10,#T_384d7_row3_col2,#T_384d7_row5_col7,#T_384d7_row7_col5,#T_384d7_row10_col2{\n",
       "            background-color:  #455cce;\n",
       "            color:  #f1f1f1;\n",
       "        }#T_384d7_row2_col8,#T_384d7_row2_col11,#T_384d7_row4_col5,#T_384d7_row4_col10,#T_384d7_row5_col4,#T_384d7_row6_col9,#T_384d7_row8_col2,#T_384d7_row8_col11,#T_384d7_row9_col6,#T_384d7_row10_col4,#T_384d7_row10_col11,#T_384d7_row11_col2,#T_384d7_row11_col8,#T_384d7_row11_col10{\n",
       "            background-color:  #445acc;\n",
       "            color:  #f1f1f1;\n",
       "        }#T_384d7_row2_col12,#T_384d7_row12_col2{\n",
       "            background-color:  #5875e1;\n",
       "            color:  #000000;\n",
       "        }#T_384d7_row3_col7,#T_384d7_row7_col3{\n",
       "            background-color:  #d3dbe7;\n",
       "            color:  #000000;\n",
       "        }#T_384d7_row3_col8,#T_384d7_row7_col9,#T_384d7_row8_col3,#T_384d7_row9_col7{\n",
       "            background-color:  #4961d2;\n",
       "            color:  #f1f1f1;\n",
       "        }#T_384d7_row3_col12,#T_384d7_row12_col3{\n",
       "            background-color:  #5a78e4;\n",
       "            color:  #000000;\n",
       "        }#T_384d7_row4_col8,#T_384d7_row6_col7,#T_384d7_row7_col6,#T_384d7_row8_col4{\n",
       "            background-color:  #4e68d8;\n",
       "            color:  #000000;\n",
       "        }#T_384d7_row4_col12,#T_384d7_row12_col4{\n",
       "            background-color:  #6f92f3;\n",
       "            color:  #000000;\n",
       "        }#T_384d7_row5_col6,#T_384d7_row6_col5{\n",
       "            background-color:  #485fd1;\n",
       "            color:  #f1f1f1;\n",
       "        }#T_384d7_row5_col8,#T_384d7_row8_col5{\n",
       "            background-color:  #688aef;\n",
       "            color:  #000000;\n",
       "        }#T_384d7_row5_col10,#T_384d7_row10_col5{\n",
       "            background-color:  #7699f6;\n",
       "            color:  #000000;\n",
       "        }#T_384d7_row5_col11,#T_384d7_row11_col5{\n",
       "            background-color:  #4a63d3;\n",
       "            color:  #f1f1f1;\n",
       "        }#T_384d7_row5_col12,#T_384d7_row12_col5{\n",
       "            background-color:  #d9dce1;\n",
       "            color:  #000000;\n",
       "        }#T_384d7_row6_col8,#T_384d7_row8_col6{\n",
       "            background-color:  #4c66d6;\n",
       "            color:  #000000;\n",
       "        }#T_384d7_row6_col10,#T_384d7_row10_col6{\n",
       "            background-color:  #4257c9;\n",
       "            color:  #f1f1f1;\n",
       "        }#T_384d7_row7_col8,#T_384d7_row8_col7{\n",
       "            background-color:  #b7cff9;\n",
       "            color:  #000000;\n",
       "        }#T_384d7_row7_col12,#T_384d7_row12_col7{\n",
       "            background-color:  #7597f6;\n",
       "            color:  #000000;\n",
       "        }#T_384d7_row8_col10,#T_384d7_row10_col8{\n",
       "            background-color:  #4b64d5;\n",
       "            color:  #f1f1f1;\n",
       "        }#T_384d7_row8_col12,#T_384d7_row12_col8{\n",
       "            background-color:  #ecd3c5;\n",
       "            color:  #000000;\n",
       "        }#T_384d7_row10_col12,#T_384d7_row12_col10{\n",
       "            background-color:  #89acfd;\n",
       "            color:  #000000;\n",
       "        }</style><table id=\"T_384d7_\" ><thead>    <tr>        <th class=\"blank level0\" ></th>        <th class=\"col_heading level0 col0\" >customer_id</th>        <th class=\"col_heading level0 col1\" >surname</th>        <th class=\"col_heading level0 col2\" >credit_score</th>        <th class=\"col_heading level0 col3\" >geography</th>        <th class=\"col_heading level0 col4\" >gender</th>        <th class=\"col_heading level0 col5\" >age</th>        <th class=\"col_heading level0 col6\" >tenure</th>        <th class=\"col_heading level0 col7\" >balance</th>        <th class=\"col_heading level0 col8\" >num_of_products</th>        <th class=\"col_heading level0 col9\" >has_cr_card</th>        <th class=\"col_heading level0 col10\" >is_active_member</th>        <th class=\"col_heading level0 col11\" >estimated_salary</th>        <th class=\"col_heading level0 col12\" >exited</th>    </tr></thead><tbody>\n",
       "                <tr>\n",
       "                        <th id=\"T_384d7_level0_row0\" class=\"row_heading level0 row0\" >customer_id</th>\n",
       "                        <td id=\"T_384d7_row0_col0\" class=\"data row0 col0\" >1.000000</td>\n",
       "                        <td id=\"T_384d7_row0_col1\" class=\"data row0 col1\" >0.000000</td>\n",
       "                        <td id=\"T_384d7_row0_col2\" class=\"data row0 col2\" >0.018946</td>\n",
       "                        <td id=\"T_384d7_row0_col3\" class=\"data row0 col3\" >0.000000</td>\n",
       "                        <td id=\"T_384d7_row0_col4\" class=\"data row0 col4\" >0.000000</td>\n",
       "                        <td id=\"T_384d7_row0_col5\" class=\"data row0 col5\" >0.042049</td>\n",
       "                        <td id=\"T_384d7_row0_col6\" class=\"data row0 col6\" >0.009340</td>\n",
       "                        <td id=\"T_384d7_row0_col7\" class=\"data row0 col7\" >0.000000</td>\n",
       "                        <td id=\"T_384d7_row0_col8\" class=\"data row0 col8\" >0.009637</td>\n",
       "                        <td id=\"T_384d7_row0_col9\" class=\"data row0 col9\" >0.000000</td>\n",
       "                        <td id=\"T_384d7_row0_col10\" class=\"data row0 col10\" >0.014253</td>\n",
       "                        <td id=\"T_384d7_row0_col11\" class=\"data row0 col11\" >0.000000</td>\n",
       "                        <td id=\"T_384d7_row0_col12\" class=\"data row0 col12\" >0.029595</td>\n",
       "            </tr>\n",
       "            <tr>\n",
       "                        <th id=\"T_384d7_level0_row1\" class=\"row_heading level0 row1\" >surname</th>\n",
       "                        <td id=\"T_384d7_row1_col0\" class=\"data row1 col0\" >0.000000</td>\n",
       "                        <td id=\"T_384d7_row1_col1\" class=\"data row1 col1\" >1.000000</td>\n",
       "                        <td id=\"T_384d7_row1_col2\" class=\"data row1 col2\" >0.242957</td>\n",
       "                        <td id=\"T_384d7_row1_col3\" class=\"data row1 col3\" >0.001476</td>\n",
       "                        <td id=\"T_384d7_row1_col4\" class=\"data row1 col4\" >0.040711</td>\n",
       "                        <td id=\"T_384d7_row1_col5\" class=\"data row1 col5\" >0.333753</td>\n",
       "                        <td id=\"T_384d7_row1_col6\" class=\"data row1 col6\" >0.020624</td>\n",
       "                        <td id=\"T_384d7_row1_col7\" class=\"data row1 col7\" >0.483668</td>\n",
       "                        <td id=\"T_384d7_row1_col8\" class=\"data row1 col8\" >0.201225</td>\n",
       "                        <td id=\"T_384d7_row1_col9\" class=\"data row1 col9\" >0.000000</td>\n",
       "                        <td id=\"T_384d7_row1_col10\" class=\"data row1 col10\" >0.000000</td>\n",
       "                        <td id=\"T_384d7_row1_col11\" class=\"data row1 col11\" >0.083242</td>\n",
       "                        <td id=\"T_384d7_row1_col12\" class=\"data row1 col12\" >0.000000</td>\n",
       "            </tr>\n",
       "            <tr>\n",
       "                        <th id=\"T_384d7_level0_row2\" class=\"row_heading level0 row2\" >credit_score</th>\n",
       "                        <td id=\"T_384d7_row2_col0\" class=\"data row2 col0\" >0.018946</td>\n",
       "                        <td id=\"T_384d7_row2_col1\" class=\"data row2 col1\" >0.242957</td>\n",
       "                        <td id=\"T_384d7_row2_col2\" class=\"data row2 col2\" >1.000000</td>\n",
       "                        <td id=\"T_384d7_row2_col3\" class=\"data row2 col3\" >0.035375</td>\n",
       "                        <td id=\"T_384d7_row2_col4\" class=\"data row2 col4\" >0.000000</td>\n",
       "                        <td id=\"T_384d7_row2_col5\" class=\"data row2 col5\" >0.000000</td>\n",
       "                        <td id=\"T_384d7_row2_col6\" class=\"data row2 col6\" >0.000000</td>\n",
       "                        <td id=\"T_384d7_row2_col7\" class=\"data row2 col7\" >0.000000</td>\n",
       "                        <td id=\"T_384d7_row2_col8\" class=\"data row2 col8\" >0.034645</td>\n",
       "                        <td id=\"T_384d7_row2_col9\" class=\"data row2 col9\" >0.000000</td>\n",
       "                        <td id=\"T_384d7_row2_col10\" class=\"data row2 col10\" >0.038064</td>\n",
       "                        <td id=\"T_384d7_row2_col11\" class=\"data row2 col11\" >0.034215</td>\n",
       "                        <td id=\"T_384d7_row2_col12\" class=\"data row2 col12\" >0.096525</td>\n",
       "            </tr>\n",
       "            <tr>\n",
       "                        <th id=\"T_384d7_level0_row3\" class=\"row_heading level0 row3\" >geography</th>\n",
       "                        <td id=\"T_384d7_row3_col0\" class=\"data row3 col0\" >0.000000</td>\n",
       "                        <td id=\"T_384d7_row3_col1\" class=\"data row3 col1\" >0.001476</td>\n",
       "                        <td id=\"T_384d7_row3_col2\" class=\"data row3 col2\" >0.035375</td>\n",
       "                        <td id=\"T_384d7_row3_col3\" class=\"data row3 col3\" >1.000000</td>\n",
       "                        <td id=\"T_384d7_row3_col4\" class=\"data row3 col4\" >0.013354</td>\n",
       "                        <td id=\"T_384d7_row3_col5\" class=\"data row3 col5\" >0.085025</td>\n",
       "                        <td id=\"T_384d7_row3_col6\" class=\"data row3 col6\" >0.003879</td>\n",
       "                        <td id=\"T_384d7_row3_col7\" class=\"data row3 col7\" >0.463811</td>\n",
       "                        <td id=\"T_384d7_row3_col8\" class=\"data row3 col8\" >0.049418</td>\n",
       "                        <td id=\"T_384d7_row3_col9\" class=\"data row3 col9\" >0.002919</td>\n",
       "                        <td id=\"T_384d7_row3_col10\" class=\"data row3 col10\" >0.010947</td>\n",
       "                        <td id=\"T_384d7_row3_col11\" class=\"data row3 col11\" >0.028372</td>\n",
       "                        <td id=\"T_384d7_row3_col12\" class=\"data row3 col12\" >0.104511</td>\n",
       "            </tr>\n",
       "            <tr>\n",
       "                        <th id=\"T_384d7_level0_row4\" class=\"row_heading level0 row4\" >gender</th>\n",
       "                        <td id=\"T_384d7_row4_col0\" class=\"data row4 col0\" >0.000000</td>\n",
       "                        <td id=\"T_384d7_row4_col1\" class=\"data row4 col1\" >0.040711</td>\n",
       "                        <td id=\"T_384d7_row4_col2\" class=\"data row4 col2\" >0.000000</td>\n",
       "                        <td id=\"T_384d7_row4_col3\" class=\"data row4 col3\" >0.013354</td>\n",
       "                        <td id=\"T_384d7_row4_col4\" class=\"data row4 col4\" >1.000000</td>\n",
       "                        <td id=\"T_384d7_row4_col5\" class=\"data row4 col5\" >0.033815</td>\n",
       "                        <td id=\"T_384d7_row4_col6\" class=\"data row4 col6\" >0.031054</td>\n",
       "                        <td id=\"T_384d7_row4_col7\" class=\"data row4 col7\" >0.000000</td>\n",
       "                        <td id=\"T_384d7_row4_col8\" class=\"data row4 col8\" >0.063174</td>\n",
       "                        <td id=\"T_384d7_row4_col9\" class=\"data row4 col9\" >0.000000</td>\n",
       "                        <td id=\"T_384d7_row4_col10\" class=\"data row4 col10\" >0.031384</td>\n",
       "                        <td id=\"T_384d7_row4_col11\" class=\"data row4 col11\" >0.028019</td>\n",
       "                        <td id=\"T_384d7_row4_col12\" class=\"data row4 col12\" >0.165422</td>\n",
       "            </tr>\n",
       "            <tr>\n",
       "                        <th id=\"T_384d7_level0_row5\" class=\"row_heading level0 row5\" >age</th>\n",
       "                        <td id=\"T_384d7_row5_col0\" class=\"data row5 col0\" >0.042049</td>\n",
       "                        <td id=\"T_384d7_row5_col1\" class=\"data row5 col1\" >0.333753</td>\n",
       "                        <td id=\"T_384d7_row5_col2\" class=\"data row5 col2\" >0.000000</td>\n",
       "                        <td id=\"T_384d7_row5_col3\" class=\"data row5 col3\" >0.085025</td>\n",
       "                        <td id=\"T_384d7_row5_col4\" class=\"data row5 col4\" >0.033815</td>\n",
       "                        <td id=\"T_384d7_row5_col5\" class=\"data row5 col5\" >1.000000</td>\n",
       "                        <td id=\"T_384d7_row5_col6\" class=\"data row5 col6\" >0.046402</td>\n",
       "                        <td id=\"T_384d7_row5_col7\" class=\"data row5 col7\" >0.035357</td>\n",
       "                        <td id=\"T_384d7_row5_col8\" class=\"data row5 col8\" >0.145566</td>\n",
       "                        <td id=\"T_384d7_row5_col9\" class=\"data row5 col9\" >0.016433</td>\n",
       "                        <td id=\"T_384d7_row5_col10\" class=\"data row5 col10\" >0.187434</td>\n",
       "                        <td id=\"T_384d7_row5_col11\" class=\"data row5 col11\" >0.051545</td>\n",
       "                        <td id=\"T_384d7_row5_col12\" class=\"data row5 col12\" >0.487524</td>\n",
       "            </tr>\n",
       "            <tr>\n",
       "                        <th id=\"T_384d7_level0_row6\" class=\"row_heading level0 row6\" >tenure</th>\n",
       "                        <td id=\"T_384d7_row6_col0\" class=\"data row6 col0\" >0.009340</td>\n",
       "                        <td id=\"T_384d7_row6_col1\" class=\"data row6 col1\" >0.020624</td>\n",
       "                        <td id=\"T_384d7_row6_col2\" class=\"data row6 col2\" >0.000000</td>\n",
       "                        <td id=\"T_384d7_row6_col3\" class=\"data row6 col3\" >0.003879</td>\n",
       "                        <td id=\"T_384d7_row6_col4\" class=\"data row6 col4\" >0.031054</td>\n",
       "                        <td id=\"T_384d7_row6_col5\" class=\"data row6 col5\" >0.046402</td>\n",
       "                        <td id=\"T_384d7_row6_col6\" class=\"data row6 col6\" >1.000000</td>\n",
       "                        <td id=\"T_384d7_row6_col7\" class=\"data row6 col7\" >0.063973</td>\n",
       "                        <td id=\"T_384d7_row6_col8\" class=\"data row6 col8\" >0.060387</td>\n",
       "                        <td id=\"T_384d7_row6_col9\" class=\"data row6 col9\" >0.031409</td>\n",
       "                        <td id=\"T_384d7_row6_col10\" class=\"data row6 col10\" >0.027321</td>\n",
       "                        <td id=\"T_384d7_row6_col11\" class=\"data row6 col11\" >0.000000</td>\n",
       "                        <td id=\"T_384d7_row6_col12\" class=\"data row6 col12\" >0.020845</td>\n",
       "            </tr>\n",
       "            <tr>\n",
       "                        <th id=\"T_384d7_level0_row7\" class=\"row_heading level0 row7\" >balance</th>\n",
       "                        <td id=\"T_384d7_row7_col0\" class=\"data row7 col0\" >0.000000</td>\n",
       "                        <td id=\"T_384d7_row7_col1\" class=\"data row7 col1\" >0.483668</td>\n",
       "                        <td id=\"T_384d7_row7_col2\" class=\"data row7 col2\" >0.000000</td>\n",
       "                        <td id=\"T_384d7_row7_col3\" class=\"data row7 col3\" >0.463811</td>\n",
       "                        <td id=\"T_384d7_row7_col4\" class=\"data row7 col4\" >0.000000</td>\n",
       "                        <td id=\"T_384d7_row7_col5\" class=\"data row7 col5\" >0.035357</td>\n",
       "                        <td id=\"T_384d7_row7_col6\" class=\"data row7 col6\" >0.063973</td>\n",
       "                        <td id=\"T_384d7_row7_col7\" class=\"data row7 col7\" >1.000000</td>\n",
       "                        <td id=\"T_384d7_row7_col8\" class=\"data row7 col8\" >0.371385</td>\n",
       "                        <td id=\"T_384d7_row7_col9\" class=\"data row7 col9\" >0.050671</td>\n",
       "                        <td id=\"T_384d7_row7_col10\" class=\"data row7 col10\" >0.018236</td>\n",
       "                        <td id=\"T_384d7_row7_col11\" class=\"data row7 col11\" >0.000000</td>\n",
       "                        <td id=\"T_384d7_row7_col12\" class=\"data row7 col12\" >0.183365</td>\n",
       "            </tr>\n",
       "            <tr>\n",
       "                        <th id=\"T_384d7_level0_row8\" class=\"row_heading level0 row8\" >num_of_products</th>\n",
       "                        <td id=\"T_384d7_row8_col0\" class=\"data row8 col0\" >0.009637</td>\n",
       "                        <td id=\"T_384d7_row8_col1\" class=\"data row8 col1\" >0.201225</td>\n",
       "                        <td id=\"T_384d7_row8_col2\" class=\"data row8 col2\" >0.034645</td>\n",
       "                        <td id=\"T_384d7_row8_col3\" class=\"data row8 col3\" >0.049418</td>\n",
       "                        <td id=\"T_384d7_row8_col4\" class=\"data row8 col4\" >0.063174</td>\n",
       "                        <td id=\"T_384d7_row8_col5\" class=\"data row8 col5\" >0.145566</td>\n",
       "                        <td id=\"T_384d7_row8_col6\" class=\"data row8 col6\" >0.060387</td>\n",
       "                        <td id=\"T_384d7_row8_col7\" class=\"data row8 col7\" >0.371385</td>\n",
       "                        <td id=\"T_384d7_row8_col8\" class=\"data row8 col8\" >1.000000</td>\n",
       "                        <td id=\"T_384d7_row8_col9\" class=\"data row8 col9\" >0.000000</td>\n",
       "                        <td id=\"T_384d7_row8_col10\" class=\"data row8 col10\" >0.056918</td>\n",
       "                        <td id=\"T_384d7_row8_col11\" class=\"data row8 col11\" >0.031562</td>\n",
       "                        <td id=\"T_384d7_row8_col12\" class=\"data row8 col12\" >0.565084</td>\n",
       "            </tr>\n",
       "            <tr>\n",
       "                        <th id=\"T_384d7_level0_row9\" class=\"row_heading level0 row9\" >has_cr_card</th>\n",
       "                        <td id=\"T_384d7_row9_col0\" class=\"data row9 col0\" >0.000000</td>\n",
       "                        <td id=\"T_384d7_row9_col1\" class=\"data row9 col1\" >0.000000</td>\n",
       "                        <td id=\"T_384d7_row9_col2\" class=\"data row9 col2\" >0.000000</td>\n",
       "                        <td id=\"T_384d7_row9_col3\" class=\"data row9 col3\" >0.002919</td>\n",
       "                        <td id=\"T_384d7_row9_col4\" class=\"data row9 col4\" >0.000000</td>\n",
       "                        <td id=\"T_384d7_row9_col5\" class=\"data row9 col5\" >0.016433</td>\n",
       "                        <td id=\"T_384d7_row9_col6\" class=\"data row9 col6\" >0.031409</td>\n",
       "                        <td id=\"T_384d7_row9_col7\" class=\"data row9 col7\" >0.050671</td>\n",
       "                        <td id=\"T_384d7_row9_col8\" class=\"data row9 col8\" >0.000000</td>\n",
       "                        <td id=\"T_384d7_row9_col9\" class=\"data row9 col9\" >1.000000</td>\n",
       "                        <td id=\"T_384d7_row9_col10\" class=\"data row9 col10\" >0.009377</td>\n",
       "                        <td id=\"T_384d7_row9_col11\" class=\"data row9 col11\" >0.000000</td>\n",
       "                        <td id=\"T_384d7_row9_col12\" class=\"data row9 col12\" >0.000000</td>\n",
       "            </tr>\n",
       "            <tr>\n",
       "                        <th id=\"T_384d7_level0_row10\" class=\"row_heading level0 row10\" >is_active_member</th>\n",
       "                        <td id=\"T_384d7_row10_col0\" class=\"data row10 col0\" >0.014253</td>\n",
       "                        <td id=\"T_384d7_row10_col1\" class=\"data row10 col1\" >0.000000</td>\n",
       "                        <td id=\"T_384d7_row10_col2\" class=\"data row10 col2\" >0.038064</td>\n",
       "                        <td id=\"T_384d7_row10_col3\" class=\"data row10 col3\" >0.010947</td>\n",
       "                        <td id=\"T_384d7_row10_col4\" class=\"data row10 col4\" >0.031384</td>\n",
       "                        <td id=\"T_384d7_row10_col5\" class=\"data row10 col5\" >0.187434</td>\n",
       "                        <td id=\"T_384d7_row10_col6\" class=\"data row10 col6\" >0.027321</td>\n",
       "                        <td id=\"T_384d7_row10_col7\" class=\"data row10 col7\" >0.018236</td>\n",
       "                        <td id=\"T_384d7_row10_col8\" class=\"data row10 col8\" >0.056918</td>\n",
       "                        <td id=\"T_384d7_row10_col9\" class=\"data row10 col9\" >0.009377</td>\n",
       "                        <td id=\"T_384d7_row10_col10\" class=\"data row10 col10\" >1.000000</td>\n",
       "                        <td id=\"T_384d7_row10_col11\" class=\"data row10 col11\" >0.032847</td>\n",
       "                        <td id=\"T_384d7_row10_col12\" class=\"data row10 col12\" >0.241939</td>\n",
       "            </tr>\n",
       "            <tr>\n",
       "                        <th id=\"T_384d7_level0_row11\" class=\"row_heading level0 row11\" >estimated_salary</th>\n",
       "                        <td id=\"T_384d7_row11_col0\" class=\"data row11 col0\" >0.000000</td>\n",
       "                        <td id=\"T_384d7_row11_col1\" class=\"data row11 col1\" >0.083242</td>\n",
       "                        <td id=\"T_384d7_row11_col2\" class=\"data row11 col2\" >0.034215</td>\n",
       "                        <td id=\"T_384d7_row11_col3\" class=\"data row11 col3\" >0.028372</td>\n",
       "                        <td id=\"T_384d7_row11_col4\" class=\"data row11 col4\" >0.028019</td>\n",
       "                        <td id=\"T_384d7_row11_col5\" class=\"data row11 col5\" >0.051545</td>\n",
       "                        <td id=\"T_384d7_row11_col6\" class=\"data row11 col6\" >0.000000</td>\n",
       "                        <td id=\"T_384d7_row11_col7\" class=\"data row11 col7\" >0.000000</td>\n",
       "                        <td id=\"T_384d7_row11_col8\" class=\"data row11 col8\" >0.031562</td>\n",
       "                        <td id=\"T_384d7_row11_col9\" class=\"data row11 col9\" >0.000000</td>\n",
       "                        <td id=\"T_384d7_row11_col10\" class=\"data row11 col10\" >0.032847</td>\n",
       "                        <td id=\"T_384d7_row11_col11\" class=\"data row11 col11\" >1.000000</td>\n",
       "                        <td id=\"T_384d7_row11_col12\" class=\"data row11 col12\" >0.000000</td>\n",
       "            </tr>\n",
       "            <tr>\n",
       "                        <th id=\"T_384d7_level0_row12\" class=\"row_heading level0 row12\" >exited</th>\n",
       "                        <td id=\"T_384d7_row12_col0\" class=\"data row12 col0\" >0.029595</td>\n",
       "                        <td id=\"T_384d7_row12_col1\" class=\"data row12 col1\" >0.000000</td>\n",
       "                        <td id=\"T_384d7_row12_col2\" class=\"data row12 col2\" >0.096525</td>\n",
       "                        <td id=\"T_384d7_row12_col3\" class=\"data row12 col3\" >0.104511</td>\n",
       "                        <td id=\"T_384d7_row12_col4\" class=\"data row12 col4\" >0.165422</td>\n",
       "                        <td id=\"T_384d7_row12_col5\" class=\"data row12 col5\" >0.487524</td>\n",
       "                        <td id=\"T_384d7_row12_col6\" class=\"data row12 col6\" >0.020845</td>\n",
       "                        <td id=\"T_384d7_row12_col7\" class=\"data row12 col7\" >0.183365</td>\n",
       "                        <td id=\"T_384d7_row12_col8\" class=\"data row12 col8\" >0.565084</td>\n",
       "                        <td id=\"T_384d7_row12_col9\" class=\"data row12 col9\" >0.000000</td>\n",
       "                        <td id=\"T_384d7_row12_col10\" class=\"data row12 col10\" >0.241939</td>\n",
       "                        <td id=\"T_384d7_row12_col11\" class=\"data row12 col11\" >0.000000</td>\n",
       "                        <td id=\"T_384d7_row12_col12\" class=\"data row12 col12\" >1.000000</td>\n",
       "            </tr>\n",
       "    </tbody></table>"
      ],
      "text/plain": [
       "<pandas.io.formats.style.Styler at 0x7f74344c4430>"
      ]
     },
     "execution_count": 26,
     "metadata": {},
     "output_type": "execute_result"
    }
   ],
   "source": [
    "df.phik_matrix().style.background_gradient(cmap='coolwarm')"
   ]
  },
  {
   "cell_type": "markdown",
   "metadata": {},
   "source": [
    "Самая выраженная зависимость у целевого признака от числа проудктов и возраста клиента, удалять эти признаки не будем, поскольку значения не велики."
   ]
  },
  {
   "cell_type": "markdown",
   "metadata": {},
   "source": [
    "**Итоги подготовки данных**\n",
    "- выявлен дисбаланс целевого признака\n",
    "- остался открыт вопрос с заполненеим пропусков в признаке tenure\n",
    "- удален столбец RowNumber, поскольку информация в нем не важна для построения модели\n",
    "- в остальных данных аномалий не выявлено"
   ]
  },
  {
   "cell_type": "markdown",
   "metadata": {},
   "source": [
    "## Подготовка признаков"
   ]
  },
  {
   "cell_type": "markdown",
   "metadata": {},
   "source": [
    "**Цель** \n",
    "\n",
    "подготовить признаки к построениею модели\n",
    "- избавиться от категориальных признаков;\n",
    "- решить вопрос с пропусками в признаке *tenure*;\n",
    "- масштабировать признаки"
   ]
  },
  {
   "cell_type": "markdown",
   "metadata": {},
   "source": [
    "Сделаем копию исходных данных."
   ]
  },
  {
   "cell_type": "code",
   "execution_count": 27,
   "metadata": {},
   "outputs": [
    {
     "name": "stdout",
     "output_type": "stream",
     "text": [
      "DF : (10000, 13)\n",
      "\n",
      "DF_ML : (10000, 13)\n"
     ]
    }
   ],
   "source": [
    "df_ml =df.copy()\n",
    "print('DF :', df.shape)\n",
    "print()\n",
    "print('DF_ML :', df_ml.shape)"
   ]
  },
  {
   "cell_type": "markdown",
   "metadata": {},
   "source": [
    "Уникальный идентификатор клиента для прогнозирования факта ухода клиента значения не играет, поэтому мы его удалим."
   ]
  },
  {
   "cell_type": "code",
   "execution_count": 28,
   "metadata": {},
   "outputs": [],
   "source": [
    "df_ml = df_ml.drop(['customer_id','surname'], axis = 1)"
   ]
  },
  {
   "cell_type": "markdown",
   "metadata": {},
   "source": [
    "Оценим распределение целевого признака на пропусках в признаке tenure."
   ]
  },
  {
   "cell_type": "code",
   "execution_count": 29,
   "metadata": {},
   "outputs": [],
   "source": [
    "def print_circle(col_name, data, _labels,title, _figwidth,_figheight):\n",
    "\n",
    "    # зададим разбежку\n",
    "    explode = []\n",
    "    for i in range(len(data)):\n",
    "        explode.append(0.04)\n",
    "        \n",
    "    # нарисуем круг\n",
    "    data.plot(kind = 'pie', \n",
    "              y=col_name,\n",
    "              autopct='%1.2f%%',\n",
    "              explode=explode,\n",
    "              label =\"\",\n",
    "              labels=_labels,\n",
    "              fontsize=12,\n",
    "              figsize=(_figwidth, _figheight),)\n",
    "\n",
    "    plt.title(title,fontsize= 16, fontweight = 'bold')\n",
    "    plt.show()"
   ]
  },
  {
   "cell_type": "code",
   "execution_count": 30,
   "metadata": {},
   "outputs": [],
   "source": [
    "mw_mapping={\n",
    "    0: 'Клиент остался', \n",
    "    1: 'Клиент ушел'\n",
    "} "
   ]
  },
  {
   "cell_type": "code",
   "execution_count": 31,
   "metadata": {},
   "outputs": [
    {
     "data": {
      "image/png": "[encoded data removed]",
      "text/plain": [
       "<Figure size 432x432 with 1 Axes>"
      ]
     },
     "metadata": {},
     "output_type": "display_data"
    }
   ],
   "source": [
    "df_buf = df.loc[df['tenure'].isna()==True]\n",
    "df_buf = df_buf['exited'].value_counts().rename(index=mw_mapping)\n",
    "print_circle('exited', df_buf,df_buf.index.values, 'Анализ оттока клиентов',6,6)"
   ]
  },
  {
   "cell_type": "markdown",
   "metadata": {},
   "source": [
    "Соотношение сохраняется 1:4. Поскольку при дальнейшем построении модели лучшие показатели были на уменьшенной выборке, то\n",
    "- удалим записи с пропусками в признаке tenure, для которых exited = 0;\n",
    "- оставшиеся пропуски заполним заглушкой = 11\n",
    "- масштабируем признак tenure"
   ]
  },
  {
   "cell_type": "code",
   "execution_count": 32,
   "metadata": {},
   "outputs": [
    {
     "name": "stdout",
     "output_type": "stream",
     "text": [
      "(10000, 11)\n",
      "(9274, 11)\n",
      "[ 2.  1.  8.  7.  4.  6.  3. 10.  5.  9.  0. 11.]\n"
     ]
    }
   ],
   "source": [
    "print(df_ml.shape)\n",
    "df_ml = df_ml.loc[(df_ml['tenure'].isna() == False)|(df_ml['tenure'].isna() == True)&(df_ml['exited'] == 1)]\n",
    "\n",
    "print(df_ml.shape)\n",
    "df_ml.loc[df['tenure'].isna() == True,'tenure'] = 11\n",
    "print(df_ml['tenure'].unique())"
   ]
  },
  {
   "cell_type": "code",
   "execution_count": 33,
   "metadata": {},
   "outputs": [
    {
     "data": {
      "text/html": [
       "<div>\n",
       "<style scoped>\n",
       "    .dataframe tbody tr th:only-of-type {\n",
       "        vertical-align: middle;\n",
       "    }\n",
       "\n",
       "    .dataframe tbody tr th {\n",
       "        vertical-align: top;\n",
       "    }\n",
       "\n",
       "    .dataframe thead th {\n",
       "        text-align: right;\n",
       "    }\n",
       "</style>\n",
       "<table border=\"1\" class=\"dataframe\">\n",
       "  <thead>\n",
       "    <tr style=\"text-align: right;\">\n",
       "      <th></th>\n",
       "      <th>credit_score</th>\n",
       "      <th>age</th>\n",
       "      <th>tenure</th>\n",
       "      <th>balance</th>\n",
       "      <th>num_of_products</th>\n",
       "      <th>has_cr_card</th>\n",
       "      <th>is_active_member</th>\n",
       "      <th>estimated_salary</th>\n",
       "      <th>exited</th>\n",
       "      <th>geography_Germany</th>\n",
       "      <th>geography_Spain</th>\n",
       "      <th>gender_Male</th>\n",
       "    </tr>\n",
       "  </thead>\n",
       "  <tbody>\n",
       "    <tr>\n",
       "      <th>0</th>\n",
       "      <td>619</td>\n",
       "      <td>42</td>\n",
       "      <td>2.0</td>\n",
       "      <td>0.00</td>\n",
       "      <td>1</td>\n",
       "      <td>1</td>\n",
       "      <td>1</td>\n",
       "      <td>101348.88</td>\n",
       "      <td>1</td>\n",
       "      <td>0</td>\n",
       "      <td>0</td>\n",
       "      <td>0</td>\n",
       "    </tr>\n",
       "    <tr>\n",
       "      <th>1</th>\n",
       "      <td>608</td>\n",
       "      <td>41</td>\n",
       "      <td>1.0</td>\n",
       "      <td>83807.86</td>\n",
       "      <td>1</td>\n",
       "      <td>0</td>\n",
       "      <td>1</td>\n",
       "      <td>112542.58</td>\n",
       "      <td>0</td>\n",
       "      <td>0</td>\n",
       "      <td>1</td>\n",
       "      <td>0</td>\n",
       "    </tr>\n",
       "    <tr>\n",
       "      <th>2</th>\n",
       "      <td>502</td>\n",
       "      <td>42</td>\n",
       "      <td>8.0</td>\n",
       "      <td>159660.80</td>\n",
       "      <td>3</td>\n",
       "      <td>1</td>\n",
       "      <td>0</td>\n",
       "      <td>113931.57</td>\n",
       "      <td>1</td>\n",
       "      <td>0</td>\n",
       "      <td>0</td>\n",
       "      <td>0</td>\n",
       "    </tr>\n",
       "    <tr>\n",
       "      <th>3</th>\n",
       "      <td>699</td>\n",
       "      <td>39</td>\n",
       "      <td>1.0</td>\n",
       "      <td>0.00</td>\n",
       "      <td>2</td>\n",
       "      <td>0</td>\n",
       "      <td>0</td>\n",
       "      <td>93826.63</td>\n",
       "      <td>0</td>\n",
       "      <td>0</td>\n",
       "      <td>0</td>\n",
       "      <td>0</td>\n",
       "    </tr>\n",
       "    <tr>\n",
       "      <th>4</th>\n",
       "      <td>850</td>\n",
       "      <td>43</td>\n",
       "      <td>2.0</td>\n",
       "      <td>125510.82</td>\n",
       "      <td>1</td>\n",
       "      <td>1</td>\n",
       "      <td>1</td>\n",
       "      <td>79084.10</td>\n",
       "      <td>0</td>\n",
       "      <td>0</td>\n",
       "      <td>1</td>\n",
       "      <td>0</td>\n",
       "    </tr>\n",
       "  </tbody>\n",
       "</table>\n",
       "</div>"
      ],
      "text/plain": [
       "   credit_score  age  tenure    balance  num_of_products  has_cr_card  \\\n",
       "0           619   42     2.0       0.00                1            1   \n",
       "1           608   41     1.0   83807.86                1            0   \n",
       "2           502   42     8.0  159660.80                3            1   \n",
       "3           699   39     1.0       0.00                2            0   \n",
       "4           850   43     2.0  125510.82                1            1   \n",
       "\n",
       "   is_active_member  estimated_salary  exited  geography_Germany  \\\n",
       "0                 1         101348.88       1                  0   \n",
       "1                 1         112542.58       0                  0   \n",
       "2                 0         113931.57       1                  0   \n",
       "3                 0          93826.63       0                  0   \n",
       "4                 1          79084.10       0                  0   \n",
       "\n",
       "   geography_Spain  gender_Male  \n",
       "0                0            0  \n",
       "1                1            0  \n",
       "2                0            0  \n",
       "3                0            0  \n",
       "4                1            0  "
      ]
     },
     "execution_count": 33,
     "metadata": {},
     "output_type": "execute_result"
    }
   ],
   "source": [
    "df_ml = pd.get_dummies(df_ml,drop_first=True)\n",
    "df_ml.head()"
   ]
  },
  {
   "cell_type": "markdown",
   "metadata": {},
   "source": [
    "Строковых данных не оcталось."
   ]
  },
  {
   "cell_type": "markdown",
   "metadata": {},
   "source": [
    "**Цель**\n",
    "разделить подготовленные данные на 3 выборки: обучающую, валидационную и тестовую"
   ]
  },
  {
   "cell_type": "code",
   "execution_count": 35,
   "metadata": {},
   "outputs": [
    {
     "data": {
      "image/png": "[encoded data removed]",
      "text/plain": [
       "<Figure size 432x432 with 1 Axes>"
      ]
     },
     "metadata": {},
     "output_type": "display_data"
    }
   ],
   "source": [
    "df_buf = df_ml['exited'].value_counts().rename(index=mw_mapping)\n",
    "print_circle('exited', df_buf,df_buf.index.values, 'Анализ оттока клиентов',6,6)"
   ]
  },
  {
   "cell_type": "markdown",
   "metadata": {},
   "source": [
    "График демонстирует несбалансированность целевого признака.\n",
    "\n",
    "На данном этапе построим модели без учета разбалансированности классов."
   ]
  },
  {
   "cell_type": "markdown",
   "metadata": {},
   "source": [
    "Необходимо разбить предоставленные данные на 3 выборки: обучающую, валидационную и тестовую.\n",
    "\n",
    "Обучающая выборка необходима для обучения модели.\n",
    "\n",
    "Валидационная выборка нужна для оценки переобученности модели, для оценки ошибки прогнозирования при выборе модели, для настройки гиперпараметров и выбора лучшей модели, показывает, как может повести себя модель с новыми данными.\n",
    "\n",
    "Тестовая выборка понадобится для оценки работы готовой модели, для оценки ошибки обобщения для окончательной выбранной модели.\n",
    "\n",
    "Поскольку у нас отсутствует спрятаная тестовая выборка, разделим имеющиеся данные в соотношении 3/1/1.\n",
    "\n",
    "обучающая 60%, валидационная 20%, тестовая 20%"
   ]
  },
  {
   "cell_type": "code",
   "execution_count": 36,
   "metadata": {},
   "outputs": [
    {
     "name": "stdout",
     "output_type": "stream",
     "text": [
      "(5564, 11)\n",
      "(5564,)\n",
      "(1855, 11)\n",
      "(1855,)\n",
      "(1855, 11)\n",
      "(1855,)\n"
     ]
    },
    {
     "data": {
      "text/plain": [
       "(None, None)"
      ]
     },
     "execution_count": 36,
     "metadata": {},
     "output_type": "execute_result"
    }
   ],
   "source": [
    "x_train, y_train, x_valid, y_valid, x_test, y_test = train_valid_test_split(df_ml, target = 'exited', \n",
    "                                                                            train_size=0.6, valid_size=0.2, test_size=0.2,random_state=12345)\n",
    "\n",
    "print(x_train.shape), print(y_train.shape)\n",
    "print(x_valid.shape), print(y_valid.shape)\n",
    "print(x_test.shape), print(y_test.shape)"
   ]
  },
  {
   "cell_type": "code",
   "execution_count": 37,
   "metadata": {},
   "outputs": [],
   "source": [
    "def hist_circle(df, ax):\n",
    "    d = df.value_counts()\n",
    "    d.plot(kind = 'pie', \n",
    "          autopct='%1.2f%%',\n",
    "          label =\"\",\n",
    "          labels=d.rename(index=mw_mapping).index.values,\n",
    "          fontsize=12,\n",
    "          ax = ax)"
   ]
  },
  {
   "cell_type": "code",
   "execution_count": 38,
   "metadata": {},
   "outputs": [],
   "source": [
    "def hist_circles(df, df_train, df_valid, df_test, title):\n",
    " \n",
    "    fig, ax = plt.subplots(2, 2, figsize = (10,10))\n",
    "    hist_circle(df,ax[0, 0])\n",
    "    hist_circle(df_train,ax[0, 1])\n",
    "    hist_circle(df_valid,ax[1, 0])\n",
    "    hist_circle(df_test,ax[1, 1])\n",
    "\n",
    "    plt.suptitle(title)\n",
    "    plt.show()"
   ]
  },
  {
   "cell_type": "code",
   "execution_count": 39,
   "metadata": {},
   "outputs": [
    {
     "data": {
      "image/png": "[encoded data removed]",
      "text/plain": [
       "<Figure size 720x720 with 4 Axes>"
      ]
     },
     "metadata": {},
     "output_type": "display_data"
    }
   ],
   "source": [
    "hist_circles(df_ml['exited'],\n",
    "           y_train,\n",
    "           y_valid,\n",
    "           y_test,\n",
    "           title = 'Результат разбиения на выборки')"
   ]
  },
  {
   "cell_type": "markdown",
   "metadata": {},
   "source": [
    "Таким образом, данные в выборках распределены с учетом пропорции в исходных данных."
   ]
  },
  {
   "cell_type": "markdown",
   "metadata": {},
   "source": [
    "Масштабируем колличественные признаки.\n",
    "\n",
    "Теперь к ним относится и те, что раньше были строковыми.\n",
    "\n",
    "И признаки num_of_products, has_cr_card, is_active_member - масштабирование для них не нужно."
   ]
  },
  {
   "cell_type": "code",
   "execution_count": 40,
   "metadata": {},
   "outputs": [],
   "source": [
    "numeric = ['credit_score', 'age', 'tenure', 'balance', 'estimated_salary', \n",
    "       'geography_Germany', 'geography_Spain', 'gender_Male']"
   ]
  },
  {
   "cell_type": "code",
   "execution_count": 41,
   "metadata": {},
   "outputs": [
    {
     "data": {
      "text/html": [
       "<div>\n",
       "<style scoped>\n",
       "    .dataframe tbody tr th:only-of-type {\n",
       "        vertical-align: middle;\n",
       "    }\n",
       "\n",
       "    .dataframe tbody tr th {\n",
       "        vertical-align: top;\n",
       "    }\n",
       "\n",
       "    .dataframe thead th {\n",
       "        text-align: right;\n",
       "    }\n",
       "</style>\n",
       "<table border=\"1\" class=\"dataframe\">\n",
       "  <thead>\n",
       "    <tr style=\"text-align: right;\">\n",
       "      <th></th>\n",
       "      <th>credit_score</th>\n",
       "      <th>age</th>\n",
       "      <th>tenure</th>\n",
       "      <th>balance</th>\n",
       "      <th>num_of_products</th>\n",
       "      <th>has_cr_card</th>\n",
       "      <th>is_active_member</th>\n",
       "      <th>estimated_salary</th>\n",
       "      <th>geography_Germany</th>\n",
       "      <th>geography_Spain</th>\n",
       "      <th>gender_Male</th>\n",
       "    </tr>\n",
       "  </thead>\n",
       "  <tbody>\n",
       "    <tr>\n",
       "      <th>8751</th>\n",
       "      <td>-0.785193</td>\n",
       "      <td>-0.849098</td>\n",
       "      <td>0.977447</td>\n",
       "      <td>-1.218732</td>\n",
       "      <td>2</td>\n",
       "      <td>1</td>\n",
       "      <td>0</td>\n",
       "      <td>1.479726</td>\n",
       "      <td>-0.569602</td>\n",
       "      <td>1.711543</td>\n",
       "      <td>-1.103457</td>\n",
       "    </tr>\n",
       "    <tr>\n",
       "      <th>6361</th>\n",
       "      <td>-2.427955</td>\n",
       "      <td>-1.319166</td>\n",
       "      <td>-1.713887</td>\n",
       "      <td>0.349885</td>\n",
       "      <td>2</td>\n",
       "      <td>1</td>\n",
       "      <td>1</td>\n",
       "      <td>1.046657</td>\n",
       "      <td>1.755611</td>\n",
       "      <td>-0.584268</td>\n",
       "      <td>-1.103457</td>\n",
       "    </tr>\n",
       "    <tr>\n",
       "      <th>8968</th>\n",
       "      <td>0.681927</td>\n",
       "      <td>-0.567056</td>\n",
       "      <td>-1.713887</td>\n",
       "      <td>0.639381</td>\n",
       "      <td>1</td>\n",
       "      <td>1</td>\n",
       "      <td>1</td>\n",
       "      <td>-0.332125</td>\n",
       "      <td>1.755611</td>\n",
       "      <td>-0.584268</td>\n",
       "      <td>-1.103457</td>\n",
       "    </tr>\n",
       "    <tr>\n",
       "      <th>7055</th>\n",
       "      <td>-0.320261</td>\n",
       "      <td>-0.567056</td>\n",
       "      <td>1.313863</td>\n",
       "      <td>0.829741</td>\n",
       "      <td>1</td>\n",
       "      <td>1</td>\n",
       "      <td>1</td>\n",
       "      <td>1.608433</td>\n",
       "      <td>-0.569602</td>\n",
       "      <td>-0.584268</td>\n",
       "      <td>-1.103457</td>\n",
       "    </tr>\n",
       "    <tr>\n",
       "      <th>9661</th>\n",
       "      <td>0.247990</td>\n",
       "      <td>-0.002974</td>\n",
       "      <td>0.304613</td>\n",
       "      <td>-1.218732</td>\n",
       "      <td>2</td>\n",
       "      <td>0</td>\n",
       "      <td>0</td>\n",
       "      <td>-0.298778</td>\n",
       "      <td>-0.569602</td>\n",
       "      <td>-0.584268</td>\n",
       "      <td>-1.103457</td>\n",
       "    </tr>\n",
       "  </tbody>\n",
       "</table>\n",
       "</div>"
      ],
      "text/plain": [
       "      credit_score       age    tenure   balance  num_of_products  \\\n",
       "8751     -0.785193 -0.849098  0.977447 -1.218732                2   \n",
       "6361     -2.427955 -1.319166 -1.713887  0.349885                2   \n",
       "8968      0.681927 -0.567056 -1.713887  0.639381                1   \n",
       "7055     -0.320261 -0.567056  1.313863  0.829741                1   \n",
       "9661      0.247990 -0.002974  0.304613 -1.218732                2   \n",
       "\n",
       "      has_cr_card  is_active_member  estimated_salary  geography_Germany  \\\n",
       "8751            1                 0          1.479726          -0.569602   \n",
       "6361            1                 1          1.046657           1.755611   \n",
       "8968            1                 1         -0.332125           1.755611   \n",
       "7055            1                 1          1.608433          -0.569602   \n",
       "9661            0                 0         -0.298778          -0.569602   \n",
       "\n",
       "      geography_Spain  gender_Male  \n",
       "8751         1.711543    -1.103457  \n",
       "6361        -0.584268    -1.103457  \n",
       "8968        -0.584268    -1.103457  \n",
       "7055        -0.584268    -1.103457  \n",
       "9661        -0.584268    -1.103457  "
      ]
     },
     "execution_count": 41,
     "metadata": {},
     "output_type": "execute_result"
    }
   ],
   "source": [
    "scaler = StandardScaler()\n",
    "scaler.fit(x_train[numeric])\n",
    "x_train[numeric] = scaler.transform(x_train[numeric])\n",
    "x_valid[numeric] = scaler.transform(x_valid[numeric])\n",
    "x_test[numeric] = scaler.transform(x_test[numeric])\n",
    "x_train.head()"
   ]
  },
  {
   "cell_type": "markdown",
   "metadata": {},
   "source": [
    "Посмотрим распределение признаков после масштабирования."
   ]
  },
  {
   "cell_type": "code",
   "execution_count": 42,
   "metadata": {},
   "outputs": [
    {
     "data": {
      "image/png": "[encoded data removed]",
      "text/plain": [
       "<Figure size 1152x1152 with 12 Axes>"
      ]
     },
     "metadata": {
      "needs_background": "light"
     },
     "output_type": "display_data"
    }
   ],
   "source": [
    "x_train.hist(figsize=(16, 16), alpha=0.7, bins=100)\n",
    "plt.show()"
   ]
  },
  {
   "cell_type": "markdown",
   "metadata": {},
   "source": [
    "**Итоги**\n",
    "\n",
    "- провели прямое кодирование признаков, содержащих текстовую информацию;\n",
    "- пропуски в tenure заполнили заглушкой, числом 11, а те, строки в которых целевой признак был равен 0 - удалили;\n",
    "- масштабировали признаки, требующие данных преобразований.\n",
    "\n",
    "Данные готовы для построения модели."
   ]
  },
  {
   "cell_type": "markdown",
   "metadata": {},
   "source": [
    "## Исследование задачи"
   ]
  },
  {
   "cell_type": "markdown",
   "metadata": {},
   "source": [
    "**Цели**\n",
    "\n",
    "Построим 3 модели для прогнозирования оттока клиетов на подготовленных данных, сравним значения F1-меры для них."
   ]
  },
  {
   "cell_type": "markdown",
   "metadata": {},
   "source": [
    "Создадим таблицу compare_model, содержащую инофрмацию о F1-мерах и ROC_AUC для разных моделей."
   ]
  },
  {
   "cell_type": "code",
   "execution_count": 43,
   "metadata": {},
   "outputs": [],
   "source": [
    "compare_model = pd.DataFrame(columns = ['DecisionTreeClassifier','RandomForestClassifier','LogisticRegression'])"
   ]
  },
  {
   "cell_type": "code",
   "execution_count": 44,
   "metadata": {},
   "outputs": [],
   "source": [
    "_index = 'not balance'"
   ]
  },
  {
   "cell_type": "code",
   "execution_count": 45,
   "metadata": {},
   "outputs": [],
   "source": [
    "def func_DecisionTreeClassifier(features_train, target_train, features_valid, target_valid, ind, _class_weight = None ):\n",
    "    best_result_f1 = 0\n",
    "    best_result_auc = 0\n",
    "    best_d_f1 = 0\n",
    "    best_d_auc = 0\n",
    "    compare_model.loc[ind+'_F1', 'DecisionTreeClassifier']  = 0\n",
    "    compare_model.loc[ind+'_auc', 'DecisionTreeClassifier']  = 0\n",
    "    for d in range(1, 30):\n",
    "        #создадим модель с разной глубиной дерева\n",
    "        model = DecisionTreeClassifier(max_depth=d, random_state=12345, class_weight = _class_weight) \n",
    "        #обучим созданную модель на обучающей выборке\n",
    "        model.fit(features_train, target_train)\n",
    "        #предскажем результаты\n",
    "        predicted_valid = model.predict(features_valid)\n",
    "        #оценим качество модели на валидационной выборке\n",
    "        f1 = f1_score(target_valid,predicted_valid)\n",
    "        \n",
    "        probabilities_valid = model.predict_proba(features_valid)\n",
    "        probabilities_one_valid = probabilities_valid[:, 1]\n",
    "        auc_roc = roc_auc_score(target_valid,probabilities_one_valid)\n",
    "        \n",
    "        if f1 > best_result_f1:\n",
    "             best_result_f1 = f1\n",
    "             best_d_f1 = d\n",
    "\n",
    "        if auc_roc > best_result_auc:\n",
    "             best_result_auc = auc_roc\n",
    "             best_d_auc = d\n",
    "            \n",
    "    print(\"Лучшее значение F1 меры:\", best_result_f1, ' при глубине дерева = ', best_d_f1)\n",
    "    print(\"Лучшее значение AUC-ROC\", best_result_auc, ' при глубине дерева = ', best_d_auc)\n",
    "    if compare_model.loc[ind+'_F1', 'DecisionTreeClassifier'] < best_result_f1 :\n",
    "        compare_model.loc[ind+'_F1', 'DecisionTreeClassifier']  = best_result_f1\n",
    "    if compare_model.loc[ind+'_auc', 'DecisionTreeClassifier'] < best_result_auc :\n",
    "        compare_model.loc[ind+'_auc', 'DecisionTreeClassifier']  = best_result_auc\n",
    "    return best_d_f1, best_d_auc"
   ]
  },
  {
   "cell_type": "markdown",
   "metadata": {},
   "source": [
    "Построим модель Дерево решений. Подберем оптимальное значение глубины дерева."
   ]
  },
  {
   "cell_type": "code",
   "execution_count": 46,
   "metadata": {},
   "outputs": [
    {
     "name": "stdout",
     "output_type": "stream",
     "text": [
      "Лучшее значение F1 меры: 0.5976331360946745  при глубине дерева =  7\n",
      "Лучшее значение AUC-ROC 0.8522256360731968  при глубине дерева =  6\n"
     ]
    },
    {
     "data": {
      "text/html": [
       "<div>\n",
       "<style scoped>\n",
       "    .dataframe tbody tr th:only-of-type {\n",
       "        vertical-align: middle;\n",
       "    }\n",
       "\n",
       "    .dataframe tbody tr th {\n",
       "        vertical-align: top;\n",
       "    }\n",
       "\n",
       "    .dataframe thead th {\n",
       "        text-align: right;\n",
       "    }\n",
       "</style>\n",
       "<table border=\"1\" class=\"dataframe\">\n",
       "  <thead>\n",
       "    <tr style=\"text-align: right;\">\n",
       "      <th></th>\n",
       "      <th>DecisionTreeClassifier</th>\n",
       "      <th>RandomForestClassifier</th>\n",
       "      <th>LogisticRegression</th>\n",
       "    </tr>\n",
       "  </thead>\n",
       "  <tbody>\n",
       "    <tr>\n",
       "      <th>not balance_F1</th>\n",
       "      <td>0.597633</td>\n",
       "      <td>NaN</td>\n",
       "      <td>NaN</td>\n",
       "    </tr>\n",
       "    <tr>\n",
       "      <th>not balance_auc</th>\n",
       "      <td>0.852226</td>\n",
       "      <td>NaN</td>\n",
       "      <td>NaN</td>\n",
       "    </tr>\n",
       "  </tbody>\n",
       "</table>\n",
       "</div>"
      ],
      "text/plain": [
       "                DecisionTreeClassifier RandomForestClassifier  \\\n",
       "not balance_F1                0.597633                    NaN   \n",
       "not balance_auc               0.852226                    NaN   \n",
       "\n",
       "                LogisticRegression  \n",
       "not balance_F1                 NaN  \n",
       "not balance_auc                NaN  "
      ]
     },
     "execution_count": 46,
     "metadata": {},
     "output_type": "execute_result"
    }
   ],
   "source": [
    "best_depth = func_DecisionTreeClassifier(x_train, y_train, x_valid, y_valid, _index)\n",
    "compare_model"
   ]
  },
  {
   "cell_type": "code",
   "execution_count": 47,
   "metadata": {},
   "outputs": [],
   "source": [
    "def func_RandomForestClassifier(features_train, target_train, features_valid, target_valid, best_depth, ind, _class_weight = None):\n",
    "    best_result_f1 = 0\n",
    "    best_result_auc = 0\n",
    "    best_d_f1 = 0\n",
    "    best_d_auc = 0\n",
    "    compare_model.loc[ind+'_F1', 'RandomForestClassifier']  = 0\n",
    "    compare_model.loc[ind+'_auc', 'RandomForestClassifier']  = 0\n",
    "    for d in range(1, 20):\n",
    "        #создадим модель с разным числом деревьев\n",
    "        model = RandomForestClassifier(random_state=56879, n_estimators=d, max_depth = best_depth, class_weight = _class_weight) \n",
    "        #обучим созданную модель на обучающей выборке\n",
    "        model.fit(features_train, target_train)\n",
    "        #предскажем результаты\n",
    "        predicted_valid = model.predict(features_valid)\n",
    "        #оценим качество модели на валидационной выборке\n",
    "        f1 = f1_score(target_valid,predicted_valid)\n",
    "\n",
    "        probabilities_valid = model.predict_proba(features_valid)\n",
    "        probabilities_one_valid = probabilities_valid[:, 1]\n",
    "        auc_roc = roc_auc_score(target_valid,probabilities_one_valid)\n",
    "        \n",
    "        if f1 > best_result_f1:\n",
    "             best_result_f1 = f1\n",
    "             best_d_f1 = d\n",
    "\n",
    "        if auc_roc > best_result_auc:\n",
    "             best_result_auc = auc_roc\n",
    "             best_d_auc = d\n",
    "            \n",
    "    print(\"Лучшее значение F1 меры:\", best_result_f1, ' при числе деревьев = ', best_d_f1)\n",
    "    print(\"Лучшее значение AUC-ROC\", best_result_auc, ' при числе деревьев = ', best_d_auc)\n",
    "    if compare_model.loc[ind+'_F1', 'RandomForestClassifier'] < best_result_f1 :\n",
    "        compare_model.loc[ind+'_F1', 'RandomForestClassifier']  = best_result_f1\n",
    "    if compare_model.loc[ind+'_auc', 'RandomForestClassifier'] < best_result_auc :\n",
    "        compare_model.loc[ind+'_auc', 'RandomForestClassifier']  = best_result_auc\n",
    "    return best_d_f1, best_d_auc"
   ]
  },
  {
   "cell_type": "markdown",
   "metadata": {},
   "source": [
    "Построим модель Случайный лес, подберем для модели оптимальное число деревьев."
   ]
  },
  {
   "cell_type": "code",
   "execution_count": 48,
   "metadata": {},
   "outputs": [
    {
     "name": "stdout",
     "output_type": "stream",
     "text": [
      "Лучшее значение F1 меры: 0.5873015873015873  при числе деревьев =  19\n",
      "Лучшее значение AUC-ROC 0.858046454096566  при числе деревьев =  10\n"
     ]
    }
   ],
   "source": [
    "best_n_estimators = func_RandomForestClassifier(x_train, y_train, x_valid, y_valid, best_depth[0], _index)"
   ]
  },
  {
   "cell_type": "code",
   "execution_count": 49,
   "metadata": {},
   "outputs": [],
   "source": [
    "def func_LogisticRegression(features_train, target_train, features_valid, target_valid, ind, _class_weight = None):\n",
    "    best_result_f1 = 0\n",
    "    best_result_auc = 0\n",
    "    best_d_f1 = 0\n",
    "    best_d_auc = 0\n",
    "    compare_model.loc[ind+'_F1', 'LogisticRegression']  = 0\n",
    "    compare_model.loc[ind+'_auc', 'LogisticRegression']  = 0\n",
    "    for d in range(1, 100, 10):\n",
    "        #создадим модель с разным числом деревьев\n",
    "        model = LogisticRegression(random_state=57498, solver='liblinear', max_iter=d, class_weight = _class_weight) \n",
    "        #обучим созданную модель на обучающей выборке\n",
    "        model.fit(x_train, y_train)\n",
    "        predicted_valid = model.predict(x_valid)\n",
    "        #оценим качество модели на валидационной выборке\n",
    "        f1 = f1_score(y_valid,predicted_valid)\n",
    "        probabilities_valid = model.predict_proba(features_valid)\n",
    "        probabilities_one_valid = probabilities_valid[:, 1]\n",
    "        auc_roc = roc_auc_score(target_valid,probabilities_one_valid)\n",
    "        \n",
    "        if f1 > best_result_f1:\n",
    "             best_result_f1 = f1\n",
    "             best_d_f1 = d\n",
    "\n",
    "        if auc_roc > best_result_auc:\n",
    "             best_result_auc = auc_roc\n",
    "             best_d_auc = d\n",
    "            \n",
    "    print(\"Лучшее значение F1 меры:\", best_result_f1, ' при числе деревьев = ', best_d_f1)\n",
    "    print(\"Лучшее значение AUC-ROC\", best_result_auc, ' при числе деревьев = ', best_d_auc)\n",
    "    if compare_model.loc[ind+'_F1', 'LogisticRegression'] < best_result_f1 :\n",
    "        compare_model.loc[ind+'_F1', 'LogisticRegression']  = best_result_f1\n",
    "    if compare_model.loc[ind+'_auc', 'LogisticRegression'] < best_result_auc :\n",
    "        compare_model.loc[ind+'_auc', 'LogisticRegression']  = best_result_auc\n",
    "    return best_d_f1, best_d_auc"
   ]
  },
  {
   "cell_type": "markdown",
   "metadata": {},
   "source": [
    "Построим модель Логистической регрессии. Подберем для нее оптимальное число итераций."
   ]
  },
  {
   "cell_type": "code",
   "execution_count": 50,
   "metadata": {},
   "outputs": [
    {
     "name": "stdout",
     "output_type": "stream",
     "text": [
      "Лучшее значение F1 меры: 0.35940099833610645  при числе деревьев =  11\n",
      "Лучшее значение AUC-ROC 0.7705572441072485  при числе деревьев =  11\n"
     ]
    }
   ],
   "source": [
    "best_iter = func_LogisticRegression(x_train, y_train, x_valid, y_valid, _index)"
   ]
  },
  {
   "cell_type": "code",
   "execution_count": 51,
   "metadata": {},
   "outputs": [
    {
     "name": "stdout",
     "output_type": "stream",
     "text": [
      "Значение F1-меры и AUC-ROC на несбалансированных данных\n"
     ]
    },
    {
     "data": {
      "text/html": [
       "<div>\n",
       "<style scoped>\n",
       "    .dataframe tbody tr th:only-of-type {\n",
       "        vertical-align: middle;\n",
       "    }\n",
       "\n",
       "    .dataframe tbody tr th {\n",
       "        vertical-align: top;\n",
       "    }\n",
       "\n",
       "    .dataframe thead th {\n",
       "        text-align: right;\n",
       "    }\n",
       "</style>\n",
       "<table border=\"1\" class=\"dataframe\">\n",
       "  <thead>\n",
       "    <tr style=\"text-align: right;\">\n",
       "      <th></th>\n",
       "      <th>DecisionTreeClassifier</th>\n",
       "      <th>RandomForestClassifier</th>\n",
       "      <th>LogisticRegression</th>\n",
       "    </tr>\n",
       "  </thead>\n",
       "  <tbody>\n",
       "    <tr>\n",
       "      <th>not balance_F1</th>\n",
       "      <td>0.597633</td>\n",
       "      <td>0.587302</td>\n",
       "      <td>0.359401</td>\n",
       "    </tr>\n",
       "    <tr>\n",
       "      <th>not balance_auc</th>\n",
       "      <td>0.852226</td>\n",
       "      <td>0.858046</td>\n",
       "      <td>0.770557</td>\n",
       "    </tr>\n",
       "  </tbody>\n",
       "</table>\n",
       "</div>"
      ],
      "text/plain": [
       "                DecisionTreeClassifier RandomForestClassifier  \\\n",
       "not balance_F1                0.597633               0.587302   \n",
       "not balance_auc               0.852226               0.858046   \n",
       "\n",
       "                LogisticRegression  \n",
       "not balance_F1            0.359401  \n",
       "not balance_auc           0.770557  "
      ]
     },
     "execution_count": 51,
     "metadata": {},
     "output_type": "execute_result"
    }
   ],
   "source": [
    "print('Значение F1-меры и AUC-ROC на несбалансированных данных')\n",
    "compare_model.head()"
   ]
  },
  {
   "cell_type": "markdown",
   "metadata": {},
   "source": [
    "**Итоги**\n",
    "Построили 3 модели и получили следующие показатели F1-меры и AUC-ROC:\n",
    "\n",
    "- Логистическая регрессия - 0,3594/0.7706\n",
    "- Случайный лес - 0,5873/0.8580\n",
    "- Дерево решений - 0,5976/0.8522\n",
    "\n",
    "\n",
    "Дерево решений уже достигла необходимого уровня для F1-меры, однако продолжим процесс улучшения моделей."
   ]
  },
  {
   "cell_type": "markdown",
   "metadata": {},
   "source": [
    "## Борьба с дисбалансом"
   ]
  },
  {
   "cell_type": "markdown",
   "metadata": {},
   "source": [
    "**Цели**\n",
    "\n",
    "Подобрать оптимальный метод борьбы с дисбалансом целевого признака для максимизации F1-меры."
   ]
  },
  {
   "cell_type": "markdown",
   "metadata": {},
   "source": [
    "Целевой признак содержит явно несбалансированные значения.\n",
    "\n",
    "Попробуем улучшить значение F1 меры, указав в параметрах необходимость установки веса для значения."
   ]
  },
  {
   "cell_type": "code",
   "execution_count": 52,
   "metadata": {},
   "outputs": [],
   "source": [
    "_index = 'set weight'"
   ]
  },
  {
   "cell_type": "markdown",
   "metadata": {},
   "source": [
    "Оценим F1-меру для трех моделей машинного обучения."
   ]
  },
  {
   "cell_type": "code",
   "execution_count": 53,
   "metadata": {},
   "outputs": [
    {
     "name": "stdout",
     "output_type": "stream",
     "text": [
      "Лучшее значение F1 меры: 0.6192236598890943  при глубине дерева =  7\n",
      "Лучшее значение AUC-ROC 0.8496203239152937  при глубине дерева =  6\n",
      "Лучшее значение F1 меры: 0.6251236399604352  при числе деревьев =  19\n",
      "Лучшее значение AUC-ROC 0.8571402585633825  при числе деревьев =  15\n",
      "Лучшее значение F1 меры: 0.5249343832020996  при числе деревьев =  1\n",
      "Лучшее значение AUC-ROC 0.770548975899829  при числе деревьев =  11\n"
     ]
    }
   ],
   "source": [
    "best_depth = func_DecisionTreeClassifier(x_train, y_train, x_valid, y_valid, _index, 'balanced')\n",
    "best_n_estimators = func_RandomForestClassifier(x_train, y_train, x_valid, y_valid,best_depth[0], _index, 'balanced')\n",
    "best_iter = func_LogisticRegression(x_train, y_train, x_valid, y_valid, _index, 'balanced')"
   ]
  },
  {
   "cell_type": "code",
   "execution_count": 54,
   "metadata": {},
   "outputs": [
    {
     "name": "stdout",
     "output_type": "stream",
     "text": [
      "Сравнение F1-меры и AUC-ROC\n"
     ]
    },
    {
     "data": {
      "text/html": [
       "<div>\n",
       "<style scoped>\n",
       "    .dataframe tbody tr th:only-of-type {\n",
       "        vertical-align: middle;\n",
       "    }\n",
       "\n",
       "    .dataframe tbody tr th {\n",
       "        vertical-align: top;\n",
       "    }\n",
       "\n",
       "    .dataframe thead th {\n",
       "        text-align: right;\n",
       "    }\n",
       "</style>\n",
       "<table border=\"1\" class=\"dataframe\">\n",
       "  <thead>\n",
       "    <tr style=\"text-align: right;\">\n",
       "      <th></th>\n",
       "      <th>DecisionTreeClassifier</th>\n",
       "      <th>RandomForestClassifier</th>\n",
       "      <th>LogisticRegression</th>\n",
       "    </tr>\n",
       "  </thead>\n",
       "  <tbody>\n",
       "    <tr>\n",
       "      <th>not balance_F1</th>\n",
       "      <td>0.597633</td>\n",
       "      <td>0.587302</td>\n",
       "      <td>0.359401</td>\n",
       "    </tr>\n",
       "    <tr>\n",
       "      <th>not balance_auc</th>\n",
       "      <td>0.852226</td>\n",
       "      <td>0.858046</td>\n",
       "      <td>0.770557</td>\n",
       "    </tr>\n",
       "    <tr>\n",
       "      <th>set weight_F1</th>\n",
       "      <td>0.619224</td>\n",
       "      <td>0.625124</td>\n",
       "      <td>0.524934</td>\n",
       "    </tr>\n",
       "    <tr>\n",
       "      <th>set weight_auc</th>\n",
       "      <td>0.84962</td>\n",
       "      <td>0.85714</td>\n",
       "      <td>0.770549</td>\n",
       "    </tr>\n",
       "  </tbody>\n",
       "</table>\n",
       "</div>"
      ],
      "text/plain": [
       "                DecisionTreeClassifier RandomForestClassifier  \\\n",
       "not balance_F1                0.597633               0.587302   \n",
       "not balance_auc               0.852226               0.858046   \n",
       "set weight_F1                 0.619224               0.625124   \n",
       "set weight_auc                 0.84962                0.85714   \n",
       "\n",
       "                LogisticRegression  \n",
       "not balance_F1            0.359401  \n",
       "not balance_auc           0.770557  \n",
       "set weight_F1             0.524934  \n",
       "set weight_auc            0.770549  "
      ]
     },
     "execution_count": 54,
     "metadata": {},
     "output_type": "execute_result"
    }
   ],
   "source": [
    "print('Сравнение F1-меры и AUC-ROC')\n",
    "compare_model"
   ]
  },
  {
   "cell_type": "markdown",
   "metadata": {},
   "source": [
    "Установка весов позволила улучшить характерстики F1-меры, а вот мера AUC-ROC для Дерева решений показала резульатат хуже 0.8496 против 0.8522 на несбалансированных данных."
   ]
  },
  {
   "cell_type": "markdown",
   "metadata": {},
   "source": [
    "Увеличим выборку и вновь рассчитаем F1-меру"
   ]
  },
  {
   "cell_type": "code",
   "execution_count": 55,
   "metadata": {},
   "outputs": [],
   "source": [
    "_index = 'up target'"
   ]
  },
  {
   "cell_type": "code",
   "execution_count": 56,
   "metadata": {},
   "outputs": [],
   "source": [
    "def upsample(features, target, repeat):\n",
    "    features_zeros = features[target == 0]\n",
    "    features_ones = features[target == 1]\n",
    "    target_zeros = target[target == 0]\n",
    "    target_ones = target[target == 1]\n",
    "\n",
    "    features_upsampled = pd.concat(\n",
    "        [features_zeros] + [features_ones]*repeat)\n",
    "    target_upsampled = pd.concat(\n",
    "        [target_zeros] + [target_ones]*repeat)\n",
    "    \n",
    "    features_up, target_upsampled = shuffle(\n",
    "        features_upsampled, target_upsampled, random_state=12345)\n",
    "    \n",
    "    return features_upsampled, target_upsampled"
   ]
  },
  {
   "cell_type": "code",
   "execution_count": 57,
   "metadata": {},
   "outputs": [
    {
     "name": "stdout",
     "output_type": "stream",
     "text": [
      "1    4908\n",
      "0    4337\n",
      "Name: exited, dtype: int64\n",
      "Лучшее значение F1 меры: 0.3692307692307692  при глубине дерева =  2\n",
      "Лучшее значение AUC-ROC 0.513674788251208  при глубине дерева =  27\n",
      "Лучшее значение F1 меры: 0.39473684210526305  при числе деревьев =  1\n",
      "Лучшее значение AUC-ROC 0.6040975582329849  при числе деревьев =  2\n",
      "Лучшее значение F1 меры: 0.5249343832020996  при числе деревьев =  1\n",
      "Лучшее значение AUC-ROC 0.770548975899829  при числе деревьев =  11\n"
     ]
    }
   ],
   "source": [
    "rep = 4\n",
    "x_upsampled, y_upsampled = upsample(x_train, y_train, rep)\n",
    "print(y_upsampled.value_counts())\n",
    "\n",
    "best_depth = func_DecisionTreeClassifier(x_upsampled, y_upsampled, x_valid, y_valid, _index,'balanced')\n",
    "best_n_estimators = func_RandomForestClassifier(x_upsampled, y_upsampled, x_valid, y_valid, best_depth[0],_index,'balanced')\n",
    "best_iter = func_LogisticRegression(x_upsampled, y_upsampled, x_valid, y_valid, _index,'balanced')"
   ]
  },
  {
   "cell_type": "code",
   "execution_count": 58,
   "metadata": {},
   "outputs": [
    {
     "name": "stdout",
     "output_type": "stream",
     "text": [
      "Сравнение F1-меры и AUC-ROC\n"
     ]
    },
    {
     "data": {
      "text/html": [
       "<div>\n",
       "<style scoped>\n",
       "    .dataframe tbody tr th:only-of-type {\n",
       "        vertical-align: middle;\n",
       "    }\n",
       "\n",
       "    .dataframe tbody tr th {\n",
       "        vertical-align: top;\n",
       "    }\n",
       "\n",
       "    .dataframe thead th {\n",
       "        text-align: right;\n",
       "    }\n",
       "</style>\n",
       "<table border=\"1\" class=\"dataframe\">\n",
       "  <thead>\n",
       "    <tr style=\"text-align: right;\">\n",
       "      <th></th>\n",
       "      <th>DecisionTreeClassifier</th>\n",
       "      <th>RandomForestClassifier</th>\n",
       "      <th>LogisticRegression</th>\n",
       "    </tr>\n",
       "  </thead>\n",
       "  <tbody>\n",
       "    <tr>\n",
       "      <th>not balance_F1</th>\n",
       "      <td>0.597633</td>\n",
       "      <td>0.587302</td>\n",
       "      <td>0.359401</td>\n",
       "    </tr>\n",
       "    <tr>\n",
       "      <th>not balance_auc</th>\n",
       "      <td>0.852226</td>\n",
       "      <td>0.858046</td>\n",
       "      <td>0.770557</td>\n",
       "    </tr>\n",
       "    <tr>\n",
       "      <th>set weight_F1</th>\n",
       "      <td>0.619224</td>\n",
       "      <td>0.625124</td>\n",
       "      <td>0.524934</td>\n",
       "    </tr>\n",
       "    <tr>\n",
       "      <th>set weight_auc</th>\n",
       "      <td>0.84962</td>\n",
       "      <td>0.85714</td>\n",
       "      <td>0.770549</td>\n",
       "    </tr>\n",
       "    <tr>\n",
       "      <th>up target_F1</th>\n",
       "      <td>0.369231</td>\n",
       "      <td>0.394737</td>\n",
       "      <td>0.524934</td>\n",
       "    </tr>\n",
       "    <tr>\n",
       "      <th>up target_auc</th>\n",
       "      <td>0.513675</td>\n",
       "      <td>0.604098</td>\n",
       "      <td>0.770549</td>\n",
       "    </tr>\n",
       "  </tbody>\n",
       "</table>\n",
       "</div>"
      ],
      "text/plain": [
       "                DecisionTreeClassifier RandomForestClassifier  \\\n",
       "not balance_F1                0.597633               0.587302   \n",
       "not balance_auc               0.852226               0.858046   \n",
       "set weight_F1                 0.619224               0.625124   \n",
       "set weight_auc                 0.84962                0.85714   \n",
       "up target_F1                  0.369231               0.394737   \n",
       "up target_auc                 0.513675               0.604098   \n",
       "\n",
       "                LogisticRegression  \n",
       "not balance_F1            0.359401  \n",
       "not balance_auc           0.770557  \n",
       "set weight_F1             0.524934  \n",
       "set weight_auc            0.770549  \n",
       "up target_F1              0.524934  \n",
       "up target_auc             0.770549  "
      ]
     },
     "execution_count": 58,
     "metadata": {},
     "output_type": "execute_result"
    }
   ],
   "source": [
    "print('Сравнение F1-меры и AUC-ROC')\n",
    "compare_model"
   ]
  },
  {
   "cell_type": "markdown",
   "metadata": {},
   "source": [
    "Увеличение выборки привело к ухудшению значений F1-меры и AUC-ROC для Дерева решений и Случайного леса. Логистическая регрессия изменения не ощутила."
   ]
  },
  {
   "cell_type": "markdown",
   "metadata": {},
   "source": [
    "Исследуем к чему приведет уменьшение выборки"
   ]
  },
  {
   "cell_type": "code",
   "execution_count": 59,
   "metadata": {},
   "outputs": [],
   "source": [
    "_index = 'down target'"
   ]
  },
  {
   "cell_type": "code",
   "execution_count": 60,
   "metadata": {},
   "outputs": [],
   "source": [
    "def downsample(features, target, fraction):\n",
    "    features_zeros = features[target == 0]\n",
    "    features_ones = features[target == 1]\n",
    "    target_zeros = target[target == 0]\n",
    "    target_ones = target[target == 1]\n",
    "\n",
    "    features_downsampled = pd.concat(\n",
    "        [features_zeros.sample(frac=fraction, random_state=12345)] + [features_ones])\n",
    "    target_downsampled = pd.concat(\n",
    "        [target_zeros.sample(frac=fraction, random_state=12345)] + [target_ones])\n",
    "    \n",
    "    features_downsampled, target_downsampled = shuffle(\n",
    "        features_downsampled, target_downsampled, random_state=12345)\n",
    "    \n",
    "    return features_downsampled, target_downsampled"
   ]
  },
  {
   "cell_type": "code",
   "execution_count": 61,
   "metadata": {},
   "outputs": [
    {
     "name": "stdout",
     "output_type": "stream",
     "text": [
      "0    1301\n",
      "1    1227\n",
      "Name: exited, dtype: int64\n",
      "Лучшее значение F1 меры: 0.5981818181818183  при глубине дерева =  7\n",
      "Лучшее значение AUC-ROC 0.8410346173308242  при глубине дерева =  6\n",
      "Лучшее значение F1 меры: 0.6266924564796905  при числе деревьев =  15\n",
      "Лучшее значение AUC-ROC 0.8617018285967529  при числе деревьев =  19\n",
      "Лучшее значение F1 меры: 0.5249343832020996  при числе деревьев =  1\n",
      "Лучшее значение AUC-ROC 0.770548975899829  при числе деревьев =  11\n"
     ]
    }
   ],
   "source": [
    "rep = 3\n",
    "x_downsampled, y_downsampled = downsample(x_train, y_train, rep/10)\n",
    "print(y_downsampled.value_counts())\n",
    "\n",
    "best_depth = func_DecisionTreeClassifier(x_downsampled, y_downsampled, x_valid, y_valid, _index,'balanced')\n",
    "best_n_estimators = func_RandomForestClassifier(x_downsampled, y_downsampled, x_valid, y_valid, best_depth[0],_index,'balanced')\n",
    "best_iter = func_LogisticRegression(x_downsampled, y_downsampled, x_valid, y_valid, _index,'balanced')\n"
   ]
  },
  {
   "cell_type": "code",
   "execution_count": 62,
   "metadata": {},
   "outputs": [
    {
     "name": "stdout",
     "output_type": "stream",
     "text": [
      "Сравнение F1-меры и AUC-ROC\n"
     ]
    },
    {
     "data": {
      "text/html": [
       "<div>\n",
       "<style scoped>\n",
       "    .dataframe tbody tr th:only-of-type {\n",
       "        vertical-align: middle;\n",
       "    }\n",
       "\n",
       "    .dataframe tbody tr th {\n",
       "        vertical-align: top;\n",
       "    }\n",
       "\n",
       "    .dataframe thead th {\n",
       "        text-align: right;\n",
       "    }\n",
       "</style>\n",
       "<table border=\"1\" class=\"dataframe\">\n",
       "  <thead>\n",
       "    <tr style=\"text-align: right;\">\n",
       "      <th></th>\n",
       "      <th>DecisionTreeClassifier</th>\n",
       "      <th>RandomForestClassifier</th>\n",
       "      <th>LogisticRegression</th>\n",
       "    </tr>\n",
       "  </thead>\n",
       "  <tbody>\n",
       "    <tr>\n",
       "      <th>not balance_F1</th>\n",
       "      <td>0.597633</td>\n",
       "      <td>0.587302</td>\n",
       "      <td>0.359401</td>\n",
       "    </tr>\n",
       "    <tr>\n",
       "      <th>not balance_auc</th>\n",
       "      <td>0.852226</td>\n",
       "      <td>0.858046</td>\n",
       "      <td>0.770557</td>\n",
       "    </tr>\n",
       "    <tr>\n",
       "      <th>set weight_F1</th>\n",
       "      <td>0.619224</td>\n",
       "      <td>0.625124</td>\n",
       "      <td>0.524934</td>\n",
       "    </tr>\n",
       "    <tr>\n",
       "      <th>set weight_auc</th>\n",
       "      <td>0.84962</td>\n",
       "      <td>0.85714</td>\n",
       "      <td>0.770549</td>\n",
       "    </tr>\n",
       "    <tr>\n",
       "      <th>up target_F1</th>\n",
       "      <td>0.369231</td>\n",
       "      <td>0.394737</td>\n",
       "      <td>0.524934</td>\n",
       "    </tr>\n",
       "    <tr>\n",
       "      <th>up target_auc</th>\n",
       "      <td>0.513675</td>\n",
       "      <td>0.604098</td>\n",
       "      <td>0.770549</td>\n",
       "    </tr>\n",
       "    <tr>\n",
       "      <th>down target_F1</th>\n",
       "      <td>0.598182</td>\n",
       "      <td>0.626692</td>\n",
       "      <td>0.524934</td>\n",
       "    </tr>\n",
       "    <tr>\n",
       "      <th>down target_auc</th>\n",
       "      <td>0.841035</td>\n",
       "      <td>0.861702</td>\n",
       "      <td>0.770549</td>\n",
       "    </tr>\n",
       "  </tbody>\n",
       "</table>\n",
       "</div>"
      ],
      "text/plain": [
       "                DecisionTreeClassifier RandomForestClassifier  \\\n",
       "not balance_F1                0.597633               0.587302   \n",
       "not balance_auc               0.852226               0.858046   \n",
       "set weight_F1                 0.619224               0.625124   \n",
       "set weight_auc                 0.84962                0.85714   \n",
       "up target_F1                  0.369231               0.394737   \n",
       "up target_auc                 0.513675               0.604098   \n",
       "down target_F1                0.598182               0.626692   \n",
       "down target_auc               0.841035               0.861702   \n",
       "\n",
       "                LogisticRegression  \n",
       "not balance_F1            0.359401  \n",
       "not balance_auc           0.770557  \n",
       "set weight_F1             0.524934  \n",
       "set weight_auc            0.770549  \n",
       "up target_F1              0.524934  \n",
       "up target_auc             0.770549  \n",
       "down target_F1            0.524934  \n",
       "down target_auc           0.770549  "
      ]
     },
     "execution_count": 62,
     "metadata": {},
     "output_type": "execute_result"
    }
   ],
   "source": [
    "print('Сравнение F1-меры и AUC-ROC')\n",
    "compare_model"
   ]
  },
  {
   "cell_type": "markdown",
   "metadata": {},
   "source": [
    "Уменьшение числа данных в 0.3 раз (данные, содержащие значение в целевом признаке = 0) привело к улучшению F1-меры и AUC-ROC для Случайного леса.\n",
    "\n",
    "На результаты Логистической регрессии изменения никакого значения не оказали.\n",
    "\n",
    "Для Дерева решений лучшими результатами остаются показатели для данных с установленными весами."
   ]
  },
  {
   "cell_type": "markdown",
   "metadata": {},
   "source": [
    "**Итоги**\n",
    "\n",
    "В результате исследования получили следующие значения F1-меры и AUC-ROC:\n",
    "- Случайный лес - 0,6267/0.8617 при уменьшении данных в 0.4 раза\n",
    "- Дерево решений - 0,6192 на данных с установленными весами, 0.8522 на несбалансированных данных\n",
    "- Логистическая регрессия - 0,5249/0,7705 на всех выборках, кроме несбалансированной\n",
    "\n",
    "Стоит отметить, что на значения AUC-ROC сущемственно повлияло только увеличение целевого признака, показатель ухудшился. Остальные преобразования приводили к изменениям не более чем на 1,3%"
   ]
  },
  {
   "cell_type": "markdown",
   "metadata": {},
   "source": [
    "## Подбор гиперпараметров"
   ]
  },
  {
   "cell_type": "markdown",
   "metadata": {},
   "source": [
    "**Цель**\n",
    "\n",
    "Улучшить модели за счет подбора гиперпараметров."
   ]
  },
  {
   "cell_type": "code",
   "execution_count": 63,
   "metadata": {},
   "outputs": [],
   "source": [
    "def set_params(n_estimators, max_depth, min_samples_split,\n",
    "               min_samples_leaf,max_features,bootstrap):\n",
    "    \n",
    "    param         =   {'n_estimators': n_estimators,\n",
    "                      'max_features': max_features,\n",
    "                      'max_depth': max_depth,\n",
    "                      'min_samples_split': min_samples_split,\n",
    "                      'min_samples_leaf': min_samples_leaf,\n",
    "                      'bootstrap': bootstrap,\n",
    "                      'class_weight': 'balanced',\n",
    "                      'random_state': 12345}\n",
    "    return param"
   ]
  },
  {
   "cell_type": "code",
   "execution_count": 64,
   "metadata": {},
   "outputs": [],
   "source": [
    "def search_gp(param,x_train,y_train,x_valid, y_valid):\n",
    "    \n",
    "    f1_best = 0\n",
    "    auc_best = 0\n",
    "    param_best_f1  = set_params(0, 0, 0, 0, '', '')\n",
    "    \n",
    "    for n_estimators in  param['n_estimators']:\n",
    "        for max_depth in param['n_estimators']:\n",
    "            for min_samples_split in param['min_samples_split']:\n",
    "                for min_samples_leaf in param['min_samples_leaf']:\n",
    "                    for max_features in param['max_features']:\n",
    "                        for bootstrap in param['bootstrap']:\n",
    "                            model = RandomForestClassifier(class_weight = 'balanced',\n",
    "                                                           random_state = 12345,\n",
    "                                                           n_estimators = n_estimators, \n",
    "                                                           max_depth = max_depth,\n",
    "                                                           min_samples_split = min_samples_split,\n",
    "                                                           min_samples_leaf = min_samples_leaf,\n",
    "                                                           max_features = max_features,\n",
    "                                                           bootstrap = bootstrap)\n",
    "                            model.fit(x_train, y_train) \n",
    "                            predicted_valid = model.predict(x_valid)\n",
    "                            f1  = f1_score(y_valid,predicted_valid)\n",
    "\n",
    "                            if f1 > f1_best:\n",
    "                                f1_best = f1\n",
    "                                param_best_f1 = set_params(n_estimators, max_depth, min_samples_split,\n",
    "                                                           min_samples_leaf,max_features,bootstrap)\n",
    "                                \n",
    "    compare_model.loc['gp_F1','RandomForestClassifier'] = f1_best\n",
    "    print('F1 :', f1)\n",
    "    return param_best_f1"
   ]
  },
  {
   "cell_type": "code",
   "execution_count": 65,
   "metadata": {},
   "outputs": [],
   "source": [
    "n_estimators = [int(x) for x in np.linspace(start = 1, stop = 30, num = 6)]\n",
    "max_depth = [int(x) for x in np.linspace(start = 1, stop = 15, num = 5)]\n",
    "min_samples_split = [int(x) for x in np.linspace(start = 2, stop = 10, num = 5)]\n",
    "min_samples_leaf = [int(x) for x in np.linspace(start = 2, stop = 10, num = 5)]\n",
    "max_features = ['sqrt', 'log2']\n",
    "bootstrap = [True, False]\n",
    "class_weight = ['balanced']\n",
    "random_state = [12345]\n",
    "\n",
    "param_dist = {'n_estimators': n_estimators,\n",
    "                'max_features': max_features,\n",
    "                'max_depth': max_depth,\n",
    "                'min_samples_split': min_samples_split,\n",
    "                'min_samples_leaf': min_samples_leaf,\n",
    "                'bootstrap': bootstrap,\n",
    "                'class_weight':class_weight,\n",
    "                'random_state':random_state}"
   ]
  },
  {
   "cell_type": "markdown",
   "metadata": {},
   "source": [
    "Подберем гиперпараметры для Случайного леса"
   ]
  },
  {
   "cell_type": "markdown",
   "metadata": {},
   "source": [
    "Сначала проведем подбор для downsample данных. Подберем параметры для лучшего показателя F1-меры.\n",
    "Как показали предыдущие испытания AUC-ROC при этом тоже улучшается."
   ]
  },
  {
   "cell_type": "code",
   "execution_count": 66,
   "metadata": {},
   "outputs": [
    {
     "name": "stdout",
     "output_type": "stream",
     "text": [
      "F1 : 0.6294896030245747\n",
      "{'n_estimators': 24, 'max_features': 'sqrt', 'max_depth': 24, 'min_samples_split': 2, 'min_samples_leaf': 4, 'bootstrap': False, 'class_weight': 'balanced', 'random_state': 12345}\n"
     ]
    }
   ],
   "source": [
    "print(search_gp(param_dist,x_downsampled, y_downsampled,x_valid,y_valid))"
   ]
  },
  {
   "cell_type": "code",
   "execution_count": 67,
   "metadata": {},
   "outputs": [],
   "source": [
    "def search_gp_gscv(x_train,y_train, model, parameters):\n",
    "    gs = GridSearchCV(model, parameters, cv=5, n_jobs=-1)\n",
    "    gs.fit(x_train, y_train)\n",
    "    print(gs.best_params_)    \n",
    "    return gs"
   ]
  },
  {
   "cell_type": "markdown",
   "metadata": {},
   "source": [
    "Подберем параметры для признаков с выставленными весами"
   ]
  },
  {
   "cell_type": "code",
   "execution_count": 68,
   "metadata": {},
   "outputs": [
    {
     "name": "stdout",
     "output_type": "stream",
     "text": [
      "{'bootstrap': True, 'class_weight': 'balanced', 'max_depth': 15, 'max_features': 'sqrt', 'min_samples_leaf': 2, 'min_samples_split': 2, 'n_estimators': 30, 'random_state': 12345}\n",
      "0.6624203821656052 / 0.8690927792090962\n"
     ]
    }
   ],
   "source": [
    "model_forest = search_gp_gscv(x_train,y_train,RandomForestClassifier(), param_dist).best_estimator_\n",
    "\n",
    "model_forest.fit(x_train,y_train)\n",
    "predicted_valid = model_forest.predict(x_valid)\n",
    "f1  = f1_score(y_valid,predicted_valid)\n",
    "compare_model.loc['gp_balance_F1','RandomForestClassifier'] = f1\n",
    "\n",
    "probabilities_valid = model_forest.predict_proba(x_valid)\n",
    "probabilities_one_valid = probabilities_valid[:, 1]\n",
    "auc_roc = roc_auc_score(y_valid,probabilities_one_valid)\n",
    "compare_model.loc['gp_balance_auc','RandomForestClassifier'] = auc_roc\n",
    "print(f1,'/',auc_roc)"
   ]
  },
  {
   "cell_type": "markdown",
   "metadata": {},
   "source": [
    "А теперь попробуем подобрать гиперпараметры для Дерева решений."
   ]
  },
  {
   "cell_type": "code",
   "execution_count": 77,
   "metadata": {},
   "outputs": [
    {
     "name": "stdout",
     "output_type": "stream",
     "text": [
      "{'class_weight': 'balanced', 'criterion': 'entropy', 'max_depth': 5, 'max_leaf_nodes': 13, 'min_samples_split': 2, 'random_state': 12345}\n",
      "0.5902222222222222 / 0.8302785062987204\n"
     ]
    }
   ],
   "source": [
    "parameters = {'criterion':['gini','entropy'],\n",
    "                  'max_depth':np.arange(1,21).tolist()[0::2],\n",
    "                  'min_samples_split':np.arange(2,11).tolist()[0::2],\n",
    "                  'max_leaf_nodes':np.arange(3,15).tolist()[0::2],\n",
    "                  'class_weight':['balanced'],\n",
    "                  'random_state': [12345,56789]}\n",
    "\n",
    "model_tree = search_gp_gscv(x_train,y_train, DecisionTreeClassifier(), parameters).best_estimator_\n",
    "model_tree.fit(x_train,y_train)\n",
    "predicted_valid = model_tree.predict(x_valid)\n",
    "f1 = f1_score(y_valid,predicted_valid)\n",
    "compare_model.loc['gp_balance_F1','DecisionTreeClassifier'] = f1\n",
    "\n",
    "probabilities_valid = model_tree.predict_proba(x_valid)\n",
    "probabilities_one_valid = probabilities_valid[:, 1]\n",
    "auc_roc = roc_auc_score(y_valid,probabilities_one_valid)\n",
    "compare_model.loc['gp_balance_auc','DecisionTreeClassifier'] = auc_roc\n",
    "print(f1,'/',auc_roc)"
   ]
  },
  {
   "cell_type": "code",
   "execution_count": 78,
   "metadata": {},
   "outputs": [
    {
     "data": {
      "text/html": [
       "<style  type=\"text/css\" >\n",
       "</style><table id=\"T_4e8ca_\" ><thead>    <tr>        <th class=\"blank level0\" ></th>        <th class=\"col_heading level0 col0\" >DecisionTreeClassifier</th>        <th class=\"col_heading level0 col1\" >RandomForestClassifier</th>        <th class=\"col_heading level0 col2\" >LogisticRegression</th>    </tr></thead><tbody>\n",
       "                <tr>\n",
       "                        <th id=\"T_4e8ca_level0_row0\" class=\"row_heading level0 row0\" >not balance_F1</th>\n",
       "                        <td id=\"T_4e8ca_row0_col0\" class=\"data row0 col0\" >0.597633</td>\n",
       "                        <td id=\"T_4e8ca_row0_col1\" class=\"data row0 col1\" >0.587302</td>\n",
       "                        <td id=\"T_4e8ca_row0_col2\" class=\"data row0 col2\" >0.359401</td>\n",
       "            </tr>\n",
       "            <tr>\n",
       "                        <th id=\"T_4e8ca_level0_row1\" class=\"row_heading level0 row1\" >not balance_auc</th>\n",
       "                        <td id=\"T_4e8ca_row1_col0\" class=\"data row1 col0\" >0.852226</td>\n",
       "                        <td id=\"T_4e8ca_row1_col1\" class=\"data row1 col1\" >0.858046</td>\n",
       "                        <td id=\"T_4e8ca_row1_col2\" class=\"data row1 col2\" >0.770557</td>\n",
       "            </tr>\n",
       "            <tr>\n",
       "                        <th id=\"T_4e8ca_level0_row2\" class=\"row_heading level0 row2\" >set weight_F1</th>\n",
       "                        <td id=\"T_4e8ca_row2_col0\" class=\"data row2 col0\" >0.619224</td>\n",
       "                        <td id=\"T_4e8ca_row2_col1\" class=\"data row2 col1\" >0.625124</td>\n",
       "                        <td id=\"T_4e8ca_row2_col2\" class=\"data row2 col2\" >0.524934</td>\n",
       "            </tr>\n",
       "            <tr>\n",
       "                        <th id=\"T_4e8ca_level0_row3\" class=\"row_heading level0 row3\" >set weight_auc</th>\n",
       "                        <td id=\"T_4e8ca_row3_col0\" class=\"data row3 col0\" >0.849620</td>\n",
       "                        <td id=\"T_4e8ca_row3_col1\" class=\"data row3 col1\" >0.857140</td>\n",
       "                        <td id=\"T_4e8ca_row3_col2\" class=\"data row3 col2\" >0.770549</td>\n",
       "            </tr>\n",
       "            <tr>\n",
       "                        <th id=\"T_4e8ca_level0_row4\" class=\"row_heading level0 row4\" >up target_F1</th>\n",
       "                        <td id=\"T_4e8ca_row4_col0\" class=\"data row4 col0\" >0.369231</td>\n",
       "                        <td id=\"T_4e8ca_row4_col1\" class=\"data row4 col1\" >0.394737</td>\n",
       "                        <td id=\"T_4e8ca_row4_col2\" class=\"data row4 col2\" >0.524934</td>\n",
       "            </tr>\n",
       "            <tr>\n",
       "                        <th id=\"T_4e8ca_level0_row5\" class=\"row_heading level0 row5\" >up target_auc</th>\n",
       "                        <td id=\"T_4e8ca_row5_col0\" class=\"data row5 col0\" >0.513675</td>\n",
       "                        <td id=\"T_4e8ca_row5_col1\" class=\"data row5 col1\" >0.604098</td>\n",
       "                        <td id=\"T_4e8ca_row5_col2\" class=\"data row5 col2\" >0.770549</td>\n",
       "            </tr>\n",
       "            <tr>\n",
       "                        <th id=\"T_4e8ca_level0_row6\" class=\"row_heading level0 row6\" >down target_F1</th>\n",
       "                        <td id=\"T_4e8ca_row6_col0\" class=\"data row6 col0\" >0.598182</td>\n",
       "                        <td id=\"T_4e8ca_row6_col1\" class=\"data row6 col1\" >0.626692</td>\n",
       "                        <td id=\"T_4e8ca_row6_col2\" class=\"data row6 col2\" >0.524934</td>\n",
       "            </tr>\n",
       "            <tr>\n",
       "                        <th id=\"T_4e8ca_level0_row7\" class=\"row_heading level0 row7\" >down target_auc</th>\n",
       "                        <td id=\"T_4e8ca_row7_col0\" class=\"data row7 col0\" >0.841035</td>\n",
       "                        <td id=\"T_4e8ca_row7_col1\" class=\"data row7 col1\" >0.861702</td>\n",
       "                        <td id=\"T_4e8ca_row7_col2\" class=\"data row7 col2\" >0.770549</td>\n",
       "            </tr>\n",
       "            <tr>\n",
       "                        <th id=\"T_4e8ca_level0_row8\" class=\"row_heading level0 row8\" >gp_F1</th>\n",
       "                        <td id=\"T_4e8ca_row8_col0\" class=\"data row8 col0\" >nan</td>\n",
       "                        <td id=\"T_4e8ca_row8_col1\" class=\"data row8 col1\" >0.644359</td>\n",
       "                        <td id=\"T_4e8ca_row8_col2\" class=\"data row8 col2\" >nan</td>\n",
       "            </tr>\n",
       "            <tr>\n",
       "                        <th id=\"T_4e8ca_level0_row9\" class=\"row_heading level0 row9\" >gp_balance_F1</th>\n",
       "                        <td id=\"T_4e8ca_row9_col0\" class=\"data row9 col0\" >0.590222</td>\n",
       "                        <td id=\"T_4e8ca_row9_col1\" class=\"data row9 col1\" >0.662420</td>\n",
       "                        <td id=\"T_4e8ca_row9_col2\" class=\"data row9 col2\" >nan</td>\n",
       "            </tr>\n",
       "            <tr>\n",
       "                        <th id=\"T_4e8ca_level0_row10\" class=\"row_heading level0 row10\" >gp_balance_auc</th>\n",
       "                        <td id=\"T_4e8ca_row10_col0\" class=\"data row10 col0\" >0.830279</td>\n",
       "                        <td id=\"T_4e8ca_row10_col1\" class=\"data row10 col1\" >0.869093</td>\n",
       "                        <td id=\"T_4e8ca_row10_col2\" class=\"data row10 col2\" >nan</td>\n",
       "            </tr>\n",
       "    </tbody></table>"
      ],
      "text/plain": [
       "<pandas.io.formats.style.Styler at 0x7f73a4a06130>"
      ]
     },
     "execution_count": 78,
     "metadata": {},
     "output_type": "execute_result"
    }
   ],
   "source": [
    "compare_model.style.background_gradient(cmap='red')"
   ]
  },
  {
   "cell_type": "markdown",
   "metadata": {},
   "source": [
    "**Итоги**\n",
    "\n",
    "Для дальнейшего тестирования оставляем модель Случайный лес, с подобранными гиперпараметрами, обученную на данных, с выставленными весами. На валидационной выборке она показала F1-меру = 0.6624, AUC-ROC = 0.8691.\n"
   ]
  },
  {
   "cell_type": "markdown",
   "metadata": {},
   "source": [
    "## Тестирование модели"
   ]
  },
  {
   "cell_type": "markdown",
   "metadata": {},
   "source": [
    "**Цель**\n",
    "\n",
    "Изучить значения F1-меры и AUC-ROC на тестовой модели."
   ]
  },
  {
   "cell_type": "code",
   "execution_count": 79,
   "metadata": {},
   "outputs": [],
   "source": [
    "def plot_roc(y_test, probabilities_one, title):\n",
    "    # рассчитываем roc-кривую\n",
    "    fpr, tpr, treshold = roc_curve(y_test, probabilities_one)\n",
    "    roc_auc = auc(fpr, tpr)\n",
    "    # строим график\n",
    "    plt.plot(fpr, tpr, color='darkorange',\n",
    "             label='ROC кривая (area = %0.2f)' % roc_auc)\n",
    "    plt.plot([0, 1], [0, 1], color='navy', linestyle='--')\n",
    "    plt.xlim([0.0, 1.0])\n",
    "    plt.ylim([0.0, 1.05])\n",
    "    plt.xlabel('False Positive Rate')\n",
    "    plt.ylabel('True Positive Rate')\n",
    "    plt.title(title)\n",
    "    plt.legend(loc=\"lower right\")\n",
    "    plt.show()"
   ]
  },
  {
   "cell_type": "markdown",
   "metadata": {},
   "source": [
    "Исследуем модель"
   ]
  },
  {
   "cell_type": "code",
   "execution_count": 81,
   "metadata": {},
   "outputs": [
    {
     "name": "stdout",
     "output_type": "stream",
     "text": [
      "F1-мера: 0.6550802139037434\n"
     ]
    },
    {
     "data": {
      "image/png": "[encoded data removed]",
      "text/plain": [
       "<Figure size 432x288 with 1 Axes>"
      ]
     },
     "metadata": {},
     "output_type": "display_data"
    }
   ],
   "source": [
    "predicted = model_forest.predict(x_test)\n",
    "f1  = f1_score(y_test,predicted)\n",
    "print('F1-мера:',f1)\n",
    "\n",
    "probabilities = model_forest.predict_proba(x_test)\n",
    "probabilities_one = probabilities[:, 1]\n",
    "auc_roc = roc_auc_score(y_test,probabilities_one)\n",
    "plot_roc(y_test, probabilities_one, 'ROC-кривая модели DecisionTreeClassifier')"
   ]
  },
  {
   "cell_type": "markdown",
   "metadata": {},
   "source": [
    "Итак, на тестовых данных получили следующие значения:\n",
    "\n",
    "F1-мера = 0.6551, AUC-ROC = 0.87"
   ]
  },
  {
   "cell_type": "code",
   "execution_count": 82,
   "metadata": {},
   "outputs": [],
   "source": [
    "##Определим функцию для изучения значимости признаков\n",
    "def feature_importance(model, features):\n",
    "    feats = {}\n",
    "    for feature, importance in zip(features.columns, model.feature_importances_):\n",
    "        feats[feature] = importance\n",
    "    importances = pd.DataFrame.from_dict(feats, orient='index').rename(columns={0: 'Gini-Importance'})\n",
    "    importances = importances.sort_values(by='Gini-Importance', ascending=False)\n",
    "    importances = importances.reset_index()\n",
    "    importances = importances.rename(columns={'index': 'Features'})\n",
    "    sns.set(font_scale = 5)\n",
    "    sns.set(style=\"whitegrid\", color_codes=True, font_scale = 1.7)\n",
    "    fig, ax = plt.subplots()\n",
    "    fig.set_size_inches(20,10)\n",
    "    sns.barplot(x=importances['Gini-Importance'], y=importances['Features'], data=importances, color='skyblue')\n",
    "    plt.xlabel('Значимость', fontsize=16, weight = 'bold')\n",
    "    plt.ylabel('Признаки', fontsize=14, weight = 'bold')\n",
    "    plt.title('Значимость признаков.', fontsize=14, weight = 'bold')\n",
    "    display(plt.show())\n",
    "    display(importances)"
   ]
  },
  {
   "cell_type": "code",
   "execution_count": 83,
   "metadata": {},
   "outputs": [
    {
     "data": {
      "image/png": "[encoded data removed]",
      "text/plain": [
       "<Figure size 1440x720 with 1 Axes>"
      ]
     },
     "metadata": {},
     "output_type": "display_data"
    },
    {
     "data": {
      "text/plain": [
       "None"
      ]
     },
     "metadata": {},
     "output_type": "display_data"
    },
    {
     "data": {
      "text/html": [
       "<div>\n",
       "<style scoped>\n",
       "    .dataframe tbody tr th:only-of-type {\n",
       "        vertical-align: middle;\n",
       "    }\n",
       "\n",
       "    .dataframe tbody tr th {\n",
       "        vertical-align: top;\n",
       "    }\n",
       "\n",
       "    .dataframe thead th {\n",
       "        text-align: right;\n",
       "    }\n",
       "</style>\n",
       "<table border=\"1\" class=\"dataframe\">\n",
       "  <thead>\n",
       "    <tr style=\"text-align: right;\">\n",
       "      <th></th>\n",
       "      <th>Features</th>\n",
       "      <th>Gini-Importance</th>\n",
       "    </tr>\n",
       "  </thead>\n",
       "  <tbody>\n",
       "    <tr>\n",
       "      <th>0</th>\n",
       "      <td>age</td>\n",
       "      <td>0.275571</td>\n",
       "    </tr>\n",
       "    <tr>\n",
       "      <th>1</th>\n",
       "      <td>num_of_products</td>\n",
       "      <td>0.136715</td>\n",
       "    </tr>\n",
       "    <tr>\n",
       "      <th>2</th>\n",
       "      <td>balance</td>\n",
       "      <td>0.125481</td>\n",
       "    </tr>\n",
       "    <tr>\n",
       "      <th>3</th>\n",
       "      <td>estimated_salary</td>\n",
       "      <td>0.114654</td>\n",
       "    </tr>\n",
       "    <tr>\n",
       "      <th>4</th>\n",
       "      <td>credit_score</td>\n",
       "      <td>0.114208</td>\n",
       "    </tr>\n",
       "    <tr>\n",
       "      <th>5</th>\n",
       "      <td>tenure</td>\n",
       "      <td>0.110189</td>\n",
       "    </tr>\n",
       "    <tr>\n",
       "      <th>6</th>\n",
       "      <td>is_active_member</td>\n",
       "      <td>0.041734</td>\n",
       "    </tr>\n",
       "    <tr>\n",
       "      <th>7</th>\n",
       "      <td>geography_Germany</td>\n",
       "      <td>0.034114</td>\n",
       "    </tr>\n",
       "    <tr>\n",
       "      <th>8</th>\n",
       "      <td>gender_Male</td>\n",
       "      <td>0.019772</td>\n",
       "    </tr>\n",
       "    <tr>\n",
       "      <th>9</th>\n",
       "      <td>has_cr_card</td>\n",
       "      <td>0.015220</td>\n",
       "    </tr>\n",
       "    <tr>\n",
       "      <th>10</th>\n",
       "      <td>geography_Spain</td>\n",
       "      <td>0.012342</td>\n",
       "    </tr>\n",
       "  </tbody>\n",
       "</table>\n",
       "</div>"
      ],
      "text/plain": [
       "             Features  Gini-Importance\n",
       "0                 age         0.275571\n",
       "1     num_of_products         0.136715\n",
       "2             balance         0.125481\n",
       "3    estimated_salary         0.114654\n",
       "4        credit_score         0.114208\n",
       "5              tenure         0.110189\n",
       "6    is_active_member         0.041734\n",
       "7   geography_Germany         0.034114\n",
       "8         gender_Male         0.019772\n",
       "9         has_cr_card         0.015220\n",
       "10    geography_Spain         0.012342"
      ]
     },
     "metadata": {},
     "output_type": "display_data"
    }
   ],
   "source": [
    "feature_importance(model_forest, x_train)"
   ]
  },
  {
   "cell_type": "code",
   "execution_count": 84,
   "metadata": {},
   "outputs": [],
   "source": [
    "def get_metrics(model, features, target):\n",
    "    #предскажем результат\n",
    "    predictions_test = model.predict(features)\n",
    "    #вычислим матрицу ошибок\n",
    "    r = sklearn.metrics.confusion_matrix(target, predictions_test)\n",
    "    print(r)\n",
    "    acc = sklearn.metrics.accuracy_score(target, predictions_test)\n",
    "    print(f'accuarace модели  {acc:.2%}')\n",
    "    precision = sklearn.metrics.precision_score(target, predictions_test)\n",
    "    print(f'precision модели для оценки того, что клиент уйдет {precision:.2%}')\n",
    "    precision = sklearn.metrics.precision_score(target, predictions_test,pos_label = 0)\n",
    "    print(f'precision модели для клиентов, которые останутся {precision:.2%}')\n",
    "    recall = sklearn.metrics.recall_score(target, predictions_test)\n",
    "    print(f'Процент верно предсказания, что клиент уйдет (recall) {recall:.2%}')"
   ]
  },
  {
   "cell_type": "code",
   "execution_count": 85,
   "metadata": {},
   "outputs": [
    {
     "name": "stdout",
     "output_type": "stream",
     "text": [
      "[[1352  115]\n",
      " [ 143  245]]\n",
      "accuarace модели  86.09%\n",
      "precision модели для оценки того, что клиент уйдет 68.06%\n",
      "precision модели для клиентов, которые останутся 90.43%\n",
      "Процент верно предсказания, что клиент уйдет (recall) 63.14%\n"
     ]
    }
   ],
   "source": [
    "get_metrics(model_forest, x_test, y_test)"
   ]
  },
  {
   "cell_type": "markdown",
   "metadata": {},
   "source": [
    "## Итоги"
   ]
  },
  {
   "cell_type": "markdown",
   "metadata": {},
   "source": [
    "Таким образом мы добились значения F1-меры  = 0.6551 (больше необходимого минимума в 0.59), при этом модель показала значние AUC-ROC = 0.87, что считается очень хорошим результатом предсказания.\n",
    "\n",
    "Предлагается применять модель Случайного леса, обученную на данных с установленными весами и следущими ГП:\n",
    "-'random_state': 12345, \n",
    "-'n_estimators': 30, \n",
    "-'min_samples_split': 2, \n",
    "-'min_samples_leaf': 2, \n",
    "-'max_features': 'sqrt', \n",
    "-'max_depth': 15, \n",
    "-'class_weight': 'balanced'\n",
    "-'bootstrap': True\n",
    "\n",
    "При этом наиболее значимыми являются признаки (указано значение Gini-Importance)\n",
    "- age - 0.275571\n",
    "- num_of_products -\t0.136715\n",
    "- balance - 0.125481\n",
    "- estimated_salary - 0.114654\n",
    "- credit_score - 0.114208\n",
    "- tenure - 0.110189\n",
    "\n",
    "Модель будет достоверно предсказывать, что клиент уйдет в 63 случаях из 100, точнее будет работать для предсказания того, что клиент останется - 90 случаев из 100."
   ]
  }
 ],
 "metadata": {
  "ExecuteTimeLog": [
   {
    "duration": 45,
    "start_time": "2023-06-20T10:00:02.991Z"
   },
   {
    "duration": 1842,
    "start_time": "2023-06-20T10:01:26.923Z"
   },
   {
    "duration": 149,
    "start_time": "2023-06-20T10:01:29.188Z"
   },
   {
    "duration": 13,
    "start_time": "2023-06-20T10:01:31.727Z"
   },
   {
    "duration": 15,
    "start_time": "2023-06-20T10:03:23.103Z"
   },
   {
    "duration": 5,
    "start_time": "2023-06-20T10:17:35.204Z"
   },
   {
    "duration": 57,
    "start_time": "2023-06-20T10:17:35.248Z"
   },
   {
    "duration": 16,
    "start_time": "2023-06-20T10:17:35.307Z"
   },
   {
    "duration": 12,
    "start_time": "2023-06-20T10:17:35.391Z"
   },
   {
    "duration": 7,
    "start_time": "2023-06-20T10:19:04.803Z"
   },
   {
    "duration": 6,
    "start_time": "2023-06-20T10:21:10.925Z"
   },
   {
    "duration": 10,
    "start_time": "2023-06-20T10:24:20.012Z"
   },
   {
    "duration": 13,
    "start_time": "2023-06-20T10:25:02.298Z"
   },
   {
    "duration": 12,
    "start_time": "2023-06-20T10:25:38.118Z"
   },
   {
    "duration": 5,
    "start_time": "2023-06-20T10:26:15.734Z"
   },
   {
    "duration": 24,
    "start_time": "2023-06-20T10:28:20.862Z"
   },
   {
    "duration": 271,
    "start_time": "2023-06-20T10:32:54.797Z"
   },
   {
    "duration": 76,
    "start_time": "2023-06-20T10:33:20.498Z"
   },
   {
    "duration": 6,
    "start_time": "2023-06-20T10:34:14.815Z"
   },
   {
    "duration": 16,
    "start_time": "2023-06-20T10:34:25.589Z"
   },
   {
    "duration": 11,
    "start_time": "2023-06-20T10:42:22.389Z"
   },
   {
    "duration": 8,
    "start_time": "2023-06-20T10:42:42.191Z"
   },
   {
    "duration": 32,
    "start_time": "2023-06-20T10:43:21.949Z"
   },
   {
    "duration": 11,
    "start_time": "2023-06-20T10:44:13.925Z"
   },
   {
    "duration": 13,
    "start_time": "2023-06-20T10:44:40.061Z"
   },
   {
    "duration": 13,
    "start_time": "2023-06-20T10:44:49.456Z"
   },
   {
    "duration": 25,
    "start_time": "2023-06-20T10:45:28.791Z"
   },
   {
    "duration": 11,
    "start_time": "2023-06-20T10:45:46.481Z"
   },
   {
    "duration": 16,
    "start_time": "2023-06-20T10:47:42.385Z"
   },
   {
    "duration": 8,
    "start_time": "2023-06-20T10:48:13.437Z"
   },
   {
    "duration": 9,
    "start_time": "2023-06-20T10:48:27.992Z"
   },
   {
    "duration": 145,
    "start_time": "2023-06-20T10:54:26.407Z"
   },
   {
    "duration": 6,
    "start_time": "2023-06-20T10:55:20.629Z"
   },
   {
    "duration": 6,
    "start_time": "2023-06-20T10:56:15.210Z"
   },
   {
    "duration": 20,
    "start_time": "2023-06-20T10:58:55.969Z"
   },
   {
    "duration": 18,
    "start_time": "2023-06-20T10:59:11.423Z"
   },
   {
    "duration": 33,
    "start_time": "2023-06-20T10:59:31.512Z"
   },
   {
    "duration": 9,
    "start_time": "2023-06-20T11:00:04.200Z"
   },
   {
    "duration": 132,
    "start_time": "2023-06-20T11:00:23.495Z"
   },
   {
    "duration": 5,
    "start_time": "2023-06-20T11:06:57.026Z"
   },
   {
    "duration": 4,
    "start_time": "2023-06-20T11:07:04.593Z"
   },
   {
    "duration": 305,
    "start_time": "2023-06-20T11:07:40.334Z"
   },
   {
    "duration": 174,
    "start_time": "2023-06-20T11:07:51.257Z"
   },
   {
    "duration": 151,
    "start_time": "2023-06-20T11:07:55.198Z"
   },
   {
    "duration": 122,
    "start_time": "2023-06-20T11:07:59.680Z"
   },
   {
    "duration": 135,
    "start_time": "2023-06-20T11:08:05.238Z"
   },
   {
    "duration": 178,
    "start_time": "2023-06-20T11:08:27.282Z"
   },
   {
    "duration": 18,
    "start_time": "2023-06-20T11:10:43.842Z"
   },
   {
    "duration": 35,
    "start_time": "2023-06-20T11:15:56.532Z"
   },
   {
    "duration": 135,
    "start_time": "2023-06-20T11:18:59.124Z"
   },
   {
    "duration": 140,
    "start_time": "2023-06-20T11:19:05.808Z"
   },
   {
    "duration": 171,
    "start_time": "2023-06-20T11:19:18.246Z"
   },
   {
    "duration": 134,
    "start_time": "2023-06-20T11:20:55.400Z"
   },
   {
    "duration": 10,
    "start_time": "2023-06-20T11:55:03.801Z"
   },
   {
    "duration": 24,
    "start_time": "2023-06-20T11:57:06.301Z"
   },
   {
    "duration": 10,
    "start_time": "2023-06-20T11:57:38.649Z"
   },
   {
    "duration": 12,
    "start_time": "2023-06-20T11:58:03.912Z"
   },
   {
    "duration": 143,
    "start_time": "2023-06-20T11:58:37.984Z"
   },
   {
    "duration": 8,
    "start_time": "2023-06-20T11:58:43.647Z"
   },
   {
    "duration": 13,
    "start_time": "2023-06-20T11:59:18.983Z"
   },
   {
    "duration": 13,
    "start_time": "2023-06-20T11:59:28.999Z"
   },
   {
    "duration": 10,
    "start_time": "2023-06-20T11:59:43.141Z"
   },
   {
    "duration": 15,
    "start_time": "2023-06-20T11:59:58.267Z"
   },
   {
    "duration": 13,
    "start_time": "2023-06-20T12:00:18.133Z"
   },
   {
    "duration": 10,
    "start_time": "2023-06-20T12:00:35.795Z"
   },
   {
    "duration": 110,
    "start_time": "2023-06-20T12:02:35.637Z"
   },
   {
    "duration": 17,
    "start_time": "2023-06-20T12:03:36.349Z"
   },
   {
    "duration": 13,
    "start_time": "2023-06-20T12:04:35.787Z"
   },
   {
    "duration": 12,
    "start_time": "2023-06-20T12:05:17.594Z"
   },
   {
    "duration": 23,
    "start_time": "2023-06-20T12:08:11.826Z"
   },
   {
    "duration": 38,
    "start_time": "2023-06-20T12:08:31.413Z"
   },
   {
    "duration": 33,
    "start_time": "2023-06-20T12:08:45.543Z"
   },
   {
    "duration": 45,
    "start_time": "2023-06-21T08:41:02.004Z"
   },
   {
    "duration": 1712,
    "start_time": "2023-06-21T08:41:06.019Z"
   },
   {
    "duration": 158,
    "start_time": "2023-06-21T08:41:07.733Z"
   },
   {
    "duration": 13,
    "start_time": "2023-06-21T08:41:07.893Z"
   },
   {
    "duration": 23,
    "start_time": "2023-06-21T08:41:07.907Z"
   },
   {
    "duration": 11,
    "start_time": "2023-06-21T08:41:07.933Z"
   },
   {
    "duration": 13,
    "start_time": "2023-06-21T08:41:07.946Z"
   },
   {
    "duration": 35,
    "start_time": "2023-06-21T08:41:07.960Z"
   },
   {
    "duration": 13,
    "start_time": "2023-06-21T08:41:07.997Z"
   },
   {
    "duration": 151,
    "start_time": "2023-06-21T08:41:08.011Z"
   },
   {
    "duration": 6,
    "start_time": "2023-06-21T08:41:08.163Z"
   },
   {
    "duration": 19,
    "start_time": "2023-06-21T08:41:08.171Z"
   },
   {
    "duration": 29,
    "start_time": "2023-06-21T08:41:08.192Z"
   },
   {
    "duration": 4,
    "start_time": "2023-06-21T08:41:11.328Z"
   },
   {
    "duration": 69,
    "start_time": "2023-06-21T08:41:29.450Z"
   },
   {
    "duration": 4,
    "start_time": "2023-06-21T08:41:42.205Z"
   },
   {
    "duration": 4,
    "start_time": "2023-06-21T08:43:43.335Z"
   },
   {
    "duration": 10,
    "start_time": "2023-06-21T08:44:09.161Z"
   },
   {
    "duration": 26,
    "start_time": "2023-06-21T08:44:44.445Z"
   },
   {
    "duration": 12,
    "start_time": "2023-06-21T08:44:56.701Z"
   },
   {
    "duration": 12,
    "start_time": "2023-06-21T08:45:11.522Z"
   },
   {
    "duration": 12,
    "start_time": "2023-06-21T08:45:27.529Z"
   },
   {
    "duration": 10,
    "start_time": "2023-06-21T08:46:44.112Z"
   },
   {
    "duration": 5,
    "start_time": "2023-06-21T08:47:44.701Z"
   },
   {
    "duration": 4,
    "start_time": "2023-06-21T08:49:05.164Z"
   },
   {
    "duration": 4,
    "start_time": "2023-06-21T08:50:37.244Z"
   },
   {
    "duration": 11,
    "start_time": "2023-06-21T08:51:53.849Z"
   },
   {
    "duration": 111,
    "start_time": "2023-06-21T09:03:08.017Z"
   },
   {
    "duration": 141,
    "start_time": "2023-06-21T09:03:19.013Z"
   },
   {
    "duration": 6,
    "start_time": "2023-06-21T09:03:29.752Z"
   },
   {
    "duration": 6,
    "start_time": "2023-06-21T09:03:56.521Z"
   },
   {
    "duration": 4,
    "start_time": "2023-06-21T09:05:30.713Z"
   },
   {
    "duration": 16055,
    "start_time": "2023-06-21T09:06:02.437Z"
   },
   {
    "duration": 16732,
    "start_time": "2023-06-21T09:06:54.629Z"
   },
   {
    "duration": 14628,
    "start_time": "2023-06-21T09:07:16.717Z"
   },
   {
    "duration": 14839,
    "start_time": "2023-06-21T09:07:39.341Z"
   },
   {
    "duration": 18284,
    "start_time": "2023-06-21T09:08:04.932Z"
   },
   {
    "duration": 4,
    "start_time": "2023-06-21T09:09:07.829Z"
   },
   {
    "duration": 3,
    "start_time": "2023-06-21T09:12:49.353Z"
   },
   {
    "duration": 1816,
    "start_time": "2023-06-21T09:12:59.941Z"
   },
   {
    "duration": 1262,
    "start_time": "2023-06-21T09:13:14.769Z"
   },
   {
    "duration": 1577,
    "start_time": "2023-06-21T09:13:46.809Z"
   },
   {
    "duration": 2066,
    "start_time": "2023-06-21T09:14:38.630Z"
   },
   {
    "duration": 15221,
    "start_time": "2023-06-21T09:14:48.552Z"
   },
   {
    "duration": 2,
    "start_time": "2023-06-21T09:17:08.420Z"
   },
   {
    "duration": 136522,
    "start_time": "2023-06-21T09:17:10.162Z"
   },
   {
    "duration": 1392,
    "start_time": "2023-06-21T09:20:41.309Z"
   },
   {
    "duration": 1518,
    "start_time": "2023-06-21T09:22:29.101Z"
   },
   {
    "duration": 3,
    "start_time": "2023-06-21T09:22:52.639Z"
   },
   {
    "duration": 136859,
    "start_time": "2023-06-21T09:22:54.264Z"
   },
   {
    "duration": 1002,
    "start_time": "2023-06-21T09:27:40.102Z"
   },
   {
    "duration": 714,
    "start_time": "2023-06-21T09:28:01.030Z"
   },
   {
    "duration": 9,
    "start_time": "2023-06-21T09:29:11.027Z"
   },
   {
    "duration": 9,
    "start_time": "2023-06-21T09:29:20.721Z"
   },
   {
    "duration": 10,
    "start_time": "2023-06-21T09:29:26.828Z"
   },
   {
    "duration": 265,
    "start_time": "2023-06-21T09:29:35.011Z"
   },
   {
    "duration": 449,
    "start_time": "2023-06-21T09:29:46.763Z"
   },
   {
    "duration": 413,
    "start_time": "2023-06-21T09:30:08.756Z"
   },
   {
    "duration": 830,
    "start_time": "2023-06-21T09:31:01.004Z"
   },
   {
    "duration": 11,
    "start_time": "2023-06-21T09:32:58.133Z"
   },
   {
    "duration": 383,
    "start_time": "2023-06-21T09:33:26.777Z"
   },
   {
    "duration": 340,
    "start_time": "2023-06-21T09:33:39.333Z"
   },
   {
    "duration": 333,
    "start_time": "2023-06-21T09:34:12.641Z"
   },
   {
    "duration": 21,
    "start_time": "2023-06-21T09:34:52.609Z"
   },
   {
    "duration": 946,
    "start_time": "2023-06-21T09:35:48.506Z"
   },
   {
    "duration": 1642,
    "start_time": "2023-06-21T09:35:59.810Z"
   },
   {
    "duration": 1593,
    "start_time": "2023-06-21T09:36:53.322Z"
   },
   {
    "duration": 10,
    "start_time": "2023-06-21T09:39:50.510Z"
   },
   {
    "duration": 17,
    "start_time": "2023-06-21T09:40:28.438Z"
   },
   {
    "duration": 9,
    "start_time": "2023-06-21T09:41:38.721Z"
   },
   {
    "duration": 140,
    "start_time": "2023-06-21T09:43:33.722Z"
   },
   {
    "duration": 280,
    "start_time": "2023-06-21T09:44:01.959Z"
   },
   {
    "duration": 11,
    "start_time": "2023-06-21T09:44:22.224Z"
   },
   {
    "duration": 266,
    "start_time": "2023-06-21T09:44:33.030Z"
   },
   {
    "duration": 13,
    "start_time": "2023-06-21T09:46:40.730Z"
   },
   {
    "duration": 14,
    "start_time": "2023-06-21T09:46:53.211Z"
   },
   {
    "duration": 13,
    "start_time": "2023-06-21T09:47:04.049Z"
   },
   {
    "duration": 299,
    "start_time": "2023-06-21T09:47:50.014Z"
   },
   {
    "duration": 18,
    "start_time": "2023-06-21T09:48:04.618Z"
   },
   {
    "duration": 13,
    "start_time": "2023-06-21T09:48:12.726Z"
   },
   {
    "duration": 14,
    "start_time": "2023-06-21T09:48:19.740Z"
   },
   {
    "duration": 153,
    "start_time": "2023-06-21T09:48:27.429Z"
   },
   {
    "duration": 66,
    "start_time": "2023-06-21T09:49:35.248Z"
   },
   {
    "duration": 2,
    "start_time": "2023-06-21T09:51:13.597Z"
   },
   {
    "duration": 1510,
    "start_time": "2023-06-21T09:51:16.393Z"
   },
   {
    "duration": 2210,
    "start_time": "2023-06-21T09:53:16.526Z"
   },
   {
    "duration": 107772,
    "start_time": "2023-06-21T10:03:13.412Z"
   },
   {
    "duration": 1112,
    "start_time": "2023-06-21T10:06:06.686Z"
   },
   {
    "duration": 1647,
    "start_time": "2023-06-21T10:06:34.398Z"
   },
   {
    "duration": 39,
    "start_time": "2023-06-21T10:06:36.047Z"
   },
   {
    "duration": 14,
    "start_time": "2023-06-21T10:06:36.087Z"
   },
   {
    "duration": 32,
    "start_time": "2023-06-21T10:06:36.102Z"
   },
   {
    "duration": 17,
    "start_time": "2023-06-21T10:06:36.136Z"
   },
   {
    "duration": 39,
    "start_time": "2023-06-21T10:06:36.155Z"
   },
   {
    "duration": 30,
    "start_time": "2023-06-21T10:06:36.196Z"
   },
   {
    "duration": 18,
    "start_time": "2023-06-21T10:06:36.227Z"
   },
   {
    "duration": 18,
    "start_time": "2023-06-21T10:06:36.247Z"
   },
   {
    "duration": 11,
    "start_time": "2023-06-21T10:06:36.267Z"
   },
   {
    "duration": 305,
    "start_time": "2023-06-21T10:06:36.279Z"
   },
   {
    "duration": 4,
    "start_time": "2023-06-21T10:06:36.585Z"
   },
   {
    "duration": 24,
    "start_time": "2023-06-21T10:06:36.591Z"
   },
   {
    "duration": 28,
    "start_time": "2023-06-21T10:06:36.616Z"
   },
   {
    "duration": 29,
    "start_time": "2023-06-21T10:06:36.645Z"
   },
   {
    "duration": 11,
    "start_time": "2023-06-21T10:06:36.675Z"
   },
   {
    "duration": 3,
    "start_time": "2023-06-21T10:06:36.688Z"
   },
   {
    "duration": 5,
    "start_time": "2023-06-21T10:06:36.693Z"
   },
   {
    "duration": 5,
    "start_time": "2023-06-21T10:06:36.699Z"
   },
   {
    "duration": 176,
    "start_time": "2023-06-21T10:06:36.705Z"
   },
   {
    "duration": 0,
    "start_time": "2023-06-21T10:06:36.883Z"
   },
   {
    "duration": 0,
    "start_time": "2023-06-21T10:06:36.884Z"
   },
   {
    "duration": 0,
    "start_time": "2023-06-21T10:06:36.885Z"
   },
   {
    "duration": 0,
    "start_time": "2023-06-21T10:06:36.886Z"
   },
   {
    "duration": 113,
    "start_time": "2023-06-21T10:08:22.833Z"
   },
   {
    "duration": 16,
    "start_time": "2023-06-21T10:08:30.542Z"
   },
   {
    "duration": 4,
    "start_time": "2023-06-21T10:08:46.433Z"
   },
   {
    "duration": 35,
    "start_time": "2023-06-21T10:08:52.027Z"
   },
   {
    "duration": 10,
    "start_time": "2023-06-21T10:09:41.804Z"
   },
   {
    "duration": 5,
    "start_time": "2023-06-21T10:09:52.498Z"
   },
   {
    "duration": 51,
    "start_time": "2023-06-21T10:09:52.505Z"
   },
   {
    "duration": 11,
    "start_time": "2023-06-21T10:09:52.558Z"
   },
   {
    "duration": 20,
    "start_time": "2023-06-21T10:09:52.570Z"
   },
   {
    "duration": 13,
    "start_time": "2023-06-21T10:09:52.592Z"
   },
   {
    "duration": 10,
    "start_time": "2023-06-21T10:09:52.607Z"
   },
   {
    "duration": 20,
    "start_time": "2023-06-21T10:09:52.619Z"
   },
   {
    "duration": 25,
    "start_time": "2023-06-21T10:09:52.641Z"
   },
   {
    "duration": 6,
    "start_time": "2023-06-21T10:09:52.667Z"
   },
   {
    "duration": 7,
    "start_time": "2023-06-21T10:09:52.675Z"
   },
   {
    "duration": 286,
    "start_time": "2023-06-21T10:09:52.684Z"
   },
   {
    "duration": 5,
    "start_time": "2023-06-21T10:09:52.972Z"
   },
   {
    "duration": 36,
    "start_time": "2023-06-21T10:09:52.978Z"
   },
   {
    "duration": 41,
    "start_time": "2023-06-21T10:09:53.017Z"
   },
   {
    "duration": 18,
    "start_time": "2023-06-21T10:09:53.060Z"
   },
   {
    "duration": 12,
    "start_time": "2023-06-21T10:09:53.080Z"
   },
   {
    "duration": 13,
    "start_time": "2023-06-21T10:09:53.093Z"
   },
   {
    "duration": 17,
    "start_time": "2023-06-21T10:09:53.108Z"
   },
   {
    "duration": 19,
    "start_time": "2023-06-21T10:09:53.127Z"
   },
   {
    "duration": 109,
    "start_time": "2023-06-21T10:09:53.147Z"
   },
   {
    "duration": 0,
    "start_time": "2023-06-21T10:09:53.259Z"
   },
   {
    "duration": 0,
    "start_time": "2023-06-21T10:09:53.260Z"
   },
   {
    "duration": 0,
    "start_time": "2023-06-21T10:09:53.261Z"
   },
   {
    "duration": 3,
    "start_time": "2023-06-21T10:10:12.454Z"
   },
   {
    "duration": 2179,
    "start_time": "2023-06-21T10:10:14.895Z"
   },
   {
    "duration": 91,
    "start_time": "2023-06-21T10:10:17.112Z"
   },
   {
    "duration": 23,
    "start_time": "2023-06-21T10:10:19.853Z"
   },
   {
    "duration": 67,
    "start_time": "2023-06-21T10:12:13.204Z"
   },
   {
    "duration": 6,
    "start_time": "2023-06-21T10:13:00.589Z"
   },
   {
    "duration": 6,
    "start_time": "2023-06-21T10:13:04.507Z"
   },
   {
    "duration": 84,
    "start_time": "2023-06-21T10:13:14.001Z"
   },
   {
    "duration": 30,
    "start_time": "2023-06-21T10:13:54.029Z"
   },
   {
    "duration": 176,
    "start_time": "2023-06-21T10:16:18.225Z"
   },
   {
    "duration": 42,
    "start_time": "2023-06-21T10:17:29.741Z"
   },
   {
    "duration": 155,
    "start_time": "2023-06-21T10:17:50.062Z"
   },
   {
    "duration": 20,
    "start_time": "2023-06-21T10:18:27.978Z"
   },
   {
    "duration": 37,
    "start_time": "2023-06-21T10:18:45.886Z"
   },
   {
    "duration": 25,
    "start_time": "2023-06-21T10:20:11.464Z"
   },
   {
    "duration": 14,
    "start_time": "2023-06-21T10:20:33.172Z"
   },
   {
    "duration": 1268,
    "start_time": "2023-06-21T10:21:07.960Z"
   },
   {
    "duration": 4,
    "start_time": "2023-06-21T10:21:53.603Z"
   },
   {
    "duration": 3,
    "start_time": "2023-06-21T10:29:04.243Z"
   },
   {
    "duration": 5,
    "start_time": "2023-06-21T10:30:59.507Z"
   },
   {
    "duration": 34,
    "start_time": "2023-06-21T10:33:31.490Z"
   },
   {
    "duration": 14,
    "start_time": "2023-06-21T10:34:13.750Z"
   },
   {
    "duration": 1816,
    "start_time": "2023-06-21T10:36:45.088Z"
   },
   {
    "duration": 11,
    "start_time": "2023-06-21T10:37:01.961Z"
   },
   {
    "duration": 6,
    "start_time": "2023-06-21T10:37:53.206Z"
   },
   {
    "duration": 13,
    "start_time": "2023-06-21T10:38:07.426Z"
   },
   {
    "duration": 5,
    "start_time": "2023-06-21T10:38:13.901Z"
   },
   {
    "duration": 14,
    "start_time": "2023-06-21T10:38:17.770Z"
   },
   {
    "duration": 45,
    "start_time": "2023-06-21T10:38:26.007Z"
   },
   {
    "duration": 47,
    "start_time": "2023-06-21T10:39:28.553Z"
   },
   {
    "duration": 1536,
    "start_time": "2023-06-21T10:43:10.139Z"
   },
   {
    "duration": 41,
    "start_time": "2023-06-21T10:43:11.678Z"
   },
   {
    "duration": 13,
    "start_time": "2023-06-21T10:43:11.720Z"
   },
   {
    "duration": 23,
    "start_time": "2023-06-21T10:43:11.735Z"
   },
   {
    "duration": 5,
    "start_time": "2023-06-21T10:43:11.759Z"
   },
   {
    "duration": 10,
    "start_time": "2023-06-21T10:43:11.766Z"
   },
   {
    "duration": 16,
    "start_time": "2023-06-21T10:43:11.780Z"
   },
   {
    "duration": 6,
    "start_time": "2023-06-21T10:43:11.797Z"
   },
   {
    "duration": 8,
    "start_time": "2023-06-21T10:43:11.804Z"
   },
   {
    "duration": 335,
    "start_time": "2023-06-21T10:43:11.814Z"
   },
   {
    "duration": 3,
    "start_time": "2023-06-21T10:43:12.151Z"
   },
   {
    "duration": 29,
    "start_time": "2023-06-21T10:43:12.156Z"
   },
   {
    "duration": 34,
    "start_time": "2023-06-21T10:43:12.186Z"
   },
   {
    "duration": 11,
    "start_time": "2023-06-21T10:43:12.221Z"
   },
   {
    "duration": 9,
    "start_time": "2023-06-21T10:43:12.234Z"
   },
   {
    "duration": 27,
    "start_time": "2023-06-21T10:43:12.244Z"
   },
   {
    "duration": 7,
    "start_time": "2023-06-21T10:43:12.272Z"
   },
   {
    "duration": 7,
    "start_time": "2023-06-21T10:43:12.280Z"
   },
   {
    "duration": 5,
    "start_time": "2023-06-21T10:43:12.289Z"
   },
   {
    "duration": 2261,
    "start_time": "2023-06-21T10:43:12.296Z"
   },
   {
    "duration": 73,
    "start_time": "2023-06-21T10:43:14.559Z"
   },
   {
    "duration": 1270,
    "start_time": "2023-06-21T10:43:14.634Z"
   },
   {
    "duration": 6,
    "start_time": "2023-06-21T10:43:15.906Z"
   },
   {
    "duration": 57,
    "start_time": "2023-06-21T10:43:15.914Z"
   },
   {
    "duration": 2,
    "start_time": "2023-06-21T10:44:29.753Z"
   },
   {
    "duration": 2477,
    "start_time": "2023-06-21T10:44:31.903Z"
   },
   {
    "duration": 6,
    "start_time": "2023-06-21T10:45:34.633Z"
   },
   {
    "duration": 43,
    "start_time": "2023-06-21T10:45:34.742Z"
   },
   {
    "duration": 12,
    "start_time": "2023-06-21T10:45:34.787Z"
   },
   {
    "duration": 15,
    "start_time": "2023-06-21T10:45:34.801Z"
   },
   {
    "duration": 20,
    "start_time": "2023-06-21T10:45:34.818Z"
   },
   {
    "duration": 7,
    "start_time": "2023-06-21T10:45:34.841Z"
   },
   {
    "duration": 24,
    "start_time": "2023-06-21T10:45:34.849Z"
   },
   {
    "duration": 6,
    "start_time": "2023-06-21T10:45:34.875Z"
   },
   {
    "duration": 14,
    "start_time": "2023-06-21T10:45:34.883Z"
   },
   {
    "duration": 315,
    "start_time": "2023-06-21T10:45:34.899Z"
   },
   {
    "duration": 5,
    "start_time": "2023-06-21T10:45:35.215Z"
   },
   {
    "duration": 23,
    "start_time": "2023-06-21T10:45:35.221Z"
   },
   {
    "duration": 47,
    "start_time": "2023-06-21T10:45:35.246Z"
   },
   {
    "duration": 12,
    "start_time": "2023-06-21T10:45:35.294Z"
   },
   {
    "duration": 10,
    "start_time": "2023-06-21T10:45:35.308Z"
   },
   {
    "duration": 14,
    "start_time": "2023-06-21T10:45:35.319Z"
   },
   {
    "duration": 19,
    "start_time": "2023-06-21T10:45:35.334Z"
   },
   {
    "duration": 27,
    "start_time": "2023-06-21T10:45:35.354Z"
   },
   {
    "duration": 4,
    "start_time": "2023-06-21T10:45:35.382Z"
   },
   {
    "duration": 2514,
    "start_time": "2023-06-21T10:45:35.387Z"
   },
   {
    "duration": 35,
    "start_time": "2023-06-21T10:45:37.903Z"
   },
   {
    "duration": 1270,
    "start_time": "2023-06-21T10:45:37.939Z"
   },
   {
    "duration": 6,
    "start_time": "2023-06-21T10:45:39.211Z"
   },
   {
    "duration": 44,
    "start_time": "2023-06-21T10:45:42.615Z"
   },
   {
    "duration": 1640,
    "start_time": "2023-06-21T10:50:13.121Z"
   },
   {
    "duration": 41,
    "start_time": "2023-06-21T10:50:14.763Z"
   },
   {
    "duration": 12,
    "start_time": "2023-06-21T10:50:14.805Z"
   },
   {
    "duration": 18,
    "start_time": "2023-06-21T10:50:14.819Z"
   },
   {
    "duration": 11,
    "start_time": "2023-06-21T10:50:14.839Z"
   },
   {
    "duration": 35,
    "start_time": "2023-06-21T10:50:14.852Z"
   },
   {
    "duration": 49,
    "start_time": "2023-06-21T10:50:14.888Z"
   },
   {
    "duration": 37,
    "start_time": "2023-06-21T10:50:14.939Z"
   },
   {
    "duration": 23,
    "start_time": "2023-06-21T10:50:14.978Z"
   },
   {
    "duration": 424,
    "start_time": "2023-06-21T10:50:15.005Z"
   },
   {
    "duration": 6,
    "start_time": "2023-06-21T10:50:15.431Z"
   },
   {
    "duration": 34,
    "start_time": "2023-06-21T10:50:15.438Z"
   },
   {
    "duration": 40,
    "start_time": "2023-06-21T10:50:15.474Z"
   },
   {
    "duration": 14,
    "start_time": "2023-06-21T10:50:15.516Z"
   },
   {
    "duration": 36,
    "start_time": "2023-06-21T10:50:15.533Z"
   },
   {
    "duration": 6,
    "start_time": "2023-06-21T10:50:15.571Z"
   },
   {
    "duration": 6,
    "start_time": "2023-06-21T10:50:15.579Z"
   },
   {
    "duration": 6,
    "start_time": "2023-06-21T10:50:15.586Z"
   },
   {
    "duration": 3,
    "start_time": "2023-06-21T10:50:15.594Z"
   },
   {
    "duration": 2732,
    "start_time": "2023-06-21T10:50:15.599Z"
   },
   {
    "duration": 78,
    "start_time": "2023-06-21T10:50:18.332Z"
   },
   {
    "duration": 1302,
    "start_time": "2023-06-21T10:50:18.412Z"
   },
   {
    "duration": 130,
    "start_time": "2023-06-21T10:50:21.149Z"
   },
   {
    "duration": 12,
    "start_time": "2023-06-21T10:52:46.399Z"
   },
   {
    "duration": 1558,
    "start_time": "2023-06-21T10:53:10.929Z"
   },
   {
    "duration": 43,
    "start_time": "2023-06-21T10:53:12.489Z"
   },
   {
    "duration": 14,
    "start_time": "2023-06-21T10:53:12.533Z"
   },
   {
    "duration": 32,
    "start_time": "2023-06-21T10:53:12.549Z"
   },
   {
    "duration": 6,
    "start_time": "2023-06-21T10:53:12.583Z"
   },
   {
    "duration": 13,
    "start_time": "2023-06-21T10:53:12.591Z"
   },
   {
    "duration": 19,
    "start_time": "2023-06-21T10:53:12.606Z"
   },
   {
    "duration": 7,
    "start_time": "2023-06-21T10:53:12.627Z"
   },
   {
    "duration": 4,
    "start_time": "2023-06-21T10:53:12.636Z"
   },
   {
    "duration": 328,
    "start_time": "2023-06-21T10:53:12.642Z"
   },
   {
    "duration": 4,
    "start_time": "2023-06-21T10:53:12.972Z"
   },
   {
    "duration": 20,
    "start_time": "2023-06-21T10:53:12.978Z"
   },
   {
    "duration": 40,
    "start_time": "2023-06-21T10:53:13.000Z"
   },
   {
    "duration": 35,
    "start_time": "2023-06-21T10:53:13.042Z"
   },
   {
    "duration": 12,
    "start_time": "2023-06-21T10:53:13.078Z"
   },
   {
    "duration": 6,
    "start_time": "2023-06-21T10:53:13.092Z"
   },
   {
    "duration": 7,
    "start_time": "2023-06-21T10:53:13.100Z"
   },
   {
    "duration": 5,
    "start_time": "2023-06-21T10:53:13.109Z"
   },
   {
    "duration": 5,
    "start_time": "2023-06-21T10:53:13.116Z"
   },
   {
    "duration": 2569,
    "start_time": "2023-06-21T10:53:13.123Z"
   },
   {
    "duration": 65,
    "start_time": "2023-06-21T10:53:15.694Z"
   },
   {
    "duration": 1393,
    "start_time": "2023-06-21T10:53:15.768Z"
   },
   {
    "duration": 36,
    "start_time": "2023-06-21T10:53:25.019Z"
   },
   {
    "duration": 4,
    "start_time": "2023-06-21T10:54:28.394Z"
   },
   {
    "duration": 109,
    "start_time": "2023-06-21T10:54:40.030Z"
   },
   {
    "duration": 44,
    "start_time": "2023-06-21T10:55:51.529Z"
   },
   {
    "duration": 1522,
    "start_time": "2023-06-21T10:56:04.027Z"
   },
   {
    "duration": 40,
    "start_time": "2023-06-21T10:56:05.551Z"
   },
   {
    "duration": 13,
    "start_time": "2023-06-21T10:56:05.592Z"
   },
   {
    "duration": 48,
    "start_time": "2023-06-21T10:56:05.607Z"
   },
   {
    "duration": 8,
    "start_time": "2023-06-21T10:56:05.657Z"
   },
   {
    "duration": 18,
    "start_time": "2023-06-21T10:56:05.666Z"
   },
   {
    "duration": 17,
    "start_time": "2023-06-21T10:56:05.686Z"
   },
   {
    "duration": 5,
    "start_time": "2023-06-21T10:56:05.705Z"
   },
   {
    "duration": 10,
    "start_time": "2023-06-21T10:56:05.712Z"
   },
   {
    "duration": 322,
    "start_time": "2023-06-21T10:56:05.725Z"
   },
   {
    "duration": 5,
    "start_time": "2023-06-21T10:56:06.049Z"
   },
   {
    "duration": 32,
    "start_time": "2023-06-21T10:56:06.067Z"
   },
   {
    "duration": 35,
    "start_time": "2023-06-21T10:56:06.101Z"
   },
   {
    "duration": 11,
    "start_time": "2023-06-21T10:56:06.137Z"
   },
   {
    "duration": 31,
    "start_time": "2023-06-21T10:56:06.150Z"
   },
   {
    "duration": 5,
    "start_time": "2023-06-21T10:56:06.183Z"
   },
   {
    "duration": 6,
    "start_time": "2023-06-21T10:56:06.190Z"
   },
   {
    "duration": 7,
    "start_time": "2023-06-21T10:56:06.197Z"
   },
   {
    "duration": 3,
    "start_time": "2023-06-21T10:56:06.206Z"
   },
   {
    "duration": 2508,
    "start_time": "2023-06-21T10:56:06.211Z"
   },
   {
    "duration": 77,
    "start_time": "2023-06-21T10:56:08.721Z"
   },
   {
    "duration": 1308,
    "start_time": "2023-06-21T10:56:08.799Z"
   },
   {
    "duration": 5,
    "start_time": "2023-06-21T10:56:26.963Z"
   },
   {
    "duration": 36,
    "start_time": "2023-06-21T10:57:01.656Z"
   },
   {
    "duration": 53,
    "start_time": "2023-06-21T10:57:25.762Z"
   },
   {
    "duration": 1688,
    "start_time": "2023-06-21T11:06:12.711Z"
   },
   {
    "duration": 42,
    "start_time": "2023-06-21T11:06:14.401Z"
   },
   {
    "duration": 13,
    "start_time": "2023-06-21T11:06:14.445Z"
   },
   {
    "duration": 24,
    "start_time": "2023-06-21T11:06:14.460Z"
   },
   {
    "duration": 19,
    "start_time": "2023-06-21T11:06:14.487Z"
   },
   {
    "duration": 6,
    "start_time": "2023-06-21T11:06:14.508Z"
   },
   {
    "duration": 13,
    "start_time": "2023-06-21T11:06:14.515Z"
   },
   {
    "duration": 5,
    "start_time": "2023-06-21T11:06:14.530Z"
   },
   {
    "duration": 9,
    "start_time": "2023-06-21T11:06:14.536Z"
   },
   {
    "duration": 338,
    "start_time": "2023-06-21T11:06:14.547Z"
   },
   {
    "duration": 6,
    "start_time": "2023-06-21T11:06:14.893Z"
   },
   {
    "duration": 42,
    "start_time": "2023-06-21T11:06:14.900Z"
   },
   {
    "duration": 42,
    "start_time": "2023-06-21T11:06:14.944Z"
   },
   {
    "duration": 14,
    "start_time": "2023-06-21T11:06:14.988Z"
   },
   {
    "duration": 88,
    "start_time": "2023-06-21T11:06:15.003Z"
   },
   {
    "duration": 35,
    "start_time": "2023-06-21T11:06:15.093Z"
   },
   {
    "duration": 14,
    "start_time": "2023-06-21T11:06:15.130Z"
   },
   {
    "duration": 20,
    "start_time": "2023-06-21T11:06:15.146Z"
   },
   {
    "duration": 25,
    "start_time": "2023-06-21T11:06:15.170Z"
   },
   {
    "duration": 2938,
    "start_time": "2023-06-21T11:06:15.196Z"
   },
   {
    "duration": 89,
    "start_time": "2023-06-21T11:06:18.136Z"
   },
   {
    "duration": 1505,
    "start_time": "2023-06-21T11:06:18.227Z"
   },
   {
    "duration": 8,
    "start_time": "2023-06-21T11:06:19.733Z"
   },
   {
    "duration": 54,
    "start_time": "2023-06-21T11:06:19.743Z"
   },
   {
    "duration": 71,
    "start_time": "2023-06-21T11:06:19.799Z"
   },
   {
    "duration": 54,
    "start_time": "2023-06-23T07:25:44.077Z"
   },
   {
    "duration": 1751,
    "start_time": "2023-06-23T07:25:52.534Z"
   },
   {
    "duration": 125,
    "start_time": "2023-06-23T07:25:54.287Z"
   },
   {
    "duration": 16,
    "start_time": "2023-06-23T07:25:54.414Z"
   },
   {
    "duration": 19,
    "start_time": "2023-06-23T07:25:54.433Z"
   },
   {
    "duration": 13,
    "start_time": "2023-06-23T07:25:54.453Z"
   },
   {
    "duration": 25,
    "start_time": "2023-06-23T07:25:54.468Z"
   },
   {
    "duration": 22,
    "start_time": "2023-06-23T07:25:54.495Z"
   },
   {
    "duration": 6,
    "start_time": "2023-06-23T07:25:54.520Z"
   },
   {
    "duration": 13,
    "start_time": "2023-06-23T07:25:54.529Z"
   },
   {
    "duration": 241,
    "start_time": "2023-06-23T07:25:54.551Z"
   },
   {
    "duration": 5,
    "start_time": "2023-06-23T07:25:54.794Z"
   },
   {
    "duration": 25,
    "start_time": "2023-06-23T07:25:54.801Z"
   },
   {
    "duration": 51,
    "start_time": "2023-06-23T07:25:54.828Z"
   },
   {
    "duration": 11,
    "start_time": "2023-06-23T07:25:54.881Z"
   },
   {
    "duration": 28,
    "start_time": "2023-06-23T07:25:54.894Z"
   },
   {
    "duration": 5,
    "start_time": "2023-06-23T07:25:54.924Z"
   },
   {
    "duration": 12,
    "start_time": "2023-06-23T07:25:54.931Z"
   },
   {
    "duration": 7,
    "start_time": "2023-06-23T07:25:54.954Z"
   },
   {
    "duration": 17,
    "start_time": "2023-06-23T07:25:54.962Z"
   },
   {
    "duration": 2508,
    "start_time": "2023-06-23T07:25:54.981Z"
   },
   {
    "duration": 85,
    "start_time": "2023-06-23T07:25:57.490Z"
   },
   {
    "duration": 2795,
    "start_time": "2023-06-23T07:25:57.577Z"
   },
   {
    "duration": 6,
    "start_time": "2023-06-23T07:26:00.374Z"
   },
   {
    "duration": 160,
    "start_time": "2023-06-23T07:26:00.382Z"
   },
   {
    "duration": 0,
    "start_time": "2023-06-23T07:26:00.544Z"
   },
   {
    "duration": 0,
    "start_time": "2023-06-23T07:26:00.545Z"
   },
   {
    "duration": 2,
    "start_time": "2023-06-23T07:27:04.812Z"
   },
   {
    "duration": 11,
    "start_time": "2023-06-23T07:27:16.621Z"
   },
   {
    "duration": 3,
    "start_time": "2023-06-23T07:27:32.168Z"
   },
   {
    "duration": 5,
    "start_time": "2023-06-23T07:27:36.897Z"
   },
   {
    "duration": 49,
    "start_time": "2023-06-23T07:27:36.904Z"
   },
   {
    "duration": 15,
    "start_time": "2023-06-23T07:27:36.955Z"
   },
   {
    "duration": 63,
    "start_time": "2023-06-23T07:27:36.971Z"
   },
   {
    "duration": 43,
    "start_time": "2023-06-23T07:27:37.037Z"
   },
   {
    "duration": 9,
    "start_time": "2023-06-23T07:27:37.082Z"
   },
   {
    "duration": 15,
    "start_time": "2023-06-23T07:27:37.092Z"
   },
   {
    "duration": 6,
    "start_time": "2023-06-23T07:27:37.109Z"
   },
   {
    "duration": 7,
    "start_time": "2023-06-23T07:27:37.117Z"
   },
   {
    "duration": 166,
    "start_time": "2023-06-23T07:27:37.125Z"
   },
   {
    "duration": 4,
    "start_time": "2023-06-23T07:27:37.293Z"
   },
   {
    "duration": 26,
    "start_time": "2023-06-23T07:27:37.299Z"
   },
   {
    "duration": 61,
    "start_time": "2023-06-23T07:27:37.327Z"
   },
   {
    "duration": 12,
    "start_time": "2023-06-23T07:27:37.391Z"
   },
   {
    "duration": 22,
    "start_time": "2023-06-23T07:27:37.405Z"
   },
   {
    "duration": 13,
    "start_time": "2023-06-23T07:27:37.429Z"
   },
   {
    "duration": 33,
    "start_time": "2023-06-23T07:27:37.443Z"
   },
   {
    "duration": 28,
    "start_time": "2023-06-23T07:27:37.478Z"
   },
   {
    "duration": 25,
    "start_time": "2023-06-23T07:27:37.508Z"
   },
   {
    "duration": 2686,
    "start_time": "2023-06-23T07:27:37.534Z"
   },
   {
    "duration": 47,
    "start_time": "2023-06-23T07:27:40.223Z"
   },
   {
    "duration": 1426,
    "start_time": "2023-06-23T07:27:40.272Z"
   },
   {
    "duration": 6,
    "start_time": "2023-06-23T07:27:41.700Z"
   },
   {
    "duration": 4,
    "start_time": "2023-06-23T07:27:59.943Z"
   },
   {
    "duration": 4,
    "start_time": "2023-06-23T07:28:11.026Z"
   },
   {
    "duration": 7,
    "start_time": "2023-06-23T07:28:21.828Z"
   },
   {
    "duration": 55,
    "start_time": "2023-06-23T07:28:21.837Z"
   },
   {
    "duration": 18,
    "start_time": "2023-06-23T07:28:21.894Z"
   },
   {
    "duration": 18,
    "start_time": "2023-06-23T07:28:21.915Z"
   },
   {
    "duration": 17,
    "start_time": "2023-06-23T07:28:21.934Z"
   },
   {
    "duration": 23,
    "start_time": "2023-06-23T07:28:21.953Z"
   },
   {
    "duration": 19,
    "start_time": "2023-06-23T07:28:21.978Z"
   },
   {
    "duration": 7,
    "start_time": "2023-06-23T07:28:21.999Z"
   },
   {
    "duration": 6,
    "start_time": "2023-06-23T07:28:22.009Z"
   },
   {
    "duration": 176,
    "start_time": "2023-06-23T07:28:22.016Z"
   },
   {
    "duration": 6,
    "start_time": "2023-06-23T07:28:22.193Z"
   },
   {
    "duration": 41,
    "start_time": "2023-06-23T07:28:22.200Z"
   },
   {
    "duration": 53,
    "start_time": "2023-06-23T07:28:22.243Z"
   },
   {
    "duration": 15,
    "start_time": "2023-06-23T07:28:22.298Z"
   },
   {
    "duration": 10,
    "start_time": "2023-06-23T07:28:22.315Z"
   },
   {
    "duration": 35,
    "start_time": "2023-06-23T07:28:22.326Z"
   },
   {
    "duration": 7,
    "start_time": "2023-06-23T07:28:22.369Z"
   },
   {
    "duration": 11,
    "start_time": "2023-06-23T07:28:22.378Z"
   },
   {
    "duration": 6,
    "start_time": "2023-06-23T07:28:22.391Z"
   },
   {
    "duration": 2508,
    "start_time": "2023-06-23T07:28:22.399Z"
   },
   {
    "duration": 62,
    "start_time": "2023-06-23T07:28:24.909Z"
   },
   {
    "duration": 1423,
    "start_time": "2023-06-23T07:28:24.973Z"
   },
   {
    "duration": 3,
    "start_time": "2023-06-23T07:28:26.398Z"
   },
   {
    "duration": 4,
    "start_time": "2023-06-23T07:29:05.271Z"
   },
   {
    "duration": 5,
    "start_time": "2023-06-23T07:29:32.848Z"
   },
   {
    "duration": 6,
    "start_time": "2023-06-23T07:31:09.641Z"
   },
   {
    "duration": 72,
    "start_time": "2023-06-23T07:31:09.649Z"
   },
   {
    "duration": 13,
    "start_time": "2023-06-23T07:31:09.723Z"
   },
   {
    "duration": 41,
    "start_time": "2023-06-23T07:31:09.739Z"
   },
   {
    "duration": 22,
    "start_time": "2023-06-23T07:31:09.782Z"
   },
   {
    "duration": 41,
    "start_time": "2023-06-23T07:31:09.806Z"
   },
   {
    "duration": 36,
    "start_time": "2023-06-23T07:31:09.848Z"
   },
   {
    "duration": 23,
    "start_time": "2023-06-23T07:31:09.886Z"
   },
   {
    "duration": 17,
    "start_time": "2023-06-23T07:31:09.911Z"
   },
   {
    "duration": 173,
    "start_time": "2023-06-23T07:31:09.930Z"
   },
   {
    "duration": 5,
    "start_time": "2023-06-23T07:31:10.105Z"
   },
   {
    "duration": 71,
    "start_time": "2023-06-23T07:31:10.112Z"
   },
   {
    "duration": 49,
    "start_time": "2023-06-23T07:31:10.185Z"
   },
   {
    "duration": 12,
    "start_time": "2023-06-23T07:31:10.236Z"
   },
   {
    "duration": 43,
    "start_time": "2023-06-23T07:31:10.251Z"
   },
   {
    "duration": 20,
    "start_time": "2023-06-23T07:31:10.296Z"
   },
   {
    "duration": 29,
    "start_time": "2023-06-23T07:31:10.318Z"
   },
   {
    "duration": 41,
    "start_time": "2023-06-23T07:31:10.349Z"
   },
   {
    "duration": 28,
    "start_time": "2023-06-23T07:31:10.391Z"
   },
   {
    "duration": 2646,
    "start_time": "2023-06-23T07:31:10.422Z"
   },
   {
    "duration": 31,
    "start_time": "2023-06-23T07:31:13.070Z"
   },
   {
    "duration": 1384,
    "start_time": "2023-06-23T07:31:13.103Z"
   },
   {
    "duration": 3,
    "start_time": "2023-06-23T07:31:14.489Z"
   },
   {
    "duration": 13,
    "start_time": "2023-06-23T07:31:14.494Z"
   },
   {
    "duration": 46,
    "start_time": "2023-06-23T07:31:20.149Z"
   },
   {
    "duration": 18,
    "start_time": "2023-06-23T07:31:23.302Z"
   },
   {
    "duration": 39,
    "start_time": "2023-06-23T07:32:25.735Z"
   },
   {
    "duration": 40,
    "start_time": "2023-06-23T07:32:44.271Z"
   },
   {
    "duration": 1538,
    "start_time": "2023-06-23T07:32:53.642Z"
   },
   {
    "duration": 43,
    "start_time": "2023-06-23T07:32:55.183Z"
   },
   {
    "duration": 15,
    "start_time": "2023-06-23T07:32:55.228Z"
   },
   {
    "duration": 27,
    "start_time": "2023-06-23T07:32:55.245Z"
   },
   {
    "duration": 14,
    "start_time": "2023-06-23T07:32:55.275Z"
   },
   {
    "duration": 9,
    "start_time": "2023-06-23T07:32:55.291Z"
   },
   {
    "duration": 29,
    "start_time": "2023-06-23T07:32:55.302Z"
   },
   {
    "duration": 25,
    "start_time": "2023-06-23T07:32:55.333Z"
   },
   {
    "duration": 42,
    "start_time": "2023-06-23T07:32:55.363Z"
   },
   {
    "duration": 173,
    "start_time": "2023-06-23T07:32:55.408Z"
   },
   {
    "duration": 5,
    "start_time": "2023-06-23T07:32:55.583Z"
   },
   {
    "duration": 33,
    "start_time": "2023-06-23T07:32:55.590Z"
   },
   {
    "duration": 62,
    "start_time": "2023-06-23T07:32:55.626Z"
   },
   {
    "duration": 13,
    "start_time": "2023-06-23T07:32:55.690Z"
   },
   {
    "duration": 13,
    "start_time": "2023-06-23T07:32:55.705Z"
   },
   {
    "duration": 40,
    "start_time": "2023-06-23T07:32:55.720Z"
   },
   {
    "duration": 6,
    "start_time": "2023-06-23T07:32:55.769Z"
   },
   {
    "duration": 34,
    "start_time": "2023-06-23T07:32:55.776Z"
   },
   {
    "duration": 26,
    "start_time": "2023-06-23T07:32:55.812Z"
   },
   {
    "duration": 2952,
    "start_time": "2023-06-23T07:32:55.840Z"
   },
   {
    "duration": 91,
    "start_time": "2023-06-23T07:32:58.795Z"
   },
   {
    "duration": 1500,
    "start_time": "2023-06-23T07:32:58.889Z"
   },
   {
    "duration": 3,
    "start_time": "2023-06-23T07:33:00.391Z"
   },
   {
    "duration": 52,
    "start_time": "2023-06-23T07:33:00.397Z"
   },
   {
    "duration": 90,
    "start_time": "2023-06-23T07:33:00.451Z"
   },
   {
    "duration": 198,
    "start_time": "2023-06-23T07:33:00.542Z"
   },
   {
    "duration": 14,
    "start_time": "2023-06-23T07:33:48.284Z"
   },
   {
    "duration": 60,
    "start_time": "2023-06-23T07:34:25.000Z"
   },
   {
    "duration": 10,
    "start_time": "2023-06-23T07:37:51.502Z"
   },
   {
    "duration": 13,
    "start_time": "2023-06-23T07:38:14.872Z"
   },
   {
    "duration": 31,
    "start_time": "2023-06-23T07:39:31.838Z"
   },
   {
    "duration": 22,
    "start_time": "2023-06-23T07:39:54.501Z"
   },
   {
    "duration": 65,
    "start_time": "2023-06-23T07:40:13.100Z"
   },
   {
    "duration": 51,
    "start_time": "2023-06-23T07:41:00.498Z"
   },
   {
    "duration": 18,
    "start_time": "2023-06-23T07:45:32.872Z"
   },
   {
    "duration": 23,
    "start_time": "2023-06-23T07:45:56.836Z"
   },
   {
    "duration": 45543,
    "start_time": "2023-06-23T09:08:55.047Z"
   },
   {
    "duration": 120,
    "start_time": "2023-06-23T09:10:31.264Z"
   },
   {
    "duration": 117,
    "start_time": "2023-06-23T09:11:55.462Z"
   },
   {
    "duration": 49,
    "start_time": "2023-06-26T07:18:39.699Z"
   },
   {
    "duration": 1758,
    "start_time": "2023-06-26T07:18:53.099Z"
   },
   {
    "duration": 83,
    "start_time": "2023-06-26T07:18:54.860Z"
   },
   {
    "duration": 15,
    "start_time": "2023-06-26T07:18:54.944Z"
   },
   {
    "duration": 35,
    "start_time": "2023-06-26T07:18:54.960Z"
   },
   {
    "duration": 7,
    "start_time": "2023-06-26T07:18:54.997Z"
   },
   {
    "duration": 15,
    "start_time": "2023-06-26T07:18:55.005Z"
   },
   {
    "duration": 23,
    "start_time": "2023-06-26T07:18:55.022Z"
   },
   {
    "duration": 30,
    "start_time": "2023-06-26T07:18:55.047Z"
   },
   {
    "duration": 18,
    "start_time": "2023-06-26T07:18:55.079Z"
   },
   {
    "duration": 182,
    "start_time": "2023-06-26T07:18:55.099Z"
   },
   {
    "duration": 5,
    "start_time": "2023-06-26T07:18:55.283Z"
   },
   {
    "duration": 43,
    "start_time": "2023-06-26T07:18:55.289Z"
   },
   {
    "duration": 39,
    "start_time": "2023-06-26T07:18:55.333Z"
   },
   {
    "duration": 120,
    "start_time": "2023-06-26T07:18:55.374Z"
   },
   {
    "duration": 118,
    "start_time": "2023-06-26T07:18:55.501Z"
   },
   {
    "duration": 11,
    "start_time": "2023-06-26T07:18:55.621Z"
   },
   {
    "duration": 20,
    "start_time": "2023-06-26T07:18:55.634Z"
   },
   {
    "duration": 6,
    "start_time": "2023-06-26T07:18:55.655Z"
   },
   {
    "duration": 17,
    "start_time": "2023-06-26T07:18:55.663Z"
   },
   {
    "duration": 26,
    "start_time": "2023-06-26T07:18:55.682Z"
   },
   {
    "duration": 21,
    "start_time": "2023-06-26T07:18:55.710Z"
   },
   {
    "duration": 2416,
    "start_time": "2023-06-26T07:18:55.733Z"
   },
   {
    "duration": 76,
    "start_time": "2023-06-26T07:18:58.151Z"
   },
   {
    "duration": 1332,
    "start_time": "2023-06-26T07:18:58.229Z"
   },
   {
    "duration": 3,
    "start_time": "2023-06-26T07:18:59.563Z"
   },
   {
    "duration": 10,
    "start_time": "2023-06-26T07:18:59.568Z"
   },
   {
    "duration": 54,
    "start_time": "2023-06-26T07:18:59.579Z"
   },
   {
    "duration": 2057,
    "start_time": "2023-06-26T07:18:59.637Z"
   },
   {
    "duration": 131,
    "start_time": "2023-06-26T07:19:01.696Z"
   },
   {
    "duration": 4,
    "start_time": "2023-06-26T07:21:06.236Z"
   },
   {
    "duration": 27,
    "start_time": "2023-06-26T07:21:44.500Z"
   },
   {
    "duration": 1351,
    "start_time": "2023-06-26T07:21:48.028Z"
   },
   {
    "duration": 3,
    "start_time": "2023-06-26T07:26:08.550Z"
   },
   {
    "duration": 26,
    "start_time": "2023-06-26T07:26:10.717Z"
   },
   {
    "duration": 1002,
    "start_time": "2023-06-26T07:26:15.709Z"
   },
   {
    "duration": 1156,
    "start_time": "2023-06-26T07:27:05.963Z"
   },
   {
    "duration": 1175,
    "start_time": "2023-06-26T07:27:30.500Z"
   },
   {
    "duration": 1171,
    "start_time": "2023-06-26T07:30:19.400Z"
   },
   {
    "duration": 5,
    "start_time": "2023-06-26T07:30:54.452Z"
   },
   {
    "duration": 4,
    "start_time": "2023-06-26T07:32:10.496Z"
   },
   {
    "duration": 12,
    "start_time": "2023-06-26T07:32:45.900Z"
   },
   {
    "duration": 3,
    "start_time": "2023-06-26T07:32:53.304Z"
   },
   {
    "duration": 18,
    "start_time": "2023-06-26T07:33:03.706Z"
   },
   {
    "duration": 3,
    "start_time": "2023-06-26T07:33:22.700Z"
   },
   {
    "duration": 18,
    "start_time": "2023-06-26T07:33:25.488Z"
   },
   {
    "duration": 20,
    "start_time": "2023-06-26T07:35:28.717Z"
   },
   {
    "duration": 32,
    "start_time": "2023-06-26T07:35:45.616Z"
   },
   {
    "duration": 21,
    "start_time": "2023-06-26T07:36:19.221Z"
   },
   {
    "duration": 5,
    "start_time": "2023-06-26T07:38:31.856Z"
   },
   {
    "duration": 160,
    "start_time": "2023-06-26T07:38:31.863Z"
   },
   {
    "duration": 27,
    "start_time": "2023-06-26T07:38:32.025Z"
   },
   {
    "duration": 46,
    "start_time": "2023-06-26T07:38:32.055Z"
   },
   {
    "duration": 51,
    "start_time": "2023-06-26T07:38:32.103Z"
   },
   {
    "duration": 43,
    "start_time": "2023-06-26T07:38:32.156Z"
   },
   {
    "duration": 41,
    "start_time": "2023-06-26T07:38:32.202Z"
   },
   {
    "duration": 23,
    "start_time": "2023-06-26T07:38:32.245Z"
   },
   {
    "duration": 17,
    "start_time": "2023-06-26T07:38:32.271Z"
   },
   {
    "duration": 183,
    "start_time": "2023-06-26T07:38:32.290Z"
   },
   {
    "duration": 6,
    "start_time": "2023-06-26T07:38:32.476Z"
   },
   {
    "duration": 64,
    "start_time": "2023-06-26T07:38:32.484Z"
   },
   {
    "duration": 50,
    "start_time": "2023-06-26T07:38:32.550Z"
   },
   {
    "duration": 131,
    "start_time": "2023-06-26T07:38:32.602Z"
   },
   {
    "duration": 117,
    "start_time": "2023-06-26T07:38:32.735Z"
   },
   {
    "duration": 14,
    "start_time": "2023-06-26T07:38:32.854Z"
   },
   {
    "duration": 29,
    "start_time": "2023-06-26T07:38:32.870Z"
   },
   {
    "duration": 22,
    "start_time": "2023-06-26T07:38:32.902Z"
   },
   {
    "duration": 10,
    "start_time": "2023-06-26T07:38:32.926Z"
   },
   {
    "duration": 37,
    "start_time": "2023-06-26T07:38:32.938Z"
   },
   {
    "duration": 31,
    "start_time": "2023-06-26T07:38:32.976Z"
   },
   {
    "duration": 2295,
    "start_time": "2023-06-26T07:38:33.009Z"
   },
   {
    "duration": 189,
    "start_time": "2023-06-26T07:38:35.306Z"
   },
   {
    "duration": 1316,
    "start_time": "2023-06-26T07:38:35.502Z"
   },
   {
    "duration": 22,
    "start_time": "2023-06-26T07:38:36.820Z"
   },
   {
    "duration": 13,
    "start_time": "2023-06-26T07:38:36.843Z"
   },
   {
    "duration": 45,
    "start_time": "2023-06-26T07:38:36.858Z"
   },
   {
    "duration": 1007,
    "start_time": "2023-06-26T07:38:36.904Z"
   },
   {
    "duration": 3,
    "start_time": "2023-06-26T07:38:37.913Z"
   },
   {
    "duration": 25,
    "start_time": "2023-06-26T07:38:37.917Z"
   },
   {
    "duration": 5,
    "start_time": "2023-06-26T07:38:45.621Z"
   },
   {
    "duration": 15,
    "start_time": "2023-06-26T07:38:48.720Z"
   },
   {
    "duration": 15,
    "start_time": "2023-06-26T07:39:22.134Z"
   },
   {
    "duration": 16,
    "start_time": "2023-06-26T07:39:30.138Z"
   },
   {
    "duration": 15,
    "start_time": "2023-06-26T07:39:52.738Z"
   },
   {
    "duration": 25,
    "start_time": "2023-06-26T07:40:05.408Z"
   },
   {
    "duration": 58,
    "start_time": "2023-06-26T07:40:13.513Z"
   },
   {
    "duration": 30,
    "start_time": "2023-06-26T07:44:29.805Z"
   },
   {
    "duration": 24,
    "start_time": "2023-06-26T07:45:15.540Z"
   },
   {
    "duration": 10,
    "start_time": "2023-06-26T07:46:48.096Z"
   },
   {
    "duration": 36,
    "start_time": "2023-06-26T07:47:03.920Z"
   },
   {
    "duration": 30,
    "start_time": "2023-06-26T07:54:24.189Z"
   },
   {
    "duration": 3619,
    "start_time": "2023-06-26T07:55:12.163Z"
   },
   {
    "duration": 12,
    "start_time": "2023-06-26T07:56:57.311Z"
   },
   {
    "duration": 7,
    "start_time": "2023-06-26T07:57:12.138Z"
   },
   {
    "duration": 5,
    "start_time": "2023-06-26T07:57:36.842Z"
   },
   {
    "duration": 3,
    "start_time": "2023-06-26T08:02:12.000Z"
   },
   {
    "duration": 5,
    "start_time": "2023-06-26T08:02:14.250Z"
   },
   {
    "duration": 10,
    "start_time": "2023-06-26T08:02:25.009Z"
   },
   {
    "duration": 12,
    "start_time": "2023-06-26T08:02:57.359Z"
   },
   {
    "duration": 27,
    "start_time": "2023-06-26T08:04:00.008Z"
   },
   {
    "duration": 17,
    "start_time": "2023-06-26T08:04:16.090Z"
   },
   {
    "duration": 5,
    "start_time": "2023-06-26T08:05:11.619Z"
   },
   {
    "duration": 5,
    "start_time": "2023-06-26T08:07:56.382Z"
   },
   {
    "duration": 34,
    "start_time": "2023-06-26T08:08:08.915Z"
   },
   {
    "duration": 2784,
    "start_time": "2023-06-26T08:08:26.473Z"
   },
   {
    "duration": 3455,
    "start_time": "2023-06-26T08:08:41.590Z"
   },
   {
    "duration": 52,
    "start_time": "2023-06-26T08:14:33.572Z"
   },
   {
    "duration": 271,
    "start_time": "2023-06-26T08:16:13.537Z"
   },
   {
    "duration": 22,
    "start_time": "2023-06-26T08:17:58.914Z"
   },
   {
    "duration": 106,
    "start_time": "2023-06-26T08:18:10.560Z"
   },
   {
    "duration": 36,
    "start_time": "2023-06-26T08:19:20.144Z"
   },
   {
    "duration": 55,
    "start_time": "2023-06-26T08:19:28.641Z"
   },
   {
    "duration": 88,
    "start_time": "2023-06-26T08:19:35.431Z"
   },
   {
    "duration": 93,
    "start_time": "2023-06-26T08:20:14.148Z"
   },
   {
    "duration": 210,
    "start_time": "2023-06-26T08:22:17.195Z"
   },
   {
    "duration": 195,
    "start_time": "2023-06-26T08:22:28.111Z"
   },
   {
    "duration": 73,
    "start_time": "2023-06-26T08:23:14.632Z"
   },
   {
    "duration": 3349,
    "start_time": "2023-06-26T08:29:23.028Z"
   },
   {
    "duration": 21,
    "start_time": "2023-06-26T08:29:27.602Z"
   },
   {
    "duration": 18,
    "start_time": "2023-06-26T08:30:22.242Z"
   },
   {
    "duration": 16,
    "start_time": "2023-06-26T08:30:52.751Z"
   },
   {
    "duration": 21,
    "start_time": "2023-06-26T08:31:00.839Z"
   },
   {
    "duration": 15,
    "start_time": "2023-06-26T08:32:00.396Z"
   },
   {
    "duration": 13,
    "start_time": "2023-06-26T08:33:29.550Z"
   },
   {
    "duration": 12,
    "start_time": "2023-06-26T08:33:36.915Z"
   },
   {
    "duration": 12,
    "start_time": "2023-06-26T08:33:57.619Z"
   },
   {
    "duration": 8,
    "start_time": "2023-06-26T08:34:16.602Z"
   },
   {
    "duration": 16,
    "start_time": "2023-06-26T08:35:18.565Z"
   },
   {
    "duration": 29,
    "start_time": "2023-06-26T08:35:33.844Z"
   },
   {
    "duration": 25,
    "start_time": "2023-06-26T08:36:33.098Z"
   },
   {
    "duration": 7,
    "start_time": "2023-06-26T08:40:18.116Z"
   },
   {
    "duration": 50,
    "start_time": "2023-06-26T08:40:18.167Z"
   },
   {
    "duration": 17,
    "start_time": "2023-06-26T08:40:18.219Z"
   },
   {
    "duration": 34,
    "start_time": "2023-06-26T08:40:18.238Z"
   },
   {
    "duration": 29,
    "start_time": "2023-06-26T08:40:18.274Z"
   },
   {
    "duration": 32,
    "start_time": "2023-06-26T08:40:18.311Z"
   },
   {
    "duration": 43,
    "start_time": "2023-06-26T08:40:18.345Z"
   },
   {
    "duration": 24,
    "start_time": "2023-06-26T08:40:18.390Z"
   },
   {
    "duration": 26,
    "start_time": "2023-06-26T08:40:18.416Z"
   },
   {
    "duration": 187,
    "start_time": "2023-06-26T08:40:18.444Z"
   },
   {
    "duration": 5,
    "start_time": "2023-06-26T08:40:18.634Z"
   },
   {
    "duration": 40,
    "start_time": "2023-06-26T08:40:18.641Z"
   },
   {
    "duration": 49,
    "start_time": "2023-06-26T08:40:18.683Z"
   },
   {
    "duration": 141,
    "start_time": "2023-06-26T08:40:18.734Z"
   },
   {
    "duration": 135,
    "start_time": "2023-06-26T08:40:18.877Z"
   },
   {
    "duration": 14,
    "start_time": "2023-06-26T08:40:19.017Z"
   },
   {
    "duration": 22,
    "start_time": "2023-06-26T08:40:19.032Z"
   },
   {
    "duration": 15,
    "start_time": "2023-06-26T08:40:19.056Z"
   },
   {
    "duration": 16,
    "start_time": "2023-06-26T08:40:19.072Z"
   },
   {
    "duration": 49,
    "start_time": "2023-06-26T08:40:19.090Z"
   },
   {
    "duration": 57,
    "start_time": "2023-06-26T08:40:19.141Z"
   },
   {
    "duration": 2731,
    "start_time": "2023-06-26T08:40:19.200Z"
   },
   {
    "duration": 46,
    "start_time": "2023-06-26T08:40:21.933Z"
   },
   {
    "duration": 1393,
    "start_time": "2023-06-26T08:40:22.001Z"
   },
   {
    "duration": 4,
    "start_time": "2023-06-26T08:40:23.396Z"
   },
   {
    "duration": 26,
    "start_time": "2023-06-26T08:40:23.407Z"
   },
   {
    "duration": 18,
    "start_time": "2023-06-26T08:40:23.435Z"
   },
   {
    "duration": 24,
    "start_time": "2023-06-26T08:40:23.454Z"
   },
   {
    "duration": 39,
    "start_time": "2023-06-26T08:40:28.595Z"
   },
   {
    "duration": 428,
    "start_time": "2023-06-26T08:42:26.215Z"
   },
   {
    "duration": 5,
    "start_time": "2023-06-26T08:43:01.596Z"
   },
   {
    "duration": 93,
    "start_time": "2023-06-26T08:43:01.603Z"
   },
   {
    "duration": 34,
    "start_time": "2023-06-26T08:43:01.698Z"
   },
   {
    "duration": 66,
    "start_time": "2023-06-26T08:43:01.734Z"
   },
   {
    "duration": 77,
    "start_time": "2023-06-26T08:43:01.802Z"
   },
   {
    "duration": 41,
    "start_time": "2023-06-26T08:43:01.881Z"
   },
   {
    "duration": 65,
    "start_time": "2023-06-26T08:43:01.924Z"
   },
   {
    "duration": 103,
    "start_time": "2023-06-26T08:43:01.992Z"
   },
   {
    "duration": 45,
    "start_time": "2023-06-26T08:43:02.097Z"
   },
   {
    "duration": 200,
    "start_time": "2023-06-26T08:43:02.144Z"
   },
   {
    "duration": 6,
    "start_time": "2023-06-26T08:43:02.346Z"
   },
   {
    "duration": 84,
    "start_time": "2023-06-26T08:43:02.354Z"
   },
   {
    "duration": 80,
    "start_time": "2023-06-26T08:43:02.440Z"
   },
   {
    "duration": 129,
    "start_time": "2023-06-26T08:43:02.523Z"
   },
   {
    "duration": 320,
    "start_time": "2023-06-26T08:43:02.654Z"
   },
   {
    "duration": 12,
    "start_time": "2023-06-26T08:43:02.976Z"
   },
   {
    "duration": 21,
    "start_time": "2023-06-26T08:43:03.008Z"
   },
   {
    "duration": 8,
    "start_time": "2023-06-26T08:43:03.031Z"
   },
   {
    "duration": 15,
    "start_time": "2023-06-26T08:43:03.041Z"
   },
   {
    "duration": 19,
    "start_time": "2023-06-26T08:43:03.058Z"
   },
   {
    "duration": 7,
    "start_time": "2023-06-26T08:43:03.079Z"
   },
   {
    "duration": 2517,
    "start_time": "2023-06-26T08:43:03.088Z"
   },
   {
    "duration": 35,
    "start_time": "2023-06-26T08:43:05.611Z"
   },
   {
    "duration": 1403,
    "start_time": "2023-06-26T08:43:05.647Z"
   },
   {
    "duration": 4,
    "start_time": "2023-06-26T08:43:07.052Z"
   },
   {
    "duration": 26,
    "start_time": "2023-06-26T08:43:07.058Z"
   },
   {
    "duration": 13,
    "start_time": "2023-06-26T08:43:07.086Z"
   },
   {
    "duration": 31,
    "start_time": "2023-06-26T08:43:07.101Z"
   },
   {
    "duration": 47,
    "start_time": "2023-06-26T08:43:07.134Z"
   },
   {
    "duration": 3,
    "start_time": "2023-06-26T08:43:07.183Z"
   },
   {
    "duration": 51,
    "start_time": "2023-06-26T08:43:07.188Z"
   },
   {
    "duration": 108,
    "start_time": "2023-06-26T08:43:07.241Z"
   },
   {
    "duration": 65,
    "start_time": "2023-06-26T08:43:07.351Z"
   },
   {
    "duration": 576,
    "start_time": "2023-06-26T08:43:17.007Z"
   },
   {
    "duration": 34,
    "start_time": "2023-06-26T08:43:56.904Z"
   },
   {
    "duration": 29,
    "start_time": "2023-06-26T08:45:47.430Z"
   },
   {
    "duration": 5,
    "start_time": "2023-06-26T08:47:23.814Z"
   },
   {
    "duration": 770,
    "start_time": "2023-06-26T08:47:47.526Z"
   },
   {
    "duration": 36,
    "start_time": "2023-06-26T08:48:06.893Z"
   },
   {
    "duration": 26,
    "start_time": "2023-06-26T08:49:47.703Z"
   },
   {
    "duration": 1017,
    "start_time": "2023-06-26T08:50:52.042Z"
   },
   {
    "duration": 31,
    "start_time": "2023-06-26T08:56:15.998Z"
   },
   {
    "duration": 1551,
    "start_time": "2023-06-26T08:56:34.309Z"
   },
   {
    "duration": 46,
    "start_time": "2023-06-26T08:56:35.862Z"
   },
   {
    "duration": 18,
    "start_time": "2023-06-26T08:56:35.912Z"
   },
   {
    "duration": 46,
    "start_time": "2023-06-26T08:56:35.932Z"
   },
   {
    "duration": 10,
    "start_time": "2023-06-26T08:56:35.981Z"
   },
   {
    "duration": 49,
    "start_time": "2023-06-26T08:56:35.993Z"
   },
   {
    "duration": 29,
    "start_time": "2023-06-26T08:56:36.044Z"
   },
   {
    "duration": 14,
    "start_time": "2023-06-26T08:56:36.075Z"
   },
   {
    "duration": 37,
    "start_time": "2023-06-26T08:56:36.091Z"
   },
   {
    "duration": 194,
    "start_time": "2023-06-26T08:56:36.131Z"
   },
   {
    "duration": 7,
    "start_time": "2023-06-26T08:56:36.327Z"
   },
   {
    "duration": 28,
    "start_time": "2023-06-26T08:56:36.336Z"
   },
   {
    "duration": 76,
    "start_time": "2023-06-26T08:56:36.366Z"
   },
   {
    "duration": 191,
    "start_time": "2023-06-26T08:56:36.456Z"
   },
   {
    "duration": 136,
    "start_time": "2023-06-26T08:56:36.650Z"
   },
   {
    "duration": 33,
    "start_time": "2023-06-26T08:56:36.788Z"
   },
   {
    "duration": 10,
    "start_time": "2023-06-26T08:56:36.823Z"
   },
   {
    "duration": 10,
    "start_time": "2023-06-26T08:56:36.834Z"
   },
   {
    "duration": 12,
    "start_time": "2023-06-26T08:56:36.846Z"
   },
   {
    "duration": 18,
    "start_time": "2023-06-26T08:56:36.859Z"
   },
   {
    "duration": 15,
    "start_time": "2023-06-26T08:56:36.879Z"
   },
   {
    "duration": 2513,
    "start_time": "2023-06-26T08:56:36.896Z"
   },
   {
    "duration": 73,
    "start_time": "2023-06-26T08:56:39.410Z"
   },
   {
    "duration": 1433,
    "start_time": "2023-06-26T08:56:39.485Z"
   },
   {
    "duration": 5,
    "start_time": "2023-06-26T08:56:40.920Z"
   },
   {
    "duration": 11,
    "start_time": "2023-06-26T08:56:40.926Z"
   },
   {
    "duration": 5,
    "start_time": "2023-06-26T08:56:40.939Z"
   },
   {
    "duration": 15,
    "start_time": "2023-06-26T08:56:40.946Z"
   },
   {
    "duration": 57,
    "start_time": "2023-06-26T08:56:40.963Z"
   },
   {
    "duration": 3,
    "start_time": "2023-06-26T08:56:41.022Z"
   },
   {
    "duration": 38,
    "start_time": "2023-06-26T08:56:41.027Z"
   },
   {
    "duration": 93,
    "start_time": "2023-06-26T08:56:41.067Z"
   },
   {
    "duration": 159,
    "start_time": "2023-06-26T08:56:41.162Z"
   },
   {
    "duration": 116,
    "start_time": "2023-06-26T08:56:41.402Z"
   },
   {
    "duration": 3217,
    "start_time": "2023-06-26T08:56:41.520Z"
   },
   {
    "duration": 24,
    "start_time": "2023-06-26T08:57:37.432Z"
   },
   {
    "duration": 6,
    "start_time": "2023-06-26T08:57:47.948Z"
   },
   {
    "duration": 48,
    "start_time": "2023-06-26T08:57:47.958Z"
   },
   {
    "duration": 272,
    "start_time": "2023-06-26T08:57:48.008Z"
   },
   {
    "duration": 22,
    "start_time": "2023-06-26T08:57:48.282Z"
   },
   {
    "duration": 23,
    "start_time": "2023-06-26T08:57:48.306Z"
   },
   {
    "duration": 11,
    "start_time": "2023-06-26T08:57:48.333Z"
   },
   {
    "duration": 22,
    "start_time": "2023-06-26T08:57:48.346Z"
   },
   {
    "duration": 10,
    "start_time": "2023-06-26T08:57:48.370Z"
   },
   {
    "duration": 37,
    "start_time": "2023-06-26T08:57:48.382Z"
   },
   {
    "duration": 153,
    "start_time": "2023-06-26T08:57:48.420Z"
   },
   {
    "duration": 6,
    "start_time": "2023-06-26T08:57:48.575Z"
   },
   {
    "duration": 50,
    "start_time": "2023-06-26T08:57:48.583Z"
   },
   {
    "duration": 51,
    "start_time": "2023-06-26T08:57:48.634Z"
   },
   {
    "duration": 141,
    "start_time": "2023-06-26T08:57:48.687Z"
   },
   {
    "duration": 149,
    "start_time": "2023-06-26T08:57:48.832Z"
   },
   {
    "duration": 18,
    "start_time": "2023-06-26T08:57:48.984Z"
   },
   {
    "duration": 10,
    "start_time": "2023-06-26T08:57:49.004Z"
   },
   {
    "duration": 7,
    "start_time": "2023-06-26T08:57:49.016Z"
   },
   {
    "duration": 20,
    "start_time": "2023-06-26T08:57:49.025Z"
   },
   {
    "duration": 20,
    "start_time": "2023-06-26T08:57:49.047Z"
   },
   {
    "duration": 31,
    "start_time": "2023-06-26T08:57:49.069Z"
   },
   {
    "duration": 2410,
    "start_time": "2023-06-26T08:57:49.102Z"
   },
   {
    "duration": 45,
    "start_time": "2023-06-26T08:57:51.515Z"
   },
   {
    "duration": 1323,
    "start_time": "2023-06-26T08:57:51.562Z"
   },
   {
    "duration": 4,
    "start_time": "2023-06-26T08:57:52.887Z"
   },
   {
    "duration": 24,
    "start_time": "2023-06-26T08:57:52.902Z"
   },
   {
    "duration": 41,
    "start_time": "2023-06-26T08:57:52.928Z"
   },
   {
    "duration": 29,
    "start_time": "2023-06-26T08:57:52.970Z"
   },
   {
    "duration": 54,
    "start_time": "2023-06-26T08:57:53.000Z"
   },
   {
    "duration": 14,
    "start_time": "2023-06-26T08:57:53.055Z"
   },
   {
    "duration": 36,
    "start_time": "2023-06-26T08:57:53.070Z"
   },
   {
    "duration": 98,
    "start_time": "2023-06-26T08:57:53.108Z"
   },
   {
    "duration": 98,
    "start_time": "2023-06-26T08:57:53.208Z"
   },
   {
    "duration": 205,
    "start_time": "2023-06-26T08:57:53.308Z"
   },
   {
    "duration": 3210,
    "start_time": "2023-06-26T08:57:55.579Z"
   },
   {
    "duration": 12,
    "start_time": "2023-06-26T08:58:51.998Z"
   },
   {
    "duration": 1561,
    "start_time": "2023-06-26T08:59:02.493Z"
   },
   {
    "duration": 41,
    "start_time": "2023-06-26T08:59:04.057Z"
   },
   {
    "duration": 13,
    "start_time": "2023-06-26T08:59:04.100Z"
   },
   {
    "duration": 38,
    "start_time": "2023-06-26T08:59:04.115Z"
   },
   {
    "duration": 20,
    "start_time": "2023-06-26T08:59:04.154Z"
   },
   {
    "duration": 11,
    "start_time": "2023-06-26T08:59:04.176Z"
   },
   {
    "duration": 17,
    "start_time": "2023-06-26T08:59:04.189Z"
   },
   {
    "duration": 7,
    "start_time": "2023-06-26T08:59:04.207Z"
   },
   {
    "duration": 7,
    "start_time": "2023-06-26T08:59:04.216Z"
   },
   {
    "duration": 176,
    "start_time": "2023-06-26T08:59:04.226Z"
   },
   {
    "duration": 5,
    "start_time": "2023-06-26T08:59:04.403Z"
   },
   {
    "duration": 28,
    "start_time": "2023-06-26T08:59:04.409Z"
   },
   {
    "duration": 46,
    "start_time": "2023-06-26T08:59:04.438Z"
   },
   {
    "duration": 134,
    "start_time": "2023-06-26T08:59:04.486Z"
   },
   {
    "duration": 119,
    "start_time": "2023-06-26T08:59:04.622Z"
   },
   {
    "duration": 13,
    "start_time": "2023-06-26T08:59:04.744Z"
   },
   {
    "duration": 10,
    "start_time": "2023-06-26T08:59:04.759Z"
   },
   {
    "duration": 5,
    "start_time": "2023-06-26T08:59:04.771Z"
   },
   {
    "duration": 4,
    "start_time": "2023-06-26T08:59:04.802Z"
   },
   {
    "duration": 12,
    "start_time": "2023-06-26T08:59:04.808Z"
   },
   {
    "duration": 9,
    "start_time": "2023-06-26T08:59:04.821Z"
   },
   {
    "duration": 2399,
    "start_time": "2023-06-26T08:59:04.832Z"
   },
   {
    "duration": 87,
    "start_time": "2023-06-26T08:59:07.232Z"
   },
   {
    "duration": 1351,
    "start_time": "2023-06-26T08:59:07.321Z"
   },
   {
    "duration": 5,
    "start_time": "2023-06-26T08:59:08.674Z"
   },
   {
    "duration": 22,
    "start_time": "2023-06-26T08:59:08.681Z"
   },
   {
    "duration": 24,
    "start_time": "2023-06-26T08:59:08.707Z"
   },
   {
    "duration": 27,
    "start_time": "2023-06-26T08:59:08.735Z"
   },
   {
    "duration": 31,
    "start_time": "2023-06-26T08:59:08.764Z"
   },
   {
    "duration": 3,
    "start_time": "2023-06-26T08:59:08.797Z"
   },
   {
    "duration": 46,
    "start_time": "2023-06-26T08:59:08.815Z"
   },
   {
    "duration": 88,
    "start_time": "2023-06-26T08:59:08.863Z"
   },
   {
    "duration": 50,
    "start_time": "2023-06-26T08:59:08.953Z"
   },
   {
    "duration": 13,
    "start_time": "2023-06-26T08:59:11.911Z"
   },
   {
    "duration": 1600,
    "start_time": "2023-06-26T09:00:16.258Z"
   },
   {
    "duration": 43,
    "start_time": "2023-06-26T09:00:17.860Z"
   },
   {
    "duration": 13,
    "start_time": "2023-06-26T09:00:17.904Z"
   },
   {
    "duration": 16,
    "start_time": "2023-06-26T09:00:17.919Z"
   },
   {
    "duration": 15,
    "start_time": "2023-06-26T09:00:17.937Z"
   },
   {
    "duration": 9,
    "start_time": "2023-06-26T09:00:17.953Z"
   },
   {
    "duration": 25,
    "start_time": "2023-06-26T09:00:17.963Z"
   },
   {
    "duration": 14,
    "start_time": "2023-06-26T09:00:17.990Z"
   },
   {
    "duration": 5,
    "start_time": "2023-06-26T09:00:18.006Z"
   },
   {
    "duration": 172,
    "start_time": "2023-06-26T09:00:18.013Z"
   },
   {
    "duration": 15,
    "start_time": "2023-06-26T09:00:18.187Z"
   },
   {
    "duration": 26,
    "start_time": "2023-06-26T09:00:18.203Z"
   },
   {
    "duration": 39,
    "start_time": "2023-06-26T09:00:18.230Z"
   },
   {
    "duration": 140,
    "start_time": "2023-06-26T09:00:18.271Z"
   },
   {
    "duration": 120,
    "start_time": "2023-06-26T09:00:18.413Z"
   },
   {
    "duration": 12,
    "start_time": "2023-06-26T09:00:18.535Z"
   },
   {
    "duration": 22,
    "start_time": "2023-06-26T09:00:18.548Z"
   },
   {
    "duration": 16,
    "start_time": "2023-06-26T09:00:18.572Z"
   },
   {
    "duration": 14,
    "start_time": "2023-06-26T09:00:18.590Z"
   },
   {
    "duration": 16,
    "start_time": "2023-06-26T09:00:18.606Z"
   },
   {
    "duration": 11,
    "start_time": "2023-06-26T09:00:18.624Z"
   },
   {
    "duration": 2428,
    "start_time": "2023-06-26T09:00:18.637Z"
   },
   {
    "duration": 78,
    "start_time": "2023-06-26T09:00:21.067Z"
   },
   {
    "duration": 1354,
    "start_time": "2023-06-26T09:00:21.148Z"
   },
   {
    "duration": 6,
    "start_time": "2023-06-26T09:00:22.504Z"
   },
   {
    "duration": 18,
    "start_time": "2023-06-26T09:00:22.511Z"
   },
   {
    "duration": 83,
    "start_time": "2023-06-26T09:00:22.531Z"
   },
   {
    "duration": 20,
    "start_time": "2023-06-26T09:00:22.618Z"
   },
   {
    "duration": 44,
    "start_time": "2023-06-26T09:00:22.640Z"
   },
   {
    "duration": 3,
    "start_time": "2023-06-26T09:00:22.687Z"
   },
   {
    "duration": 75,
    "start_time": "2023-06-26T09:00:22.691Z"
   },
   {
    "duration": 14,
    "start_time": "2023-06-26T09:00:45.907Z"
   },
   {
    "duration": 11,
    "start_time": "2023-06-26T09:01:22.901Z"
   },
   {
    "duration": 1750,
    "start_time": "2023-06-26T09:01:50.160Z"
   },
   {
    "duration": 42,
    "start_time": "2023-06-26T09:01:51.912Z"
   },
   {
    "duration": 13,
    "start_time": "2023-06-26T09:01:51.955Z"
   },
   {
    "duration": 29,
    "start_time": "2023-06-26T09:01:51.969Z"
   },
   {
    "duration": 24,
    "start_time": "2023-06-26T09:01:52.000Z"
   },
   {
    "duration": 10,
    "start_time": "2023-06-26T09:01:52.025Z"
   },
   {
    "duration": 31,
    "start_time": "2023-06-26T09:01:52.036Z"
   },
   {
    "duration": 24,
    "start_time": "2023-06-26T09:01:52.069Z"
   },
   {
    "duration": 15,
    "start_time": "2023-06-26T09:01:52.095Z"
   },
   {
    "duration": 173,
    "start_time": "2023-06-26T09:01:52.112Z"
   },
   {
    "duration": 5,
    "start_time": "2023-06-26T09:01:52.286Z"
   },
   {
    "duration": 55,
    "start_time": "2023-06-26T09:01:52.292Z"
   },
   {
    "duration": 88,
    "start_time": "2023-06-26T09:01:52.348Z"
   },
   {
    "duration": 125,
    "start_time": "2023-06-26T09:01:52.439Z"
   },
   {
    "duration": 118,
    "start_time": "2023-06-26T09:01:52.565Z"
   },
   {
    "duration": 20,
    "start_time": "2023-06-26T09:01:52.684Z"
   },
   {
    "duration": 10,
    "start_time": "2023-06-26T09:01:52.706Z"
   },
   {
    "duration": 5,
    "start_time": "2023-06-26T09:01:52.718Z"
   },
   {
    "duration": 6,
    "start_time": "2023-06-26T09:01:52.725Z"
   },
   {
    "duration": 9,
    "start_time": "2023-06-26T09:01:52.733Z"
   },
   {
    "duration": 11,
    "start_time": "2023-06-26T09:01:52.743Z"
   },
   {
    "duration": 2450,
    "start_time": "2023-06-26T09:01:52.756Z"
   },
   {
    "duration": 69,
    "start_time": "2023-06-26T09:01:55.208Z"
   },
   {
    "duration": 1323,
    "start_time": "2023-06-26T09:01:55.279Z"
   },
   {
    "duration": 5,
    "start_time": "2023-06-26T09:01:56.603Z"
   },
   {
    "duration": 9,
    "start_time": "2023-06-26T09:01:56.610Z"
   },
   {
    "duration": 15,
    "start_time": "2023-06-26T09:01:56.621Z"
   },
   {
    "duration": 55,
    "start_time": "2023-06-26T09:01:56.638Z"
   },
   {
    "duration": 50,
    "start_time": "2023-06-26T09:01:56.694Z"
   },
   {
    "duration": 14,
    "start_time": "2023-06-26T09:02:06.101Z"
   },
   {
    "duration": 3,
    "start_time": "2023-06-26T09:02:16.965Z"
   },
   {
    "duration": 3,
    "start_time": "2023-06-26T09:02:27.943Z"
   },
   {
    "duration": 32,
    "start_time": "2023-06-26T09:02:29.604Z"
   },
   {
    "duration": 59,
    "start_time": "2023-06-26T09:03:29.834Z"
   },
   {
    "duration": 1842,
    "start_time": "2023-06-26T09:03:37.429Z"
   },
   {
    "duration": 42,
    "start_time": "2023-06-26T09:03:39.273Z"
   },
   {
    "duration": 14,
    "start_time": "2023-06-26T09:03:39.317Z"
   },
   {
    "duration": 27,
    "start_time": "2023-06-26T09:03:39.333Z"
   },
   {
    "duration": 10,
    "start_time": "2023-06-26T09:03:39.362Z"
   },
   {
    "duration": 21,
    "start_time": "2023-06-26T09:03:39.373Z"
   },
   {
    "duration": 24,
    "start_time": "2023-06-26T09:03:39.396Z"
   },
   {
    "duration": 4,
    "start_time": "2023-06-26T09:03:39.422Z"
   },
   {
    "duration": 15,
    "start_time": "2023-06-26T09:03:39.428Z"
   },
   {
    "duration": 171,
    "start_time": "2023-06-26T09:03:39.446Z"
   },
   {
    "duration": 5,
    "start_time": "2023-06-26T09:03:39.618Z"
   },
   {
    "duration": 26,
    "start_time": "2023-06-26T09:03:39.624Z"
   },
   {
    "duration": 52,
    "start_time": "2023-06-26T09:03:39.651Z"
   },
   {
    "duration": 131,
    "start_time": "2023-06-26T09:03:39.704Z"
   },
   {
    "duration": 115,
    "start_time": "2023-06-26T09:03:39.836Z"
   },
   {
    "duration": 12,
    "start_time": "2023-06-26T09:03:39.952Z"
   },
   {
    "duration": 20,
    "start_time": "2023-06-26T09:03:39.966Z"
   },
   {
    "duration": 15,
    "start_time": "2023-06-26T09:03:39.987Z"
   },
   {
    "duration": 9,
    "start_time": "2023-06-26T09:03:40.003Z"
   },
   {
    "duration": 12,
    "start_time": "2023-06-26T09:03:40.014Z"
   },
   {
    "duration": 16,
    "start_time": "2023-06-26T09:03:40.028Z"
   },
   {
    "duration": 2442,
    "start_time": "2023-06-26T09:03:40.046Z"
   },
   {
    "duration": 78,
    "start_time": "2023-06-26T09:03:42.490Z"
   },
   {
    "duration": 1328,
    "start_time": "2023-06-26T09:03:42.570Z"
   },
   {
    "duration": 5,
    "start_time": "2023-06-26T09:03:43.901Z"
   },
   {
    "duration": 19,
    "start_time": "2023-06-26T09:03:43.908Z"
   },
   {
    "duration": 11,
    "start_time": "2023-06-26T09:03:43.929Z"
   },
   {
    "duration": 12,
    "start_time": "2023-06-26T09:03:43.943Z"
   },
   {
    "duration": 31,
    "start_time": "2023-06-26T09:03:43.956Z"
   },
   {
    "duration": 3,
    "start_time": "2023-06-26T09:03:44.002Z"
   },
   {
    "duration": 33,
    "start_time": "2023-06-26T09:10:11.323Z"
   },
   {
    "duration": 14,
    "start_time": "2023-06-26T09:10:19.097Z"
   },
   {
    "duration": 1696,
    "start_time": "2023-06-26T09:11:43.565Z"
   },
   {
    "duration": 43,
    "start_time": "2023-06-26T09:11:45.263Z"
   },
   {
    "duration": 13,
    "start_time": "2023-06-26T09:11:45.308Z"
   },
   {
    "duration": 16,
    "start_time": "2023-06-26T09:11:45.323Z"
   },
   {
    "duration": 14,
    "start_time": "2023-06-26T09:11:45.341Z"
   },
   {
    "duration": 22,
    "start_time": "2023-06-26T09:11:45.357Z"
   },
   {
    "duration": 25,
    "start_time": "2023-06-26T09:11:45.380Z"
   },
   {
    "duration": 6,
    "start_time": "2023-06-26T09:11:45.407Z"
   },
   {
    "duration": 6,
    "start_time": "2023-06-26T09:11:45.414Z"
   },
   {
    "duration": 182,
    "start_time": "2023-06-26T09:11:45.421Z"
   },
   {
    "duration": 6,
    "start_time": "2023-06-26T09:11:45.605Z"
   },
   {
    "duration": 45,
    "start_time": "2023-06-26T09:11:45.613Z"
   },
   {
    "duration": 39,
    "start_time": "2023-06-26T09:11:45.660Z"
   },
   {
    "duration": 124,
    "start_time": "2023-06-26T09:11:45.703Z"
   },
   {
    "duration": 118,
    "start_time": "2023-06-26T09:11:45.829Z"
   },
   {
    "duration": 12,
    "start_time": "2023-06-26T09:11:45.949Z"
   },
   {
    "duration": 19,
    "start_time": "2023-06-26T09:11:45.962Z"
   },
   {
    "duration": 25,
    "start_time": "2023-06-26T09:11:45.983Z"
   },
   {
    "duration": 6,
    "start_time": "2023-06-26T09:11:46.010Z"
   },
   {
    "duration": 10,
    "start_time": "2023-06-26T09:11:46.018Z"
   },
   {
    "duration": 12,
    "start_time": "2023-06-26T09:11:46.030Z"
   },
   {
    "duration": 2352,
    "start_time": "2023-06-26T09:11:46.044Z"
   },
   {
    "duration": 69,
    "start_time": "2023-06-26T09:11:48.401Z"
   },
   {
    "duration": 1326,
    "start_time": "2023-06-26T09:11:48.471Z"
   },
   {
    "duration": 6,
    "start_time": "2023-06-26T09:11:49.798Z"
   },
   {
    "duration": 6,
    "start_time": "2023-06-26T09:11:49.805Z"
   },
   {
    "duration": 5,
    "start_time": "2023-06-26T09:11:49.813Z"
   },
   {
    "duration": 16,
    "start_time": "2023-06-26T09:11:49.820Z"
   },
   {
    "duration": 31,
    "start_time": "2023-06-26T09:11:49.837Z"
   },
   {
    "duration": 3,
    "start_time": "2023-06-26T09:11:49.869Z"
   },
   {
    "duration": 31,
    "start_time": "2023-06-26T09:11:49.902Z"
   },
   {
    "duration": 13,
    "start_time": "2023-06-26T09:12:09.589Z"
   },
   {
    "duration": 6,
    "start_time": "2023-06-26T09:12:50.024Z"
   },
   {
    "duration": 726,
    "start_time": "2023-06-26T09:12:50.032Z"
   },
   {
    "duration": 16,
    "start_time": "2023-06-26T09:12:50.760Z"
   },
   {
    "duration": 13,
    "start_time": "2023-06-26T09:12:50.778Z"
   },
   {
    "duration": 12,
    "start_time": "2023-06-26T09:12:50.794Z"
   },
   {
    "duration": 13,
    "start_time": "2023-06-26T09:12:50.808Z"
   },
   {
    "duration": 20,
    "start_time": "2023-06-26T09:12:50.823Z"
   },
   {
    "duration": 5,
    "start_time": "2023-06-26T09:12:50.845Z"
   },
   {
    "duration": 39,
    "start_time": "2023-06-26T09:12:50.851Z"
   },
   {
    "duration": 178,
    "start_time": "2023-06-26T09:12:50.892Z"
   },
   {
    "duration": 5,
    "start_time": "2023-06-26T09:12:51.072Z"
   },
   {
    "duration": 45,
    "start_time": "2023-06-26T09:12:51.078Z"
   },
   {
    "duration": 39,
    "start_time": "2023-06-26T09:12:51.124Z"
   },
   {
    "duration": 139,
    "start_time": "2023-06-26T09:12:51.166Z"
   },
   {
    "duration": 117,
    "start_time": "2023-06-26T09:12:51.307Z"
   },
   {
    "duration": 12,
    "start_time": "2023-06-26T09:12:51.425Z"
   },
   {
    "duration": 27,
    "start_time": "2023-06-26T09:12:51.438Z"
   },
   {
    "duration": 23,
    "start_time": "2023-06-26T09:12:51.467Z"
   },
   {
    "duration": 15,
    "start_time": "2023-06-26T09:12:51.492Z"
   },
   {
    "duration": 37,
    "start_time": "2023-06-26T09:12:51.508Z"
   },
   {
    "duration": 27,
    "start_time": "2023-06-26T09:12:51.547Z"
   },
   {
    "duration": 2559,
    "start_time": "2023-06-26T09:12:51.576Z"
   },
   {
    "duration": 32,
    "start_time": "2023-06-26T09:12:54.138Z"
   },
   {
    "duration": 1331,
    "start_time": "2023-06-26T09:12:54.173Z"
   },
   {
    "duration": 5,
    "start_time": "2023-06-26T09:12:55.506Z"
   },
   {
    "duration": 47,
    "start_time": "2023-06-26T09:12:55.513Z"
   },
   {
    "duration": 26,
    "start_time": "2023-06-26T09:12:55.562Z"
   },
   {
    "duration": 15,
    "start_time": "2023-06-26T09:12:55.590Z"
   },
   {
    "duration": 47,
    "start_time": "2023-06-26T09:12:55.607Z"
   },
   {
    "duration": 3,
    "start_time": "2023-06-26T09:12:55.655Z"
   },
   {
    "duration": 57,
    "start_time": "2023-06-26T09:12:55.660Z"
   },
   {
    "duration": 22,
    "start_time": "2023-06-26T09:13:21.033Z"
   },
   {
    "duration": 6,
    "start_time": "2023-06-26T09:13:43.813Z"
   },
   {
    "duration": 76,
    "start_time": "2023-06-26T09:13:43.823Z"
   },
   {
    "duration": 24,
    "start_time": "2023-06-26T09:13:43.901Z"
   },
   {
    "duration": 42,
    "start_time": "2023-06-26T09:13:43.927Z"
   },
   {
    "duration": 35,
    "start_time": "2023-06-26T09:13:43.971Z"
   },
   {
    "duration": 41,
    "start_time": "2023-06-26T09:13:44.009Z"
   },
   {
    "duration": 53,
    "start_time": "2023-06-26T09:13:44.052Z"
   },
   {
    "duration": 24,
    "start_time": "2023-06-26T09:13:44.106Z"
   },
   {
    "duration": 39,
    "start_time": "2023-06-26T09:13:44.131Z"
   },
   {
    "duration": 172,
    "start_time": "2023-06-26T09:13:44.172Z"
   },
   {
    "duration": 5,
    "start_time": "2023-06-26T09:13:44.345Z"
   },
   {
    "duration": 35,
    "start_time": "2023-06-26T09:13:44.352Z"
   },
   {
    "duration": 50,
    "start_time": "2023-06-26T09:13:44.388Z"
   },
   {
    "duration": 325,
    "start_time": "2023-06-26T09:13:44.440Z"
   },
   {
    "duration": 119,
    "start_time": "2023-06-26T09:13:44.768Z"
   },
   {
    "duration": 22,
    "start_time": "2023-06-26T09:13:44.889Z"
   },
   {
    "duration": 17,
    "start_time": "2023-06-26T09:13:44.912Z"
   },
   {
    "duration": 10,
    "start_time": "2023-06-26T09:13:44.931Z"
   },
   {
    "duration": 23,
    "start_time": "2023-06-26T09:13:44.943Z"
   },
   {
    "duration": 18,
    "start_time": "2023-06-26T09:13:44.969Z"
   },
   {
    "duration": 12,
    "start_time": "2023-06-26T09:13:44.989Z"
   },
   {
    "duration": 2330,
    "start_time": "2023-06-26T09:13:45.003Z"
   },
   {
    "duration": 32,
    "start_time": "2023-06-26T09:13:47.334Z"
   },
   {
    "duration": 1381,
    "start_time": "2023-06-26T09:13:47.368Z"
   },
   {
    "duration": 5,
    "start_time": "2023-06-26T09:13:48.751Z"
   },
   {
    "duration": 13,
    "start_time": "2023-06-26T09:13:48.758Z"
   },
   {
    "duration": 28,
    "start_time": "2023-06-26T09:13:48.773Z"
   },
   {
    "duration": 16,
    "start_time": "2023-06-26T09:13:48.805Z"
   },
   {
    "duration": 36,
    "start_time": "2023-06-26T09:13:48.822Z"
   },
   {
    "duration": 3,
    "start_time": "2023-06-26T09:13:48.860Z"
   },
   {
    "duration": 43,
    "start_time": "2023-06-26T09:13:48.865Z"
   },
   {
    "duration": 135,
    "start_time": "2023-06-26T09:14:01.604Z"
   },
   {
    "duration": 16,
    "start_time": "2023-06-26T09:14:18.032Z"
   },
   {
    "duration": 16,
    "start_time": "2023-06-26T09:22:33.755Z"
   },
   {
    "duration": 1595,
    "start_time": "2023-06-26T09:23:39.109Z"
   },
   {
    "duration": 44,
    "start_time": "2023-06-26T09:23:40.706Z"
   },
   {
    "duration": 14,
    "start_time": "2023-06-26T09:23:40.752Z"
   },
   {
    "duration": 50,
    "start_time": "2023-06-26T09:23:40.768Z"
   },
   {
    "duration": 41,
    "start_time": "2023-06-26T09:23:40.820Z"
   },
   {
    "duration": 37,
    "start_time": "2023-06-26T09:23:40.863Z"
   },
   {
    "duration": 33,
    "start_time": "2023-06-26T09:23:40.901Z"
   },
   {
    "duration": 31,
    "start_time": "2023-06-26T09:23:40.936Z"
   },
   {
    "duration": 41,
    "start_time": "2023-06-26T09:23:40.969Z"
   },
   {
    "duration": 170,
    "start_time": "2023-06-26T09:23:41.012Z"
   },
   {
    "duration": 5,
    "start_time": "2023-06-26T09:23:41.185Z"
   },
   {
    "duration": 41,
    "start_time": "2023-06-26T09:23:41.192Z"
   },
   {
    "duration": 61,
    "start_time": "2023-06-26T09:23:41.234Z"
   },
   {
    "duration": 126,
    "start_time": "2023-06-26T09:23:41.298Z"
   },
   {
    "duration": 117,
    "start_time": "2023-06-26T09:23:41.426Z"
   },
   {
    "duration": 13,
    "start_time": "2023-06-26T09:23:41.546Z"
   },
   {
    "duration": 11,
    "start_time": "2023-06-26T09:23:41.561Z"
   },
   {
    "duration": 29,
    "start_time": "2023-06-26T09:23:41.574Z"
   },
   {
    "duration": 11,
    "start_time": "2023-06-26T09:23:41.605Z"
   },
   {
    "duration": 17,
    "start_time": "2023-06-26T09:23:41.618Z"
   },
   {
    "duration": 13,
    "start_time": "2023-06-26T09:23:41.637Z"
   },
   {
    "duration": 2469,
    "start_time": "2023-06-26T09:23:41.652Z"
   },
   {
    "duration": 81,
    "start_time": "2023-06-26T09:23:44.123Z"
   },
   {
    "duration": 1350,
    "start_time": "2023-06-26T09:23:44.206Z"
   },
   {
    "duration": 5,
    "start_time": "2023-06-26T09:23:45.558Z"
   },
   {
    "duration": 14,
    "start_time": "2023-06-26T09:23:45.564Z"
   },
   {
    "duration": 29,
    "start_time": "2023-06-26T09:23:45.579Z"
   },
   {
    "duration": 27,
    "start_time": "2023-06-26T09:23:45.610Z"
   },
   {
    "duration": 42,
    "start_time": "2023-06-26T09:23:45.639Z"
   },
   {
    "duration": 14,
    "start_time": "2023-06-26T09:23:45.683Z"
   },
   {
    "duration": 48,
    "start_time": "2023-06-26T09:23:45.698Z"
   },
   {
    "duration": 92,
    "start_time": "2023-06-26T09:23:45.748Z"
   },
   {
    "duration": 161,
    "start_time": "2023-06-26T09:23:45.842Z"
   },
   {
    "duration": 101,
    "start_time": "2023-06-26T09:23:46.005Z"
   },
   {
    "duration": 27,
    "start_time": "2023-06-26T09:23:46.107Z"
   },
   {
    "duration": 3132,
    "start_time": "2023-06-26T09:23:50.505Z"
   },
   {
    "duration": 20,
    "start_time": "2023-06-26T09:24:21.926Z"
   },
   {
    "duration": 19,
    "start_time": "2023-06-26T09:24:43.317Z"
   },
   {
    "duration": 3276,
    "start_time": "2023-06-26T09:25:01.204Z"
   },
   {
    "duration": 5,
    "start_time": "2023-06-26T09:26:23.756Z"
   },
   {
    "duration": 110,
    "start_time": "2023-06-26T09:26:54.700Z"
   },
   {
    "duration": 5,
    "start_time": "2023-06-26T09:27:12.357Z"
   },
   {
    "duration": 355,
    "start_time": "2023-06-26T09:27:14.331Z"
   },
   {
    "duration": 5,
    "start_time": "2023-06-26T09:28:05.056Z"
   },
   {
    "duration": 224436,
    "start_time": "2023-06-26T09:28:06.942Z"
   },
   {
    "duration": 5,
    "start_time": "2023-06-26T09:34:23.340Z"
   },
   {
    "duration": 2041,
    "start_time": "2023-06-26T09:35:39.316Z"
   },
   {
    "duration": 46,
    "start_time": "2023-06-26T09:35:41.359Z"
   },
   {
    "duration": 14,
    "start_time": "2023-06-26T09:35:41.407Z"
   },
   {
    "duration": 31,
    "start_time": "2023-06-26T09:35:41.423Z"
   },
   {
    "duration": 33,
    "start_time": "2023-06-26T09:35:41.456Z"
   },
   {
    "duration": 25,
    "start_time": "2023-06-26T09:35:41.491Z"
   },
   {
    "duration": 42,
    "start_time": "2023-06-26T09:35:41.518Z"
   },
   {
    "duration": 46,
    "start_time": "2023-06-26T09:35:41.562Z"
   },
   {
    "duration": 15,
    "start_time": "2023-06-26T09:35:41.610Z"
   },
   {
    "duration": 189,
    "start_time": "2023-06-26T09:35:41.628Z"
   },
   {
    "duration": 5,
    "start_time": "2023-06-26T09:35:41.819Z"
   },
   {
    "duration": 56,
    "start_time": "2023-06-26T09:35:41.826Z"
   },
   {
    "duration": 54,
    "start_time": "2023-06-26T09:35:41.885Z"
   },
   {
    "duration": 153,
    "start_time": "2023-06-26T09:35:41.942Z"
   },
   {
    "duration": 183,
    "start_time": "2023-06-26T09:35:42.098Z"
   },
   {
    "duration": 20,
    "start_time": "2023-06-26T09:35:42.283Z"
   },
   {
    "duration": 55,
    "start_time": "2023-06-26T09:35:42.304Z"
   },
   {
    "duration": 27,
    "start_time": "2023-06-26T09:35:42.361Z"
   },
   {
    "duration": 45,
    "start_time": "2023-06-26T09:35:42.390Z"
   },
   {
    "duration": 45,
    "start_time": "2023-06-26T09:35:42.437Z"
   },
   {
    "duration": 36,
    "start_time": "2023-06-26T09:35:42.484Z"
   },
   {
    "duration": 2633,
    "start_time": "2023-06-26T09:35:42.522Z"
   },
   {
    "duration": 86,
    "start_time": "2023-06-26T09:35:45.157Z"
   },
   {
    "duration": 1457,
    "start_time": "2023-06-26T09:35:45.245Z"
   },
   {
    "duration": 7,
    "start_time": "2023-06-26T09:35:46.704Z"
   },
   {
    "duration": 15,
    "start_time": "2023-06-26T09:35:46.713Z"
   },
   {
    "duration": 8,
    "start_time": "2023-06-26T09:35:46.729Z"
   },
   {
    "duration": 14,
    "start_time": "2023-06-26T09:35:46.741Z"
   },
   {
    "duration": 57,
    "start_time": "2023-06-26T09:35:46.757Z"
   },
   {
    "duration": 3,
    "start_time": "2023-06-26T09:35:46.816Z"
   },
   {
    "duration": 37,
    "start_time": "2023-06-26T09:35:46.821Z"
   },
   {
    "duration": 118,
    "start_time": "2023-06-26T09:35:46.860Z"
   },
   {
    "duration": 231,
    "start_time": "2023-06-26T09:35:46.980Z"
   },
   {
    "duration": 88,
    "start_time": "2023-06-26T09:35:47.215Z"
   },
   {
    "duration": 27,
    "start_time": "2023-06-26T09:35:47.305Z"
   },
   {
    "duration": 3176,
    "start_time": "2023-06-26T09:35:47.335Z"
   },
   {
    "duration": 5,
    "start_time": "2023-06-26T09:45:56.952Z"
   },
   {
    "duration": 3,
    "start_time": "2023-06-26T09:45:58.655Z"
   },
   {
    "duration": 316,
    "start_time": "2023-06-26T09:46:00.062Z"
   },
   {
    "duration": 95,
    "start_time": "2023-06-26T09:46:19.716Z"
   },
   {
    "duration": 127,
    "start_time": "2023-06-26T09:52:58.116Z"
   },
   {
    "duration": 3777,
    "start_time": "2023-06-26T09:53:16.240Z"
   },
   {
    "duration": 1697,
    "start_time": "2023-06-26T09:53:44.459Z"
   },
   {
    "duration": 116,
    "start_time": "2023-06-26T09:54:02.042Z"
   },
   {
    "duration": 11,
    "start_time": "2023-06-26T09:56:30.320Z"
   },
   {
    "duration": 3,
    "start_time": "2023-06-26T09:56:35.407Z"
   },
   {
    "duration": 36,
    "start_time": "2023-06-26T09:56:35.412Z"
   },
   {
    "duration": 156,
    "start_time": "2023-06-26T09:56:35.450Z"
   },
   {
    "duration": 25,
    "start_time": "2023-06-26T09:56:35.608Z"
   },
   {
    "duration": 53,
    "start_time": "2023-06-26T09:56:35.635Z"
   },
   {
    "duration": 28,
    "start_time": "2023-06-26T09:56:35.690Z"
   },
   {
    "duration": 57,
    "start_time": "2023-06-26T09:56:35.720Z"
   },
   {
    "duration": 46,
    "start_time": "2023-06-26T09:56:35.779Z"
   },
   {
    "duration": 41,
    "start_time": "2023-06-26T09:56:35.828Z"
   },
   {
    "duration": 26,
    "start_time": "2023-06-26T09:56:35.871Z"
   },
   {
    "duration": 218,
    "start_time": "2023-06-26T09:56:35.899Z"
   },
   {
    "duration": 7,
    "start_time": "2023-06-26T09:56:36.119Z"
   },
   {
    "duration": 67,
    "start_time": "2023-06-26T09:56:36.127Z"
   },
   {
    "duration": 38,
    "start_time": "2023-06-26T09:56:36.196Z"
   },
   {
    "duration": 135,
    "start_time": "2023-06-26T09:56:36.237Z"
   },
   {
    "duration": 125,
    "start_time": "2023-06-26T09:56:36.374Z"
   },
   {
    "duration": 12,
    "start_time": "2023-06-26T09:56:36.501Z"
   },
   {
    "duration": 15,
    "start_time": "2023-06-26T09:56:36.515Z"
   },
   {
    "duration": 17,
    "start_time": "2023-06-26T09:56:36.532Z"
   },
   {
    "duration": 21,
    "start_time": "2023-06-26T09:56:36.551Z"
   },
   {
    "duration": 15,
    "start_time": "2023-06-26T09:56:36.574Z"
   },
   {
    "duration": 22,
    "start_time": "2023-06-26T09:56:36.591Z"
   },
   {
    "duration": 2560,
    "start_time": "2023-06-26T09:56:36.614Z"
   },
   {
    "duration": 79,
    "start_time": "2023-06-26T09:56:39.178Z"
   },
   {
    "duration": 1449,
    "start_time": "2023-06-26T09:56:39.259Z"
   },
   {
    "duration": 5,
    "start_time": "2023-06-26T09:56:40.710Z"
   },
   {
    "duration": 11,
    "start_time": "2023-06-26T09:56:40.717Z"
   },
   {
    "duration": 12,
    "start_time": "2023-06-26T09:56:40.729Z"
   },
   {
    "duration": 30,
    "start_time": "2023-06-26T09:56:40.743Z"
   },
   {
    "duration": 141,
    "start_time": "2023-06-26T09:56:40.775Z"
   },
   {
    "duration": 3,
    "start_time": "2023-06-26T09:56:40.918Z"
   },
   {
    "duration": 51,
    "start_time": "2023-06-26T09:56:40.922Z"
   },
   {
    "duration": 87,
    "start_time": "2023-06-26T09:56:40.975Z"
   },
   {
    "duration": 144,
    "start_time": "2023-06-26T09:56:41.064Z"
   },
   {
    "duration": 92,
    "start_time": "2023-06-26T09:56:41.211Z"
   },
   {
    "duration": 119,
    "start_time": "2023-06-26T09:56:41.305Z"
   },
   {
    "duration": 3112,
    "start_time": "2023-06-26T09:56:41.427Z"
   },
   {
    "duration": 4,
    "start_time": "2023-06-26T09:56:44.541Z"
   },
   {
    "duration": 23,
    "start_time": "2023-06-26T09:56:44.547Z"
   },
   {
    "duration": 310,
    "start_time": "2023-06-26T09:56:44.572Z"
   },
   {
    "duration": 37,
    "start_time": "2023-06-26T09:56:44.885Z"
   },
   {
    "duration": 15,
    "start_time": "2023-06-26T09:56:55.160Z"
   },
   {
    "duration": 15,
    "start_time": "2023-06-26T09:58:11.429Z"
   },
   {
    "duration": 18,
    "start_time": "2023-06-26T09:58:24.308Z"
   },
   {
    "duration": 2128,
    "start_time": "2023-06-26T09:59:17.508Z"
   },
   {
    "duration": 107270,
    "start_time": "2023-06-26T10:00:44.837Z"
   },
   {
    "duration": 14,
    "start_time": "2023-06-26T10:03:14.250Z"
   },
   {
    "duration": 216,
    "start_time": "2023-06-26T10:03:46.532Z"
   },
   {
    "duration": 0,
    "start_time": "2023-06-26T10:05:58.150Z"
   },
   {
    "duration": 0,
    "start_time": "2023-06-26T10:05:58.151Z"
   },
   {
    "duration": 14,
    "start_time": "2023-06-26T10:06:11.300Z"
   },
   {
    "duration": 13,
    "start_time": "2023-06-26T10:06:27.586Z"
   },
   {
    "duration": 859,
    "start_time": "2023-06-26T10:06:54.138Z"
   },
   {
    "duration": 13,
    "start_time": "2023-06-26T10:07:06.890Z"
   },
   {
    "duration": 137,
    "start_time": "2023-06-26T10:07:34.515Z"
   },
   {
    "duration": 6,
    "start_time": "2023-06-26T10:12:09.418Z"
   },
   {
    "duration": 15,
    "start_time": "2023-06-26T10:12:21.605Z"
   },
   {
    "duration": 6,
    "start_time": "2023-06-26T10:12:41.688Z"
   },
   {
    "duration": 5,
    "start_time": "2023-06-26T10:14:21.324Z"
   },
   {
    "duration": 416,
    "start_time": "2023-06-26T10:14:24.498Z"
   },
   {
    "duration": 5,
    "start_time": "2023-06-26T10:15:33.060Z"
   },
   {
    "duration": 369,
    "start_time": "2023-06-26T10:15:34.802Z"
   },
   {
    "duration": 5,
    "start_time": "2023-06-26T10:16:46.617Z"
   },
   {
    "duration": 374,
    "start_time": "2023-06-26T10:16:48.104Z"
   },
   {
    "duration": 6,
    "start_time": "2023-06-26T10:18:49.445Z"
   },
   {
    "duration": 1792,
    "start_time": "2023-06-26T10:18:50.916Z"
   },
   {
    "duration": 5,
    "start_time": "2023-06-26T10:20:01.290Z"
   },
   {
    "duration": 377,
    "start_time": "2023-06-26T10:20:02.913Z"
   },
   {
    "duration": 5,
    "start_time": "2023-06-26T10:20:19.143Z"
   },
   {
    "duration": 429,
    "start_time": "2023-06-26T10:20:25.211Z"
   },
   {
    "duration": 409,
    "start_time": "2023-06-26T10:20:48.247Z"
   },
   {
    "duration": 166,
    "start_time": "2023-06-26T10:22:23.417Z"
   },
   {
    "duration": 5,
    "start_time": "2023-06-26T10:22:36.732Z"
   },
   {
    "duration": 446,
    "start_time": "2023-06-26T10:22:44.498Z"
   },
   {
    "duration": 5,
    "start_time": "2023-06-26T10:22:53.094Z"
   },
   {
    "duration": 386,
    "start_time": "2023-06-26T10:22:55.663Z"
   },
   {
    "duration": 5,
    "start_time": "2023-06-26T10:23:04.995Z"
   },
   {
    "duration": 408,
    "start_time": "2023-06-26T10:23:07.229Z"
   },
   {
    "duration": 5,
    "start_time": "2023-06-26T10:23:58.385Z"
   },
   {
    "duration": 384,
    "start_time": "2023-06-26T10:24:01.788Z"
   },
   {
    "duration": 5,
    "start_time": "2023-06-26T10:26:07.512Z"
   },
   {
    "duration": 388,
    "start_time": "2023-06-26T10:26:11.314Z"
   },
   {
    "duration": 399,
    "start_time": "2023-06-26T10:26:30.856Z"
   },
   {
    "duration": 5,
    "start_time": "2023-06-26T10:26:46.523Z"
   },
   {
    "duration": 384,
    "start_time": "2023-06-26T10:26:49.899Z"
   },
   {
    "duration": 5,
    "start_time": "2023-06-26T10:28:34.599Z"
   },
   {
    "duration": 12,
    "start_time": "2023-06-26T10:28:36.736Z"
   },
   {
    "duration": 375,
    "start_time": "2023-06-26T10:29:07.186Z"
   },
   {
    "duration": 4,
    "start_time": "2023-06-26T10:29:20.084Z"
   },
   {
    "duration": 388,
    "start_time": "2023-06-26T10:29:21.795Z"
   },
   {
    "duration": 6,
    "start_time": "2023-06-26T10:30:15.696Z"
   },
   {
    "duration": 337,
    "start_time": "2023-06-26T10:30:17.991Z"
   },
   {
    "duration": 4,
    "start_time": "2023-06-26T10:30:41.038Z"
   },
   {
    "duration": 353,
    "start_time": "2023-06-26T10:30:42.609Z"
   },
   {
    "duration": 5,
    "start_time": "2023-06-26T10:30:53.966Z"
   },
   {
    "duration": 1831,
    "start_time": "2023-06-26T10:30:56.722Z"
   },
   {
    "duration": 5,
    "start_time": "2023-06-26T10:31:24.350Z"
   },
   {
    "duration": 350,
    "start_time": "2023-06-26T10:31:27.219Z"
   },
   {
    "duration": 4,
    "start_time": "2023-06-26T10:31:41.552Z"
   },
   {
    "duration": 380,
    "start_time": "2023-06-26T10:31:43.503Z"
   },
   {
    "duration": 4,
    "start_time": "2023-06-26T10:32:06.719Z"
   },
   {
    "duration": 361,
    "start_time": "2023-06-26T10:32:08.882Z"
   },
   {
    "duration": 296,
    "start_time": "2023-06-26T10:32:23.210Z"
   },
   {
    "duration": 412,
    "start_time": "2023-06-26T10:32:24.729Z"
   },
   {
    "duration": 5,
    "start_time": "2023-06-26T10:33:23.486Z"
   },
   {
    "duration": 400,
    "start_time": "2023-06-26T10:33:25.990Z"
   },
   {
    "duration": 5,
    "start_time": "2023-06-26T10:34:28.112Z"
   },
   {
    "duration": 5,
    "start_time": "2023-06-26T10:35:09.345Z"
   },
   {
    "duration": 348,
    "start_time": "2023-06-26T10:35:11.840Z"
   },
   {
    "duration": 5,
    "start_time": "2023-06-26T10:35:36.517Z"
   },
   {
    "duration": 42981,
    "start_time": "2023-06-26T10:35:38.106Z"
   },
   {
    "duration": 6,
    "start_time": "2023-06-26T10:36:54.597Z"
   },
   {
    "duration": 41939,
    "start_time": "2023-06-26T10:36:56.226Z"
   },
   {
    "duration": 5,
    "start_time": "2023-06-26T10:37:40.838Z"
   },
   {
    "duration": 355,
    "start_time": "2023-06-26T10:37:43.313Z"
   },
   {
    "duration": 6,
    "start_time": "2023-06-26T10:38:17.737Z"
   },
   {
    "duration": 6,
    "start_time": "2023-06-26T10:38:28.795Z"
   },
   {
    "duration": 15,
    "start_time": "2023-06-26T10:38:46.512Z"
   },
   {
    "duration": 7,
    "start_time": "2023-06-26T10:38:58.612Z"
   },
   {
    "duration": 5,
    "start_time": "2023-06-26T10:40:22.889Z"
   },
   {
    "duration": 352,
    "start_time": "2023-06-26T10:40:27.602Z"
   },
   {
    "duration": 5,
    "start_time": "2023-06-26T10:41:13.096Z"
   },
   {
    "duration": 376,
    "start_time": "2023-06-26T10:41:17.190Z"
   },
   {
    "duration": 5,
    "start_time": "2023-06-26T10:41:38.666Z"
   },
   {
    "duration": 406,
    "start_time": "2023-06-26T10:41:40.100Z"
   },
   {
    "duration": 246,
    "start_time": "2023-06-26T10:43:01.755Z"
   },
   {
    "duration": 4,
    "start_time": "2023-06-26T10:43:15.493Z"
   },
   {
    "duration": 5,
    "start_time": "2023-06-26T10:43:55.327Z"
   },
   {
    "duration": 364,
    "start_time": "2023-06-26T10:43:57.629Z"
   },
   {
    "duration": 5,
    "start_time": "2023-06-26T10:44:57.143Z"
   },
   {
    "duration": 5,
    "start_time": "2023-06-26T10:45:21.397Z"
   },
   {
    "duration": 367,
    "start_time": "2023-06-26T10:45:33.456Z"
   },
   {
    "duration": 4,
    "start_time": "2023-06-26T10:45:41.137Z"
   },
   {
    "duration": 367,
    "start_time": "2023-06-26T10:45:45.027Z"
   },
   {
    "duration": 4,
    "start_time": "2023-06-26T10:45:59.581Z"
   },
   {
    "duration": 5,
    "start_time": "2023-06-26T10:46:40.427Z"
   },
   {
    "duration": 4,
    "start_time": "2023-06-26T10:46:48.021Z"
   },
   {
    "duration": 355,
    "start_time": "2023-06-26T10:46:49.951Z"
   },
   {
    "duration": 5,
    "start_time": "2023-06-26T10:47:24.217Z"
   },
   {
    "duration": 331,
    "start_time": "2023-06-26T10:47:26.197Z"
   },
   {
    "duration": 4,
    "start_time": "2023-06-26T10:47:49.632Z"
   },
   {
    "duration": 343,
    "start_time": "2023-06-26T10:47:50.950Z"
   },
   {
    "duration": 3,
    "start_time": "2023-06-26T10:49:52.420Z"
   },
   {
    "duration": 5,
    "start_time": "2023-06-26T10:54:38.755Z"
   },
   {
    "duration": 10,
    "start_time": "2023-06-26T10:54:49.406Z"
   },
   {
    "duration": 4,
    "start_time": "2023-06-26T10:55:12.219Z"
   },
   {
    "duration": 1720,
    "start_time": "2023-06-26T10:55:12.225Z"
   },
   {
    "duration": 45,
    "start_time": "2023-06-26T10:55:13.947Z"
   },
   {
    "duration": 20,
    "start_time": "2023-06-26T10:55:13.994Z"
   },
   {
    "duration": 26,
    "start_time": "2023-06-26T10:55:14.017Z"
   },
   {
    "duration": 9,
    "start_time": "2023-06-26T10:55:14.045Z"
   },
   {
    "duration": 23,
    "start_time": "2023-06-26T10:55:14.056Z"
   },
   {
    "duration": 32,
    "start_time": "2023-06-26T10:55:14.080Z"
   },
   {
    "duration": 24,
    "start_time": "2023-06-26T10:55:14.114Z"
   },
   {
    "duration": 13,
    "start_time": "2023-06-26T10:55:14.140Z"
   },
   {
    "duration": 185,
    "start_time": "2023-06-26T10:55:14.155Z"
   },
   {
    "duration": 5,
    "start_time": "2023-06-26T10:55:14.342Z"
   },
   {
    "duration": 26,
    "start_time": "2023-06-26T10:55:14.348Z"
   },
   {
    "duration": 52,
    "start_time": "2023-06-26T10:55:14.377Z"
   },
   {
    "duration": 132,
    "start_time": "2023-06-26T10:55:14.431Z"
   },
   {
    "duration": 126,
    "start_time": "2023-06-26T10:55:14.565Z"
   },
   {
    "duration": 14,
    "start_time": "2023-06-26T10:55:14.693Z"
   },
   {
    "duration": 14,
    "start_time": "2023-06-26T10:55:14.708Z"
   },
   {
    "duration": 7,
    "start_time": "2023-06-26T10:55:14.725Z"
   },
   {
    "duration": 7,
    "start_time": "2023-06-26T10:55:14.734Z"
   },
   {
    "duration": 8,
    "start_time": "2023-06-26T10:55:14.742Z"
   },
   {
    "duration": 5,
    "start_time": "2023-06-26T10:55:14.752Z"
   },
   {
    "duration": 2553,
    "start_time": "2023-06-26T10:55:14.759Z"
   },
   {
    "duration": 69,
    "start_time": "2023-06-26T10:55:17.314Z"
   },
   {
    "duration": 1340,
    "start_time": "2023-06-26T10:55:17.385Z"
   },
   {
    "duration": 5,
    "start_time": "2023-06-26T10:55:18.727Z"
   },
   {
    "duration": 11,
    "start_time": "2023-06-26T10:55:18.734Z"
   },
   {
    "duration": 10,
    "start_time": "2023-06-26T10:55:18.747Z"
   },
   {
    "duration": 14,
    "start_time": "2023-06-26T10:55:18.758Z"
   },
   {
    "duration": 47,
    "start_time": "2023-06-26T10:55:18.773Z"
   },
   {
    "duration": 2,
    "start_time": "2023-06-26T10:55:18.823Z"
   },
   {
    "duration": 40,
    "start_time": "2023-06-26T10:55:18.827Z"
   },
   {
    "duration": 105,
    "start_time": "2023-06-26T10:55:18.869Z"
   },
   {
    "duration": 32,
    "start_time": "2023-06-26T10:55:18.976Z"
   },
   {
    "duration": 105,
    "start_time": "2023-06-26T10:55:19.010Z"
   },
   {
    "duration": 28,
    "start_time": "2023-06-26T10:55:19.202Z"
   },
   {
    "duration": 3140,
    "start_time": "2023-06-26T10:55:19.232Z"
   },
   {
    "duration": 4,
    "start_time": "2023-06-26T10:55:22.374Z"
   },
   {
    "duration": 7,
    "start_time": "2023-06-26T10:55:22.380Z"
   },
   {
    "duration": 327,
    "start_time": "2023-06-26T10:55:22.388Z"
   },
   {
    "duration": 13,
    "start_time": "2023-06-26T10:55:22.719Z"
   },
   {
    "duration": 16,
    "start_time": "2023-06-26T10:55:22.734Z"
   },
   {
    "duration": 25,
    "start_time": "2023-06-26T10:55:22.752Z"
   },
   {
    "duration": 328,
    "start_time": "2023-06-26T10:55:22.779Z"
   },
   {
    "duration": 5,
    "start_time": "2023-06-26T10:55:23.108Z"
   },
   {
    "duration": 141,
    "start_time": "2023-06-26T10:55:33.513Z"
   },
   {
    "duration": 5,
    "start_time": "2023-06-26T10:56:09.352Z"
   },
   {
    "duration": 6,
    "start_time": "2023-06-26T10:56:31.959Z"
   },
   {
    "duration": 6,
    "start_time": "2023-06-26T10:56:38.094Z"
   },
   {
    "duration": 31,
    "start_time": "2023-06-26T10:56:40.020Z"
   },
   {
    "duration": 6,
    "start_time": "2023-06-26T10:58:16.521Z"
   },
   {
    "duration": 6,
    "start_time": "2023-06-26T10:58:19.098Z"
   },
   {
    "duration": 34,
    "start_time": "2023-06-26T10:58:20.712Z"
   },
   {
    "duration": 5,
    "start_time": "2023-06-26T10:58:44.764Z"
   },
   {
    "duration": 39,
    "start_time": "2023-06-26T10:58:46.199Z"
   },
   {
    "duration": 5,
    "start_time": "2023-06-26T11:01:42.927Z"
   },
   {
    "duration": 523,
    "start_time": "2023-06-26T11:01:45.450Z"
   },
   {
    "duration": 8,
    "start_time": "2023-06-26T11:03:13.706Z"
   },
   {
    "duration": 5,
    "start_time": "2023-06-26T11:03:22.806Z"
   },
   {
    "duration": 1007,
    "start_time": "2023-06-26T11:03:24.863Z"
   },
   {
    "duration": 5,
    "start_time": "2023-06-26T11:03:57.637Z"
   },
   {
    "duration": 5,
    "start_time": "2023-06-26T11:05:34.406Z"
   },
   {
    "duration": 1235,
    "start_time": "2023-06-26T11:06:07.604Z"
   },
   {
    "duration": 18504,
    "start_time": "2023-06-26T11:07:59.819Z"
   },
   {
    "duration": 267,
    "start_time": "2023-06-26T11:09:39.196Z"
   },
   {
    "duration": 259,
    "start_time": "2023-06-26T11:10:11.118Z"
   },
   {
    "duration": 187,
    "start_time": "2023-06-26T11:10:28.967Z"
   },
   {
    "duration": 3817,
    "start_time": "2023-06-26T11:12:19.990Z"
   },
   {
    "duration": 2658,
    "start_time": "2023-06-26T11:13:12.449Z"
   },
   {
    "duration": 2694,
    "start_time": "2023-06-26T11:13:27.810Z"
   },
   {
    "duration": 2572,
    "start_time": "2023-06-26T11:13:43.234Z"
   },
   {
    "duration": 86,
    "start_time": "2023-06-26T11:15:05.539Z"
   },
   {
    "duration": 10,
    "start_time": "2023-06-26T11:15:36.089Z"
   },
   {
    "duration": 13,
    "start_time": "2023-06-26T11:15:44.369Z"
   },
   {
    "duration": 57,
    "start_time": "2023-06-26T11:15:54.751Z"
   },
   {
    "duration": 208,
    "start_time": "2023-06-26T11:17:06.794Z"
   },
   {
    "duration": 207,
    "start_time": "2023-06-26T11:17:30.303Z"
   },
   {
    "duration": 181,
    "start_time": "2023-06-26T11:17:39.131Z"
   },
   {
    "duration": 143,
    "start_time": "2023-06-26T11:18:10.964Z"
   },
   {
    "duration": 195,
    "start_time": "2023-06-26T11:18:19.316Z"
   },
   {
    "duration": 193,
    "start_time": "2023-06-26T11:18:32.512Z"
   },
   {
    "duration": 200,
    "start_time": "2023-06-26T11:19:32.504Z"
   },
   {
    "duration": 6,
    "start_time": "2023-06-26T11:19:51.520Z"
   },
   {
    "duration": 223,
    "start_time": "2023-06-26T11:19:57.779Z"
   },
   {
    "duration": 1755,
    "start_time": "2023-06-26T11:24:18.648Z"
   },
   {
    "duration": 4,
    "start_time": "2023-06-27T06:17:26.032Z"
   },
   {
    "duration": 1737,
    "start_time": "2023-06-27T06:17:26.040Z"
   },
   {
    "duration": 0,
    "start_time": "2023-06-27T06:17:27.780Z"
   },
   {
    "duration": 0,
    "start_time": "2023-06-27T06:17:27.781Z"
   },
   {
    "duration": 0,
    "start_time": "2023-06-27T06:17:27.782Z"
   },
   {
    "duration": 0,
    "start_time": "2023-06-27T06:17:27.783Z"
   },
   {
    "duration": 0,
    "start_time": "2023-06-27T06:17:27.784Z"
   },
   {
    "duration": 0,
    "start_time": "2023-06-27T06:17:27.785Z"
   },
   {
    "duration": 0,
    "start_time": "2023-06-27T06:17:27.786Z"
   },
   {
    "duration": 0,
    "start_time": "2023-06-27T06:17:27.787Z"
   },
   {
    "duration": 0,
    "start_time": "2023-06-27T06:17:27.788Z"
   },
   {
    "duration": 0,
    "start_time": "2023-06-27T06:17:27.789Z"
   },
   {
    "duration": 0,
    "start_time": "2023-06-27T06:17:27.790Z"
   },
   {
    "duration": 0,
    "start_time": "2023-06-27T06:17:27.792Z"
   },
   {
    "duration": 0,
    "start_time": "2023-06-27T06:17:27.793Z"
   },
   {
    "duration": 0,
    "start_time": "2023-06-27T06:17:27.794Z"
   },
   {
    "duration": 0,
    "start_time": "2023-06-27T06:17:27.795Z"
   },
   {
    "duration": 0,
    "start_time": "2023-06-27T06:17:27.796Z"
   },
   {
    "duration": 0,
    "start_time": "2023-06-27T06:17:27.797Z"
   },
   {
    "duration": 0,
    "start_time": "2023-06-27T06:17:27.798Z"
   },
   {
    "duration": 0,
    "start_time": "2023-06-27T06:17:27.800Z"
   },
   {
    "duration": 0,
    "start_time": "2023-06-27T06:17:27.800Z"
   },
   {
    "duration": 0,
    "start_time": "2023-06-27T06:17:27.801Z"
   },
   {
    "duration": 0,
    "start_time": "2023-06-27T06:17:27.803Z"
   },
   {
    "duration": 0,
    "start_time": "2023-06-27T06:17:27.803Z"
   },
   {
    "duration": 0,
    "start_time": "2023-06-27T06:17:27.804Z"
   },
   {
    "duration": 0,
    "start_time": "2023-06-27T06:17:27.805Z"
   },
   {
    "duration": 0,
    "start_time": "2023-06-27T06:17:27.806Z"
   },
   {
    "duration": 0,
    "start_time": "2023-06-27T06:17:27.807Z"
   },
   {
    "duration": 0,
    "start_time": "2023-06-27T06:17:27.808Z"
   },
   {
    "duration": 0,
    "start_time": "2023-06-27T06:17:27.809Z"
   },
   {
    "duration": 0,
    "start_time": "2023-06-27T06:17:27.810Z"
   },
   {
    "duration": 0,
    "start_time": "2023-06-27T06:17:27.811Z"
   },
   {
    "duration": 0,
    "start_time": "2023-06-27T06:17:27.812Z"
   },
   {
    "duration": 0,
    "start_time": "2023-06-27T06:17:27.812Z"
   },
   {
    "duration": 0,
    "start_time": "2023-06-27T06:17:27.813Z"
   },
   {
    "duration": 0,
    "start_time": "2023-06-27T06:17:27.814Z"
   },
   {
    "duration": 0,
    "start_time": "2023-06-27T06:17:27.815Z"
   },
   {
    "duration": 0,
    "start_time": "2023-06-27T06:17:27.816Z"
   },
   {
    "duration": 0,
    "start_time": "2023-06-27T06:17:27.817Z"
   },
   {
    "duration": 0,
    "start_time": "2023-06-27T06:17:27.876Z"
   },
   {
    "duration": 0,
    "start_time": "2023-06-27T06:17:27.877Z"
   },
   {
    "duration": 0,
    "start_time": "2023-06-27T06:17:27.878Z"
   },
   {
    "duration": 0,
    "start_time": "2023-06-27T06:17:27.879Z"
   },
   {
    "duration": 0,
    "start_time": "2023-06-27T06:17:27.880Z"
   },
   {
    "duration": 0,
    "start_time": "2023-06-27T06:17:27.882Z"
   },
   {
    "duration": 0,
    "start_time": "2023-06-27T06:17:27.883Z"
   },
   {
    "duration": 0,
    "start_time": "2023-06-27T06:17:27.884Z"
   },
   {
    "duration": 0,
    "start_time": "2023-06-27T06:17:27.885Z"
   },
   {
    "duration": 0,
    "start_time": "2023-06-27T06:17:27.886Z"
   },
   {
    "duration": 0,
    "start_time": "2023-06-27T06:17:27.886Z"
   },
   {
    "duration": 12,
    "start_time": "2023-06-27T06:17:42.084Z"
   },
   {
    "duration": 3,
    "start_time": "2023-06-27T06:17:49.607Z"
   },
   {
    "duration": 25,
    "start_time": "2023-06-27T06:17:49.614Z"
   },
   {
    "duration": 0,
    "start_time": "2023-06-27T06:17:49.641Z"
   },
   {
    "duration": 8,
    "start_time": "2023-06-27T06:17:49.800Z"
   },
   {
    "duration": 0,
    "start_time": "2023-06-27T06:17:49.810Z"
   },
   {
    "duration": 0,
    "start_time": "2023-06-27T06:17:49.811Z"
   },
   {
    "duration": 0,
    "start_time": "2023-06-27T06:17:49.812Z"
   },
   {
    "duration": 0,
    "start_time": "2023-06-27T06:17:49.813Z"
   },
   {
    "duration": 0,
    "start_time": "2023-06-27T06:17:49.814Z"
   },
   {
    "duration": 0,
    "start_time": "2023-06-27T06:17:49.815Z"
   },
   {
    "duration": 0,
    "start_time": "2023-06-27T06:17:49.816Z"
   },
   {
    "duration": 0,
    "start_time": "2023-06-27T06:17:49.817Z"
   },
   {
    "duration": 0,
    "start_time": "2023-06-27T06:17:49.818Z"
   },
   {
    "duration": 0,
    "start_time": "2023-06-27T06:17:49.819Z"
   },
   {
    "duration": 0,
    "start_time": "2023-06-27T06:17:49.820Z"
   },
   {
    "duration": 0,
    "start_time": "2023-06-27T06:17:49.822Z"
   },
   {
    "duration": 0,
    "start_time": "2023-06-27T06:17:49.823Z"
   },
   {
    "duration": 0,
    "start_time": "2023-06-27T06:17:49.824Z"
   },
   {
    "duration": 9,
    "start_time": "2023-06-27T06:17:49.922Z"
   },
   {
    "duration": 0,
    "start_time": "2023-06-27T06:17:49.933Z"
   },
   {
    "duration": 0,
    "start_time": "2023-06-27T06:17:49.934Z"
   },
   {
    "duration": 3,
    "start_time": "2023-06-27T06:17:50.087Z"
   },
   {
    "duration": 15,
    "start_time": "2023-06-27T06:17:50.092Z"
   },
   {
    "duration": 0,
    "start_time": "2023-06-27T06:17:50.109Z"
   },
   {
    "duration": 0,
    "start_time": "2023-06-27T06:17:50.110Z"
   },
   {
    "duration": 0,
    "start_time": "2023-06-27T06:17:50.111Z"
   },
   {
    "duration": 0,
    "start_time": "2023-06-27T06:17:50.112Z"
   },
   {
    "duration": 0,
    "start_time": "2023-06-27T06:17:50.114Z"
   },
   {
    "duration": 0,
    "start_time": "2023-06-27T06:17:50.115Z"
   },
   {
    "duration": 10,
    "start_time": "2023-06-27T06:17:50.131Z"
   },
   {
    "duration": 0,
    "start_time": "2023-06-27T06:17:50.143Z"
   },
   {
    "duration": 0,
    "start_time": "2023-06-27T06:17:50.144Z"
   },
   {
    "duration": 0,
    "start_time": "2023-06-27T06:17:50.145Z"
   },
   {
    "duration": 0,
    "start_time": "2023-06-27T06:17:50.147Z"
   },
   {
    "duration": 10,
    "start_time": "2023-06-27T06:17:50.350Z"
   },
   {
    "duration": 0,
    "start_time": "2023-06-27T06:17:50.363Z"
   },
   {
    "duration": 0,
    "start_time": "2023-06-27T06:17:50.364Z"
   },
   {
    "duration": 0,
    "start_time": "2023-06-27T06:17:50.366Z"
   },
   {
    "duration": 0,
    "start_time": "2023-06-27T06:17:50.368Z"
   },
   {
    "duration": 0,
    "start_time": "2023-06-27T06:17:50.369Z"
   },
   {
    "duration": 0,
    "start_time": "2023-06-27T06:17:50.371Z"
   },
   {
    "duration": 0,
    "start_time": "2023-06-27T06:17:50.372Z"
   },
   {
    "duration": 0,
    "start_time": "2023-06-27T06:17:50.373Z"
   },
   {
    "duration": 0,
    "start_time": "2023-06-27T06:17:50.374Z"
   },
   {
    "duration": 0,
    "start_time": "2023-06-27T06:17:50.376Z"
   },
   {
    "duration": 0,
    "start_time": "2023-06-27T06:17:50.377Z"
   },
   {
    "duration": 0,
    "start_time": "2023-06-27T06:17:50.378Z"
   },
   {
    "duration": 0,
    "start_time": "2023-06-27T06:17:50.379Z"
   },
   {
    "duration": 0,
    "start_time": "2023-06-27T06:17:50.380Z"
   },
   {
    "duration": 0,
    "start_time": "2023-06-27T06:17:50.381Z"
   },
   {
    "duration": 0,
    "start_time": "2023-06-27T06:17:50.382Z"
   },
   {
    "duration": 3036,
    "start_time": "2023-06-27T06:18:46.451Z"
   },
   {
    "duration": 1329,
    "start_time": "2023-06-27T06:18:49.489Z"
   },
   {
    "duration": 81,
    "start_time": "2023-06-27T06:18:50.819Z"
   },
   {
    "duration": 11,
    "start_time": "2023-06-27T06:18:50.902Z"
   },
   {
    "duration": 14,
    "start_time": "2023-06-27T06:18:50.914Z"
   },
   {
    "duration": 4,
    "start_time": "2023-06-27T06:18:50.930Z"
   },
   {
    "duration": 8,
    "start_time": "2023-06-27T06:18:50.935Z"
   },
   {
    "duration": 20,
    "start_time": "2023-06-27T06:18:50.944Z"
   },
   {
    "duration": 9,
    "start_time": "2023-06-27T06:18:50.965Z"
   },
   {
    "duration": 21,
    "start_time": "2023-06-27T06:18:50.977Z"
   },
   {
    "duration": 206,
    "start_time": "2023-06-27T06:18:51.000Z"
   },
   {
    "duration": 5,
    "start_time": "2023-06-27T06:18:51.208Z"
   },
   {
    "duration": 30,
    "start_time": "2023-06-27T06:18:51.214Z"
   },
   {
    "duration": 47,
    "start_time": "2023-06-27T06:18:51.246Z"
   },
   {
    "duration": 110,
    "start_time": "2023-06-27T06:18:51.294Z"
   },
   {
    "duration": 109,
    "start_time": "2023-06-27T06:18:51.405Z"
   },
   {
    "duration": 11,
    "start_time": "2023-06-27T06:18:51.515Z"
   },
   {
    "duration": 17,
    "start_time": "2023-06-27T06:18:51.527Z"
   },
   {
    "duration": 6,
    "start_time": "2023-06-27T06:18:51.546Z"
   },
   {
    "duration": 22,
    "start_time": "2023-06-27T06:18:51.553Z"
   },
   {
    "duration": 12,
    "start_time": "2023-06-27T06:18:51.577Z"
   },
   {
    "duration": 28,
    "start_time": "2023-06-27T06:18:51.591Z"
   },
   {
    "duration": 2105,
    "start_time": "2023-06-27T06:18:51.621Z"
   },
   {
    "duration": 68,
    "start_time": "2023-06-27T06:18:53.727Z"
   },
   {
    "duration": 1251,
    "start_time": "2023-06-27T06:18:53.796Z"
   },
   {
    "duration": 4,
    "start_time": "2023-06-27T06:18:55.048Z"
   },
   {
    "duration": 21,
    "start_time": "2023-06-27T06:18:55.054Z"
   },
   {
    "duration": 11,
    "start_time": "2023-06-27T06:18:55.078Z"
   },
   {
    "duration": 23,
    "start_time": "2023-06-27T06:18:55.091Z"
   },
   {
    "duration": 31,
    "start_time": "2023-06-27T06:18:55.116Z"
   },
   {
    "duration": 2,
    "start_time": "2023-06-27T06:18:55.149Z"
   },
   {
    "duration": 33,
    "start_time": "2023-06-27T06:18:55.153Z"
   },
   {
    "duration": 80,
    "start_time": "2023-06-27T06:18:55.187Z"
   },
   {
    "duration": 13,
    "start_time": "2023-06-27T06:18:55.275Z"
   },
   {
    "duration": 187,
    "start_time": "2023-06-27T06:18:55.289Z"
   },
   {
    "duration": 17,
    "start_time": "2023-06-27T06:18:55.478Z"
   },
   {
    "duration": 2761,
    "start_time": "2023-06-27T06:18:55.497Z"
   },
   {
    "duration": 15,
    "start_time": "2023-06-27T06:18:58.260Z"
   },
   {
    "duration": 3,
    "start_time": "2023-06-27T06:18:58.277Z"
   },
   {
    "duration": 245,
    "start_time": "2023-06-27T06:18:58.282Z"
   },
   {
    "duration": 13,
    "start_time": "2023-06-27T06:18:58.529Z"
   },
   {
    "duration": 4,
    "start_time": "2023-06-27T06:18:58.544Z"
   },
   {
    "duration": 30,
    "start_time": "2023-06-27T06:18:58.550Z"
   },
   {
    "duration": 288,
    "start_time": "2023-06-27T06:18:58.582Z"
   },
   {
    "duration": 5,
    "start_time": "2023-06-27T06:18:58.874Z"
   },
   {
    "duration": 951,
    "start_time": "2023-06-27T06:18:58.880Z"
   },
   {
    "duration": 5,
    "start_time": "2023-06-27T06:18:59.832Z"
   },
   {
    "duration": 1145,
    "start_time": "2023-06-27T06:18:59.839Z"
   },
   {
    "duration": 17066,
    "start_time": "2023-06-27T06:19:00.985Z"
   },
   {
    "duration": 271,
    "start_time": "2023-06-27T06:19:18.053Z"
   },
   {
    "duration": 2459,
    "start_time": "2023-06-27T06:19:18.326Z"
   },
   {
    "duration": 349,
    "start_time": "2023-06-27T06:19:20.878Z"
   },
   {
    "duration": 5753,
    "start_time": "2023-06-27T06:19:21.228Z"
   },
   {
    "duration": 3,
    "start_time": "2023-06-27T06:21:03.768Z"
   },
   {
    "duration": 1359,
    "start_time": "2023-06-27T06:21:03.777Z"
   },
   {
    "duration": 42,
    "start_time": "2023-06-27T06:21:05.138Z"
   },
   {
    "duration": 12,
    "start_time": "2023-06-27T06:21:05.183Z"
   },
   {
    "duration": 23,
    "start_time": "2023-06-27T06:21:05.198Z"
   },
   {
    "duration": 5,
    "start_time": "2023-06-27T06:21:05.224Z"
   },
   {
    "duration": 10,
    "start_time": "2023-06-27T06:21:05.231Z"
   },
   {
    "duration": 23,
    "start_time": "2023-06-27T06:21:05.243Z"
   },
   {
    "duration": 5,
    "start_time": "2023-06-27T06:21:05.275Z"
   },
   {
    "duration": 12,
    "start_time": "2023-06-27T06:21:05.282Z"
   },
   {
    "duration": 148,
    "start_time": "2023-06-27T06:21:05.297Z"
   },
   {
    "duration": 4,
    "start_time": "2023-06-27T06:21:05.446Z"
   },
   {
    "duration": 26,
    "start_time": "2023-06-27T06:21:05.451Z"
   },
   {
    "duration": 34,
    "start_time": "2023-06-27T06:21:05.478Z"
   },
   {
    "duration": 117,
    "start_time": "2023-06-27T06:21:05.514Z"
   },
   {
    "duration": 103,
    "start_time": "2023-06-27T06:21:05.633Z"
   },
   {
    "duration": 11,
    "start_time": "2023-06-27T06:21:05.738Z"
   },
   {
    "duration": 25,
    "start_time": "2023-06-27T06:21:05.750Z"
   },
   {
    "duration": 5,
    "start_time": "2023-06-27T06:21:05.776Z"
   },
   {
    "duration": 15,
    "start_time": "2023-06-27T06:21:05.782Z"
   },
   {
    "duration": 8,
    "start_time": "2023-06-27T06:21:05.799Z"
   },
   {
    "duration": 21,
    "start_time": "2023-06-27T06:21:05.808Z"
   },
   {
    "duration": 2189,
    "start_time": "2023-06-27T06:21:05.831Z"
   },
   {
    "duration": 70,
    "start_time": "2023-06-27T06:21:08.022Z"
   },
   {
    "duration": 1303,
    "start_time": "2023-06-27T06:21:08.093Z"
   },
   {
    "duration": 4,
    "start_time": "2023-06-27T06:21:09.397Z"
   },
   {
    "duration": 15,
    "start_time": "2023-06-27T06:21:09.402Z"
   },
   {
    "duration": 10,
    "start_time": "2023-06-27T06:21:09.418Z"
   },
   {
    "duration": 10,
    "start_time": "2023-06-27T06:21:09.432Z"
   },
   {
    "duration": 39,
    "start_time": "2023-06-27T06:21:09.443Z"
   },
   {
    "duration": 2,
    "start_time": "2023-06-27T06:21:09.484Z"
   },
   {
    "duration": 43,
    "start_time": "2023-06-27T06:21:09.489Z"
   },
   {
    "duration": 98,
    "start_time": "2023-06-27T06:21:09.533Z"
   },
   {
    "duration": 51,
    "start_time": "2023-06-27T06:21:09.634Z"
   },
   {
    "duration": 104,
    "start_time": "2023-06-27T06:21:09.776Z"
   },
   {
    "duration": 23,
    "start_time": "2023-06-27T06:21:09.882Z"
   },
   {
    "duration": 2808,
    "start_time": "2023-06-27T06:21:09.907Z"
   },
   {
    "duration": 6,
    "start_time": "2023-06-27T06:21:12.717Z"
   },
   {
    "duration": 18,
    "start_time": "2023-06-27T06:21:12.725Z"
   },
   {
    "duration": 299,
    "start_time": "2023-06-27T06:21:12.745Z"
   },
   {
    "duration": 12,
    "start_time": "2023-06-27T06:21:13.046Z"
   },
   {
    "duration": 4,
    "start_time": "2023-06-27T06:21:13.075Z"
   },
   {
    "duration": 15,
    "start_time": "2023-06-27T06:21:13.081Z"
   },
   {
    "duration": 320,
    "start_time": "2023-06-27T06:21:13.098Z"
   },
   {
    "duration": 4,
    "start_time": "2023-06-27T06:21:41.295Z"
   },
   {
    "duration": 1034,
    "start_time": "2023-06-27T06:21:43.913Z"
   },
   {
    "duration": 4,
    "start_time": "2023-06-27T06:22:10.478Z"
   },
   {
    "duration": 1468,
    "start_time": "2023-06-27T06:22:10.487Z"
   },
   {
    "duration": 42,
    "start_time": "2023-06-27T06:22:11.957Z"
   },
   {
    "duration": 18,
    "start_time": "2023-06-27T06:22:12.001Z"
   },
   {
    "duration": 63,
    "start_time": "2023-06-27T06:22:12.020Z"
   },
   {
    "duration": 49,
    "start_time": "2023-06-27T06:22:12.085Z"
   },
   {
    "duration": 42,
    "start_time": "2023-06-27T06:22:12.135Z"
   },
   {
    "duration": 44,
    "start_time": "2023-06-27T06:22:12.179Z"
   },
   {
    "duration": 9,
    "start_time": "2023-06-27T06:22:12.225Z"
   },
   {
    "duration": 34,
    "start_time": "2023-06-27T06:22:12.235Z"
   },
   {
    "duration": 214,
    "start_time": "2023-06-27T06:22:12.272Z"
   },
   {
    "duration": 4,
    "start_time": "2023-06-27T06:22:12.488Z"
   },
   {
    "duration": 26,
    "start_time": "2023-06-27T06:22:12.493Z"
   },
   {
    "duration": 38,
    "start_time": "2023-06-27T06:22:12.520Z"
   },
   {
    "duration": 118,
    "start_time": "2023-06-27T06:22:12.559Z"
   },
   {
    "duration": 108,
    "start_time": "2023-06-27T06:22:12.679Z"
   },
   {
    "duration": 13,
    "start_time": "2023-06-27T06:22:12.788Z"
   },
   {
    "duration": 14,
    "start_time": "2023-06-27T06:22:12.802Z"
   },
   {
    "duration": 5,
    "start_time": "2023-06-27T06:22:12.817Z"
   },
   {
    "duration": 6,
    "start_time": "2023-06-27T06:22:12.823Z"
   },
   {
    "duration": 7,
    "start_time": "2023-06-27T06:22:12.831Z"
   },
   {
    "duration": 8,
    "start_time": "2023-06-27T06:22:12.840Z"
   },
   {
    "duration": 2220,
    "start_time": "2023-06-27T06:22:12.875Z"
   },
   {
    "duration": 89,
    "start_time": "2023-06-27T06:22:15.097Z"
   },
   {
    "duration": 1341,
    "start_time": "2023-06-27T06:22:15.188Z"
   },
   {
    "duration": 6,
    "start_time": "2023-06-27T06:22:16.531Z"
   },
   {
    "duration": 24,
    "start_time": "2023-06-27T06:22:16.540Z"
   },
   {
    "duration": 16,
    "start_time": "2023-06-27T06:22:16.566Z"
   },
   {
    "duration": 22,
    "start_time": "2023-06-27T06:22:16.585Z"
   },
   {
    "duration": 39,
    "start_time": "2023-06-27T06:22:16.608Z"
   },
   {
    "duration": 3,
    "start_time": "2023-06-27T06:22:16.648Z"
   },
   {
    "duration": 37,
    "start_time": "2023-06-27T06:22:16.652Z"
   },
   {
    "duration": 85,
    "start_time": "2023-06-27T06:22:16.691Z"
   },
   {
    "duration": 202,
    "start_time": "2023-06-27T06:22:16.778Z"
   },
   {
    "duration": 101,
    "start_time": "2023-06-27T06:22:16.984Z"
   },
   {
    "duration": 20,
    "start_time": "2023-06-27T06:22:17.087Z"
   },
   {
    "duration": 2647,
    "start_time": "2023-06-27T06:22:17.109Z"
   },
   {
    "duration": 4,
    "start_time": "2023-06-27T06:22:19.757Z"
   },
   {
    "duration": 14,
    "start_time": "2023-06-27T06:22:19.763Z"
   },
   {
    "duration": 233,
    "start_time": "2023-06-27T06:22:19.779Z"
   },
   {
    "duration": 11,
    "start_time": "2023-06-27T06:22:20.013Z"
   },
   {
    "duration": 12,
    "start_time": "2023-06-27T06:22:20.025Z"
   },
   {
    "duration": 9,
    "start_time": "2023-06-27T06:22:20.038Z"
   },
   {
    "duration": 284,
    "start_time": "2023-06-27T06:22:20.049Z"
   },
   {
    "duration": 5,
    "start_time": "2023-06-27T06:22:20.335Z"
   },
   {
    "duration": 947,
    "start_time": "2023-06-27T06:22:26.895Z"
   },
   {
    "duration": 17,
    "start_time": "2023-06-27T06:23:02.384Z"
   },
   {
    "duration": 3,
    "start_time": "2023-06-27T06:23:20.185Z"
   },
   {
    "duration": 1396,
    "start_time": "2023-06-27T06:23:20.192Z"
   },
   {
    "duration": 42,
    "start_time": "2023-06-27T06:23:21.590Z"
   },
   {
    "duration": 14,
    "start_time": "2023-06-27T06:23:21.633Z"
   },
   {
    "duration": 23,
    "start_time": "2023-06-27T06:23:21.649Z"
   },
   {
    "duration": 5,
    "start_time": "2023-06-27T06:23:21.674Z"
   },
   {
    "duration": 16,
    "start_time": "2023-06-27T06:23:21.681Z"
   },
   {
    "duration": 27,
    "start_time": "2023-06-27T06:23:21.699Z"
   },
   {
    "duration": 13,
    "start_time": "2023-06-27T06:23:21.728Z"
   },
   {
    "duration": 18,
    "start_time": "2023-06-27T06:23:21.743Z"
   },
   {
    "duration": 149,
    "start_time": "2023-06-27T06:23:21.764Z"
   },
   {
    "duration": 4,
    "start_time": "2023-06-27T06:23:21.915Z"
   },
   {
    "duration": 36,
    "start_time": "2023-06-27T06:23:21.920Z"
   },
   {
    "duration": 33,
    "start_time": "2023-06-27T06:23:21.957Z"
   },
   {
    "duration": 108,
    "start_time": "2023-06-27T06:23:21.992Z"
   },
   {
    "duration": 108,
    "start_time": "2023-06-27T06:23:22.101Z"
   },
   {
    "duration": 12,
    "start_time": "2023-06-27T06:23:22.211Z"
   },
   {
    "duration": 18,
    "start_time": "2023-06-27T06:23:22.224Z"
   },
   {
    "duration": 6,
    "start_time": "2023-06-27T06:23:22.244Z"
   },
   {
    "duration": 13,
    "start_time": "2023-06-27T06:23:22.251Z"
   },
   {
    "duration": 11,
    "start_time": "2023-06-27T06:23:22.266Z"
   },
   {
    "duration": 9,
    "start_time": "2023-06-27T06:23:22.278Z"
   },
   {
    "duration": 2137,
    "start_time": "2023-06-27T06:23:22.288Z"
   },
   {
    "duration": 68,
    "start_time": "2023-06-27T06:23:24.427Z"
   },
   {
    "duration": 1246,
    "start_time": "2023-06-27T06:23:24.496Z"
   },
   {
    "duration": 4,
    "start_time": "2023-06-27T06:23:25.743Z"
   },
   {
    "duration": 11,
    "start_time": "2023-06-27T06:23:25.749Z"
   },
   {
    "duration": 15,
    "start_time": "2023-06-27T06:23:25.762Z"
   },
   {
    "duration": 9,
    "start_time": "2023-06-27T06:23:25.780Z"
   },
   {
    "duration": 30,
    "start_time": "2023-06-27T06:23:25.790Z"
   },
   {
    "duration": 2,
    "start_time": "2023-06-27T06:23:25.821Z"
   },
   {
    "duration": 36,
    "start_time": "2023-06-27T06:23:25.824Z"
   },
   {
    "duration": 89,
    "start_time": "2023-06-27T06:23:25.862Z"
   },
   {
    "duration": 32,
    "start_time": "2023-06-27T06:23:25.953Z"
   },
   {
    "duration": 101,
    "start_time": "2023-06-27T06:23:26.075Z"
   },
   {
    "duration": 17,
    "start_time": "2023-06-27T06:23:26.178Z"
   },
   {
    "duration": 2648,
    "start_time": "2023-06-27T06:23:26.196Z"
   },
   {
    "duration": 5,
    "start_time": "2023-06-27T06:23:28.845Z"
   },
   {
    "duration": 6,
    "start_time": "2023-06-27T06:23:28.851Z"
   },
   {
    "duration": 262,
    "start_time": "2023-06-27T06:23:28.858Z"
   },
   {
    "duration": 12,
    "start_time": "2023-06-27T06:23:29.122Z"
   },
   {
    "duration": 3,
    "start_time": "2023-06-27T06:23:29.136Z"
   },
   {
    "duration": 7,
    "start_time": "2023-06-27T06:23:29.141Z"
   },
   {
    "duration": 316,
    "start_time": "2023-06-27T06:23:29.150Z"
   },
   {
    "duration": 10,
    "start_time": "2023-06-27T06:23:29.468Z"
   },
   {
    "duration": 970,
    "start_time": "2023-06-27T06:23:33.211Z"
   },
   {
    "duration": 3,
    "start_time": "2023-06-27T06:23:46.188Z"
   },
   {
    "duration": 1404,
    "start_time": "2023-06-27T06:23:46.299Z"
   },
   {
    "duration": 42,
    "start_time": "2023-06-27T06:23:47.705Z"
   },
   {
    "duration": 13,
    "start_time": "2023-06-27T06:23:47.748Z"
   },
   {
    "duration": 14,
    "start_time": "2023-06-27T06:23:47.763Z"
   },
   {
    "duration": 8,
    "start_time": "2023-06-27T06:23:47.779Z"
   },
   {
    "duration": 5,
    "start_time": "2023-06-27T06:23:47.789Z"
   },
   {
    "duration": 13,
    "start_time": "2023-06-27T06:23:47.796Z"
   },
   {
    "duration": 5,
    "start_time": "2023-06-27T06:23:47.810Z"
   },
   {
    "duration": 5,
    "start_time": "2023-06-27T06:23:47.816Z"
   },
   {
    "duration": 159,
    "start_time": "2023-06-27T06:23:47.823Z"
   },
   {
    "duration": 4,
    "start_time": "2023-06-27T06:23:47.984Z"
   },
   {
    "duration": 19,
    "start_time": "2023-06-27T06:23:47.989Z"
   },
   {
    "duration": 35,
    "start_time": "2023-06-27T06:23:48.009Z"
   },
   {
    "duration": 135,
    "start_time": "2023-06-27T06:23:48.047Z"
   },
   {
    "duration": 107,
    "start_time": "2023-06-27T06:23:48.183Z"
   },
   {
    "duration": 11,
    "start_time": "2023-06-27T06:23:48.292Z"
   },
   {
    "duration": 13,
    "start_time": "2023-06-27T06:23:48.305Z"
   },
   {
    "duration": 4,
    "start_time": "2023-06-27T06:23:48.320Z"
   },
   {
    "duration": 10,
    "start_time": "2023-06-27T06:23:48.326Z"
   },
   {
    "duration": 6,
    "start_time": "2023-06-27T06:23:48.337Z"
   },
   {
    "duration": 5,
    "start_time": "2023-06-27T06:23:48.344Z"
   },
   {
    "duration": 2112,
    "start_time": "2023-06-27T06:23:48.375Z"
   },
   {
    "duration": 60,
    "start_time": "2023-06-27T06:23:50.488Z"
   },
   {
    "duration": 1275,
    "start_time": "2023-06-27T06:23:50.549Z"
   },
   {
    "duration": 5,
    "start_time": "2023-06-27T06:23:51.825Z"
   },
   {
    "duration": 22,
    "start_time": "2023-06-27T06:23:51.832Z"
   },
   {
    "duration": 10,
    "start_time": "2023-06-27T06:23:51.856Z"
   },
   {
    "duration": 27,
    "start_time": "2023-06-27T06:23:51.867Z"
   },
   {
    "duration": 39,
    "start_time": "2023-06-27T06:23:51.896Z"
   },
   {
    "duration": 2,
    "start_time": "2023-06-27T06:23:51.937Z"
   },
   {
    "duration": 55,
    "start_time": "2023-06-27T06:23:51.940Z"
   },
   {
    "duration": 85,
    "start_time": "2023-06-27T06:23:51.997Z"
   },
   {
    "duration": 91,
    "start_time": "2023-06-27T06:23:52.084Z"
   },
   {
    "duration": 108,
    "start_time": "2023-06-27T06:23:52.179Z"
   },
   {
    "duration": 23,
    "start_time": "2023-06-27T06:23:52.288Z"
   },
   {
    "duration": 2655,
    "start_time": "2023-06-27T06:23:52.312Z"
   },
   {
    "duration": 7,
    "start_time": "2023-06-27T06:23:54.969Z"
   },
   {
    "duration": 8,
    "start_time": "2023-06-27T06:23:54.977Z"
   },
   {
    "duration": 248,
    "start_time": "2023-06-27T06:23:54.986Z"
   },
   {
    "duration": 12,
    "start_time": "2023-06-27T06:23:55.236Z"
   },
   {
    "duration": 23,
    "start_time": "2023-06-27T06:23:55.252Z"
   },
   {
    "duration": 33,
    "start_time": "2023-06-27T06:23:55.277Z"
   },
   {
    "duration": 281,
    "start_time": "2023-06-27T06:23:55.312Z"
   },
   {
    "duration": 4,
    "start_time": "2023-06-27T06:23:55.595Z"
   },
   {
    "duration": 954,
    "start_time": "2023-06-27T06:24:01.988Z"
   },
   {
    "duration": 2,
    "start_time": "2023-06-27T06:24:15.078Z"
   },
   {
    "duration": 6,
    "start_time": "2023-06-27T06:24:15.180Z"
   },
   {
    "duration": 66,
    "start_time": "2023-06-27T06:24:15.188Z"
   },
   {
    "duration": 13,
    "start_time": "2023-06-27T06:24:15.255Z"
   },
   {
    "duration": 26,
    "start_time": "2023-06-27T06:24:15.269Z"
   },
   {
    "duration": 7,
    "start_time": "2023-06-27T06:24:15.297Z"
   },
   {
    "duration": 17,
    "start_time": "2023-06-27T06:24:15.305Z"
   },
   {
    "duration": 11,
    "start_time": "2023-06-27T06:24:15.970Z"
   },
   {
    "duration": 18,
    "start_time": "2023-06-27T06:24:15.984Z"
   },
   {
    "duration": 9,
    "start_time": "2023-06-27T06:24:16.004Z"
   },
   {
    "duration": 149,
    "start_time": "2023-06-27T06:24:16.014Z"
   },
   {
    "duration": 11,
    "start_time": "2023-06-27T06:24:16.166Z"
   },
   {
    "duration": 24,
    "start_time": "2023-06-27T06:24:16.178Z"
   },
   {
    "duration": 33,
    "start_time": "2023-06-27T06:24:16.204Z"
   },
   {
    "duration": 173,
    "start_time": "2023-06-27T06:24:16.239Z"
   },
   {
    "duration": 129,
    "start_time": "2023-06-27T06:24:16.414Z"
   },
   {
    "duration": 13,
    "start_time": "2023-06-27T06:24:16.544Z"
   },
   {
    "duration": 23,
    "start_time": "2023-06-27T06:24:16.559Z"
   },
   {
    "duration": 5,
    "start_time": "2023-06-27T06:24:16.583Z"
   },
   {
    "duration": 10,
    "start_time": "2023-06-27T06:24:16.590Z"
   },
   {
    "duration": 7,
    "start_time": "2023-06-27T06:24:16.602Z"
   },
   {
    "duration": 5,
    "start_time": "2023-06-27T06:24:16.610Z"
   },
   {
    "duration": 2103,
    "start_time": "2023-06-27T06:24:16.617Z"
   },
   {
    "duration": 26,
    "start_time": "2023-06-27T06:24:18.722Z"
   },
   {
    "duration": 1284,
    "start_time": "2023-06-27T06:24:18.750Z"
   },
   {
    "duration": 5,
    "start_time": "2023-06-27T06:24:20.035Z"
   },
   {
    "duration": 49,
    "start_time": "2023-06-27T06:24:20.042Z"
   },
   {
    "duration": 34,
    "start_time": "2023-06-27T06:24:20.093Z"
   },
   {
    "duration": 30,
    "start_time": "2023-06-27T06:24:20.129Z"
   },
   {
    "duration": 50,
    "start_time": "2023-06-27T06:24:20.160Z"
   },
   {
    "duration": 27,
    "start_time": "2023-06-27T06:24:20.212Z"
   },
   {
    "duration": 49,
    "start_time": "2023-06-27T06:24:20.241Z"
   },
   {
    "duration": 87,
    "start_time": "2023-06-27T06:24:20.291Z"
   },
   {
    "duration": 100,
    "start_time": "2023-06-27T06:24:20.380Z"
   },
   {
    "duration": 116,
    "start_time": "2023-06-27T06:24:20.485Z"
   },
   {
    "duration": 18,
    "start_time": "2023-06-27T06:24:20.603Z"
   },
   {
    "duration": 2713,
    "start_time": "2023-06-27T06:24:20.623Z"
   },
   {
    "duration": 4,
    "start_time": "2023-06-27T06:24:23.338Z"
   },
   {
    "duration": 14,
    "start_time": "2023-06-27T06:24:23.343Z"
   },
   {
    "duration": 103,
    "start_time": "2023-06-27T06:24:23.359Z"
   },
   {
    "duration": 15,
    "start_time": "2023-06-27T06:24:23.464Z"
   },
   {
    "duration": 5,
    "start_time": "2023-06-27T06:24:23.481Z"
   },
   {
    "duration": 8,
    "start_time": "2023-06-27T06:24:23.488Z"
   },
   {
    "duration": 289,
    "start_time": "2023-06-27T06:24:23.497Z"
   },
   {
    "duration": 5,
    "start_time": "2023-06-27T06:24:23.788Z"
   },
   {
    "duration": 933,
    "start_time": "2023-06-27T06:24:23.795Z"
   },
   {
    "duration": 5,
    "start_time": "2023-06-27T06:24:24.729Z"
   },
   {
    "duration": 1113,
    "start_time": "2023-06-27T06:24:24.737Z"
   },
   {
    "duration": 15983,
    "start_time": "2023-06-27T06:24:25.852Z"
   },
   {
    "duration": 329,
    "start_time": "2023-06-27T06:24:41.837Z"
   },
   {
    "duration": 320,
    "start_time": "2023-06-27T06:24:53.865Z"
   },
   {
    "duration": 4180,
    "start_time": "2023-06-27T06:24:56.696Z"
   },
   {
    "duration": 323,
    "start_time": "2023-06-27T06:25:05.675Z"
   },
   {
    "duration": 2831,
    "start_time": "2023-06-27T06:25:10.252Z"
   },
   {
    "duration": 13,
    "start_time": "2023-06-27T06:47:05.175Z"
   },
   {
    "duration": 5,
    "start_time": "2023-06-27T06:50:11.437Z"
   },
   {
    "duration": 4,
    "start_time": "2023-06-27T06:50:21.019Z"
   },
   {
    "duration": 10,
    "start_time": "2023-06-27T06:50:52.373Z"
   },
   {
    "duration": 903,
    "start_time": "2023-06-27T06:50:55.856Z"
   },
   {
    "duration": 4,
    "start_time": "2023-06-27T06:52:33.098Z"
   },
   {
    "duration": 870,
    "start_time": "2023-06-27T06:52:33.108Z"
   },
   {
    "duration": 5,
    "start_time": "2023-06-27T06:52:36.442Z"
   },
   {
    "duration": 846,
    "start_time": "2023-06-27T06:52:43.247Z"
   },
   {
    "duration": 3,
    "start_time": "2023-06-27T06:53:06.792Z"
   },
   {
    "duration": 1501,
    "start_time": "2023-06-27T06:53:06.850Z"
   },
   {
    "duration": 50,
    "start_time": "2023-06-27T06:53:08.353Z"
   },
   {
    "duration": 26,
    "start_time": "2023-06-27T06:53:08.405Z"
   },
   {
    "duration": 15,
    "start_time": "2023-06-27T06:53:08.434Z"
   },
   {
    "duration": 7,
    "start_time": "2023-06-27T06:53:08.450Z"
   },
   {
    "duration": 8,
    "start_time": "2023-06-27T06:53:08.458Z"
   },
   {
    "duration": 38,
    "start_time": "2023-06-27T06:53:08.467Z"
   },
   {
    "duration": 6,
    "start_time": "2023-06-27T06:53:08.507Z"
   },
   {
    "duration": 8,
    "start_time": "2023-06-27T06:53:08.515Z"
   },
   {
    "duration": 168,
    "start_time": "2023-06-27T06:53:08.526Z"
   },
   {
    "duration": 4,
    "start_time": "2023-06-27T06:53:08.696Z"
   },
   {
    "duration": 40,
    "start_time": "2023-06-27T06:53:08.701Z"
   },
   {
    "duration": 43,
    "start_time": "2023-06-27T06:53:08.743Z"
   },
   {
    "duration": 135,
    "start_time": "2023-06-27T06:53:08.788Z"
   },
   {
    "duration": 111,
    "start_time": "2023-06-27T06:53:08.925Z"
   },
   {
    "duration": 13,
    "start_time": "2023-06-27T06:53:09.037Z"
   },
   {
    "duration": 18,
    "start_time": "2023-06-27T06:53:09.051Z"
   },
   {
    "duration": 17,
    "start_time": "2023-06-27T06:53:09.075Z"
   },
   {
    "duration": 17,
    "start_time": "2023-06-27T06:53:09.093Z"
   },
   {
    "duration": 10,
    "start_time": "2023-06-27T06:53:09.112Z"
   },
   {
    "duration": 11,
    "start_time": "2023-06-27T06:53:09.124Z"
   },
   {
    "duration": 2315,
    "start_time": "2023-06-27T06:53:09.137Z"
   },
   {
    "duration": 79,
    "start_time": "2023-06-27T06:53:11.454Z"
   },
   {
    "duration": 1364,
    "start_time": "2023-06-27T06:53:11.534Z"
   },
   {
    "duration": 5,
    "start_time": "2023-06-27T06:53:12.900Z"
   },
   {
    "duration": 10,
    "start_time": "2023-06-27T06:53:12.907Z"
   },
   {
    "duration": 7,
    "start_time": "2023-06-27T06:53:12.918Z"
   },
   {
    "duration": 28,
    "start_time": "2023-06-27T06:53:12.928Z"
   },
   {
    "duration": 46,
    "start_time": "2023-06-27T06:53:12.958Z"
   },
   {
    "duration": 4,
    "start_time": "2023-06-27T06:53:13.006Z"
   },
   {
    "duration": 46,
    "start_time": "2023-06-27T06:53:13.011Z"
   },
   {
    "duration": 102,
    "start_time": "2023-06-27T06:53:13.058Z"
   },
   {
    "duration": 124,
    "start_time": "2023-06-27T06:53:13.161Z"
   },
   {
    "duration": 99,
    "start_time": "2023-06-27T06:53:13.288Z"
   },
   {
    "duration": 28,
    "start_time": "2023-06-27T06:53:13.389Z"
   },
   {
    "duration": 2972,
    "start_time": "2023-06-27T06:53:13.419Z"
   },
   {
    "duration": 7,
    "start_time": "2023-06-27T06:53:16.393Z"
   },
   {
    "duration": 31,
    "start_time": "2023-06-27T06:53:16.402Z"
   },
   {
    "duration": 328,
    "start_time": "2023-06-27T06:53:16.436Z"
   },
   {
    "duration": 27,
    "start_time": "2023-06-27T06:53:16.765Z"
   },
   {
    "duration": 3,
    "start_time": "2023-06-27T06:53:16.795Z"
   },
   {
    "duration": 17,
    "start_time": "2023-06-27T06:53:16.800Z"
   },
   {
    "duration": 328,
    "start_time": "2023-06-27T06:53:16.819Z"
   },
   {
    "duration": 4,
    "start_time": "2023-06-27T06:53:17.149Z"
   },
   {
    "duration": 899,
    "start_time": "2023-06-27T06:53:17.155Z"
   },
   {
    "duration": 4,
    "start_time": "2023-06-27T06:53:18.056Z"
   },
   {
    "duration": 818,
    "start_time": "2023-06-27T06:53:20.889Z"
   },
   {
    "duration": 4,
    "start_time": "2023-06-27T06:55:24.767Z"
   },
   {
    "duration": 4,
    "start_time": "2023-06-27T06:56:00.524Z"
   },
   {
    "duration": 15,
    "start_time": "2023-06-27T06:56:05.235Z"
   },
   {
    "duration": 3,
    "start_time": "2023-06-27T06:56:43.696Z"
   },
   {
    "duration": 1683,
    "start_time": "2023-06-27T06:56:43.701Z"
   },
   {
    "duration": 45,
    "start_time": "2023-06-27T06:56:45.386Z"
   },
   {
    "duration": 13,
    "start_time": "2023-06-27T06:56:45.433Z"
   },
   {
    "duration": 15,
    "start_time": "2023-06-27T06:56:45.448Z"
   },
   {
    "duration": 15,
    "start_time": "2023-06-27T06:56:45.465Z"
   },
   {
    "duration": 13,
    "start_time": "2023-06-27T06:56:45.485Z"
   },
   {
    "duration": 13,
    "start_time": "2023-06-27T06:56:45.499Z"
   },
   {
    "duration": 5,
    "start_time": "2023-06-27T06:56:45.513Z"
   },
   {
    "duration": 5,
    "start_time": "2023-06-27T06:56:45.519Z"
   },
   {
    "duration": 178,
    "start_time": "2023-06-27T06:56:45.527Z"
   },
   {
    "duration": 4,
    "start_time": "2023-06-27T06:56:45.707Z"
   },
   {
    "duration": 19,
    "start_time": "2023-06-27T06:56:45.713Z"
   },
   {
    "duration": 59,
    "start_time": "2023-06-27T06:56:45.733Z"
   },
   {
    "duration": 115,
    "start_time": "2023-06-27T06:56:45.793Z"
   },
   {
    "duration": 107,
    "start_time": "2023-06-27T06:56:45.910Z"
   },
   {
    "duration": 14,
    "start_time": "2023-06-27T06:56:46.018Z"
   },
   {
    "duration": 9,
    "start_time": "2023-06-27T06:56:46.034Z"
   },
   {
    "duration": 9,
    "start_time": "2023-06-27T06:56:46.045Z"
   },
   {
    "duration": 49,
    "start_time": "2023-06-27T06:56:46.056Z"
   },
   {
    "duration": 10,
    "start_time": "2023-06-27T06:56:46.107Z"
   },
   {
    "duration": 7,
    "start_time": "2023-06-27T06:56:46.119Z"
   },
   {
    "duration": 2299,
    "start_time": "2023-06-27T06:56:46.128Z"
   },
   {
    "duration": 81,
    "start_time": "2023-06-27T06:56:48.429Z"
   },
   {
    "duration": 1328,
    "start_time": "2023-06-27T06:56:48.512Z"
   },
   {
    "duration": 4,
    "start_time": "2023-06-27T06:56:49.842Z"
   },
   {
    "duration": 8,
    "start_time": "2023-06-27T06:56:49.847Z"
   },
   {
    "duration": 21,
    "start_time": "2023-06-27T06:56:49.857Z"
   },
   {
    "duration": 10,
    "start_time": "2023-06-27T06:56:49.883Z"
   },
   {
    "duration": 45,
    "start_time": "2023-06-27T06:56:49.895Z"
   },
   {
    "duration": 3,
    "start_time": "2023-06-27T06:56:49.941Z"
   },
   {
    "duration": 81,
    "start_time": "2023-06-27T06:56:49.945Z"
   },
   {
    "duration": 108,
    "start_time": "2023-06-27T06:56:50.028Z"
   },
   {
    "duration": 153,
    "start_time": "2023-06-27T06:56:50.138Z"
   },
   {
    "duration": 90,
    "start_time": "2023-06-27T06:56:50.300Z"
   },
   {
    "duration": 98,
    "start_time": "2023-06-27T06:56:50.395Z"
   },
   {
    "duration": 2806,
    "start_time": "2023-06-27T06:56:50.495Z"
   },
   {
    "duration": 4,
    "start_time": "2023-06-27T06:56:53.303Z"
   },
   {
    "duration": 36,
    "start_time": "2023-06-27T06:56:53.309Z"
   },
   {
    "duration": 273,
    "start_time": "2023-06-27T06:56:53.347Z"
   },
   {
    "duration": 11,
    "start_time": "2023-06-27T06:56:53.622Z"
   },
   {
    "duration": 4,
    "start_time": "2023-06-27T06:56:53.634Z"
   },
   {
    "duration": 7,
    "start_time": "2023-06-27T06:56:53.639Z"
   },
   {
    "duration": 319,
    "start_time": "2023-06-27T06:56:53.647Z"
   },
   {
    "duration": 15,
    "start_time": "2023-06-27T06:56:53.968Z"
   },
   {
    "duration": 899,
    "start_time": "2023-06-27T06:56:53.985Z"
   },
   {
    "duration": 5,
    "start_time": "2023-06-27T06:56:54.886Z"
   },
   {
    "duration": 801,
    "start_time": "2023-06-27T06:56:54.893Z"
   },
   {
    "duration": 7,
    "start_time": "2023-06-27T06:56:55.696Z"
   },
   {
    "duration": 12,
    "start_time": "2023-06-27T06:56:59.677Z"
   },
   {
    "duration": 3914,
    "start_time": "2023-06-27T06:57:19.864Z"
   },
   {
    "duration": 5,
    "start_time": "2023-06-27T07:00:41.327Z"
   },
   {
    "duration": 172,
    "start_time": "2023-06-27T07:00:45.064Z"
   },
   {
    "duration": 5,
    "start_time": "2023-06-27T07:01:11.684Z"
   },
   {
    "duration": 882,
    "start_time": "2023-06-27T07:01:14.830Z"
   },
   {
    "duration": 4,
    "start_time": "2023-06-27T07:01:55.620Z"
   },
   {
    "duration": 810,
    "start_time": "2023-06-27T07:01:57.983Z"
   },
   {
    "duration": 4,
    "start_time": "2023-06-27T07:02:30.328Z"
   },
   {
    "duration": 3967,
    "start_time": "2023-06-27T07:02:32.409Z"
   },
   {
    "duration": 10,
    "start_time": "2023-06-27T07:02:43.349Z"
   },
   {
    "duration": 855,
    "start_time": "2023-06-27T07:02:57.464Z"
   },
   {
    "duration": 891,
    "start_time": "2023-06-27T07:03:19.969Z"
   },
   {
    "duration": 5097,
    "start_time": "2023-06-27T07:03:33.791Z"
   },
   {
    "duration": 872,
    "start_time": "2023-06-27T07:03:59.318Z"
   },
   {
    "duration": 895,
    "start_time": "2023-06-27T07:04:07.474Z"
   },
   {
    "duration": 4589,
    "start_time": "2023-06-27T07:04:10.293Z"
   },
   {
    "duration": 4,
    "start_time": "2023-06-27T07:07:09.606Z"
   },
   {
    "duration": 7,
    "start_time": "2023-06-27T07:07:18.462Z"
   },
   {
    "duration": 10,
    "start_time": "2023-06-27T07:10:33.820Z"
   },
   {
    "duration": 7,
    "start_time": "2023-06-27T07:10:59.600Z"
   },
   {
    "duration": 94,
    "start_time": "2023-06-27T07:11:06.431Z"
   },
   {
    "duration": 421,
    "start_time": "2023-06-27T07:11:10.737Z"
   },
   {
    "duration": 397,
    "start_time": "2023-06-27T07:11:20.569Z"
   },
   {
    "duration": 9,
    "start_time": "2023-06-27T07:11:34.611Z"
   },
   {
    "duration": 11,
    "start_time": "2023-06-27T07:11:51.746Z"
   },
   {
    "duration": 13,
    "start_time": "2023-06-27T07:11:59.303Z"
   },
   {
    "duration": 127,
    "start_time": "2023-06-27T07:13:01.359Z"
   },
   {
    "duration": 5,
    "start_time": "2023-06-27T07:13:17.902Z"
   },
   {
    "duration": 914,
    "start_time": "2023-06-27T07:13:28.742Z"
   },
   {
    "duration": 5,
    "start_time": "2023-06-27T07:13:54.133Z"
   },
   {
    "duration": 12,
    "start_time": "2023-06-27T07:13:56.628Z"
   },
   {
    "duration": 916,
    "start_time": "2023-06-27T07:14:03.429Z"
   },
   {
    "duration": 5,
    "start_time": "2023-06-27T07:14:28.332Z"
   },
   {
    "duration": 3669,
    "start_time": "2023-06-27T07:14:35.328Z"
   },
   {
    "duration": 11,
    "start_time": "2023-06-27T07:14:52.611Z"
   },
   {
    "duration": 10,
    "start_time": "2023-06-27T07:15:27.737Z"
   },
   {
    "duration": 6,
    "start_time": "2023-06-27T07:15:37.748Z"
   },
   {
    "duration": 984,
    "start_time": "2023-06-27T07:15:41.868Z"
   },
   {
    "duration": 8,
    "start_time": "2023-06-27T07:15:50.894Z"
   },
   {
    "duration": 870,
    "start_time": "2023-06-27T07:15:52.905Z"
   },
   {
    "duration": 6,
    "start_time": "2023-06-27T07:16:05.940Z"
   },
   {
    "duration": 6,
    "start_time": "2023-06-27T07:16:38.653Z"
   },
   {
    "duration": 1033,
    "start_time": "2023-06-27T07:16:41.302Z"
   },
   {
    "duration": 5,
    "start_time": "2023-06-27T07:18:24.146Z"
   },
   {
    "duration": 7,
    "start_time": "2023-06-27T07:19:03.572Z"
   },
   {
    "duration": 920,
    "start_time": "2023-06-27T07:19:05.719Z"
   },
   {
    "duration": 7,
    "start_time": "2023-06-27T07:19:20.365Z"
   },
   {
    "duration": 5,
    "start_time": "2023-06-27T07:19:46.007Z"
   },
   {
    "duration": 831,
    "start_time": "2023-06-27T07:19:48.042Z"
   },
   {
    "duration": 6,
    "start_time": "2023-06-27T07:20:11.267Z"
   },
   {
    "duration": 3816,
    "start_time": "2023-06-27T07:20:13.570Z"
   },
   {
    "duration": 13,
    "start_time": "2023-06-27T07:20:18.970Z"
   },
   {
    "duration": 7,
    "start_time": "2023-06-27T07:21:22.807Z"
   },
   {
    "duration": 953,
    "start_time": "2023-06-27T07:22:05.736Z"
   },
   {
    "duration": 971,
    "start_time": "2023-06-27T07:22:08.405Z"
   },
   {
    "duration": 3778,
    "start_time": "2023-06-27T07:22:11.224Z"
   },
   {
    "duration": 8,
    "start_time": "2023-06-27T07:23:10.958Z"
   },
   {
    "duration": 8,
    "start_time": "2023-06-27T07:28:25.419Z"
   },
   {
    "duration": 27,
    "start_time": "2023-06-27T07:30:07.572Z"
   },
   {
    "duration": 19,
    "start_time": "2023-06-27T07:30:37.633Z"
   },
   {
    "duration": 9,
    "start_time": "2023-06-27T07:30:43.221Z"
   },
   {
    "duration": 411,
    "start_time": "2023-06-27T07:30:49.122Z"
   },
   {
    "duration": 3,
    "start_time": "2023-06-27T07:30:56.730Z"
   },
   {
    "duration": 6,
    "start_time": "2023-06-27T07:30:56.739Z"
   },
   {
    "duration": 90,
    "start_time": "2023-06-27T07:30:56.748Z"
   },
   {
    "duration": 13,
    "start_time": "2023-06-27T07:30:56.840Z"
   },
   {
    "duration": 14,
    "start_time": "2023-06-27T07:30:56.855Z"
   },
   {
    "duration": 45,
    "start_time": "2023-06-27T07:30:56.871Z"
   },
   {
    "duration": 11,
    "start_time": "2023-06-27T07:30:56.918Z"
   },
   {
    "duration": 18,
    "start_time": "2023-06-27T07:30:56.931Z"
   },
   {
    "duration": 7,
    "start_time": "2023-06-27T07:30:56.951Z"
   },
   {
    "duration": 8,
    "start_time": "2023-06-27T07:30:56.960Z"
   },
   {
    "duration": 200,
    "start_time": "2023-06-27T07:30:56.970Z"
   },
   {
    "duration": 14,
    "start_time": "2023-06-27T07:30:57.173Z"
   },
   {
    "duration": 55,
    "start_time": "2023-06-27T07:30:57.194Z"
   },
   {
    "duration": 62,
    "start_time": "2023-06-27T07:30:57.251Z"
   },
   {
    "duration": 209,
    "start_time": "2023-06-27T07:30:57.315Z"
   },
   {
    "duration": 146,
    "start_time": "2023-06-27T07:30:57.526Z"
   },
   {
    "duration": 21,
    "start_time": "2023-06-27T07:30:57.673Z"
   },
   {
    "duration": 46,
    "start_time": "2023-06-27T07:30:57.696Z"
   },
   {
    "duration": 17,
    "start_time": "2023-06-27T07:30:57.744Z"
   },
   {
    "duration": 14,
    "start_time": "2023-06-27T07:30:57.763Z"
   },
   {
    "duration": 51,
    "start_time": "2023-06-27T07:30:57.781Z"
   },
   {
    "duration": 14,
    "start_time": "2023-06-27T07:30:57.834Z"
   },
   {
    "duration": 2708,
    "start_time": "2023-06-27T07:30:57.851Z"
   },
   {
    "duration": 226,
    "start_time": "2023-06-27T07:31:00.561Z"
   },
   {
    "duration": 1568,
    "start_time": "2023-06-27T07:31:00.789Z"
   },
   {
    "duration": 6,
    "start_time": "2023-06-27T07:31:02.359Z"
   },
   {
    "duration": 25,
    "start_time": "2023-06-27T07:31:02.374Z"
   },
   {
    "duration": 29,
    "start_time": "2023-06-27T07:31:02.404Z"
   },
   {
    "duration": 29,
    "start_time": "2023-06-27T07:31:02.436Z"
   },
   {
    "duration": 55,
    "start_time": "2023-06-27T07:31:02.470Z"
   },
   {
    "duration": 15,
    "start_time": "2023-06-27T07:31:02.527Z"
   },
   {
    "duration": 64,
    "start_time": "2023-06-27T07:31:02.544Z"
   },
   {
    "duration": 120,
    "start_time": "2023-06-27T07:31:02.610Z"
   },
   {
    "duration": 61,
    "start_time": "2023-06-27T07:31:02.733Z"
   },
   {
    "duration": 120,
    "start_time": "2023-06-27T07:31:02.798Z"
   },
   {
    "duration": 23,
    "start_time": "2023-06-27T07:31:02.920Z"
   },
   {
    "duration": 3409,
    "start_time": "2023-06-27T07:31:02.944Z"
   },
   {
    "duration": 5,
    "start_time": "2023-06-27T07:31:06.355Z"
   },
   {
    "duration": 56,
    "start_time": "2023-06-27T07:31:06.362Z"
   },
   {
    "duration": 111,
    "start_time": "2023-06-27T07:31:06.421Z"
   },
   {
    "duration": 13,
    "start_time": "2023-06-27T07:31:06.535Z"
   },
   {
    "duration": 20,
    "start_time": "2023-06-27T07:31:06.550Z"
   },
   {
    "duration": 40,
    "start_time": "2023-06-27T07:31:06.577Z"
   },
   {
    "duration": 504,
    "start_time": "2023-06-27T07:31:06.619Z"
   },
   {
    "duration": 8,
    "start_time": "2023-06-27T07:31:07.126Z"
   },
   {
    "duration": 19,
    "start_time": "2023-06-27T07:31:07.137Z"
   },
   {
    "duration": 1060,
    "start_time": "2023-06-27T07:31:07.158Z"
   },
   {
    "duration": 6,
    "start_time": "2023-06-27T07:31:08.220Z"
   },
   {
    "duration": 976,
    "start_time": "2023-06-27T07:31:08.228Z"
   },
   {
    "duration": 15,
    "start_time": "2023-06-27T07:31:09.209Z"
   },
   {
    "duration": 3273,
    "start_time": "2023-06-27T07:31:09.226Z"
   },
   {
    "duration": 79,
    "start_time": "2023-06-27T07:31:12.508Z"
   },
   {
    "duration": 1112,
    "start_time": "2023-06-27T07:31:12.591Z"
   },
   {
    "duration": 1112,
    "start_time": "2023-06-27T07:31:13.705Z"
   },
   {
    "duration": 3792,
    "start_time": "2023-06-27T07:31:14.820Z"
   },
   {
    "duration": 19,
    "start_time": "2023-06-27T07:31:18.675Z"
   },
   {
    "duration": 43,
    "start_time": "2023-06-27T07:31:18.696Z"
   },
   {
    "duration": 7,
    "start_time": "2023-06-27T07:33:41.648Z"
   },
   {
    "duration": 4,
    "start_time": "2023-06-27T07:35:37.955Z"
   },
   {
    "duration": 21,
    "start_time": "2023-06-27T07:35:39.830Z"
   },
   {
    "duration": 13031,
    "start_time": "2023-06-27T07:36:22.147Z"
   },
   {
    "duration": 15740,
    "start_time": "2023-06-27T07:37:07.938Z"
   },
   {
    "duration": 20737,
    "start_time": "2023-06-27T07:37:39.659Z"
   },
   {
    "duration": 20135,
    "start_time": "2023-06-27T07:38:24.668Z"
   },
   {
    "duration": 9,
    "start_time": "2023-06-27T07:41:21.956Z"
   },
   {
    "duration": 4,
    "start_time": "2023-06-27T07:43:41.117Z"
   },
   {
    "duration": 1671,
    "start_time": "2023-06-27T07:43:41.142Z"
   },
   {
    "duration": 45,
    "start_time": "2023-06-27T07:43:42.815Z"
   },
   {
    "duration": 16,
    "start_time": "2023-06-27T07:43:42.862Z"
   },
   {
    "duration": 25,
    "start_time": "2023-06-27T07:43:42.882Z"
   },
   {
    "duration": 7,
    "start_time": "2023-06-27T07:43:42.909Z"
   },
   {
    "duration": 9,
    "start_time": "2023-06-27T07:43:42.918Z"
   },
   {
    "duration": 17,
    "start_time": "2023-06-27T07:43:42.929Z"
   },
   {
    "duration": 34,
    "start_time": "2023-06-27T07:43:42.948Z"
   },
   {
    "duration": 47,
    "start_time": "2023-06-27T07:43:42.984Z"
   },
   {
    "duration": 209,
    "start_time": "2023-06-27T07:43:43.033Z"
   },
   {
    "duration": 5,
    "start_time": "2023-06-27T07:43:43.244Z"
   },
   {
    "duration": 49,
    "start_time": "2023-06-27T07:43:43.251Z"
   },
   {
    "duration": 49,
    "start_time": "2023-06-27T07:43:43.302Z"
   },
   {
    "duration": 157,
    "start_time": "2023-06-27T07:43:43.354Z"
   },
   {
    "duration": 143,
    "start_time": "2023-06-27T07:43:43.513Z"
   },
   {
    "duration": 18,
    "start_time": "2023-06-27T07:43:43.658Z"
   },
   {
    "duration": 19,
    "start_time": "2023-06-27T07:43:43.678Z"
   },
   {
    "duration": 23,
    "start_time": "2023-06-27T07:43:43.699Z"
   },
   {
    "duration": 24,
    "start_time": "2023-06-27T07:43:43.724Z"
   },
   {
    "duration": 15,
    "start_time": "2023-06-27T07:43:43.750Z"
   },
   {
    "duration": 8,
    "start_time": "2023-06-27T07:43:43.767Z"
   },
   {
    "duration": 2567,
    "start_time": "2023-06-27T07:43:43.778Z"
   },
   {
    "duration": 112,
    "start_time": "2023-06-27T07:43:46.347Z"
   },
   {
    "duration": 1423,
    "start_time": "2023-06-27T07:43:46.461Z"
   },
   {
    "duration": 6,
    "start_time": "2023-06-27T07:43:47.887Z"
   },
   {
    "duration": 10,
    "start_time": "2023-06-27T07:43:47.895Z"
   },
   {
    "duration": 12,
    "start_time": "2023-06-27T07:43:47.906Z"
   },
   {
    "duration": 11,
    "start_time": "2023-06-27T07:43:47.920Z"
   },
   {
    "duration": 31,
    "start_time": "2023-06-27T07:43:47.933Z"
   },
   {
    "duration": 4,
    "start_time": "2023-06-27T07:43:47.976Z"
   },
   {
    "duration": 51,
    "start_time": "2023-06-27T07:43:47.982Z"
   },
   {
    "duration": 86,
    "start_time": "2023-06-27T07:43:48.035Z"
   },
   {
    "duration": 159,
    "start_time": "2023-06-27T07:43:48.123Z"
   },
   {
    "duration": 12,
    "start_time": "2023-06-27T07:43:48.285Z"
   },
   {
    "duration": 23,
    "start_time": "2023-06-27T07:43:48.298Z"
   },
   {
    "duration": 3196,
    "start_time": "2023-06-27T07:43:48.323Z"
   },
   {
    "duration": 5,
    "start_time": "2023-06-27T07:43:51.520Z"
   },
   {
    "duration": 19,
    "start_time": "2023-06-27T07:43:51.527Z"
   },
   {
    "duration": 332,
    "start_time": "2023-06-27T07:43:51.548Z"
   },
   {
    "duration": 16,
    "start_time": "2023-06-27T07:43:51.883Z"
   },
   {
    "duration": 12,
    "start_time": "2023-06-27T07:43:51.903Z"
   },
   {
    "duration": 35,
    "start_time": "2023-06-27T07:43:51.917Z"
   },
   {
    "duration": 331,
    "start_time": "2023-06-27T07:43:51.954Z"
   },
   {
    "duration": 5,
    "start_time": "2023-06-27T07:43:52.287Z"
   },
   {
    "duration": 14,
    "start_time": "2023-06-27T07:43:52.294Z"
   },
   {
    "duration": 10,
    "start_time": "2023-06-27T07:43:52.309Z"
   },
   {
    "duration": 961,
    "start_time": "2023-06-27T07:43:52.321Z"
   },
   {
    "duration": 6,
    "start_time": "2023-06-27T07:43:53.285Z"
   },
   {
    "duration": 927,
    "start_time": "2023-06-27T07:43:53.294Z"
   },
   {
    "duration": 4,
    "start_time": "2023-06-27T07:43:54.223Z"
   },
   {
    "duration": 2248,
    "start_time": "2023-06-27T07:43:54.229Z"
   },
   {
    "duration": 20,
    "start_time": "2023-06-27T07:43:56.479Z"
   },
   {
    "duration": 36,
    "start_time": "2023-06-27T07:43:56.576Z"
   },
   {
    "duration": 956,
    "start_time": "2023-06-27T07:43:56.614Z"
   },
   {
    "duration": 964,
    "start_time": "2023-06-27T07:43:57.575Z"
   },
   {
    "duration": 2147,
    "start_time": "2023-06-27T07:43:58.541Z"
   },
   {
    "duration": 86,
    "start_time": "2023-06-27T07:44:00.691Z"
   },
   {
    "duration": 157,
    "start_time": "2023-06-27T07:44:00.779Z"
   },
   {
    "duration": 53,
    "start_time": "2023-06-27T07:44:00.937Z"
   },
   {
    "duration": 14498,
    "start_time": "2023-06-27T07:44:00.992Z"
   },
   {
    "duration": 8,
    "start_time": "2023-06-27T07:44:25.263Z"
   },
   {
    "duration": 7,
    "start_time": "2023-06-27T07:45:36.793Z"
   },
   {
    "duration": 3,
    "start_time": "2023-06-27T07:47:39.315Z"
   },
   {
    "duration": 4,
    "start_time": "2023-06-27T07:47:41.416Z"
   },
   {
    "duration": 151,
    "start_time": "2023-06-27T07:47:55.800Z"
   },
   {
    "duration": 22006,
    "start_time": "2023-06-27T07:48:11.702Z"
   },
   {
    "duration": 44058,
    "start_time": "2023-06-27T07:48:41.630Z"
   },
   {
    "duration": 4,
    "start_time": "2023-06-27T07:50:59.504Z"
   },
   {
    "duration": 4876,
    "start_time": "2023-06-27T07:51:02.916Z"
   },
   {
    "duration": 3400,
    "start_time": "2023-06-27T07:51:19.901Z"
   },
   {
    "duration": 5,
    "start_time": "2023-06-27T07:51:55.201Z"
   },
   {
    "duration": 1179,
    "start_time": "2023-06-27T07:51:59.018Z"
   },
   {
    "duration": 1169,
    "start_time": "2023-06-27T07:52:11.223Z"
   },
   {
    "duration": 5,
    "start_time": "2023-06-27T07:52:42.554Z"
   },
   {
    "duration": 4,
    "start_time": "2023-06-27T07:53:20.837Z"
   },
   {
    "duration": 1576,
    "start_time": "2023-06-27T07:53:20.848Z"
   },
   {
    "duration": 42,
    "start_time": "2023-06-27T07:53:22.426Z"
   },
   {
    "duration": 25,
    "start_time": "2023-06-27T07:53:22.470Z"
   },
   {
    "duration": 18,
    "start_time": "2023-06-27T07:53:22.498Z"
   },
   {
    "duration": 7,
    "start_time": "2023-06-27T07:53:22.519Z"
   },
   {
    "duration": 14,
    "start_time": "2023-06-27T07:53:22.528Z"
   },
   {
    "duration": 16,
    "start_time": "2023-06-27T07:53:22.544Z"
   },
   {
    "duration": 4,
    "start_time": "2023-06-27T07:53:22.561Z"
   },
   {
    "duration": 8,
    "start_time": "2023-06-27T07:53:22.574Z"
   },
   {
    "duration": 183,
    "start_time": "2023-06-27T07:53:22.585Z"
   },
   {
    "duration": 11,
    "start_time": "2023-06-27T07:53:22.769Z"
   },
   {
    "duration": 46,
    "start_time": "2023-06-27T07:53:22.784Z"
   },
   {
    "duration": 36,
    "start_time": "2023-06-27T07:53:22.832Z"
   },
   {
    "duration": 129,
    "start_time": "2023-06-27T07:53:22.870Z"
   },
   {
    "duration": 137,
    "start_time": "2023-06-27T07:53:23.000Z"
   },
   {
    "duration": 12,
    "start_time": "2023-06-27T07:53:23.138Z"
   },
   {
    "duration": 20,
    "start_time": "2023-06-27T07:53:23.151Z"
   },
   {
    "duration": 36,
    "start_time": "2023-06-27T07:53:23.175Z"
   },
   {
    "duration": 25,
    "start_time": "2023-06-27T07:53:23.212Z"
   },
   {
    "duration": 21,
    "start_time": "2023-06-27T07:53:23.239Z"
   },
   {
    "duration": 48,
    "start_time": "2023-06-27T07:53:23.262Z"
   },
   {
    "duration": 2557,
    "start_time": "2023-06-27T07:53:23.312Z"
   },
   {
    "duration": 85,
    "start_time": "2023-06-27T07:53:25.871Z"
   },
   {
    "duration": 1585,
    "start_time": "2023-06-27T07:53:25.958Z"
   },
   {
    "duration": 5,
    "start_time": "2023-06-27T07:53:27.545Z"
   },
   {
    "duration": 13,
    "start_time": "2023-06-27T07:53:27.552Z"
   },
   {
    "duration": 25,
    "start_time": "2023-06-27T07:53:27.567Z"
   },
   {
    "duration": 16,
    "start_time": "2023-06-27T07:53:27.599Z"
   },
   {
    "duration": 37,
    "start_time": "2023-06-27T07:53:27.617Z"
   },
   {
    "duration": 3,
    "start_time": "2023-06-27T07:53:27.655Z"
   },
   {
    "duration": 67,
    "start_time": "2023-06-27T07:53:27.660Z"
   },
   {
    "duration": 98,
    "start_time": "2023-06-27T07:53:27.729Z"
   },
   {
    "duration": 59,
    "start_time": "2023-06-27T07:53:27.829Z"
   },
   {
    "duration": 132,
    "start_time": "2023-06-27T07:53:27.889Z"
   },
   {
    "duration": 26,
    "start_time": "2023-06-27T07:53:28.023Z"
   },
   {
    "duration": 3301,
    "start_time": "2023-06-27T07:53:28.051Z"
   },
   {
    "duration": 7,
    "start_time": "2023-06-27T07:53:31.354Z"
   },
   {
    "duration": 55,
    "start_time": "2023-06-27T07:53:31.363Z"
   },
   {
    "duration": 345,
    "start_time": "2023-06-27T07:53:31.419Z"
   },
   {
    "duration": 23,
    "start_time": "2023-06-27T07:53:31.766Z"
   },
   {
    "duration": 30,
    "start_time": "2023-06-27T07:53:31.796Z"
   },
   {
    "duration": 35,
    "start_time": "2023-06-27T07:53:31.827Z"
   },
   {
    "duration": 392,
    "start_time": "2023-06-27T07:53:31.864Z"
   },
   {
    "duration": 6,
    "start_time": "2023-06-27T07:53:32.258Z"
   },
   {
    "duration": 47,
    "start_time": "2023-06-27T07:53:32.265Z"
   },
   {
    "duration": 21,
    "start_time": "2023-06-27T07:53:32.314Z"
   },
   {
    "duration": 1023,
    "start_time": "2023-06-27T07:53:32.338Z"
   },
   {
    "duration": 14,
    "start_time": "2023-06-27T07:53:33.363Z"
   },
   {
    "duration": 1009,
    "start_time": "2023-06-27T07:53:33.380Z"
   },
   {
    "duration": 6,
    "start_time": "2023-06-27T07:53:34.391Z"
   },
   {
    "duration": 1103,
    "start_time": "2023-06-27T07:53:34.400Z"
   },
   {
    "duration": 77,
    "start_time": "2023-06-27T07:53:35.506Z"
   },
   {
    "duration": 136,
    "start_time": "2023-06-27T07:53:35.588Z"
   },
   {
    "duration": 1017,
    "start_time": "2023-06-27T07:53:35.725Z"
   },
   {
    "duration": 1071,
    "start_time": "2023-06-27T07:53:36.744Z"
   },
   {
    "duration": 1179,
    "start_time": "2023-06-27T07:53:37.817Z"
   },
   {
    "duration": 89,
    "start_time": "2023-06-27T07:53:39.005Z"
   },
   {
    "duration": 37,
    "start_time": "2023-06-27T07:53:39.098Z"
   },
   {
    "duration": 9,
    "start_time": "2023-06-27T07:53:39.137Z"
   },
   {
    "duration": 11532,
    "start_time": "2023-06-27T07:53:39.147Z"
   },
   {
    "duration": 91,
    "start_time": "2023-06-27T07:53:50.690Z"
   },
   {
    "duration": 39,
    "start_time": "2023-06-27T07:53:50.783Z"
   },
   {
    "duration": 34,
    "start_time": "2023-06-27T07:53:50.823Z"
   },
   {
    "duration": 22982,
    "start_time": "2023-06-27T07:54:02.912Z"
   },
   {
    "duration": 7,
    "start_time": "2023-06-27T07:56:46.447Z"
   },
   {
    "duration": 22257,
    "start_time": "2023-06-27T07:56:58.956Z"
   },
   {
    "duration": 16,
    "start_time": "2023-06-27T07:57:32.574Z"
   },
   {
    "duration": 23822,
    "start_time": "2023-06-27T07:57:44.865Z"
   },
   {
    "duration": 10,
    "start_time": "2023-06-27T07:58:21.426Z"
   },
   {
    "duration": 5,
    "start_time": "2023-06-27T07:59:01.355Z"
   },
   {
    "duration": 23773,
    "start_time": "2023-06-27T07:59:10.205Z"
   },
   {
    "duration": 8,
    "start_time": "2023-06-27T07:59:44.450Z"
   },
   {
    "duration": 3,
    "start_time": "2023-06-27T08:07:06.309Z"
   },
   {
    "duration": 22834,
    "start_time": "2023-06-27T08:09:11.102Z"
   },
   {
    "duration": 16796,
    "start_time": "2023-06-27T08:10:22.796Z"
   },
   {
    "duration": 12,
    "start_time": "2023-06-27T08:12:25.919Z"
   },
   {
    "duration": 11397,
    "start_time": "2023-06-27T08:12:28.415Z"
   },
   {
    "duration": 90,
    "start_time": "2023-06-27T08:12:47.223Z"
   },
   {
    "duration": 100,
    "start_time": "2023-06-27T08:13:15.370Z"
   },
   {
    "duration": 13674,
    "start_time": "2023-06-27T08:13:33.294Z"
   },
   {
    "duration": 196,
    "start_time": "2023-06-27T08:13:53.725Z"
   },
   {
    "duration": 115,
    "start_time": "2023-06-27T08:17:19.704Z"
   },
   {
    "duration": 5,
    "start_time": "2023-06-27T08:18:00.413Z"
   },
   {
    "duration": 11,
    "start_time": "2023-06-27T08:18:10.312Z"
   },
   {
    "duration": 5,
    "start_time": "2023-06-27T08:18:21.749Z"
   },
   {
    "duration": 15,
    "start_time": "2023-06-27T08:18:29.104Z"
   },
   {
    "duration": 164,
    "start_time": "2023-06-27T08:19:11.854Z"
   },
   {
    "duration": 17,
    "start_time": "2023-06-27T08:19:17.903Z"
   },
   {
    "duration": 1541,
    "start_time": "2023-06-27T08:19:28.704Z"
   },
   {
    "duration": 4037,
    "start_time": "2023-06-27T08:19:53.224Z"
   },
   {
    "duration": 19,
    "start_time": "2023-06-27T08:21:12.634Z"
   },
   {
    "duration": 16,
    "start_time": "2023-06-27T08:21:27.843Z"
   },
   {
    "duration": 10,
    "start_time": "2023-06-27T08:21:33.914Z"
   },
   {
    "duration": 4634,
    "start_time": "2023-06-27T08:23:08.933Z"
   },
   {
    "duration": 9,
    "start_time": "2023-06-27T08:23:21.759Z"
   },
   {
    "duration": 1554,
    "start_time": "2023-06-27T08:23:54.398Z"
   },
   {
    "duration": 12,
    "start_time": "2023-06-27T09:20:04.701Z"
   },
   {
    "duration": 16,
    "start_time": "2023-06-27T09:21:08.516Z"
   },
   {
    "duration": 11,
    "start_time": "2023-06-27T09:21:17.318Z"
   },
   {
    "duration": 12,
    "start_time": "2023-06-27T09:21:32.017Z"
   },
   {
    "duration": 934,
    "start_time": "2023-06-27T09:22:33.744Z"
   },
   {
    "duration": 1314,
    "start_time": "2023-06-27T09:22:45.134Z"
   },
   {
    "duration": 7,
    "start_time": "2023-06-27T09:23:08.464Z"
   },
   {
    "duration": 4,
    "start_time": "2023-06-27T09:25:28.300Z"
   },
   {
    "duration": 1507,
    "start_time": "2023-06-27T09:25:28.305Z"
   },
   {
    "duration": 48,
    "start_time": "2023-06-27T09:25:29.815Z"
   },
   {
    "duration": 15,
    "start_time": "2023-06-27T09:25:29.865Z"
   },
   {
    "duration": 24,
    "start_time": "2023-06-27T09:25:29.883Z"
   },
   {
    "duration": 10,
    "start_time": "2023-06-27T09:25:29.908Z"
   },
   {
    "duration": 8,
    "start_time": "2023-06-27T09:25:29.920Z"
   },
   {
    "duration": 32,
    "start_time": "2023-06-27T09:25:29.929Z"
   },
   {
    "duration": 4,
    "start_time": "2023-06-27T09:25:29.963Z"
   },
   {
    "duration": 7,
    "start_time": "2023-06-27T09:25:29.969Z"
   },
   {
    "duration": 192,
    "start_time": "2023-06-27T09:25:29.978Z"
   },
   {
    "duration": 7,
    "start_time": "2023-06-27T09:25:30.171Z"
   },
   {
    "duration": 92,
    "start_time": "2023-06-27T09:25:30.179Z"
   },
   {
    "duration": 109,
    "start_time": "2023-06-27T09:25:30.272Z"
   },
   {
    "duration": 197,
    "start_time": "2023-06-27T09:25:30.383Z"
   },
   {
    "duration": 113,
    "start_time": "2023-06-27T09:25:30.582Z"
   },
   {
    "duration": 17,
    "start_time": "2023-06-27T09:25:30.697Z"
   },
   {
    "duration": 237,
    "start_time": "2023-06-27T09:25:30.716Z"
   },
   {
    "duration": 57,
    "start_time": "2023-06-27T09:25:30.955Z"
   },
   {
    "duration": 63,
    "start_time": "2023-06-27T09:25:31.013Z"
   },
   {
    "duration": 44,
    "start_time": "2023-06-27T09:25:31.078Z"
   },
   {
    "duration": 38,
    "start_time": "2023-06-27T09:25:31.127Z"
   },
   {
    "duration": 2382,
    "start_time": "2023-06-27T09:25:31.167Z"
   },
   {
    "duration": 79,
    "start_time": "2023-06-27T09:25:33.551Z"
   },
   {
    "duration": 1346,
    "start_time": "2023-06-27T09:25:33.632Z"
   },
   {
    "duration": 5,
    "start_time": "2023-06-27T09:25:34.980Z"
   },
   {
    "duration": 7,
    "start_time": "2023-06-27T09:25:34.986Z"
   },
   {
    "duration": 7,
    "start_time": "2023-06-27T09:25:34.995Z"
   },
   {
    "duration": 23,
    "start_time": "2023-06-27T09:25:35.006Z"
   },
   {
    "duration": 39,
    "start_time": "2023-06-27T09:25:35.031Z"
   },
   {
    "duration": 24,
    "start_time": "2023-06-27T09:25:35.071Z"
   },
   {
    "duration": 37,
    "start_time": "2023-06-27T09:25:35.096Z"
   },
   {
    "duration": 85,
    "start_time": "2023-06-27T09:25:35.135Z"
   },
   {
    "duration": 63,
    "start_time": "2023-06-27T09:25:35.222Z"
   },
   {
    "duration": 102,
    "start_time": "2023-06-27T09:25:35.377Z"
   },
   {
    "duration": 24,
    "start_time": "2023-06-27T09:25:35.480Z"
   },
   {
    "duration": 2833,
    "start_time": "2023-06-27T09:25:35.506Z"
   },
   {
    "duration": 4,
    "start_time": "2023-06-27T09:25:38.341Z"
   },
   {
    "duration": 10,
    "start_time": "2023-06-27T09:25:38.346Z"
   },
   {
    "duration": 260,
    "start_time": "2023-06-27T09:25:38.357Z"
   },
   {
    "duration": 13,
    "start_time": "2023-06-27T09:25:38.618Z"
   },
   {
    "duration": 3,
    "start_time": "2023-06-27T09:25:38.632Z"
   },
   {
    "duration": 14,
    "start_time": "2023-06-27T09:25:38.637Z"
   },
   {
    "duration": 295,
    "start_time": "2023-06-27T09:25:38.652Z"
   },
   {
    "duration": 6,
    "start_time": "2023-06-27T09:25:38.948Z"
   },
   {
    "duration": 12,
    "start_time": "2023-06-27T09:25:38.955Z"
   },
   {
    "duration": 8,
    "start_time": "2023-06-27T09:25:38.969Z"
   },
   {
    "duration": 852,
    "start_time": "2023-06-27T09:25:38.979Z"
   },
   {
    "duration": 6,
    "start_time": "2023-06-27T09:25:39.832Z"
   },
   {
    "duration": 820,
    "start_time": "2023-06-27T09:25:39.840Z"
   },
   {
    "duration": 13,
    "start_time": "2023-06-27T09:25:40.661Z"
   },
   {
    "duration": 1312,
    "start_time": "2023-06-27T09:25:40.676Z"
   },
   {
    "duration": 92,
    "start_time": "2023-06-27T09:25:41.991Z"
   },
   {
    "duration": 98,
    "start_time": "2023-06-27T09:25:42.085Z"
   },
   {
    "duration": 970,
    "start_time": "2023-06-27T09:25:42.185Z"
   },
   {
    "duration": 1044,
    "start_time": "2023-06-27T09:25:43.158Z"
   },
   {
    "duration": 1376,
    "start_time": "2023-06-27T09:25:44.204Z"
   },
   {
    "duration": 96,
    "start_time": "2023-06-27T09:25:45.583Z"
   },
   {
    "duration": 4,
    "start_time": "2023-06-27T09:25:45.681Z"
   },
   {
    "duration": 17,
    "start_time": "2023-06-27T09:25:45.687Z"
   },
   {
    "duration": 11270,
    "start_time": "2023-06-27T09:25:45.705Z"
   },
   {
    "duration": 99,
    "start_time": "2023-06-27T09:25:56.977Z"
   },
   {
    "duration": 4,
    "start_time": "2023-06-27T09:25:57.078Z"
   },
   {
    "duration": 17,
    "start_time": "2023-06-27T09:25:57.084Z"
   },
   {
    "duration": 24873,
    "start_time": "2023-06-27T09:25:57.103Z"
   },
   {
    "duration": 99,
    "start_time": "2023-06-27T09:26:21.979Z"
   },
   {
    "duration": 28,
    "start_time": "2023-06-27T09:26:22.080Z"
   },
   {
    "duration": 13073,
    "start_time": "2023-06-27T09:26:22.109Z"
   },
   {
    "duration": 204,
    "start_time": "2023-06-27T09:26:35.184Z"
   },
   {
    "duration": 66999,
    "start_time": "2023-06-27T09:26:35.390Z"
   },
   {
    "duration": 8,
    "start_time": "2023-06-27T09:27:59.547Z"
   },
   {
    "duration": 220,
    "start_time": "2023-06-27T09:28:11.547Z"
   },
   {
    "duration": 3,
    "start_time": "2023-06-27T09:29:39.410Z"
   },
   {
    "duration": 1688,
    "start_time": "2023-06-27T09:29:39.416Z"
   },
   {
    "duration": 44,
    "start_time": "2023-06-27T09:29:41.106Z"
   },
   {
    "duration": 12,
    "start_time": "2023-06-27T09:29:41.151Z"
   },
   {
    "duration": 27,
    "start_time": "2023-06-27T09:29:41.165Z"
   },
   {
    "duration": 10,
    "start_time": "2023-06-27T09:29:41.193Z"
   },
   {
    "duration": 21,
    "start_time": "2023-06-27T09:29:41.205Z"
   },
   {
    "duration": 19,
    "start_time": "2023-06-27T09:29:41.228Z"
   },
   {
    "duration": 7,
    "start_time": "2023-06-27T09:29:41.249Z"
   },
   {
    "duration": 12,
    "start_time": "2023-06-27T09:29:41.258Z"
   },
   {
    "duration": 169,
    "start_time": "2023-06-27T09:29:41.272Z"
   },
   {
    "duration": 4,
    "start_time": "2023-06-27T09:29:41.443Z"
   },
   {
    "duration": 31,
    "start_time": "2023-06-27T09:29:41.449Z"
   },
   {
    "duration": 37,
    "start_time": "2023-06-27T09:29:41.483Z"
   },
   {
    "duration": 140,
    "start_time": "2023-06-27T09:29:41.521Z"
   },
   {
    "duration": 118,
    "start_time": "2023-06-27T09:29:41.663Z"
   },
   {
    "duration": 11,
    "start_time": "2023-06-27T09:29:41.783Z"
   },
   {
    "duration": 17,
    "start_time": "2023-06-27T09:29:41.796Z"
   },
   {
    "duration": 12,
    "start_time": "2023-06-27T09:29:41.814Z"
   },
   {
    "duration": 11,
    "start_time": "2023-06-27T09:29:41.828Z"
   },
   {
    "duration": 9,
    "start_time": "2023-06-27T09:29:41.841Z"
   },
   {
    "duration": 6,
    "start_time": "2023-06-27T09:29:41.852Z"
   },
   {
    "duration": 2401,
    "start_time": "2023-06-27T09:29:41.859Z"
   },
   {
    "duration": 79,
    "start_time": "2023-06-27T09:29:44.262Z"
   },
   {
    "duration": 1387,
    "start_time": "2023-06-27T09:29:44.343Z"
   },
   {
    "duration": 5,
    "start_time": "2023-06-27T09:29:45.732Z"
   },
   {
    "duration": 26,
    "start_time": "2023-06-27T09:29:45.738Z"
   },
   {
    "duration": 17,
    "start_time": "2023-06-27T09:29:45.766Z"
   },
   {
    "duration": 16,
    "start_time": "2023-06-27T09:29:45.785Z"
   },
   {
    "duration": 36,
    "start_time": "2023-06-27T09:29:45.803Z"
   },
   {
    "duration": 2,
    "start_time": "2023-06-27T09:29:45.841Z"
   },
   {
    "duration": 44,
    "start_time": "2023-06-27T09:29:45.845Z"
   },
   {
    "duration": 98,
    "start_time": "2023-06-27T09:29:45.891Z"
   },
   {
    "duration": 88,
    "start_time": "2023-06-27T09:29:45.993Z"
   },
   {
    "duration": 96,
    "start_time": "2023-06-27T09:29:46.083Z"
   },
   {
    "duration": 182,
    "start_time": "2023-06-27T09:29:46.182Z"
   },
   {
    "duration": 2972,
    "start_time": "2023-06-27T09:29:46.367Z"
   },
   {
    "duration": 5,
    "start_time": "2023-06-27T09:29:49.340Z"
   },
   {
    "duration": 46,
    "start_time": "2023-06-27T09:29:49.346Z"
   },
   {
    "duration": 358,
    "start_time": "2023-06-27T09:29:49.394Z"
   },
   {
    "duration": 25,
    "start_time": "2023-06-27T09:29:49.756Z"
   },
   {
    "duration": 14,
    "start_time": "2023-06-27T09:29:49.783Z"
   },
   {
    "duration": 22,
    "start_time": "2023-06-27T09:29:49.799Z"
   },
   {
    "duration": 375,
    "start_time": "2023-06-27T09:29:49.823Z"
   },
   {
    "duration": 6,
    "start_time": "2023-06-27T09:29:50.201Z"
   },
   {
    "duration": 57,
    "start_time": "2023-06-27T09:29:50.209Z"
   },
   {
    "duration": 56,
    "start_time": "2023-06-27T09:29:50.268Z"
   },
   {
    "duration": 927,
    "start_time": "2023-06-27T09:29:50.326Z"
   },
   {
    "duration": 4,
    "start_time": "2023-06-27T09:29:51.255Z"
   },
   {
    "duration": 864,
    "start_time": "2023-06-27T09:29:51.261Z"
   },
   {
    "duration": 4,
    "start_time": "2023-06-27T09:29:52.126Z"
   },
   {
    "duration": 1444,
    "start_time": "2023-06-27T09:29:52.132Z"
   },
   {
    "duration": 10,
    "start_time": "2023-06-27T09:29:56.447Z"
   },
   {
    "duration": 5,
    "start_time": "2023-06-27T09:30:43.505Z"
   },
   {
    "duration": 1531,
    "start_time": "2023-06-27T09:30:46.046Z"
   },
   {
    "duration": 10,
    "start_time": "2023-06-27T09:31:26.362Z"
   },
   {
    "duration": 1264,
    "start_time": "2023-06-27T09:31:28.516Z"
   },
   {
    "duration": 6,
    "start_time": "2023-06-27T09:31:53.494Z"
   },
   {
    "duration": 1356,
    "start_time": "2023-06-27T09:31:55.932Z"
   },
   {
    "duration": 8,
    "start_time": "2023-06-27T09:33:32.012Z"
   },
   {
    "duration": 1252,
    "start_time": "2023-06-27T09:33:45.336Z"
   },
   {
    "duration": 7,
    "start_time": "2023-06-27T09:35:06.419Z"
   },
   {
    "duration": 1380,
    "start_time": "2023-06-27T09:35:09.401Z"
   },
   {
    "duration": 9,
    "start_time": "2023-06-27T09:35:14.083Z"
   },
   {
    "duration": 3,
    "start_time": "2023-06-27T09:36:34.393Z"
   },
   {
    "duration": 1663,
    "start_time": "2023-06-27T09:36:34.458Z"
   },
   {
    "duration": 43,
    "start_time": "2023-06-27T09:36:36.123Z"
   },
   {
    "duration": 13,
    "start_time": "2023-06-27T09:36:36.168Z"
   },
   {
    "duration": 15,
    "start_time": "2023-06-27T09:36:36.183Z"
   },
   {
    "duration": 6,
    "start_time": "2023-06-27T09:36:36.200Z"
   },
   {
    "duration": 8,
    "start_time": "2023-06-27T09:36:36.207Z"
   },
   {
    "duration": 17,
    "start_time": "2023-06-27T09:36:36.217Z"
   },
   {
    "duration": 6,
    "start_time": "2023-06-27T09:36:36.236Z"
   },
   {
    "duration": 33,
    "start_time": "2023-06-27T09:36:36.244Z"
   },
   {
    "duration": 192,
    "start_time": "2023-06-27T09:36:36.279Z"
   },
   {
    "duration": 5,
    "start_time": "2023-06-27T09:36:36.472Z"
   },
   {
    "duration": 25,
    "start_time": "2023-06-27T09:36:36.479Z"
   },
   {
    "duration": 37,
    "start_time": "2023-06-27T09:36:36.506Z"
   },
   {
    "duration": 133,
    "start_time": "2023-06-27T09:36:36.547Z"
   },
   {
    "duration": 115,
    "start_time": "2023-06-27T09:36:36.682Z"
   },
   {
    "duration": 13,
    "start_time": "2023-06-27T09:36:36.798Z"
   },
   {
    "duration": 10,
    "start_time": "2023-06-27T09:36:36.813Z"
   },
   {
    "duration": 5,
    "start_time": "2023-06-27T09:36:36.824Z"
   },
   {
    "duration": 6,
    "start_time": "2023-06-27T09:36:36.830Z"
   },
   {
    "duration": 6,
    "start_time": "2023-06-27T09:36:36.838Z"
   },
   {
    "duration": 3,
    "start_time": "2023-06-27T09:36:36.875Z"
   },
   {
    "duration": 2227,
    "start_time": "2023-06-27T09:36:36.880Z"
   },
   {
    "duration": 73,
    "start_time": "2023-06-27T09:36:39.109Z"
   },
   {
    "duration": 1371,
    "start_time": "2023-06-27T09:36:39.184Z"
   },
   {
    "duration": 5,
    "start_time": "2023-06-27T09:36:40.557Z"
   },
   {
    "duration": 11,
    "start_time": "2023-06-27T09:36:40.564Z"
   },
   {
    "duration": 11,
    "start_time": "2023-06-27T09:36:40.577Z"
   },
   {
    "duration": 12,
    "start_time": "2023-06-27T09:36:40.589Z"
   },
   {
    "duration": 29,
    "start_time": "2023-06-27T09:36:40.603Z"
   },
   {
    "duration": 5,
    "start_time": "2023-06-27T09:36:40.633Z"
   },
   {
    "duration": 53,
    "start_time": "2023-06-27T09:36:40.639Z"
   },
   {
    "duration": 89,
    "start_time": "2023-06-27T09:36:40.694Z"
   },
   {
    "duration": 15,
    "start_time": "2023-06-27T09:36:40.785Z"
   },
   {
    "duration": 96,
    "start_time": "2023-06-27T09:36:40.880Z"
   },
   {
    "duration": 17,
    "start_time": "2023-06-27T09:36:40.978Z"
   },
   {
    "duration": 2869,
    "start_time": "2023-06-27T09:36:40.996Z"
   },
   {
    "duration": 9,
    "start_time": "2023-06-27T09:36:43.867Z"
   },
   {
    "duration": 9,
    "start_time": "2023-06-27T09:36:43.877Z"
   },
   {
    "duration": 327,
    "start_time": "2023-06-27T09:36:43.888Z"
   },
   {
    "duration": 12,
    "start_time": "2023-06-27T09:36:44.217Z"
   },
   {
    "duration": 3,
    "start_time": "2023-06-27T09:36:44.233Z"
   },
   {
    "duration": 13,
    "start_time": "2023-06-27T09:36:44.237Z"
   },
   {
    "duration": 295,
    "start_time": "2023-06-27T09:36:44.251Z"
   },
   {
    "duration": 5,
    "start_time": "2023-06-27T09:36:44.548Z"
   },
   {
    "duration": 5,
    "start_time": "2023-06-27T09:36:44.555Z"
   },
   {
    "duration": 16,
    "start_time": "2023-06-27T09:36:44.562Z"
   },
   {
    "duration": 1062,
    "start_time": "2023-06-27T09:36:44.580Z"
   },
   {
    "duration": 5,
    "start_time": "2023-06-27T09:36:45.644Z"
   },
   {
    "duration": 916,
    "start_time": "2023-06-27T09:36:45.650Z"
   },
   {
    "duration": 9,
    "start_time": "2023-06-27T09:36:46.569Z"
   },
   {
    "duration": 1397,
    "start_time": "2023-06-27T09:36:46.580Z"
   },
   {
    "duration": 99,
    "start_time": "2023-06-27T09:36:47.980Z"
   },
   {
    "duration": 5,
    "start_time": "2023-06-27T09:36:48.080Z"
   },
   {
    "duration": 871,
    "start_time": "2023-06-27T09:36:48.086Z"
   },
   {
    "duration": 934,
    "start_time": "2023-06-27T09:36:48.959Z"
   },
   {
    "duration": 1381,
    "start_time": "2023-06-27T09:36:49.895Z"
   },
   {
    "duration": 98,
    "start_time": "2023-06-27T09:36:51.279Z"
   },
   {
    "duration": 26,
    "start_time": "2023-06-27T09:36:51.378Z"
   },
   {
    "duration": 23,
    "start_time": "2023-06-27T09:36:51.406Z"
   },
   {
    "duration": 11348,
    "start_time": "2023-06-27T09:36:51.431Z"
   },
   {
    "duration": 99,
    "start_time": "2023-06-27T09:37:02.782Z"
   },
   {
    "duration": 14,
    "start_time": "2023-06-27T09:37:02.882Z"
   },
   {
    "duration": 16,
    "start_time": "2023-06-27T09:37:02.898Z"
   },
   {
    "duration": 23959,
    "start_time": "2023-06-27T09:37:02.916Z"
   },
   {
    "duration": 12,
    "start_time": "2023-06-27T09:37:26.878Z"
   },
   {
    "duration": 17,
    "start_time": "2023-06-27T09:37:26.976Z"
   },
   {
    "duration": 12953,
    "start_time": "2023-06-27T09:37:26.994Z"
   },
   {
    "duration": 182,
    "start_time": "2023-06-27T09:37:39.949Z"
   },
   {
    "duration": 72557,
    "start_time": "2023-06-27T09:38:47.805Z"
   },
   {
    "duration": 285,
    "start_time": "2023-06-27T09:40:00.364Z"
   },
   {
    "duration": 202,
    "start_time": "2023-06-27T09:40:26.269Z"
   },
   {
    "duration": 67753,
    "start_time": "2023-06-27T09:41:13.637Z"
   },
   {
    "duration": 8,
    "start_time": "2023-06-27T09:42:21.391Z"
   },
   {
    "duration": 177,
    "start_time": "2023-06-27T09:43:04.151Z"
   },
   {
    "duration": 175,
    "start_time": "2023-06-27T09:43:08.231Z"
   },
   {
    "duration": 182,
    "start_time": "2023-06-27T09:43:17.050Z"
   },
   {
    "duration": 165,
    "start_time": "2023-06-27T09:45:18.847Z"
   },
   {
    "duration": 10674,
    "start_time": "2023-06-27T09:45:36.853Z"
   },
   {
    "duration": 18,
    "start_time": "2023-06-27T09:46:19.343Z"
   },
   {
    "duration": 12855,
    "start_time": "2023-06-27T09:46:53.948Z"
   },
   {
    "duration": 22,
    "start_time": "2023-06-27T09:47:48.486Z"
   },
   {
    "duration": 21,
    "start_time": "2023-06-27T09:48:08.364Z"
   },
   {
    "duration": 17149,
    "start_time": "2023-06-27T09:48:33.419Z"
   },
   {
    "duration": 21,
    "start_time": "2023-06-27T09:48:55.555Z"
   },
   {
    "duration": 172,
    "start_time": "2023-06-27T09:49:14.697Z"
   },
   {
    "duration": 3,
    "start_time": "2023-06-27T09:49:25.820Z"
   },
   {
    "duration": 1415,
    "start_time": "2023-06-27T09:49:25.831Z"
   },
   {
    "duration": 44,
    "start_time": "2023-06-27T09:49:27.248Z"
   },
   {
    "duration": 13,
    "start_time": "2023-06-27T09:49:27.294Z"
   },
   {
    "duration": 23,
    "start_time": "2023-06-27T09:49:27.309Z"
   },
   {
    "duration": 13,
    "start_time": "2023-06-27T09:49:27.334Z"
   },
   {
    "duration": 20,
    "start_time": "2023-06-27T09:49:27.349Z"
   },
   {
    "duration": 39,
    "start_time": "2023-06-27T09:49:27.374Z"
   },
   {
    "duration": 26,
    "start_time": "2023-06-27T09:49:27.415Z"
   },
   {
    "duration": 12,
    "start_time": "2023-06-27T09:49:27.443Z"
   },
   {
    "duration": 167,
    "start_time": "2023-06-27T09:49:27.458Z"
   },
   {
    "duration": 5,
    "start_time": "2023-06-27T09:49:27.626Z"
   },
   {
    "duration": 29,
    "start_time": "2023-06-27T09:49:27.632Z"
   },
   {
    "duration": 46,
    "start_time": "2023-06-27T09:49:27.663Z"
   },
   {
    "duration": 109,
    "start_time": "2023-06-27T09:49:27.711Z"
   },
   {
    "duration": 105,
    "start_time": "2023-06-27T09:49:27.822Z"
   },
   {
    "duration": 13,
    "start_time": "2023-06-27T09:49:27.929Z"
   },
   {
    "duration": 12,
    "start_time": "2023-06-27T09:49:27.944Z"
   },
   {
    "duration": 19,
    "start_time": "2023-06-27T09:49:27.957Z"
   },
   {
    "duration": 13,
    "start_time": "2023-06-27T09:49:27.977Z"
   },
   {
    "duration": 33,
    "start_time": "2023-06-27T09:49:27.991Z"
   },
   {
    "duration": 16,
    "start_time": "2023-06-27T09:49:28.025Z"
   },
   {
    "duration": 2222,
    "start_time": "2023-06-27T09:49:28.043Z"
   },
   {
    "duration": 71,
    "start_time": "2023-06-27T09:49:30.267Z"
   },
   {
    "duration": 1293,
    "start_time": "2023-06-27T09:49:30.340Z"
   },
   {
    "duration": 5,
    "start_time": "2023-06-27T09:49:31.635Z"
   },
   {
    "duration": 57,
    "start_time": "2023-06-27T09:49:31.642Z"
   },
   {
    "duration": 89,
    "start_time": "2023-06-27T09:49:31.701Z"
   },
   {
    "duration": 38,
    "start_time": "2023-06-27T09:49:31.795Z"
   },
   {
    "duration": 75,
    "start_time": "2023-06-27T09:49:31.835Z"
   },
   {
    "duration": 17,
    "start_time": "2023-06-27T09:49:31.912Z"
   },
   {
    "duration": 53,
    "start_time": "2023-06-27T09:49:31.930Z"
   },
   {
    "duration": 93,
    "start_time": "2023-06-27T09:49:31.984Z"
   },
   {
    "duration": 98,
    "start_time": "2023-06-27T09:49:32.079Z"
   },
   {
    "duration": 109,
    "start_time": "2023-06-27T09:49:32.180Z"
   },
   {
    "duration": 31,
    "start_time": "2023-06-27T09:49:32.291Z"
   },
   {
    "duration": 2851,
    "start_time": "2023-06-27T09:49:32.324Z"
   },
   {
    "duration": 3,
    "start_time": "2023-06-27T09:49:35.177Z"
   },
   {
    "duration": 13,
    "start_time": "2023-06-27T09:49:35.182Z"
   },
   {
    "duration": 296,
    "start_time": "2023-06-27T09:49:35.197Z"
   },
   {
    "duration": 11,
    "start_time": "2023-06-27T09:49:35.495Z"
   },
   {
    "duration": 3,
    "start_time": "2023-06-27T09:49:35.508Z"
   },
   {
    "duration": 5,
    "start_time": "2023-06-27T09:49:35.512Z"
   },
   {
    "duration": 295,
    "start_time": "2023-06-27T09:49:35.519Z"
   },
   {
    "duration": 4,
    "start_time": "2023-06-27T09:49:35.816Z"
   },
   {
    "duration": 8,
    "start_time": "2023-06-27T09:49:35.822Z"
   },
   {
    "duration": 7,
    "start_time": "2023-06-27T09:49:35.832Z"
   },
   {
    "duration": 875,
    "start_time": "2023-06-27T09:49:35.840Z"
   },
   {
    "duration": 5,
    "start_time": "2023-06-27T09:49:36.717Z"
   },
   {
    "duration": 779,
    "start_time": "2023-06-27T09:49:36.723Z"
   },
   {
    "duration": 5,
    "start_time": "2023-06-27T09:49:37.504Z"
   },
   {
    "duration": 1364,
    "start_time": "2023-06-27T09:49:37.511Z"
   },
   {
    "duration": 99,
    "start_time": "2023-06-27T09:49:38.878Z"
   },
   {
    "duration": 7,
    "start_time": "2023-06-27T09:49:38.979Z"
   },
   {
    "duration": 822,
    "start_time": "2023-06-27T09:49:38.987Z"
   },
   {
    "duration": 893,
    "start_time": "2023-06-27T09:49:39.811Z"
   },
   {
    "duration": 1378,
    "start_time": "2023-06-27T09:49:40.706Z"
   },
   {
    "duration": 102,
    "start_time": "2023-06-27T09:49:42.179Z"
   },
   {
    "duration": 13,
    "start_time": "2023-06-27T09:49:42.283Z"
   },
   {
    "duration": 8,
    "start_time": "2023-06-27T09:49:42.298Z"
   },
   {
    "duration": 11474,
    "start_time": "2023-06-27T09:49:42.307Z"
   },
   {
    "duration": 100,
    "start_time": "2023-06-27T09:49:53.786Z"
   },
   {
    "duration": 94,
    "start_time": "2023-06-27T09:49:53.889Z"
   },
   {
    "duration": 15,
    "start_time": "2023-06-27T09:49:53.985Z"
   },
   {
    "duration": 24884,
    "start_time": "2023-06-27T09:49:54.002Z"
   },
   {
    "duration": 90,
    "start_time": "2023-06-27T09:50:18.889Z"
   },
   {
    "duration": 101,
    "start_time": "2023-06-27T09:50:18.982Z"
   },
   {
    "duration": 16167,
    "start_time": "2023-06-27T09:50:19.085Z"
   },
   {
    "duration": 246,
    "start_time": "2023-06-27T09:50:35.257Z"
   },
   {
    "duration": 12951,
    "start_time": "2023-06-27T09:50:59.727Z"
   },
   {
    "duration": 176,
    "start_time": "2023-06-27T09:51:18.757Z"
   },
   {
    "duration": 232,
    "start_time": "2023-06-27T09:51:23.908Z"
   },
   {
    "duration": 5,
    "start_time": "2023-06-27T09:52:24.400Z"
   },
   {
    "duration": 8,
    "start_time": "2023-06-27T09:54:16.351Z"
   },
   {
    "duration": 1766,
    "start_time": "2023-06-27T09:54:19.496Z"
   },
   {
    "duration": 6,
    "start_time": "2023-06-27T09:54:56.086Z"
   },
   {
    "duration": 1769,
    "start_time": "2023-06-27T09:55:00.600Z"
   },
   {
    "duration": 5,
    "start_time": "2023-06-27T09:55:25.431Z"
   },
   {
    "duration": 1736,
    "start_time": "2023-06-27T09:55:29.155Z"
   },
   {
    "duration": 8,
    "start_time": "2023-06-27T09:55:46.295Z"
   },
   {
    "duration": 10,
    "start_time": "2023-06-27T09:56:02.161Z"
   },
   {
    "duration": 18,
    "start_time": "2023-06-27T09:56:21.805Z"
   },
   {
    "duration": 3,
    "start_time": "2023-06-27T09:56:32.301Z"
   },
   {
    "duration": 6,
    "start_time": "2023-06-27T09:56:45.628Z"
   },
   {
    "duration": 1664,
    "start_time": "2023-06-27T09:56:57.341Z"
   },
   {
    "duration": 6,
    "start_time": "2023-06-27T09:58:14.605Z"
   },
   {
    "duration": 1791,
    "start_time": "2023-06-27T09:58:25.009Z"
   },
   {
    "duration": 6,
    "start_time": "2023-06-27T09:58:46.855Z"
   },
   {
    "duration": 1773,
    "start_time": "2023-06-27T09:58:48.715Z"
   },
   {
    "duration": 1818,
    "start_time": "2023-06-27T10:01:39.150Z"
   },
   {
    "duration": 12666,
    "start_time": "2023-06-27T10:01:54.469Z"
   },
   {
    "duration": 19,
    "start_time": "2023-06-27T10:02:07.136Z"
   },
   {
    "duration": 19,
    "start_time": "2023-06-27T10:02:12.142Z"
   },
   {
    "duration": 128,
    "start_time": "2023-06-27T10:02:22.069Z"
   },
   {
    "duration": 151,
    "start_time": "2023-06-27T10:03:24.493Z"
   },
   {
    "duration": 5,
    "start_time": "2023-06-27T10:03:54.370Z"
   },
   {
    "duration": 6,
    "start_time": "2023-06-27T10:04:17.938Z"
   },
   {
    "duration": 13492,
    "start_time": "2023-06-27T10:04:19.694Z"
   },
   {
    "duration": 17477,
    "start_time": "2023-06-27T10:05:07.162Z"
   },
   {
    "duration": 6,
    "start_time": "2023-06-27T10:06:12.232Z"
   },
   {
    "duration": 15,
    "start_time": "2023-06-27T10:06:17.336Z"
   },
   {
    "duration": 5,
    "start_time": "2023-06-27T10:06:38.129Z"
   },
   {
    "duration": 4,
    "start_time": "2023-06-27T10:07:56.825Z"
   },
   {
    "duration": 1422,
    "start_time": "2023-06-27T10:07:56.831Z"
   },
   {
    "duration": 42,
    "start_time": "2023-06-27T10:07:58.255Z"
   },
   {
    "duration": 12,
    "start_time": "2023-06-27T10:07:58.299Z"
   },
   {
    "duration": 16,
    "start_time": "2023-06-27T10:07:58.313Z"
   },
   {
    "duration": 7,
    "start_time": "2023-06-27T10:07:58.331Z"
   },
   {
    "duration": 11,
    "start_time": "2023-06-27T10:07:58.339Z"
   },
   {
    "duration": 25,
    "start_time": "2023-06-27T10:07:58.351Z"
   },
   {
    "duration": 23,
    "start_time": "2023-06-27T10:07:58.377Z"
   },
   {
    "duration": 13,
    "start_time": "2023-06-27T10:07:58.401Z"
   },
   {
    "duration": 179,
    "start_time": "2023-06-27T10:07:58.416Z"
   },
   {
    "duration": 5,
    "start_time": "2023-06-27T10:07:58.596Z"
   },
   {
    "duration": 25,
    "start_time": "2023-06-27T10:07:58.602Z"
   },
   {
    "duration": 47,
    "start_time": "2023-06-27T10:07:58.628Z"
   },
   {
    "duration": 116,
    "start_time": "2023-06-27T10:07:58.677Z"
   },
   {
    "duration": 113,
    "start_time": "2023-06-27T10:07:58.794Z"
   },
   {
    "duration": 12,
    "start_time": "2023-06-27T10:07:58.909Z"
   },
   {
    "duration": 18,
    "start_time": "2023-06-27T10:07:58.922Z"
   },
   {
    "duration": 10,
    "start_time": "2023-06-27T10:07:58.941Z"
   },
   {
    "duration": 17,
    "start_time": "2023-06-27T10:07:58.952Z"
   },
   {
    "duration": 10,
    "start_time": "2023-06-27T10:07:58.975Z"
   },
   {
    "duration": 9,
    "start_time": "2023-06-27T10:07:58.986Z"
   },
   {
    "duration": 2394,
    "start_time": "2023-06-27T10:07:58.997Z"
   },
   {
    "duration": 69,
    "start_time": "2023-06-27T10:08:01.393Z"
   },
   {
    "duration": 1408,
    "start_time": "2023-06-27T10:08:01.463Z"
   },
   {
    "duration": 4,
    "start_time": "2023-06-27T10:08:02.873Z"
   },
   {
    "duration": 8,
    "start_time": "2023-06-27T10:08:02.879Z"
   },
   {
    "duration": 12,
    "start_time": "2023-06-27T10:08:02.888Z"
   },
   {
    "duration": 9,
    "start_time": "2023-06-27T10:08:02.904Z"
   },
   {
    "duration": 28,
    "start_time": "2023-06-27T10:08:02.915Z"
   },
   {
    "duration": 5,
    "start_time": "2023-06-27T10:08:02.945Z"
   },
   {
    "duration": 52,
    "start_time": "2023-06-27T10:08:02.951Z"
   },
   {
    "duration": 104,
    "start_time": "2023-06-27T10:08:03.005Z"
   },
   {
    "duration": 68,
    "start_time": "2023-06-27T10:08:03.110Z"
   },
   {
    "duration": 96,
    "start_time": "2023-06-27T10:08:03.180Z"
   },
   {
    "duration": 17,
    "start_time": "2023-06-27T10:08:03.278Z"
   },
   {
    "duration": 2801,
    "start_time": "2023-06-27T10:08:03.296Z"
   },
   {
    "duration": 5,
    "start_time": "2023-06-27T10:08:06.099Z"
   },
   {
    "duration": 12,
    "start_time": "2023-06-27T10:08:06.105Z"
   },
   {
    "duration": 336,
    "start_time": "2023-06-27T10:08:06.119Z"
   },
   {
    "duration": 29,
    "start_time": "2023-06-27T10:08:06.457Z"
   },
   {
    "duration": 4,
    "start_time": "2023-06-27T10:08:06.488Z"
   },
   {
    "duration": 21,
    "start_time": "2023-06-27T10:08:06.494Z"
   },
   {
    "duration": 286,
    "start_time": "2023-06-27T10:08:06.517Z"
   },
   {
    "duration": 5,
    "start_time": "2023-06-27T10:08:06.806Z"
   },
   {
    "duration": 10,
    "start_time": "2023-06-27T10:08:06.812Z"
   },
   {
    "duration": 6,
    "start_time": "2023-06-27T10:08:06.823Z"
   },
   {
    "duration": 867,
    "start_time": "2023-06-27T10:08:06.831Z"
   },
   {
    "duration": 5,
    "start_time": "2023-06-27T10:08:07.700Z"
   },
   {
    "duration": 852,
    "start_time": "2023-06-27T10:08:07.706Z"
   },
   {
    "duration": 5,
    "start_time": "2023-06-27T10:08:08.560Z"
   },
   {
    "duration": 1401,
    "start_time": "2023-06-27T10:08:08.575Z"
   },
   {
    "duration": 99,
    "start_time": "2023-06-27T10:08:09.978Z"
   },
   {
    "duration": 20,
    "start_time": "2023-06-27T10:08:10.078Z"
   },
   {
    "duration": 885,
    "start_time": "2023-06-27T10:08:10.100Z"
   },
   {
    "duration": 967,
    "start_time": "2023-06-27T10:08:10.986Z"
   },
   {
    "duration": 1427,
    "start_time": "2023-06-27T10:08:11.955Z"
   },
   {
    "duration": 102,
    "start_time": "2023-06-27T10:08:13.475Z"
   },
   {
    "duration": 4,
    "start_time": "2023-06-27T10:08:13.579Z"
   },
   {
    "duration": 10,
    "start_time": "2023-06-27T10:08:13.585Z"
   },
   {
    "duration": 11487,
    "start_time": "2023-06-27T10:08:13.597Z"
   },
   {
    "duration": 190,
    "start_time": "2023-06-27T10:08:25.088Z"
   },
   {
    "duration": 29,
    "start_time": "2023-06-27T10:08:25.280Z"
   },
   {
    "duration": 28,
    "start_time": "2023-06-27T10:08:25.311Z"
   },
   {
    "duration": 25435,
    "start_time": "2023-06-27T10:08:25.341Z"
   },
   {
    "duration": 101,
    "start_time": "2023-06-27T10:08:50.778Z"
   },
   {
    "duration": 30,
    "start_time": "2023-06-27T10:08:50.880Z"
   },
   {
    "duration": 13,
    "start_time": "2023-06-27T10:08:50.912Z"
   },
   {
    "duration": 138,
    "start_time": "2023-06-27T10:08:50.926Z"
   },
   {
    "duration": 0,
    "start_time": "2023-06-27T10:08:51.065Z"
   },
   {
    "duration": 6,
    "start_time": "2023-06-27T10:09:13.717Z"
   },
   {
    "duration": 13011,
    "start_time": "2023-06-27T10:09:16.917Z"
   },
   {
    "duration": 16479,
    "start_time": "2023-06-27T10:09:36.035Z"
   },
   {
    "duration": 12947,
    "start_time": "2023-06-27T10:10:09.597Z"
   },
   {
    "duration": 16796,
    "start_time": "2023-06-27T10:10:29.623Z"
   },
   {
    "duration": 7,
    "start_time": "2023-06-27T10:11:16.921Z"
   },
   {
    "duration": 14594,
    "start_time": "2023-06-27T10:11:33.719Z"
   },
   {
    "duration": 17924,
    "start_time": "2023-06-27T10:11:57.598Z"
   },
   {
    "duration": 3,
    "start_time": "2023-06-27T10:14:21.242Z"
   },
   {
    "duration": 26,
    "start_time": "2023-06-27T10:14:21.247Z"
   },
   {
    "duration": 71,
    "start_time": "2023-06-27T10:14:21.275Z"
   },
   {
    "duration": 16,
    "start_time": "2023-06-27T10:14:21.347Z"
   },
   {
    "duration": 22,
    "start_time": "2023-06-27T10:14:21.366Z"
   },
   {
    "duration": 21,
    "start_time": "2023-06-27T10:14:21.390Z"
   },
   {
    "duration": 14,
    "start_time": "2023-06-27T10:14:21.413Z"
   },
   {
    "duration": 14,
    "start_time": "2023-06-27T10:14:21.429Z"
   },
   {
    "duration": 5,
    "start_time": "2023-06-27T10:14:21.445Z"
   },
   {
    "duration": 13,
    "start_time": "2023-06-27T10:14:21.452Z"
   },
   {
    "duration": 189,
    "start_time": "2023-06-27T10:14:21.467Z"
   },
   {
    "duration": 28,
    "start_time": "2023-06-27T10:14:21.659Z"
   },
   {
    "duration": 68,
    "start_time": "2023-06-27T10:14:21.689Z"
   },
   {
    "duration": 44,
    "start_time": "2023-06-27T10:14:21.759Z"
   },
   {
    "duration": 138,
    "start_time": "2023-06-27T10:14:21.805Z"
   },
   {
    "duration": 139,
    "start_time": "2023-06-27T10:14:21.945Z"
   },
   {
    "duration": 18,
    "start_time": "2023-06-27T10:14:22.087Z"
   },
   {
    "duration": 16,
    "start_time": "2023-06-27T10:14:22.106Z"
   },
   {
    "duration": 26,
    "start_time": "2023-06-27T10:14:22.124Z"
   },
   {
    "duration": 18,
    "start_time": "2023-06-27T10:14:22.152Z"
   },
   {
    "duration": 28,
    "start_time": "2023-06-27T10:14:22.173Z"
   },
   {
    "duration": 9,
    "start_time": "2023-06-27T10:14:22.202Z"
   },
   {
    "duration": 2621,
    "start_time": "2023-06-27T10:14:22.212Z"
   },
   {
    "duration": 44,
    "start_time": "2023-06-27T10:14:24.835Z"
   },
   {
    "duration": 1494,
    "start_time": "2023-06-27T10:14:24.881Z"
   },
   {
    "duration": 8,
    "start_time": "2023-06-27T10:14:26.378Z"
   },
   {
    "duration": 23,
    "start_time": "2023-06-27T10:14:26.389Z"
   },
   {
    "duration": 15,
    "start_time": "2023-06-27T10:14:26.414Z"
   },
   {
    "duration": 23,
    "start_time": "2023-06-27T10:14:26.431Z"
   },
   {
    "duration": 56,
    "start_time": "2023-06-27T10:14:26.457Z"
   },
   {
    "duration": 67,
    "start_time": "2023-06-27T10:14:26.515Z"
   },
   {
    "duration": 56,
    "start_time": "2023-06-27T10:14:26.585Z"
   },
   {
    "duration": 95,
    "start_time": "2023-06-27T10:14:26.643Z"
   },
   {
    "duration": 58,
    "start_time": "2023-06-27T10:14:26.739Z"
   },
   {
    "duration": 10,
    "start_time": "2023-06-27T10:14:26.875Z"
   },
   {
    "duration": 115,
    "start_time": "2023-06-27T10:14:26.887Z"
   },
   {
    "duration": 3238,
    "start_time": "2023-06-27T10:14:27.004Z"
   },
   {
    "duration": 5,
    "start_time": "2023-06-27T10:14:30.245Z"
   },
   {
    "duration": 55,
    "start_time": "2023-06-27T10:14:30.253Z"
   },
   {
    "duration": 167,
    "start_time": "2023-06-27T10:14:30.310Z"
   },
   {
    "duration": 14,
    "start_time": "2023-06-27T10:14:30.479Z"
   },
   {
    "duration": 55,
    "start_time": "2023-06-27T10:14:30.495Z"
   },
   {
    "duration": 52,
    "start_time": "2023-06-27T10:14:30.552Z"
   },
   {
    "duration": 627,
    "start_time": "2023-06-27T10:14:30.606Z"
   },
   {
    "duration": 5,
    "start_time": "2023-06-27T10:14:31.235Z"
   },
   {
    "duration": 36,
    "start_time": "2023-06-27T10:14:31.242Z"
   },
   {
    "duration": 53,
    "start_time": "2023-06-27T10:14:31.280Z"
   },
   {
    "duration": 1010,
    "start_time": "2023-06-27T10:14:31.334Z"
   },
   {
    "duration": 6,
    "start_time": "2023-06-27T10:14:32.346Z"
   },
   {
    "duration": 903,
    "start_time": "2023-06-27T10:14:32.354Z"
   },
   {
    "duration": 13,
    "start_time": "2023-06-27T10:14:33.259Z"
   },
   {
    "duration": 1305,
    "start_time": "2023-06-27T10:14:33.276Z"
   },
   {
    "duration": 97,
    "start_time": "2023-06-27T10:14:34.588Z"
   },
   {
    "duration": 90,
    "start_time": "2023-06-27T10:14:34.687Z"
   },
   {
    "duration": 973,
    "start_time": "2023-06-27T10:14:34.779Z"
   },
   {
    "duration": 1060,
    "start_time": "2023-06-27T10:14:35.753Z"
   },
   {
    "duration": 1182,
    "start_time": "2023-06-27T10:14:36.814Z"
   },
   {
    "duration": 88,
    "start_time": "2023-06-27T10:14:37.999Z"
   },
   {
    "duration": 109,
    "start_time": "2023-06-27T10:14:38.089Z"
   },
   {
    "duration": 18,
    "start_time": "2023-06-27T10:14:38.199Z"
   },
   {
    "duration": 11967,
    "start_time": "2023-06-27T10:14:38.219Z"
   },
   {
    "duration": 104,
    "start_time": "2023-06-27T10:14:50.194Z"
   },
   {
    "duration": 93,
    "start_time": "2023-06-27T10:14:50.300Z"
   },
   {
    "duration": 10,
    "start_time": "2023-06-27T10:14:50.395Z"
   },
   {
    "duration": 23390,
    "start_time": "2023-06-27T10:14:50.407Z"
   },
   {
    "duration": 94,
    "start_time": "2023-06-27T10:15:13.800Z"
   },
   {
    "duration": 84,
    "start_time": "2023-06-27T10:15:13.906Z"
   },
   {
    "duration": 19,
    "start_time": "2023-06-27T10:15:13.997Z"
   },
   {
    "duration": 15100,
    "start_time": "2023-06-27T10:15:14.018Z"
   },
   {
    "duration": 19214,
    "start_time": "2023-06-27T10:15:29.120Z"
   },
   {
    "duration": 11,
    "start_time": "2023-06-27T10:15:52.016Z"
   },
   {
    "duration": 77171,
    "start_time": "2023-06-27T10:15:52.198Z"
   },
   {
    "duration": 15317,
    "start_time": "2023-06-27T10:17:09.375Z"
   },
   {
    "duration": 14948,
    "start_time": "2023-06-27T10:18:05.424Z"
   },
   {
    "duration": 19341,
    "start_time": "2023-06-27T10:18:32.622Z"
   },
   {
    "duration": 10,
    "start_time": "2023-06-27T10:18:58.806Z"
   },
   {
    "duration": 4,
    "start_time": "2023-06-27T10:19:31.009Z"
   },
   {
    "duration": 1714,
    "start_time": "2023-06-27T10:19:31.016Z"
   },
   {
    "duration": 46,
    "start_time": "2023-06-27T10:19:32.732Z"
   },
   {
    "duration": 20,
    "start_time": "2023-06-27T10:19:32.781Z"
   },
   {
    "duration": 25,
    "start_time": "2023-06-27T10:19:32.803Z"
   },
   {
    "duration": 7,
    "start_time": "2023-06-27T10:19:32.829Z"
   },
   {
    "duration": 21,
    "start_time": "2023-06-27T10:19:32.838Z"
   },
   {
    "duration": 42,
    "start_time": "2023-06-27T10:19:32.860Z"
   },
   {
    "duration": 9,
    "start_time": "2023-06-27T10:19:32.904Z"
   },
   {
    "duration": 6,
    "start_time": "2023-06-27T10:19:32.915Z"
   },
   {
    "duration": 181,
    "start_time": "2023-06-27T10:19:32.923Z"
   },
   {
    "duration": 5,
    "start_time": "2023-06-27T10:19:33.106Z"
   },
   {
    "duration": 31,
    "start_time": "2023-06-27T10:19:33.113Z"
   },
   {
    "duration": 62,
    "start_time": "2023-06-27T10:19:33.145Z"
   },
   {
    "duration": 142,
    "start_time": "2023-06-27T10:19:33.209Z"
   },
   {
    "duration": 139,
    "start_time": "2023-06-27T10:19:33.353Z"
   },
   {
    "duration": 20,
    "start_time": "2023-06-27T10:19:33.494Z"
   },
   {
    "duration": 21,
    "start_time": "2023-06-27T10:19:33.516Z"
   },
   {
    "duration": 18,
    "start_time": "2023-06-27T10:19:33.539Z"
   },
   {
    "duration": 18,
    "start_time": "2023-06-27T10:19:33.559Z"
   },
   {
    "duration": 28,
    "start_time": "2023-06-27T10:19:33.579Z"
   },
   {
    "duration": 15,
    "start_time": "2023-06-27T10:19:33.609Z"
   },
   {
    "duration": 2933,
    "start_time": "2023-06-27T10:19:33.626Z"
   },
   {
    "duration": 118,
    "start_time": "2023-06-27T10:19:36.563Z"
   },
   {
    "duration": 1449,
    "start_time": "2023-06-27T10:19:36.683Z"
   },
   {
    "duration": 4,
    "start_time": "2023-06-27T10:19:38.134Z"
   },
   {
    "duration": 11,
    "start_time": "2023-06-27T10:19:38.139Z"
   },
   {
    "duration": 6,
    "start_time": "2023-06-27T10:19:38.152Z"
   },
   {
    "duration": 29,
    "start_time": "2023-06-27T10:19:38.160Z"
   },
   {
    "duration": 32,
    "start_time": "2023-06-27T10:19:38.194Z"
   },
   {
    "duration": 3,
    "start_time": "2023-06-27T10:19:38.228Z"
   },
   {
    "duration": 54,
    "start_time": "2023-06-27T10:19:38.232Z"
   },
   {
    "duration": 100,
    "start_time": "2023-06-27T10:19:38.291Z"
   },
   {
    "duration": 91,
    "start_time": "2023-06-27T10:19:38.392Z"
   },
   {
    "duration": 95,
    "start_time": "2023-06-27T10:19:38.486Z"
   },
   {
    "duration": 53,
    "start_time": "2023-06-27T10:19:38.586Z"
   },
   {
    "duration": 3239,
    "start_time": "2023-06-27T10:19:38.641Z"
   },
   {
    "duration": 9,
    "start_time": "2023-06-27T10:19:41.882Z"
   },
   {
    "duration": 68,
    "start_time": "2023-06-27T10:19:41.893Z"
   },
   {
    "duration": 332,
    "start_time": "2023-06-27T10:19:41.963Z"
   },
   {
    "duration": 18,
    "start_time": "2023-06-27T10:19:42.297Z"
   },
   {
    "duration": 13,
    "start_time": "2023-06-27T10:19:42.317Z"
   },
   {
    "duration": 12,
    "start_time": "2023-06-27T10:19:42.332Z"
   },
   {
    "duration": 402,
    "start_time": "2023-06-27T10:19:42.346Z"
   },
   {
    "duration": 6,
    "start_time": "2023-06-27T10:19:42.750Z"
   },
   {
    "duration": 18,
    "start_time": "2023-06-27T10:19:42.759Z"
   },
   {
    "duration": 31,
    "start_time": "2023-06-27T10:19:42.779Z"
   },
   {
    "duration": 1105,
    "start_time": "2023-06-27T10:19:42.813Z"
   },
   {
    "duration": 7,
    "start_time": "2023-06-27T10:19:43.920Z"
   },
   {
    "duration": 1035,
    "start_time": "2023-06-27T10:19:43.929Z"
   },
   {
    "duration": 11,
    "start_time": "2023-06-27T10:19:44.966Z"
   },
   {
    "duration": 1496,
    "start_time": "2023-06-27T10:19:44.980Z"
   },
   {
    "duration": 19,
    "start_time": "2023-06-27T10:19:46.479Z"
   },
   {
    "duration": 22,
    "start_time": "2023-06-27T10:19:46.500Z"
   },
   {
    "duration": 1047,
    "start_time": "2023-06-27T10:19:46.524Z"
   },
   {
    "duration": 1092,
    "start_time": "2023-06-27T10:19:47.575Z"
   },
   {
    "duration": 1209,
    "start_time": "2023-06-27T10:19:48.674Z"
   },
   {
    "duration": 96,
    "start_time": "2023-06-27T10:19:49.886Z"
   },
   {
    "duration": 30,
    "start_time": "2023-06-27T10:19:49.985Z"
   },
   {
    "duration": 62,
    "start_time": "2023-06-27T10:19:50.017Z"
   },
   {
    "duration": 12001,
    "start_time": "2023-06-27T10:19:50.081Z"
   },
   {
    "duration": 93,
    "start_time": "2023-06-27T10:20:02.086Z"
   },
   {
    "duration": 50,
    "start_time": "2023-06-27T10:20:02.182Z"
   },
   {
    "duration": 69,
    "start_time": "2023-06-27T10:20:02.234Z"
   },
   {
    "duration": 24288,
    "start_time": "2023-06-27T10:20:02.305Z"
   },
   {
    "duration": 84,
    "start_time": "2023-06-27T10:20:26.598Z"
   },
   {
    "duration": 149,
    "start_time": "2023-06-27T10:20:26.684Z"
   },
   {
    "duration": 30,
    "start_time": "2023-06-27T10:20:26.836Z"
   },
   {
    "duration": 14993,
    "start_time": "2023-06-27T10:20:26.873Z"
   },
   {
    "duration": 19510,
    "start_time": "2023-06-27T10:20:41.868Z"
   },
   {
    "duration": 13,
    "start_time": "2023-06-27T10:21:04.433Z"
   },
   {
    "duration": 18763,
    "start_time": "2023-06-27T10:21:44.949Z"
   },
   {
    "duration": 12,
    "start_time": "2023-06-27T10:22:09.186Z"
   },
   {
    "duration": 8,
    "start_time": "2023-06-27T10:22:16.042Z"
   },
   {
    "duration": 213,
    "start_time": "2023-06-27T10:25:06.820Z"
   },
   {
    "duration": 4,
    "start_time": "2023-06-27T10:25:54.210Z"
   },
   {
    "duration": 5,
    "start_time": "2023-06-27T10:27:08.521Z"
   },
   {
    "duration": 173699,
    "start_time": "2023-06-27T10:27:22.720Z"
   },
   {
    "duration": 253552,
    "start_time": "2023-06-27T10:30:25.810Z"
   },
   {
    "duration": 13,
    "start_time": "2023-06-27T10:34:39.364Z"
   },
   {
    "duration": 4,
    "start_time": "2023-06-27T10:37:56.308Z"
   },
   {
    "duration": 11,
    "start_time": "2023-06-27T10:38:00.822Z"
   },
   {
    "duration": 3,
    "start_time": "2023-06-27T10:38:16.650Z"
   },
   {
    "duration": 20,
    "start_time": "2023-06-27T10:38:18.707Z"
   },
   {
    "duration": 4,
    "start_time": "2023-06-27T10:38:31.168Z"
   },
   {
    "duration": 9,
    "start_time": "2023-06-27T10:38:32.822Z"
   },
   {
    "duration": 8,
    "start_time": "2023-06-27T10:40:57.847Z"
   },
   {
    "duration": 9,
    "start_time": "2023-06-27T10:41:03.939Z"
   },
   {
    "duration": 11,
    "start_time": "2023-06-27T10:42:07.819Z"
   },
   {
    "duration": 141,
    "start_time": "2023-06-27T10:42:31.350Z"
   },
   {
    "duration": 13,
    "start_time": "2023-06-27T10:42:41.703Z"
   },
   {
    "duration": 13,
    "start_time": "2023-06-27T10:43:25.717Z"
   },
   {
    "duration": 9,
    "start_time": "2023-06-27T10:43:40.215Z"
   },
   {
    "duration": 16,
    "start_time": "2023-06-27T10:43:53.634Z"
   },
   {
    "duration": 4,
    "start_time": "2023-06-27T10:48:31.769Z"
   },
   {
    "duration": 2458,
    "start_time": "2023-06-27T10:48:31.780Z"
   },
   {
    "duration": 58,
    "start_time": "2023-06-27T10:48:34.240Z"
   },
   {
    "duration": 27,
    "start_time": "2023-06-27T10:48:34.301Z"
   },
   {
    "duration": 39,
    "start_time": "2023-06-27T10:48:34.330Z"
   },
   {
    "duration": 9,
    "start_time": "2023-06-27T10:48:34.372Z"
   },
   {
    "duration": 70,
    "start_time": "2023-06-27T10:48:34.384Z"
   },
   {
    "duration": 49,
    "start_time": "2023-06-27T10:48:34.456Z"
   },
   {
    "duration": 36,
    "start_time": "2023-06-27T10:48:34.509Z"
   },
   {
    "duration": 9,
    "start_time": "2023-06-27T10:48:34.547Z"
   },
   {
    "duration": 278,
    "start_time": "2023-06-27T10:48:34.558Z"
   },
   {
    "duration": 6,
    "start_time": "2023-06-27T10:48:34.838Z"
   },
   {
    "duration": 102,
    "start_time": "2023-06-27T10:48:34.846Z"
   },
   {
    "duration": 85,
    "start_time": "2023-06-27T10:48:34.950Z"
   },
   {
    "duration": 187,
    "start_time": "2023-06-27T10:48:35.040Z"
   },
   {
    "duration": 150,
    "start_time": "2023-06-27T10:48:35.230Z"
   },
   {
    "duration": 33,
    "start_time": "2023-06-27T10:48:35.386Z"
   },
   {
    "duration": 44,
    "start_time": "2023-06-27T10:48:35.429Z"
   },
   {
    "duration": 6,
    "start_time": "2023-06-27T10:48:35.480Z"
   },
   {
    "duration": 67,
    "start_time": "2023-06-27T10:48:35.489Z"
   },
   {
    "duration": 14,
    "start_time": "2023-06-27T10:48:35.557Z"
   },
   {
    "duration": 59,
    "start_time": "2023-06-27T10:48:35.574Z"
   },
   {
    "duration": 3396,
    "start_time": "2023-06-27T10:48:35.636Z"
   },
   {
    "duration": 88,
    "start_time": "2023-06-27T10:48:39.036Z"
   },
   {
    "duration": 1737,
    "start_time": "2023-06-27T10:48:39.129Z"
   },
   {
    "duration": 9,
    "start_time": "2023-06-27T10:48:40.868Z"
   },
   {
    "duration": 64,
    "start_time": "2023-06-27T10:48:40.879Z"
   },
   {
    "duration": 22,
    "start_time": "2023-06-27T10:48:40.945Z"
   },
   {
    "duration": 53,
    "start_time": "2023-06-27T10:48:40.969Z"
   },
   {
    "duration": 43,
    "start_time": "2023-06-27T10:48:41.025Z"
   },
   {
    "duration": 55,
    "start_time": "2023-06-27T10:48:41.069Z"
   },
   {
    "duration": 45,
    "start_time": "2023-06-27T10:48:41.126Z"
   },
   {
    "duration": 121,
    "start_time": "2023-06-27T10:48:41.173Z"
   },
   {
    "duration": 125,
    "start_time": "2023-06-27T10:48:41.296Z"
   },
   {
    "duration": 90,
    "start_time": "2023-06-27T10:48:41.425Z"
   },
   {
    "duration": 115,
    "start_time": "2023-06-27T10:48:41.530Z"
   },
   {
    "duration": 4460,
    "start_time": "2023-06-27T10:48:41.647Z"
   },
   {
    "duration": 12,
    "start_time": "2023-06-27T10:48:46.113Z"
   },
   {
    "duration": 30,
    "start_time": "2023-06-27T10:48:46.128Z"
   },
   {
    "duration": 477,
    "start_time": "2023-06-27T10:48:46.160Z"
   },
   {
    "duration": 48,
    "start_time": "2023-06-27T10:48:46.640Z"
   },
   {
    "duration": 37,
    "start_time": "2023-06-27T10:48:46.694Z"
   },
   {
    "duration": 37,
    "start_time": "2023-06-27T10:48:46.733Z"
   },
   {
    "duration": 579,
    "start_time": "2023-06-27T10:48:46.772Z"
   },
   {
    "duration": 6,
    "start_time": "2023-06-27T10:48:47.354Z"
   },
   {
    "duration": 38,
    "start_time": "2023-06-27T10:48:47.362Z"
   },
   {
    "duration": 43,
    "start_time": "2023-06-27T10:48:47.402Z"
   },
   {
    "duration": 1158,
    "start_time": "2023-06-27T10:48:47.447Z"
   },
   {
    "duration": 8,
    "start_time": "2023-06-27T10:48:48.607Z"
   },
   {
    "duration": 1053,
    "start_time": "2023-06-27T10:48:48.617Z"
   },
   {
    "duration": 7,
    "start_time": "2023-06-27T10:48:49.675Z"
   },
   {
    "duration": 1607,
    "start_time": "2023-06-27T10:48:49.683Z"
   },
   {
    "duration": 95,
    "start_time": "2023-06-27T10:48:51.295Z"
   },
   {
    "duration": 108,
    "start_time": "2023-06-27T10:48:51.418Z"
   },
   {
    "duration": 1163,
    "start_time": "2023-06-27T10:48:51.535Z"
   },
   {
    "duration": 1244,
    "start_time": "2023-06-27T10:48:52.700Z"
   },
   {
    "duration": 1193,
    "start_time": "2023-06-27T10:48:53.946Z"
   },
   {
    "duration": 136,
    "start_time": "2023-06-27T10:48:55.188Z"
   },
   {
    "duration": 3,
    "start_time": "2023-06-27T10:48:55.327Z"
   },
   {
    "duration": 30,
    "start_time": "2023-06-27T10:48:55.333Z"
   },
   {
    "duration": 12616,
    "start_time": "2023-06-27T10:48:55.365Z"
   },
   {
    "duration": 88,
    "start_time": "2023-06-27T10:49:07.995Z"
   },
   {
    "duration": 28,
    "start_time": "2023-06-27T10:49:08.096Z"
   },
   {
    "duration": 9,
    "start_time": "2023-06-27T10:49:08.126Z"
   },
   {
    "duration": 24641,
    "start_time": "2023-06-27T10:49:08.136Z"
   },
   {
    "duration": 27,
    "start_time": "2023-06-27T10:49:32.780Z"
   },
   {
    "duration": 82,
    "start_time": "2023-06-27T10:49:32.812Z"
   },
   {
    "duration": 33,
    "start_time": "2023-06-27T10:49:32.897Z"
   },
   {
    "duration": 17031,
    "start_time": "2023-06-27T10:49:32.931Z"
   },
   {
    "duration": 21694,
    "start_time": "2023-06-27T10:49:49.963Z"
   },
   {
    "duration": 5,
    "start_time": "2023-06-27T10:50:11.659Z"
   },
   {
    "duration": 193310,
    "start_time": "2023-06-27T10:50:11.675Z"
   },
   {
    "duration": 250734,
    "start_time": "2023-06-27T10:53:24.988Z"
   },
   {
    "duration": 15,
    "start_time": "2023-06-27T10:57:35.727Z"
   },
   {
    "duration": 9,
    "start_time": "2023-06-27T10:59:17.105Z"
   },
   {
    "duration": 11,
    "start_time": "2023-06-27T10:59:31.219Z"
   },
   {
    "duration": 22,
    "start_time": "2023-06-27T10:59:33.359Z"
   },
   {
    "duration": 141,
    "start_time": "2023-06-27T11:01:28.903Z"
   },
   {
    "duration": 5,
    "start_time": "2023-06-27T11:01:44.203Z"
   },
   {
    "duration": 11,
    "start_time": "2023-06-27T11:01:47.311Z"
   },
   {
    "duration": 20,
    "start_time": "2023-06-27T11:02:23.317Z"
   },
   {
    "duration": 6,
    "start_time": "2023-06-27T11:05:22.660Z"
   },
   {
    "duration": 16,
    "start_time": "2023-06-27T11:07:15.802Z"
   },
   {
    "duration": 132,
    "start_time": "2023-06-27T11:07:27.059Z"
   },
   {
    "duration": 141,
    "start_time": "2023-06-27T11:08:20.245Z"
   },
   {
    "duration": 5,
    "start_time": "2023-06-27T11:10:04.354Z"
   },
   {
    "duration": 251,
    "start_time": "2023-06-27T11:10:17.152Z"
   },
   {
    "duration": 7,
    "start_time": "2023-06-27T11:10:21.850Z"
   },
   {
    "duration": 7,
    "start_time": "2023-06-27T11:11:02.692Z"
   },
   {
    "duration": 141,
    "start_time": "2023-06-27T11:11:08.713Z"
   },
   {
    "duration": 178,
    "start_time": "2023-06-27T11:11:46.070Z"
   },
   {
    "duration": 8,
    "start_time": "2023-06-27T11:14:12.710Z"
   },
   {
    "duration": 4,
    "start_time": "2023-06-27T11:46:40.807Z"
   },
   {
    "duration": 1841,
    "start_time": "2023-06-27T11:46:40.813Z"
   },
   {
    "duration": 61,
    "start_time": "2023-06-27T11:46:42.656Z"
   },
   {
    "duration": 13,
    "start_time": "2023-06-27T11:46:42.718Z"
   },
   {
    "duration": 16,
    "start_time": "2023-06-27T11:46:42.734Z"
   },
   {
    "duration": 9,
    "start_time": "2023-06-27T11:46:42.751Z"
   },
   {
    "duration": 9,
    "start_time": "2023-06-27T11:46:42.762Z"
   },
   {
    "duration": 46,
    "start_time": "2023-06-27T11:46:42.772Z"
   },
   {
    "duration": 5,
    "start_time": "2023-06-27T11:46:42.820Z"
   },
   {
    "duration": 14,
    "start_time": "2023-06-27T11:46:42.826Z"
   },
   {
    "duration": 182,
    "start_time": "2023-06-27T11:46:42.842Z"
   },
   {
    "duration": 5,
    "start_time": "2023-06-27T11:46:43.026Z"
   },
   {
    "duration": 30,
    "start_time": "2023-06-27T11:46:43.033Z"
   },
   {
    "duration": 59,
    "start_time": "2023-06-27T11:46:43.065Z"
   },
   {
    "duration": 132,
    "start_time": "2023-06-27T11:46:43.126Z"
   },
   {
    "duration": 157,
    "start_time": "2023-06-27T11:46:43.259Z"
   },
   {
    "duration": 13,
    "start_time": "2023-06-27T11:46:43.418Z"
   },
   {
    "duration": 37,
    "start_time": "2023-06-27T11:46:43.433Z"
   },
   {
    "duration": 32,
    "start_time": "2023-06-27T11:46:43.472Z"
   },
   {
    "duration": 10,
    "start_time": "2023-06-27T11:46:43.508Z"
   },
   {
    "duration": 7,
    "start_time": "2023-06-27T11:46:43.520Z"
   },
   {
    "duration": 11,
    "start_time": "2023-06-27T11:46:43.529Z"
   },
   {
    "duration": 2873,
    "start_time": "2023-06-27T11:46:43.542Z"
   },
   {
    "duration": 89,
    "start_time": "2023-06-27T11:46:46.417Z"
   },
   {
    "duration": 1420,
    "start_time": "2023-06-27T11:46:46.507Z"
   },
   {
    "duration": 5,
    "start_time": "2023-06-27T11:46:47.929Z"
   },
   {
    "duration": 10,
    "start_time": "2023-06-27T11:46:47.936Z"
   },
   {
    "duration": 6,
    "start_time": "2023-06-27T11:46:47.948Z"
   },
   {
    "duration": 31,
    "start_time": "2023-06-27T11:46:47.958Z"
   },
   {
    "duration": 32,
    "start_time": "2023-06-27T11:46:47.991Z"
   },
   {
    "duration": 3,
    "start_time": "2023-06-27T11:46:48.024Z"
   },
   {
    "duration": 33,
    "start_time": "2023-06-27T11:46:48.029Z"
   },
   {
    "duration": 101,
    "start_time": "2023-06-27T11:46:48.064Z"
   },
   {
    "duration": 35,
    "start_time": "2023-06-27T11:46:48.167Z"
   },
   {
    "duration": 199,
    "start_time": "2023-06-27T11:46:48.210Z"
   },
   {
    "duration": 16,
    "start_time": "2023-06-27T11:46:48.411Z"
   },
   {
    "duration": 3007,
    "start_time": "2023-06-27T11:46:48.429Z"
   },
   {
    "duration": 4,
    "start_time": "2023-06-27T11:46:51.438Z"
   },
   {
    "duration": 11,
    "start_time": "2023-06-27T11:46:51.443Z"
   },
   {
    "duration": 292,
    "start_time": "2023-06-27T11:46:51.456Z"
   },
   {
    "duration": 76,
    "start_time": "2023-06-27T11:46:51.750Z"
   },
   {
    "duration": 29,
    "start_time": "2023-06-27T11:46:51.829Z"
   },
   {
    "duration": 149,
    "start_time": "2023-06-27T11:46:51.860Z"
   },
   {
    "duration": 305,
    "start_time": "2023-06-27T11:46:52.011Z"
   },
   {
    "duration": 5,
    "start_time": "2023-06-27T11:46:52.318Z"
   },
   {
    "duration": 74,
    "start_time": "2023-06-27T11:46:52.324Z"
   },
   {
    "duration": 34,
    "start_time": "2023-06-27T11:46:52.400Z"
   },
   {
    "duration": 981,
    "start_time": "2023-06-27T11:46:52.436Z"
   },
   {
    "duration": 5,
    "start_time": "2023-06-27T11:46:53.419Z"
   },
   {
    "duration": 918,
    "start_time": "2023-06-27T11:46:53.425Z"
   },
   {
    "duration": 5,
    "start_time": "2023-06-27T11:46:54.345Z"
   },
   {
    "duration": 1134,
    "start_time": "2023-06-27T11:46:54.352Z"
   },
   {
    "duration": 83,
    "start_time": "2023-06-27T11:46:55.499Z"
   },
   {
    "duration": 29,
    "start_time": "2023-06-27T11:46:55.588Z"
   },
   {
    "duration": 987,
    "start_time": "2023-06-27T11:46:55.619Z"
   },
   {
    "duration": 976,
    "start_time": "2023-06-27T11:46:56.610Z"
   },
   {
    "duration": 996,
    "start_time": "2023-06-27T11:46:57.590Z"
   },
   {
    "duration": 96,
    "start_time": "2023-06-27T11:46:58.594Z"
   },
   {
    "duration": 22,
    "start_time": "2023-06-27T11:46:58.696Z"
   },
   {
    "duration": 21,
    "start_time": "2023-06-27T11:46:58.720Z"
   },
   {
    "duration": 11443,
    "start_time": "2023-06-27T11:46:58.742Z"
   },
   {
    "duration": 11,
    "start_time": "2023-06-27T11:47:10.187Z"
   },
   {
    "duration": 118,
    "start_time": "2023-06-27T11:47:10.200Z"
   },
   {
    "duration": 26,
    "start_time": "2023-06-27T11:47:10.320Z"
   },
   {
    "duration": 23046,
    "start_time": "2023-06-27T11:47:10.348Z"
   },
   {
    "duration": 92,
    "start_time": "2023-06-27T11:47:33.396Z"
   },
   {
    "duration": 12,
    "start_time": "2023-06-27T11:47:33.496Z"
   },
   {
    "duration": 24,
    "start_time": "2023-06-27T11:47:33.510Z"
   },
   {
    "duration": 14864,
    "start_time": "2023-06-27T11:47:33.536Z"
   },
   {
    "duration": 18682,
    "start_time": "2023-06-27T11:47:48.403Z"
   },
   {
    "duration": 10,
    "start_time": "2023-06-27T11:48:07.094Z"
   },
   {
    "duration": 11106852,
    "start_time": "2023-06-27T11:48:11.005Z"
   },
   {
    "duration": 5,
    "start_time": "2023-06-28T06:50:17.753Z"
   },
   {
    "duration": 1584,
    "start_time": "2023-06-28T06:50:17.764Z"
   },
   {
    "duration": 43,
    "start_time": "2023-06-28T06:50:19.350Z"
   },
   {
    "duration": 16,
    "start_time": "2023-06-28T06:50:19.395Z"
   },
   {
    "duration": 22,
    "start_time": "2023-06-28T06:50:19.413Z"
   },
   {
    "duration": 8,
    "start_time": "2023-06-28T06:50:19.436Z"
   },
   {
    "duration": 31,
    "start_time": "2023-06-28T06:50:19.445Z"
   },
   {
    "duration": 20,
    "start_time": "2023-06-28T06:50:19.479Z"
   },
   {
    "duration": 20,
    "start_time": "2023-06-28T06:50:19.501Z"
   },
   {
    "duration": 17,
    "start_time": "2023-06-28T06:50:19.523Z"
   },
   {
    "duration": 159,
    "start_time": "2023-06-28T06:50:19.542Z"
   },
   {
    "duration": 4,
    "start_time": "2023-06-28T06:50:19.703Z"
   },
   {
    "duration": 39,
    "start_time": "2023-06-28T06:50:19.709Z"
   },
   {
    "duration": 40,
    "start_time": "2023-06-28T06:50:19.749Z"
   },
   {
    "duration": 134,
    "start_time": "2023-06-28T06:50:19.791Z"
   },
   {
    "duration": 136,
    "start_time": "2023-06-28T06:50:19.927Z"
   },
   {
    "duration": 15,
    "start_time": "2023-06-28T06:50:20.065Z"
   },
   {
    "duration": 13,
    "start_time": "2023-06-28T06:50:20.081Z"
   },
   {
    "duration": 7,
    "start_time": "2023-06-28T06:50:20.096Z"
   },
   {
    "duration": 7,
    "start_time": "2023-06-28T06:50:20.105Z"
   },
   {
    "duration": 8,
    "start_time": "2023-06-28T06:50:20.113Z"
   },
   {
    "duration": 5,
    "start_time": "2023-06-28T06:50:20.123Z"
   },
   {
    "duration": 2282,
    "start_time": "2023-06-28T06:50:20.129Z"
   },
   {
    "duration": 72,
    "start_time": "2023-06-28T06:50:22.413Z"
   },
   {
    "duration": 1314,
    "start_time": "2023-06-28T06:50:22.486Z"
   },
   {
    "duration": 5,
    "start_time": "2023-06-28T06:50:23.801Z"
   },
   {
    "duration": 40,
    "start_time": "2023-06-28T06:50:23.808Z"
   },
   {
    "duration": 54,
    "start_time": "2023-06-28T06:50:23.850Z"
   },
   {
    "duration": 55,
    "start_time": "2023-06-28T06:50:23.908Z"
   },
   {
    "duration": 81,
    "start_time": "2023-06-28T06:50:23.965Z"
   },
   {
    "duration": 84,
    "start_time": "2023-06-28T06:50:24.047Z"
   },
   {
    "duration": 75,
    "start_time": "2023-06-28T06:50:24.133Z"
   },
   {
    "duration": 108,
    "start_time": "2023-06-28T06:50:24.209Z"
   },
   {
    "duration": 61,
    "start_time": "2023-06-28T06:50:24.319Z"
   },
   {
    "duration": 147,
    "start_time": "2023-06-28T06:50:24.383Z"
   },
   {
    "duration": 117,
    "start_time": "2023-06-28T06:50:51.777Z"
   },
   {
    "duration": 85,
    "start_time": "2023-06-28T06:51:04.542Z"
   },
   {
    "duration": 102,
    "start_time": "2023-06-28T06:51:27.007Z"
   },
   {
    "duration": 84,
    "start_time": "2023-06-28T06:51:48.480Z"
   },
   {
    "duration": 7,
    "start_time": "2023-06-28T06:54:54.076Z"
   },
   {
    "duration": 8,
    "start_time": "2023-06-28T06:55:14.354Z"
   },
   {
    "duration": 17,
    "start_time": "2023-06-28T06:55:20.247Z"
   },
   {
    "duration": 2,
    "start_time": "2023-06-28T06:55:55.775Z"
   },
   {
    "duration": 5,
    "start_time": "2023-06-28T06:55:55.807Z"
   },
   {
    "duration": 40,
    "start_time": "2023-06-28T06:55:55.822Z"
   },
   {
    "duration": 13,
    "start_time": "2023-06-28T06:55:55.864Z"
   },
   {
    "duration": 11,
    "start_time": "2023-06-28T06:55:55.879Z"
   },
   {
    "duration": 22,
    "start_time": "2023-06-28T06:55:55.893Z"
   },
   {
    "duration": 8,
    "start_time": "2023-06-28T06:55:55.917Z"
   },
   {
    "duration": 33,
    "start_time": "2023-06-28T06:55:55.927Z"
   },
   {
    "duration": 5,
    "start_time": "2023-06-28T06:55:55.962Z"
   },
   {
    "duration": 14,
    "start_time": "2023-06-28T06:55:55.968Z"
   },
   {
    "duration": 146,
    "start_time": "2023-06-28T06:55:55.984Z"
   },
   {
    "duration": 5,
    "start_time": "2023-06-28T06:55:56.131Z"
   },
   {
    "duration": 40,
    "start_time": "2023-06-28T06:55:56.137Z"
   },
   {
    "duration": 33,
    "start_time": "2023-06-28T06:55:56.179Z"
   },
   {
    "duration": 149,
    "start_time": "2023-06-28T06:55:56.214Z"
   },
   {
    "duration": 116,
    "start_time": "2023-06-28T06:55:56.374Z"
   },
   {
    "duration": 12,
    "start_time": "2023-06-28T06:55:56.492Z"
   },
   {
    "duration": 10,
    "start_time": "2023-06-28T06:55:56.506Z"
   },
   {
    "duration": 4,
    "start_time": "2023-06-28T06:55:56.517Z"
   },
   {
    "duration": 7,
    "start_time": "2023-06-28T06:55:56.523Z"
   },
   {
    "duration": 11,
    "start_time": "2023-06-28T06:55:56.531Z"
   },
   {
    "duration": 8,
    "start_time": "2023-06-28T06:55:56.544Z"
   },
   {
    "duration": 2179,
    "start_time": "2023-06-28T06:55:56.575Z"
   },
   {
    "duration": 40,
    "start_time": "2023-06-28T06:55:58.756Z"
   },
   {
    "duration": 1264,
    "start_time": "2023-06-28T06:55:58.797Z"
   },
   {
    "duration": 14,
    "start_time": "2023-06-28T06:56:00.063Z"
   },
   {
    "duration": 41,
    "start_time": "2023-06-28T06:56:00.079Z"
   },
   {
    "duration": 49,
    "start_time": "2023-06-28T06:56:00.122Z"
   },
   {
    "duration": 33,
    "start_time": "2023-06-28T06:56:00.174Z"
   },
   {
    "duration": 53,
    "start_time": "2023-06-28T06:56:00.209Z"
   },
   {
    "duration": 18,
    "start_time": "2023-06-28T06:56:00.265Z"
   },
   {
    "duration": 55,
    "start_time": "2023-06-28T06:56:00.284Z"
   },
   {
    "duration": 78,
    "start_time": "2023-06-28T06:56:00.343Z"
   },
   {
    "duration": 58,
    "start_time": "2023-06-28T06:56:00.423Z"
   },
   {
    "duration": 115,
    "start_time": "2023-06-28T06:56:00.484Z"
   },
   {
    "duration": 150,
    "start_time": "2023-06-28T06:56:00.601Z"
   },
   {
    "duration": 6,
    "start_time": "2023-06-28T06:56:00.753Z"
   },
   {
    "duration": 52,
    "start_time": "2023-06-28T06:56:00.761Z"
   },
   {
    "duration": 54,
    "start_time": "2023-06-28T06:56:00.815Z"
   },
   {
    "duration": 2597,
    "start_time": "2023-06-28T06:56:00.871Z"
   },
   {
    "duration": 8,
    "start_time": "2023-06-28T06:56:03.470Z"
   },
   {
    "duration": 32,
    "start_time": "2023-06-28T06:56:03.480Z"
   },
   {
    "duration": 94,
    "start_time": "2023-06-28T06:56:03.513Z"
   },
   {
    "duration": 10,
    "start_time": "2023-06-28T06:56:03.609Z"
   },
   {
    "duration": 3,
    "start_time": "2023-06-28T06:56:03.621Z"
   },
   {
    "duration": 11,
    "start_time": "2023-06-28T06:56:03.625Z"
   },
   {
    "duration": 449,
    "start_time": "2023-06-28T06:56:03.638Z"
   },
   {
    "duration": 5,
    "start_time": "2023-06-28T06:56:04.089Z"
   },
   {
    "duration": 16,
    "start_time": "2023-06-28T06:56:04.095Z"
   },
   {
    "duration": 17,
    "start_time": "2023-06-28T06:56:04.113Z"
   },
   {
    "duration": 735,
    "start_time": "2023-06-28T06:56:04.131Z"
   },
   {
    "duration": 8,
    "start_time": "2023-06-28T06:56:04.868Z"
   },
   {
    "duration": 1101,
    "start_time": "2023-06-28T06:56:04.877Z"
   },
   {
    "duration": 4,
    "start_time": "2023-06-28T06:56:05.980Z"
   },
   {
    "duration": 1290,
    "start_time": "2023-06-28T06:56:05.986Z"
   },
   {
    "duration": 98,
    "start_time": "2023-06-28T06:56:07.279Z"
   },
   {
    "duration": 5,
    "start_time": "2023-06-28T06:56:07.378Z"
   },
   {
    "duration": 743,
    "start_time": "2023-06-28T06:56:07.384Z"
   },
   {
    "duration": 806,
    "start_time": "2023-06-28T06:56:08.128Z"
   },
   {
    "duration": 1245,
    "start_time": "2023-06-28T06:56:08.936Z"
   },
   {
    "duration": 101,
    "start_time": "2023-06-28T06:56:10.185Z"
   },
   {
    "duration": 88,
    "start_time": "2023-06-28T06:56:10.288Z"
   },
   {
    "duration": 16,
    "start_time": "2023-06-28T06:56:10.378Z"
   },
   {
    "duration": 12081,
    "start_time": "2023-06-28T06:56:10.396Z"
   },
   {
    "duration": 98,
    "start_time": "2023-06-28T06:56:22.479Z"
   },
   {
    "duration": 5,
    "start_time": "2023-06-28T06:56:22.578Z"
   },
   {
    "duration": 7,
    "start_time": "2023-06-28T06:56:22.584Z"
   },
   {
    "duration": 22395,
    "start_time": "2023-06-28T06:56:22.593Z"
   },
   {
    "duration": 185,
    "start_time": "2023-06-28T06:56:44.990Z"
   },
   {
    "duration": 18,
    "start_time": "2023-06-28T06:56:45.177Z"
   },
   {
    "duration": 6,
    "start_time": "2023-06-28T06:56:45.197Z"
   },
   {
    "duration": 11989,
    "start_time": "2023-06-28T06:56:45.205Z"
   },
   {
    "duration": 14859,
    "start_time": "2023-06-28T06:56:57.196Z"
   },
   {
    "duration": 5,
    "start_time": "2023-06-28T06:57:12.056Z"
   },
   {
    "duration": 131608,
    "start_time": "2023-06-28T06:57:12.063Z"
   },
   {
    "duration": 179705,
    "start_time": "2023-06-28T06:59:23.673Z"
   },
   {
    "duration": 21,
    "start_time": "2023-06-28T07:02:29.569Z"
   },
   {
    "duration": 5,
    "start_time": "2023-06-28T07:03:11.000Z"
   },
   {
    "duration": 9,
    "start_time": "2023-06-28T07:03:13.684Z"
   },
   {
    "duration": 131,
    "start_time": "2023-06-28T07:03:37.021Z"
   },
   {
    "duration": 21,
    "start_time": "2023-06-28T07:03:43.016Z"
   },
   {
    "duration": 133,
    "start_time": "2023-06-28T07:03:50.727Z"
   },
   {
    "duration": 4,
    "start_time": "2023-06-28T07:07:25.946Z"
   },
   {
    "duration": 1507,
    "start_time": "2023-06-28T07:07:25.954Z"
   },
   {
    "duration": 42,
    "start_time": "2023-06-28T07:07:27.462Z"
   },
   {
    "duration": 13,
    "start_time": "2023-06-28T07:07:27.506Z"
   },
   {
    "duration": 29,
    "start_time": "2023-06-28T07:07:27.521Z"
   },
   {
    "duration": 7,
    "start_time": "2023-06-28T07:07:27.552Z"
   },
   {
    "duration": 9,
    "start_time": "2023-06-28T07:07:27.561Z"
   },
   {
    "duration": 17,
    "start_time": "2023-06-28T07:07:27.572Z"
   },
   {
    "duration": 6,
    "start_time": "2023-06-28T07:07:27.591Z"
   },
   {
    "duration": 8,
    "start_time": "2023-06-28T07:07:27.599Z"
   },
   {
    "duration": 189,
    "start_time": "2023-06-28T07:07:27.611Z"
   },
   {
    "duration": 5,
    "start_time": "2023-06-28T07:07:27.801Z"
   },
   {
    "duration": 59,
    "start_time": "2023-06-28T07:07:27.809Z"
   },
   {
    "duration": 280,
    "start_time": "2023-06-28T07:07:27.870Z"
   },
   {
    "duration": 148,
    "start_time": "2023-06-28T07:07:28.152Z"
   },
   {
    "duration": 111,
    "start_time": "2023-06-28T07:07:28.303Z"
   },
   {
    "duration": 12,
    "start_time": "2023-06-28T07:07:28.415Z"
   },
   {
    "duration": 10,
    "start_time": "2023-06-28T07:07:28.428Z"
   },
   {
    "duration": 9,
    "start_time": "2023-06-28T07:07:28.440Z"
   },
   {
    "duration": 24,
    "start_time": "2023-06-28T07:07:28.450Z"
   },
   {
    "duration": 4,
    "start_time": "2023-06-28T07:07:28.476Z"
   },
   {
    "duration": 9,
    "start_time": "2023-06-28T07:07:28.482Z"
   },
   {
    "duration": 2321,
    "start_time": "2023-06-28T07:07:28.493Z"
   },
   {
    "duration": 81,
    "start_time": "2023-06-28T07:07:30.816Z"
   },
   {
    "duration": 1390,
    "start_time": "2023-06-28T07:07:30.899Z"
   },
   {
    "duration": 5,
    "start_time": "2023-06-28T07:07:32.291Z"
   },
   {
    "duration": 20,
    "start_time": "2023-06-28T07:07:32.297Z"
   },
   {
    "duration": 8,
    "start_time": "2023-06-28T07:07:32.319Z"
   },
   {
    "duration": 10,
    "start_time": "2023-06-28T07:07:32.333Z"
   },
   {
    "duration": 48,
    "start_time": "2023-06-28T07:07:32.347Z"
   },
   {
    "duration": 3,
    "start_time": "2023-06-28T07:07:32.397Z"
   },
   {
    "duration": 43,
    "start_time": "2023-06-28T07:07:32.403Z"
   },
   {
    "duration": 112,
    "start_time": "2023-06-28T07:07:32.448Z"
   },
   {
    "duration": 220,
    "start_time": "2023-06-28T07:07:32.562Z"
   },
   {
    "duration": 6,
    "start_time": "2023-06-28T07:07:32.785Z"
   },
   {
    "duration": 288,
    "start_time": "2023-06-28T07:07:32.793Z"
   },
   {
    "duration": 3,
    "start_time": "2023-06-28T07:07:33.083Z"
   },
   {
    "duration": 12,
    "start_time": "2023-06-28T07:07:33.087Z"
   },
   {
    "duration": 7,
    "start_time": "2023-06-28T07:07:33.101Z"
   },
   {
    "duration": 26,
    "start_time": "2023-06-28T07:07:33.110Z"
   },
   {
    "duration": 2999,
    "start_time": "2023-06-28T07:07:33.137Z"
   },
   {
    "duration": 4,
    "start_time": "2023-06-28T07:07:36.138Z"
   },
   {
    "duration": 18,
    "start_time": "2023-06-28T07:07:36.143Z"
   },
   {
    "duration": 112,
    "start_time": "2023-06-28T07:07:36.163Z"
   },
   {
    "duration": 16,
    "start_time": "2023-06-28T07:07:36.277Z"
   },
   {
    "duration": 4,
    "start_time": "2023-06-28T07:07:36.296Z"
   },
   {
    "duration": 26,
    "start_time": "2023-06-28T07:07:36.301Z"
   },
   {
    "duration": 348,
    "start_time": "2023-06-28T07:07:36.329Z"
   },
   {
    "duration": 5,
    "start_time": "2023-06-28T07:07:36.678Z"
   },
   {
    "duration": 9,
    "start_time": "2023-06-28T07:07:36.685Z"
   },
   {
    "duration": 13,
    "start_time": "2023-06-28T07:07:36.696Z"
   },
   {
    "duration": 885,
    "start_time": "2023-06-28T07:07:36.710Z"
   },
   {
    "duration": 4,
    "start_time": "2023-06-28T07:07:37.597Z"
   },
   {
    "duration": 789,
    "start_time": "2023-06-28T07:07:37.603Z"
   },
   {
    "duration": 5,
    "start_time": "2023-06-28T07:07:38.394Z"
   },
   {
    "duration": 1375,
    "start_time": "2023-06-28T07:07:38.400Z"
   },
   {
    "duration": 98,
    "start_time": "2023-06-28T07:07:39.778Z"
   },
   {
    "duration": 24,
    "start_time": "2023-06-28T07:07:39.878Z"
   },
   {
    "duration": 847,
    "start_time": "2023-06-28T07:07:39.904Z"
   },
   {
    "duration": 868,
    "start_time": "2023-06-28T07:07:40.752Z"
   },
   {
    "duration": 1363,
    "start_time": "2023-06-28T07:07:41.622Z"
   },
   {
    "duration": 102,
    "start_time": "2023-06-28T07:07:43.075Z"
   },
   {
    "duration": 42,
    "start_time": "2023-06-28T07:07:43.179Z"
   },
   {
    "duration": 122,
    "start_time": "2023-06-28T07:07:43.223Z"
   },
   {
    "duration": 11828,
    "start_time": "2023-06-28T07:07:43.347Z"
   },
   {
    "duration": 98,
    "start_time": "2023-06-28T07:07:55.177Z"
   },
   {
    "duration": 16,
    "start_time": "2023-06-28T07:07:55.277Z"
   },
   {
    "duration": 21,
    "start_time": "2023-06-28T07:07:55.295Z"
   },
   {
    "duration": 24070,
    "start_time": "2023-06-28T07:07:55.318Z"
   },
   {
    "duration": 100,
    "start_time": "2023-06-28T07:08:19.477Z"
   },
   {
    "duration": 14,
    "start_time": "2023-06-28T07:08:19.579Z"
   },
   {
    "duration": 16,
    "start_time": "2023-06-28T07:08:19.595Z"
   },
   {
    "duration": 13412,
    "start_time": "2023-06-28T07:08:19.613Z"
   },
   {
    "duration": 17436,
    "start_time": "2023-06-28T07:08:33.027Z"
   },
   {
    "duration": 13,
    "start_time": "2023-06-28T07:08:50.465Z"
   },
   {
    "duration": 147607,
    "start_time": "2023-06-28T07:08:50.480Z"
   },
   {
    "duration": 197229,
    "start_time": "2023-06-28T07:11:18.089Z"
   },
   {
    "duration": 18,
    "start_time": "2023-06-28T07:14:57.093Z"
   },
   {
    "duration": 95,
    "start_time": "2023-06-28T07:23:05.702Z"
   },
   {
    "duration": 85,
    "start_time": "2023-06-28T07:23:25.953Z"
   },
   {
    "duration": 3,
    "start_time": "2023-06-28T07:24:57.871Z"
   },
   {
    "duration": 1466,
    "start_time": "2023-06-28T07:24:57.875Z"
   },
   {
    "duration": 44,
    "start_time": "2023-06-28T07:24:59.343Z"
   },
   {
    "duration": 20,
    "start_time": "2023-06-28T07:24:59.388Z"
   },
   {
    "duration": 31,
    "start_time": "2023-06-28T07:24:59.410Z"
   },
   {
    "duration": 7,
    "start_time": "2023-06-28T07:24:59.443Z"
   },
   {
    "duration": 20,
    "start_time": "2023-06-28T07:24:59.451Z"
   },
   {
    "duration": 68,
    "start_time": "2023-06-28T07:24:59.472Z"
   },
   {
    "duration": 20,
    "start_time": "2023-06-28T07:24:59.541Z"
   },
   {
    "duration": 11,
    "start_time": "2023-06-28T07:24:59.562Z"
   },
   {
    "duration": 180,
    "start_time": "2023-06-28T07:24:59.578Z"
   },
   {
    "duration": 5,
    "start_time": "2023-06-28T07:24:59.759Z"
   },
   {
    "duration": 68,
    "start_time": "2023-06-28T07:24:59.765Z"
   },
   {
    "duration": 39,
    "start_time": "2023-06-28T07:24:59.835Z"
   },
   {
    "duration": 134,
    "start_time": "2023-06-28T07:24:59.881Z"
   },
   {
    "duration": 118,
    "start_time": "2023-06-28T07:25:00.018Z"
   },
   {
    "duration": 12,
    "start_time": "2023-06-28T07:25:00.137Z"
   },
   {
    "duration": 68,
    "start_time": "2023-06-28T07:25:00.151Z"
   },
   {
    "duration": 26,
    "start_time": "2023-06-28T07:25:00.221Z"
   },
   {
    "duration": 51,
    "start_time": "2023-06-28T07:25:00.249Z"
   },
   {
    "duration": 33,
    "start_time": "2023-06-28T07:25:00.301Z"
   },
   {
    "duration": 65,
    "start_time": "2023-06-28T07:25:00.335Z"
   },
   {
    "duration": 2385,
    "start_time": "2023-06-28T07:25:00.401Z"
   },
   {
    "duration": 61,
    "start_time": "2023-06-28T07:25:02.794Z"
   },
   {
    "duration": 1360,
    "start_time": "2023-06-28T07:25:02.857Z"
   },
   {
    "duration": 4,
    "start_time": "2023-06-28T07:25:04.219Z"
   },
   {
    "duration": 36,
    "start_time": "2023-06-28T07:25:04.225Z"
   },
   {
    "duration": 44,
    "start_time": "2023-06-28T07:25:04.263Z"
   },
   {
    "duration": 14,
    "start_time": "2023-06-28T07:25:04.311Z"
   },
   {
    "duration": 64,
    "start_time": "2023-06-28T07:25:04.326Z"
   },
   {
    "duration": 20,
    "start_time": "2023-06-28T07:25:04.392Z"
   },
   {
    "duration": 25,
    "start_time": "2023-06-28T07:25:04.413Z"
   },
   {
    "duration": 104,
    "start_time": "2023-06-28T07:25:04.440Z"
   },
   {
    "duration": 153,
    "start_time": "2023-06-28T07:25:04.545Z"
   },
   {
    "duration": 81,
    "start_time": "2023-06-28T07:25:04.701Z"
   },
   {
    "duration": 159,
    "start_time": "2023-06-28T07:25:04.786Z"
   },
   {
    "duration": 8,
    "start_time": "2023-06-28T07:25:04.947Z"
   },
   {
    "duration": 15,
    "start_time": "2023-06-28T07:25:04.957Z"
   },
   {
    "duration": 34,
    "start_time": "2023-06-28T07:25:04.974Z"
   },
   {
    "duration": 17,
    "start_time": "2023-06-28T07:25:05.011Z"
   },
   {
    "duration": 3038,
    "start_time": "2023-06-28T07:25:05.030Z"
   },
   {
    "duration": 7,
    "start_time": "2023-06-28T07:25:08.070Z"
   },
   {
    "duration": 30,
    "start_time": "2023-06-28T07:25:08.080Z"
   },
   {
    "duration": 101,
    "start_time": "2023-06-28T07:25:08.112Z"
   },
   {
    "duration": 12,
    "start_time": "2023-06-28T07:25:08.214Z"
   },
   {
    "duration": 3,
    "start_time": "2023-06-28T07:25:08.227Z"
   },
   {
    "duration": 12,
    "start_time": "2023-06-28T07:25:08.232Z"
   },
   {
    "duration": 303,
    "start_time": "2023-06-28T07:25:08.246Z"
   },
   {
    "duration": 5,
    "start_time": "2023-06-28T07:25:08.550Z"
   },
   {
    "duration": 10,
    "start_time": "2023-06-28T07:25:08.557Z"
   },
   {
    "duration": 17,
    "start_time": "2023-06-28T07:25:08.568Z"
   },
   {
    "duration": 822,
    "start_time": "2023-06-28T07:25:08.586Z"
   },
   {
    "duration": 5,
    "start_time": "2023-06-28T07:25:09.410Z"
   },
   {
    "duration": 1244,
    "start_time": "2023-06-28T07:25:09.417Z"
   },
   {
    "duration": 5,
    "start_time": "2023-06-28T07:25:10.663Z"
   },
   {
    "duration": 1427,
    "start_time": "2023-06-28T07:25:10.679Z"
   },
   {
    "duration": 73,
    "start_time": "2023-06-28T07:25:12.111Z"
   },
   {
    "duration": 118,
    "start_time": "2023-06-28T07:25:12.186Z"
   },
   {
    "duration": 834,
    "start_time": "2023-06-28T07:25:12.306Z"
   },
   {
    "duration": 962,
    "start_time": "2023-06-28T07:25:13.142Z"
   },
   {
    "duration": 1696,
    "start_time": "2023-06-28T07:25:14.106Z"
   },
   {
    "duration": 73,
    "start_time": "2023-06-28T07:25:15.805Z"
   },
   {
    "duration": 164,
    "start_time": "2023-06-28T07:25:15.880Z"
   },
   {
    "duration": 30,
    "start_time": "2023-06-28T07:25:16.046Z"
   },
   {
    "duration": 13503,
    "start_time": "2023-06-28T07:25:16.079Z"
   },
   {
    "duration": 87,
    "start_time": "2023-06-28T07:25:29.603Z"
   },
   {
    "duration": 46,
    "start_time": "2023-06-28T07:25:29.694Z"
   },
   {
    "duration": 21,
    "start_time": "2023-06-28T07:25:29.742Z"
   },
   {
    "duration": 27048,
    "start_time": "2023-06-28T07:25:29.764Z"
   },
   {
    "duration": 65,
    "start_time": "2023-06-28T07:25:56.815Z"
   },
   {
    "duration": 139,
    "start_time": "2023-06-28T07:25:56.882Z"
   },
   {
    "duration": 6,
    "start_time": "2023-06-28T07:25:57.022Z"
   },
   {
    "duration": 13382,
    "start_time": "2023-06-28T07:25:57.030Z"
   },
   {
    "duration": 17468,
    "start_time": "2023-06-28T07:26:10.415Z"
   },
   {
    "duration": 10,
    "start_time": "2023-06-28T07:26:27.887Z"
   },
   {
    "duration": 148920,
    "start_time": "2023-06-28T07:26:27.899Z"
   },
   {
    "duration": 208334,
    "start_time": "2023-06-28T07:28:56.825Z"
   },
   {
    "duration": 15,
    "start_time": "2023-06-28T07:32:30.457Z"
   },
   {
    "duration": 4,
    "start_time": "2023-06-28T07:34:04.608Z"
   },
   {
    "duration": 8,
    "start_time": "2023-06-28T07:34:06.903Z"
   },
   {
    "duration": 136,
    "start_time": "2023-06-28T07:34:08.643Z"
   },
   {
    "duration": 19,
    "start_time": "2023-06-28T07:34:12.205Z"
   },
   {
    "duration": 175,
    "start_time": "2023-06-28T07:34:14.548Z"
   },
   {
    "duration": 3,
    "start_time": "2023-06-28T07:45:10.642Z"
   },
   {
    "duration": 515,
    "start_time": "2023-06-28T07:45:12.550Z"
   },
   {
    "duration": 180,
    "start_time": "2023-06-28T07:45:18.514Z"
   },
   {
    "duration": 3,
    "start_time": "2023-06-28T07:54:44.518Z"
   },
   {
    "duration": 5,
    "start_time": "2023-06-28T07:54:45.524Z"
   },
   {
    "duration": 58,
    "start_time": "2023-06-28T07:54:45.532Z"
   },
   {
    "duration": 14,
    "start_time": "2023-06-28T07:54:45.592Z"
   },
   {
    "duration": 24,
    "start_time": "2023-06-28T07:54:45.607Z"
   },
   {
    "duration": 35,
    "start_time": "2023-06-28T07:54:45.633Z"
   },
   {
    "duration": 37,
    "start_time": "2023-06-28T07:54:45.669Z"
   },
   {
    "duration": 21,
    "start_time": "2023-06-28T07:54:45.707Z"
   },
   {
    "duration": 6,
    "start_time": "2023-06-28T07:54:45.730Z"
   },
   {
    "duration": 19,
    "start_time": "2023-06-28T07:54:45.737Z"
   },
   {
    "duration": 180,
    "start_time": "2023-06-28T07:54:45.758Z"
   },
   {
    "duration": 4,
    "start_time": "2023-06-28T07:54:45.940Z"
   },
   {
    "duration": 31,
    "start_time": "2023-06-28T07:54:45.946Z"
   },
   {
    "duration": 51,
    "start_time": "2023-06-28T07:54:45.978Z"
   },
   {
    "duration": 151,
    "start_time": "2023-06-28T07:54:46.032Z"
   },
   {
    "duration": 111,
    "start_time": "2023-06-28T07:54:46.185Z"
   },
   {
    "duration": 13,
    "start_time": "2023-06-28T07:54:46.298Z"
   },
   {
    "duration": 11,
    "start_time": "2023-06-28T07:54:46.312Z"
   },
   {
    "duration": 15,
    "start_time": "2023-06-28T07:54:46.324Z"
   },
   {
    "duration": 17,
    "start_time": "2023-06-28T07:54:46.341Z"
   },
   {
    "duration": 50,
    "start_time": "2023-06-28T07:54:46.360Z"
   },
   {
    "duration": 17,
    "start_time": "2023-06-28T07:54:46.413Z"
   },
   {
    "duration": 2248,
    "start_time": "2023-06-28T07:54:46.433Z"
   },
   {
    "duration": 35,
    "start_time": "2023-06-28T07:54:48.682Z"
   },
   {
    "duration": 1336,
    "start_time": "2023-06-28T07:54:48.719Z"
   },
   {
    "duration": 5,
    "start_time": "2023-06-28T07:54:50.057Z"
   },
   {
    "duration": 21,
    "start_time": "2023-06-28T07:54:50.076Z"
   },
   {
    "duration": 6,
    "start_time": "2023-06-28T07:54:50.099Z"
   },
   {
    "duration": 13,
    "start_time": "2023-06-28T07:54:50.107Z"
   },
   {
    "duration": 34,
    "start_time": "2023-06-28T07:54:50.121Z"
   },
   {
    "duration": 3,
    "start_time": "2023-06-28T07:54:50.157Z"
   },
   {
    "duration": 11,
    "start_time": "2023-06-28T07:54:50.161Z"
   },
   {
    "duration": 114,
    "start_time": "2023-06-28T07:54:50.176Z"
   },
   {
    "duration": 87,
    "start_time": "2023-06-28T07:54:50.292Z"
   },
   {
    "duration": 111,
    "start_time": "2023-06-28T07:54:50.383Z"
   },
   {
    "duration": 8,
    "start_time": "2023-06-28T07:54:50.496Z"
   },
   {
    "duration": 96,
    "start_time": "2023-06-28T07:54:50.506Z"
   },
   {
    "duration": 122,
    "start_time": "2023-06-28T07:54:54.762Z"
   },
   {
    "duration": 18,
    "start_time": "2023-06-28T07:55:11.653Z"
   },
   {
    "duration": 31,
    "start_time": "2023-06-28T07:55:36.298Z"
   },
   {
    "duration": 13,
    "start_time": "2023-06-28T07:55:52.412Z"
   },
   {
    "duration": 13,
    "start_time": "2023-06-28T07:56:13.321Z"
   },
   {
    "duration": 10,
    "start_time": "2023-06-28T07:59:16.803Z"
   },
   {
    "duration": 4,
    "start_time": "2023-06-28T07:59:53.194Z"
   },
   {
    "duration": 2025,
    "start_time": "2023-06-28T07:59:53.200Z"
   },
   {
    "duration": 42,
    "start_time": "2023-06-28T07:59:55.226Z"
   },
   {
    "duration": 25,
    "start_time": "2023-06-28T07:59:55.270Z"
   },
   {
    "duration": 42,
    "start_time": "2023-06-28T07:59:55.297Z"
   },
   {
    "duration": 13,
    "start_time": "2023-06-28T07:59:55.340Z"
   },
   {
    "duration": 44,
    "start_time": "2023-06-28T07:59:55.354Z"
   },
   {
    "duration": 23,
    "start_time": "2023-06-28T07:59:55.400Z"
   },
   {
    "duration": 9,
    "start_time": "2023-06-28T07:59:55.426Z"
   },
   {
    "duration": 29,
    "start_time": "2023-06-28T07:59:55.436Z"
   },
   {
    "duration": 178,
    "start_time": "2023-06-28T07:59:55.467Z"
   },
   {
    "duration": 5,
    "start_time": "2023-06-28T07:59:55.647Z"
   },
   {
    "duration": 38,
    "start_time": "2023-06-28T07:59:55.653Z"
   },
   {
    "duration": 48,
    "start_time": "2023-06-28T07:59:55.693Z"
   },
   {
    "duration": 127,
    "start_time": "2023-06-28T07:59:55.743Z"
   },
   {
    "duration": 108,
    "start_time": "2023-06-28T07:59:55.871Z"
   },
   {
    "duration": 15,
    "start_time": "2023-06-28T07:59:55.984Z"
   },
   {
    "duration": 11,
    "start_time": "2023-06-28T07:59:56.001Z"
   },
   {
    "duration": 188,
    "start_time": "2023-06-28T07:59:56.014Z"
   },
   {
    "duration": 9,
    "start_time": "2023-06-28T07:59:56.204Z"
   },
   {
    "duration": 33,
    "start_time": "2023-06-28T07:59:56.214Z"
   },
   {
    "duration": 25,
    "start_time": "2023-06-28T07:59:56.249Z"
   },
   {
    "duration": 2380,
    "start_time": "2023-06-28T07:59:56.278Z"
   },
   {
    "duration": 74,
    "start_time": "2023-06-28T07:59:58.661Z"
   },
   {
    "duration": 1348,
    "start_time": "2023-06-28T07:59:58.736Z"
   },
   {
    "duration": 5,
    "start_time": "2023-06-28T08:00:00.088Z"
   },
   {
    "duration": 39,
    "start_time": "2023-06-28T08:00:00.095Z"
   },
   {
    "duration": 67,
    "start_time": "2023-06-28T08:00:00.135Z"
   },
   {
    "duration": 96,
    "start_time": "2023-06-28T08:00:00.204Z"
   },
   {
    "duration": 65,
    "start_time": "2023-06-28T08:00:00.302Z"
   },
   {
    "duration": 27,
    "start_time": "2023-06-28T08:00:00.368Z"
   },
   {
    "duration": 39,
    "start_time": "2023-06-28T08:00:00.396Z"
   },
   {
    "duration": 131,
    "start_time": "2023-06-28T08:00:00.438Z"
   },
   {
    "duration": 110,
    "start_time": "2023-06-28T08:00:00.571Z"
   },
   {
    "duration": 92,
    "start_time": "2023-06-28T08:00:00.692Z"
   },
   {
    "duration": 40,
    "start_time": "2023-06-28T08:00:00.787Z"
   },
   {
    "duration": 153,
    "start_time": "2023-06-28T08:00:00.829Z"
   },
   {
    "duration": 11,
    "start_time": "2023-06-28T08:00:00.984Z"
   },
   {
    "duration": 39,
    "start_time": "2023-06-28T08:00:00.997Z"
   },
   {
    "duration": 3198,
    "start_time": "2023-06-28T08:00:01.038Z"
   },
   {
    "duration": 106,
    "start_time": "2023-06-28T08:00:04.237Z"
   },
   {
    "duration": 12,
    "start_time": "2023-06-28T08:00:04.345Z"
   },
   {
    "duration": 49,
    "start_time": "2023-06-28T08:00:04.358Z"
   },
   {
    "duration": 18,
    "start_time": "2023-06-28T08:00:04.409Z"
   },
   {
    "duration": 325,
    "start_time": "2023-06-28T08:00:04.428Z"
   },
   {
    "duration": 5,
    "start_time": "2023-06-28T08:00:04.754Z"
   },
   {
    "duration": 72,
    "start_time": "2023-06-28T08:00:04.761Z"
   },
   {
    "duration": 30,
    "start_time": "2023-06-28T08:00:04.834Z"
   },
   {
    "duration": 914,
    "start_time": "2023-06-28T08:00:04.866Z"
   },
   {
    "duration": 9,
    "start_time": "2023-06-28T08:00:05.782Z"
   },
   {
    "duration": 1466,
    "start_time": "2023-06-28T08:00:05.793Z"
   },
   {
    "duration": 4,
    "start_time": "2023-06-28T08:00:07.261Z"
   },
   {
    "duration": 1703,
    "start_time": "2023-06-28T08:00:07.275Z"
   },
   {
    "duration": 12,
    "start_time": "2023-06-28T08:00:08.980Z"
   },
   {
    "duration": 102,
    "start_time": "2023-06-28T08:00:08.996Z"
   },
   {
    "duration": 831,
    "start_time": "2023-06-28T08:00:09.099Z"
   },
   {
    "duration": 992,
    "start_time": "2023-06-28T08:00:09.932Z"
   },
   {
    "duration": 1759,
    "start_time": "2023-06-28T08:00:10.926Z"
   },
   {
    "duration": 104,
    "start_time": "2023-06-28T08:00:12.687Z"
   },
   {
    "duration": 19,
    "start_time": "2023-06-28T08:00:12.793Z"
   },
   {
    "duration": 24,
    "start_time": "2023-06-28T08:00:12.814Z"
   },
   {
    "duration": 13655,
    "start_time": "2023-06-28T08:00:12.841Z"
   },
   {
    "duration": 85,
    "start_time": "2023-06-28T08:00:26.500Z"
   },
   {
    "duration": 101,
    "start_time": "2023-06-28T08:00:26.593Z"
   },
   {
    "duration": 8,
    "start_time": "2023-06-28T08:00:26.696Z"
   },
   {
    "duration": 29307,
    "start_time": "2023-06-28T08:00:26.705Z"
   },
   {
    "duration": 20,
    "start_time": "2023-06-28T08:00:56.076Z"
   },
   {
    "duration": 27,
    "start_time": "2023-06-28T08:00:56.180Z"
   },
   {
    "duration": 9,
    "start_time": "2023-06-28T08:00:56.212Z"
   },
   {
    "duration": 13679,
    "start_time": "2023-06-28T08:00:56.222Z"
   },
   {
    "duration": 16983,
    "start_time": "2023-06-28T08:01:09.903Z"
   },
   {
    "duration": 6,
    "start_time": "2023-06-28T08:01:26.891Z"
   },
   {
    "duration": 154718,
    "start_time": "2023-06-28T08:01:26.899Z"
   },
   {
    "duration": 201895,
    "start_time": "2023-06-28T08:04:01.619Z"
   },
   {
    "duration": 19,
    "start_time": "2023-06-28T08:07:23.516Z"
   },
   {
    "duration": 28,
    "start_time": "2023-06-28T08:07:23.537Z"
   },
   {
    "duration": 87,
    "start_time": "2023-06-28T08:07:23.567Z"
   },
   {
    "duration": 198,
    "start_time": "2023-06-28T08:07:23.656Z"
   },
   {
    "duration": 34,
    "start_time": "2023-06-28T08:07:23.856Z"
   },
   {
    "duration": 198,
    "start_time": "2023-06-28T08:07:23.893Z"
   },
   {
    "duration": 156,
    "start_time": "2023-06-28T08:15:31.614Z"
   },
   {
    "duration": 9,
    "start_time": "2023-06-28T08:15:39.122Z"
   },
   {
    "duration": 20,
    "start_time": "2023-06-28T08:16:31.304Z"
   },
   {
    "duration": 4,
    "start_time": "2023-06-28T08:16:53.848Z"
   },
   {
    "duration": 1772,
    "start_time": "2023-06-28T08:16:53.858Z"
   },
   {
    "duration": 51,
    "start_time": "2023-06-28T08:16:55.632Z"
   },
   {
    "duration": 19,
    "start_time": "2023-06-28T08:16:55.689Z"
   },
   {
    "duration": 22,
    "start_time": "2023-06-28T08:16:55.714Z"
   },
   {
    "duration": 8,
    "start_time": "2023-06-28T08:16:55.737Z"
   },
   {
    "duration": 12,
    "start_time": "2023-06-28T08:16:55.746Z"
   },
   {
    "duration": 21,
    "start_time": "2023-06-28T08:16:55.760Z"
   },
   {
    "duration": 36,
    "start_time": "2023-06-28T08:16:55.783Z"
   },
   {
    "duration": 25,
    "start_time": "2023-06-28T08:16:55.821Z"
   },
   {
    "duration": 181,
    "start_time": "2023-06-28T08:16:55.849Z"
   },
   {
    "duration": 4,
    "start_time": "2023-06-28T08:16:56.032Z"
   },
   {
    "duration": 18,
    "start_time": "2023-06-28T08:16:56.037Z"
   },
   {
    "duration": 60,
    "start_time": "2023-06-28T08:16:56.056Z"
   },
   {
    "duration": 127,
    "start_time": "2023-06-28T08:16:56.120Z"
   },
   {
    "duration": 154,
    "start_time": "2023-06-28T08:16:56.250Z"
   },
   {
    "duration": 19,
    "start_time": "2023-06-28T08:16:56.411Z"
   },
   {
    "duration": 20,
    "start_time": "2023-06-28T08:16:56.432Z"
   },
   {
    "duration": 12,
    "start_time": "2023-06-28T08:16:56.453Z"
   },
   {
    "duration": 25,
    "start_time": "2023-06-28T08:16:56.467Z"
   },
   {
    "duration": 54,
    "start_time": "2023-06-28T08:16:56.494Z"
   },
   {
    "duration": 10,
    "start_time": "2023-06-28T08:16:56.550Z"
   },
   {
    "duration": 2489,
    "start_time": "2023-06-28T08:16:56.561Z"
   },
   {
    "duration": 87,
    "start_time": "2023-06-28T08:16:59.052Z"
   },
   {
    "duration": 1510,
    "start_time": "2023-06-28T08:16:59.141Z"
   },
   {
    "duration": 4,
    "start_time": "2023-06-28T08:17:00.653Z"
   },
   {
    "duration": 123,
    "start_time": "2023-06-28T08:17:00.659Z"
   },
   {
    "duration": 146,
    "start_time": "2023-06-28T08:17:00.784Z"
   },
   {
    "duration": 183,
    "start_time": "2023-06-28T08:17:00.934Z"
   },
   {
    "duration": 197,
    "start_time": "2023-06-28T08:17:01.119Z"
   },
   {
    "duration": 242,
    "start_time": "2023-06-28T08:17:01.318Z"
   },
   {
    "duration": 189,
    "start_time": "2023-06-28T08:17:01.562Z"
   },
   {
    "duration": 271,
    "start_time": "2023-06-28T08:17:01.753Z"
   },
   {
    "duration": 68,
    "start_time": "2023-06-28T08:17:02.025Z"
   },
   {
    "duration": 143,
    "start_time": "2023-06-28T08:17:02.095Z"
   },
   {
    "duration": 78,
    "start_time": "2023-06-28T08:17:02.240Z"
   },
   {
    "duration": 163,
    "start_time": "2023-06-28T08:17:02.319Z"
   },
   {
    "duration": 16,
    "start_time": "2023-06-28T08:17:02.484Z"
   },
   {
    "duration": 62,
    "start_time": "2023-06-28T08:17:02.502Z"
   },
   {
    "duration": 3230,
    "start_time": "2023-06-28T08:17:02.566Z"
   },
   {
    "duration": 106,
    "start_time": "2023-06-28T08:17:05.797Z"
   },
   {
    "duration": 15,
    "start_time": "2023-06-28T08:17:05.905Z"
   },
   {
    "duration": 14,
    "start_time": "2023-06-28T08:17:05.922Z"
   },
   {
    "duration": 15,
    "start_time": "2023-06-28T08:17:05.937Z"
   },
   {
    "duration": 354,
    "start_time": "2023-06-28T08:17:05.954Z"
   },
   {
    "duration": 9,
    "start_time": "2023-06-28T08:17:06.312Z"
   },
   {
    "duration": 32,
    "start_time": "2023-06-28T08:17:06.323Z"
   },
   {
    "duration": 23,
    "start_time": "2023-06-28T08:17:06.357Z"
   },
   {
    "duration": 951,
    "start_time": "2023-06-28T08:17:06.382Z"
   },
   {
    "duration": 4,
    "start_time": "2023-06-28T08:17:07.335Z"
   },
   {
    "duration": 1472,
    "start_time": "2023-06-28T08:17:07.340Z"
   },
   {
    "duration": 6,
    "start_time": "2023-06-28T08:17:08.815Z"
   },
   {
    "duration": 1695,
    "start_time": "2023-06-28T08:17:08.823Z"
   },
   {
    "duration": 23,
    "start_time": "2023-06-28T08:17:10.574Z"
   },
   {
    "duration": 113,
    "start_time": "2023-06-28T08:17:10.604Z"
   },
   {
    "duration": 946,
    "start_time": "2023-06-28T08:17:10.719Z"
   },
   {
    "duration": 1066,
    "start_time": "2023-06-28T08:17:11.667Z"
   },
   {
    "duration": 1584,
    "start_time": "2023-06-28T08:17:12.734Z"
   },
   {
    "duration": 69,
    "start_time": "2023-06-28T08:17:14.323Z"
   },
   {
    "duration": 115,
    "start_time": "2023-06-28T08:17:14.402Z"
   },
   {
    "duration": 18,
    "start_time": "2023-06-28T08:17:14.519Z"
   },
   {
    "duration": 21,
    "start_time": "2023-06-28T08:17:18.571Z"
   },
   {
    "duration": 193,
    "start_time": "2023-06-28T08:17:33.862Z"
   },
   {
    "duration": 208,
    "start_time": "2023-06-28T08:21:55.502Z"
   },
   {
    "duration": 4214,
    "start_time": "2023-06-28T08:22:02.975Z"
   },
   {
    "duration": 4285,
    "start_time": "2023-06-28T08:22:40.639Z"
   },
   {
    "duration": 4446,
    "start_time": "2023-06-28T08:23:19.246Z"
   },
   {
    "duration": 4548,
    "start_time": "2023-06-28T08:24:00.035Z"
   },
   {
    "duration": 4979,
    "start_time": "2023-06-28T08:26:43.333Z"
   },
   {
    "duration": 12201,
    "start_time": "2023-06-28T08:27:36.138Z"
   },
   {
    "duration": 11105,
    "start_time": "2023-06-28T08:28:25.365Z"
   },
   {
    "duration": 10992,
    "start_time": "2023-06-28T08:28:55.049Z"
   },
   {
    "duration": 9966,
    "start_time": "2023-06-28T08:29:17.556Z"
   },
   {
    "duration": 13516,
    "start_time": "2023-06-28T08:29:52.167Z"
   },
   {
    "duration": 13468,
    "start_time": "2023-06-28T08:31:03.522Z"
   },
   {
    "duration": 14254,
    "start_time": "2023-06-28T08:31:40.572Z"
   },
   {
    "duration": 13677,
    "start_time": "2023-06-28T08:32:14.341Z"
   },
   {
    "duration": 16,
    "start_time": "2023-06-28T08:35:48.943Z"
   },
   {
    "duration": 20,
    "start_time": "2023-06-28T08:35:58.001Z"
   },
   {
    "duration": 12,
    "start_time": "2023-06-28T08:36:12.244Z"
   },
   {
    "duration": 23,
    "start_time": "2023-06-28T08:36:43.450Z"
   },
   {
    "duration": 11,
    "start_time": "2023-06-28T08:36:51.629Z"
   },
   {
    "duration": 13,
    "start_time": "2023-06-28T08:37:25.552Z"
   },
   {
    "duration": 12,
    "start_time": "2023-06-28T08:37:38.940Z"
   },
   {
    "duration": 16,
    "start_time": "2023-06-28T08:38:56.295Z"
   },
   {
    "duration": 12,
    "start_time": "2023-06-28T08:39:11.042Z"
   },
   {
    "duration": 13,
    "start_time": "2023-06-28T08:39:21.722Z"
   },
   {
    "duration": 12,
    "start_time": "2023-06-28T08:39:48.546Z"
   },
   {
    "duration": 13,
    "start_time": "2023-06-28T08:40:52.447Z"
   },
   {
    "duration": 18,
    "start_time": "2023-06-28T08:42:44.077Z"
   },
   {
    "duration": 2,
    "start_time": "2023-06-28T08:42:55.200Z"
   },
   {
    "duration": 6,
    "start_time": "2023-06-28T08:42:55.223Z"
   },
   {
    "duration": 95,
    "start_time": "2023-06-28T08:42:55.231Z"
   },
   {
    "duration": 12,
    "start_time": "2023-06-28T08:42:55.328Z"
   },
   {
    "duration": 28,
    "start_time": "2023-06-28T08:42:55.342Z"
   },
   {
    "duration": 42,
    "start_time": "2023-06-28T08:42:55.372Z"
   },
   {
    "duration": 9,
    "start_time": "2023-06-28T08:42:55.416Z"
   },
   {
    "duration": 41,
    "start_time": "2023-06-28T08:42:55.427Z"
   },
   {
    "duration": 15,
    "start_time": "2023-06-28T08:42:55.470Z"
   },
   {
    "duration": 40,
    "start_time": "2023-06-28T08:42:55.488Z"
   },
   {
    "duration": 182,
    "start_time": "2023-06-28T08:42:55.530Z"
   },
   {
    "duration": 4,
    "start_time": "2023-06-28T08:42:55.714Z"
   },
   {
    "duration": 38,
    "start_time": "2023-06-28T08:42:55.720Z"
   },
   {
    "duration": 47,
    "start_time": "2023-06-28T08:42:55.760Z"
   },
   {
    "duration": 140,
    "start_time": "2023-06-28T08:42:55.809Z"
   },
   {
    "duration": 144,
    "start_time": "2023-06-28T08:42:55.951Z"
   },
   {
    "duration": 13,
    "start_time": "2023-06-28T08:42:56.103Z"
   },
   {
    "duration": 31,
    "start_time": "2023-06-28T08:42:56.117Z"
   },
   {
    "duration": 7,
    "start_time": "2023-06-28T08:42:56.150Z"
   },
   {
    "duration": 8,
    "start_time": "2023-06-28T08:42:56.158Z"
   },
   {
    "duration": 53,
    "start_time": "2023-06-28T08:42:56.168Z"
   },
   {
    "duration": 17,
    "start_time": "2023-06-28T08:42:56.223Z"
   },
   {
    "duration": 2610,
    "start_time": "2023-06-28T08:42:56.245Z"
   },
   {
    "duration": 44,
    "start_time": "2023-06-28T08:42:58.856Z"
   },
   {
    "duration": 1386,
    "start_time": "2023-06-28T08:42:58.902Z"
   },
   {
    "duration": 11,
    "start_time": "2023-06-28T08:43:00.289Z"
   },
   {
    "duration": 43,
    "start_time": "2023-06-28T08:43:00.304Z"
   },
   {
    "duration": 52,
    "start_time": "2023-06-28T08:43:00.349Z"
   },
   {
    "duration": 38,
    "start_time": "2023-06-28T08:43:00.402Z"
   },
   {
    "duration": 65,
    "start_time": "2023-06-28T08:43:00.441Z"
   },
   {
    "duration": 31,
    "start_time": "2023-06-28T08:43:00.507Z"
   },
   {
    "duration": 59,
    "start_time": "2023-06-28T08:43:00.540Z"
   },
   {
    "duration": 123,
    "start_time": "2023-06-28T08:43:00.601Z"
   },
   {
    "duration": 57,
    "start_time": "2023-06-28T08:43:00.726Z"
   },
   {
    "duration": 146,
    "start_time": "2023-06-28T08:43:00.784Z"
   },
   {
    "duration": 91,
    "start_time": "2023-06-28T08:43:00.932Z"
   },
   {
    "duration": 117,
    "start_time": "2023-06-28T08:43:01.025Z"
   },
   {
    "duration": 8,
    "start_time": "2023-06-28T08:43:01.144Z"
   },
   {
    "duration": 69,
    "start_time": "2023-06-28T08:43:01.154Z"
   },
   {
    "duration": 2927,
    "start_time": "2023-06-28T08:43:01.224Z"
   },
   {
    "duration": 98,
    "start_time": "2023-06-28T08:43:04.153Z"
   },
   {
    "duration": 29,
    "start_time": "2023-06-28T08:43:04.253Z"
   },
   {
    "duration": 5,
    "start_time": "2023-06-28T08:43:04.284Z"
   },
   {
    "duration": 20,
    "start_time": "2023-06-28T08:43:04.296Z"
   },
   {
    "duration": 471,
    "start_time": "2023-06-28T08:43:04.317Z"
   },
   {
    "duration": 7,
    "start_time": "2023-06-28T08:43:04.793Z"
   },
   {
    "duration": 3,
    "start_time": "2023-06-28T08:43:04.801Z"
   },
   {
    "duration": 12,
    "start_time": "2023-06-28T08:43:04.806Z"
   },
   {
    "duration": 879,
    "start_time": "2023-06-28T08:43:04.820Z"
   },
   {
    "duration": 5,
    "start_time": "2023-06-28T08:43:05.701Z"
   },
   {
    "duration": 1420,
    "start_time": "2023-06-28T08:43:05.708Z"
   },
   {
    "duration": 4,
    "start_time": "2023-06-28T08:43:07.130Z"
   },
   {
    "duration": 1364,
    "start_time": "2023-06-28T08:43:07.136Z"
   },
   {
    "duration": 70,
    "start_time": "2023-06-28T08:43:08.504Z"
   },
   {
    "duration": 33,
    "start_time": "2023-06-28T08:43:08.576Z"
   },
   {
    "duration": 832,
    "start_time": "2023-06-28T08:43:08.610Z"
   },
   {
    "duration": 980,
    "start_time": "2023-06-28T08:43:09.444Z"
   },
   {
    "duration": 1453,
    "start_time": "2023-06-28T08:43:10.425Z"
   },
   {
    "duration": 20,
    "start_time": "2023-06-28T08:43:11.881Z"
   },
   {
    "duration": 105,
    "start_time": "2023-06-28T08:43:11.903Z"
   },
   {
    "duration": 18,
    "start_time": "2023-06-28T08:43:12.011Z"
   },
   {
    "duration": 13550,
    "start_time": "2023-06-28T08:43:12.031Z"
   },
   {
    "duration": 16,
    "start_time": "2023-06-28T08:43:30.073Z"
   },
   {
    "duration": 3,
    "start_time": "2023-06-28T08:44:42.029Z"
   },
   {
    "duration": 1562,
    "start_time": "2023-06-28T08:44:42.046Z"
   },
   {
    "duration": 42,
    "start_time": "2023-06-28T08:44:43.610Z"
   },
   {
    "duration": 12,
    "start_time": "2023-06-28T08:44:43.653Z"
   },
   {
    "duration": 34,
    "start_time": "2023-06-28T08:44:43.667Z"
   },
   {
    "duration": 12,
    "start_time": "2023-06-28T08:44:43.707Z"
   },
   {
    "duration": 7,
    "start_time": "2023-06-28T08:44:43.721Z"
   },
   {
    "duration": 15,
    "start_time": "2023-06-28T08:44:43.730Z"
   },
   {
    "duration": 6,
    "start_time": "2023-06-28T08:44:43.746Z"
   },
   {
    "duration": 17,
    "start_time": "2023-06-28T08:44:43.753Z"
   },
   {
    "duration": 219,
    "start_time": "2023-06-28T08:44:43.773Z"
   },
   {
    "duration": 8,
    "start_time": "2023-06-28T08:44:43.999Z"
   },
   {
    "duration": 27,
    "start_time": "2023-06-28T08:44:44.008Z"
   },
   {
    "duration": 37,
    "start_time": "2023-06-28T08:44:44.037Z"
   },
   {
    "duration": 133,
    "start_time": "2023-06-28T08:44:44.079Z"
   },
   {
    "duration": 123,
    "start_time": "2023-06-28T08:44:44.214Z"
   },
   {
    "duration": 12,
    "start_time": "2023-06-28T08:44:44.339Z"
   },
   {
    "duration": 26,
    "start_time": "2023-06-28T08:44:44.352Z"
   },
   {
    "duration": 24,
    "start_time": "2023-06-28T08:44:44.380Z"
   },
   {
    "duration": 5,
    "start_time": "2023-06-28T08:44:44.405Z"
   },
   {
    "duration": 6,
    "start_time": "2023-06-28T08:44:44.411Z"
   },
   {
    "duration": 5,
    "start_time": "2023-06-28T08:44:44.418Z"
   },
   {
    "duration": 2635,
    "start_time": "2023-06-28T08:44:44.425Z"
   },
   {
    "duration": 78,
    "start_time": "2023-06-28T08:44:47.061Z"
   },
   {
    "duration": 1379,
    "start_time": "2023-06-28T08:44:47.141Z"
   },
   {
    "duration": 4,
    "start_time": "2023-06-28T08:44:48.521Z"
   },
   {
    "duration": 6,
    "start_time": "2023-06-28T08:44:48.527Z"
   },
   {
    "duration": 5,
    "start_time": "2023-06-28T08:44:48.535Z"
   },
   {
    "duration": 15,
    "start_time": "2023-06-28T08:44:48.544Z"
   },
   {
    "duration": 36,
    "start_time": "2023-06-28T08:44:48.561Z"
   },
   {
    "duration": 7,
    "start_time": "2023-06-28T08:44:48.601Z"
   },
   {
    "duration": 5,
    "start_time": "2023-06-28T08:44:48.610Z"
   },
   {
    "duration": 88,
    "start_time": "2023-06-28T08:44:48.616Z"
   },
   {
    "duration": 99,
    "start_time": "2023-06-28T08:44:48.706Z"
   },
   {
    "duration": 26,
    "start_time": "2023-06-28T08:44:48.878Z"
   },
   {
    "duration": 21,
    "start_time": "2023-06-28T08:44:48.906Z"
   },
   {
    "duration": 97,
    "start_time": "2023-06-28T08:44:48.928Z"
   },
   {
    "duration": 8,
    "start_time": "2023-06-28T08:44:49.027Z"
   },
   {
    "duration": 20,
    "start_time": "2023-06-28T08:44:49.036Z"
   },
   {
    "duration": 3277,
    "start_time": "2023-06-28T08:44:49.057Z"
   },
   {
    "duration": 108,
    "start_time": "2023-06-28T08:44:52.336Z"
   },
   {
    "duration": 12,
    "start_time": "2023-06-28T08:44:52.445Z"
   },
   {
    "duration": 24,
    "start_time": "2023-06-28T08:44:52.458Z"
   },
   {
    "duration": 26,
    "start_time": "2023-06-28T08:44:52.484Z"
   },
   {
    "duration": 307,
    "start_time": "2023-06-28T08:44:52.512Z"
   },
   {
    "duration": 5,
    "start_time": "2023-06-28T08:44:52.820Z"
   },
   {
    "duration": 84,
    "start_time": "2023-06-28T08:44:52.826Z"
   },
   {
    "duration": 42,
    "start_time": "2023-06-28T08:44:52.911Z"
   },
   {
    "duration": 957,
    "start_time": "2023-06-28T08:44:52.955Z"
   },
   {
    "duration": 5,
    "start_time": "2023-06-28T08:44:53.914Z"
   },
   {
    "duration": 1449,
    "start_time": "2023-06-28T08:44:53.921Z"
   },
   {
    "duration": 12,
    "start_time": "2023-06-28T08:44:55.378Z"
   },
   {
    "duration": 1422,
    "start_time": "2023-06-28T08:44:55.392Z"
   },
   {
    "duration": 74,
    "start_time": "2023-06-28T08:44:56.816Z"
   },
   {
    "duration": 122,
    "start_time": "2023-06-28T08:44:56.892Z"
   },
   {
    "duration": 928,
    "start_time": "2023-06-28T08:44:57.016Z"
   },
   {
    "duration": 970,
    "start_time": "2023-06-28T08:44:57.946Z"
   },
   {
    "duration": 1688,
    "start_time": "2023-06-28T08:44:58.918Z"
   },
   {
    "duration": 84,
    "start_time": "2023-06-28T08:45:00.609Z"
   },
   {
    "duration": 204,
    "start_time": "2023-06-28T08:45:00.695Z"
   },
   {
    "duration": 72,
    "start_time": "2023-06-28T08:45:00.901Z"
   },
   {
    "duration": 13428,
    "start_time": "2023-06-28T08:45:00.974Z"
   },
   {
    "duration": 74,
    "start_time": "2023-06-28T08:45:14.406Z"
   },
   {
    "duration": 124,
    "start_time": "2023-06-28T08:45:14.483Z"
   },
   {
    "duration": 8,
    "start_time": "2023-06-28T08:45:14.608Z"
   },
   {
    "duration": 12,
    "start_time": "2023-06-28T08:45:14.618Z"
   },
   {
    "duration": 27575,
    "start_time": "2023-06-28T08:45:14.632Z"
   },
   {
    "duration": 94,
    "start_time": "2023-06-28T08:45:42.210Z"
   },
   {
    "duration": 34,
    "start_time": "2023-06-28T08:45:42.380Z"
   },
   {
    "duration": 6,
    "start_time": "2023-06-28T08:45:42.416Z"
   },
   {
    "duration": 13830,
    "start_time": "2023-06-28T08:45:42.423Z"
   },
   {
    "duration": 16926,
    "start_time": "2023-06-28T08:45:56.255Z"
   },
   {
    "duration": 10,
    "start_time": "2023-06-28T08:46:13.183Z"
   },
   {
    "duration": 7,
    "start_time": "2023-06-28T08:48:20.316Z"
   },
   {
    "duration": 1995,
    "start_time": "2023-06-28T08:48:20.326Z"
   },
   {
    "duration": 42,
    "start_time": "2023-06-28T08:48:22.323Z"
   },
   {
    "duration": 19,
    "start_time": "2023-06-28T08:48:22.367Z"
   },
   {
    "duration": 41,
    "start_time": "2023-06-28T08:48:22.388Z"
   },
   {
    "duration": 6,
    "start_time": "2023-06-28T08:48:22.430Z"
   },
   {
    "duration": 31,
    "start_time": "2023-06-28T08:48:22.437Z"
   },
   {
    "duration": 58,
    "start_time": "2023-06-28T08:48:22.470Z"
   },
   {
    "duration": 5,
    "start_time": "2023-06-28T08:48:22.529Z"
   },
   {
    "duration": 5,
    "start_time": "2023-06-28T08:48:22.536Z"
   },
   {
    "duration": 156,
    "start_time": "2023-06-28T08:48:22.544Z"
   },
   {
    "duration": 5,
    "start_time": "2023-06-28T08:48:22.702Z"
   },
   {
    "duration": 28,
    "start_time": "2023-06-28T08:48:22.709Z"
   },
   {
    "duration": 46,
    "start_time": "2023-06-28T08:48:22.738Z"
   },
   {
    "duration": 140,
    "start_time": "2023-06-28T08:48:22.785Z"
   },
   {
    "duration": 120,
    "start_time": "2023-06-28T08:48:22.927Z"
   },
   {
    "duration": 12,
    "start_time": "2023-06-28T08:48:23.049Z"
   },
   {
    "duration": 44,
    "start_time": "2023-06-28T08:48:23.062Z"
   },
   {
    "duration": 26,
    "start_time": "2023-06-28T08:48:23.107Z"
   },
   {
    "duration": 7,
    "start_time": "2023-06-28T08:48:23.134Z"
   },
   {
    "duration": 7,
    "start_time": "2023-06-28T08:48:23.143Z"
   },
   {
    "duration": 11,
    "start_time": "2023-06-28T08:48:23.151Z"
   },
   {
    "duration": 2565,
    "start_time": "2023-06-28T08:48:23.163Z"
   },
   {
    "duration": 110,
    "start_time": "2023-06-28T08:48:25.730Z"
   },
   {
    "duration": 1539,
    "start_time": "2023-06-28T08:48:25.843Z"
   },
   {
    "duration": 8,
    "start_time": "2023-06-28T08:48:27.384Z"
   },
   {
    "duration": 36,
    "start_time": "2023-06-28T08:48:27.393Z"
   },
   {
    "duration": 7,
    "start_time": "2023-06-28T08:48:27.431Z"
   },
   {
    "duration": 91,
    "start_time": "2023-06-28T08:48:27.442Z"
   },
   {
    "duration": 30,
    "start_time": "2023-06-28T08:48:27.535Z"
   },
   {
    "duration": 3,
    "start_time": "2023-06-28T08:48:27.566Z"
   },
   {
    "duration": 11,
    "start_time": "2023-06-28T08:48:27.571Z"
   },
   {
    "duration": 138,
    "start_time": "2023-06-28T08:48:27.584Z"
   },
   {
    "duration": 180,
    "start_time": "2023-06-28T08:48:27.724Z"
   },
   {
    "duration": 22,
    "start_time": "2023-06-28T08:48:27.907Z"
   },
   {
    "duration": 16,
    "start_time": "2023-06-28T08:48:27.930Z"
   },
   {
    "duration": 113,
    "start_time": "2023-06-28T08:48:27.948Z"
   },
   {
    "duration": 18,
    "start_time": "2023-06-28T08:48:28.063Z"
   },
   {
    "duration": 61,
    "start_time": "2023-06-28T08:48:28.083Z"
   },
   {
    "duration": 3204,
    "start_time": "2023-06-28T08:48:28.146Z"
   },
   {
    "duration": 119,
    "start_time": "2023-06-28T08:48:31.352Z"
   },
   {
    "duration": 35,
    "start_time": "2023-06-28T08:48:31.473Z"
   },
   {
    "duration": 18,
    "start_time": "2023-06-28T08:48:31.515Z"
   },
   {
    "duration": 51,
    "start_time": "2023-06-28T08:48:31.535Z"
   },
   {
    "duration": 380,
    "start_time": "2023-06-28T08:48:31.591Z"
   },
   {
    "duration": 7,
    "start_time": "2023-06-28T08:48:31.978Z"
   },
   {
    "duration": 67,
    "start_time": "2023-06-28T08:48:31.987Z"
   },
   {
    "duration": 14,
    "start_time": "2023-06-28T08:48:32.056Z"
   },
   {
    "duration": 929,
    "start_time": "2023-06-28T08:48:32.072Z"
   },
   {
    "duration": 6,
    "start_time": "2023-06-28T08:48:33.007Z"
   },
   {
    "duration": 1524,
    "start_time": "2023-06-28T08:48:33.016Z"
   },
   {
    "duration": 4,
    "start_time": "2023-06-28T08:48:34.542Z"
   },
   {
    "duration": 1436,
    "start_time": "2023-06-28T08:48:34.548Z"
   },
   {
    "duration": 96,
    "start_time": "2023-06-28T08:48:35.990Z"
   },
   {
    "duration": 22,
    "start_time": "2023-06-28T08:48:36.098Z"
   },
   {
    "duration": 900,
    "start_time": "2023-06-28T08:48:36.122Z"
   },
   {
    "duration": 1002,
    "start_time": "2023-06-28T08:48:37.023Z"
   },
   {
    "duration": 1693,
    "start_time": "2023-06-28T08:48:38.026Z"
   },
   {
    "duration": 64,
    "start_time": "2023-06-28T08:48:39.721Z"
   },
   {
    "duration": 126,
    "start_time": "2023-06-28T08:48:39.791Z"
   },
   {
    "duration": 9,
    "start_time": "2023-06-28T08:48:39.919Z"
   },
   {
    "duration": 13690,
    "start_time": "2023-06-28T08:48:39.929Z"
   },
   {
    "duration": 104,
    "start_time": "2023-06-28T08:48:53.680Z"
   },
   {
    "duration": 40,
    "start_time": "2023-06-28T08:48:53.787Z"
   },
   {
    "duration": 7,
    "start_time": "2023-06-28T08:48:53.829Z"
   },
   {
    "duration": 9,
    "start_time": "2023-06-28T08:48:53.838Z"
   },
   {
    "duration": 27633,
    "start_time": "2023-06-28T08:48:53.849Z"
   },
   {
    "duration": 21,
    "start_time": "2023-06-28T08:49:21.495Z"
   },
   {
    "duration": 11,
    "start_time": "2023-06-28T08:49:34.355Z"
   },
   {
    "duration": 5,
    "start_time": "2023-06-28T08:49:37.648Z"
   },
   {
    "duration": 15289,
    "start_time": "2023-06-28T08:49:40.168Z"
   },
   {
    "duration": 17854,
    "start_time": "2023-06-28T08:49:55.459Z"
   },
   {
    "duration": 5,
    "start_time": "2023-06-28T08:50:13.318Z"
   },
   {
    "duration": 175211,
    "start_time": "2023-06-28T08:50:13.325Z"
   },
   {
    "duration": 206655,
    "start_time": "2023-06-28T08:53:08.538Z"
   },
   {
    "duration": 30,
    "start_time": "2023-06-28T08:56:35.202Z"
   },
   {
    "duration": 4,
    "start_time": "2023-06-28T09:00:39.618Z"
   },
   {
    "duration": 130,
    "start_time": "2023-06-28T09:00:42.041Z"
   },
   {
    "duration": 37,
    "start_time": "2023-06-28T09:00:52.023Z"
   },
   {
    "duration": 14,
    "start_time": "2023-06-28T09:01:14.103Z"
   },
   {
    "duration": 22,
    "start_time": "2023-06-28T09:01:52.234Z"
   },
   {
    "duration": 16,
    "start_time": "2023-06-28T09:01:57.627Z"
   },
   {
    "duration": 40,
    "start_time": "2023-06-28T09:02:45.193Z"
   },
   {
    "duration": 194,
    "start_time": "2023-06-28T09:02:47.374Z"
   },
   {
    "duration": 143,
    "start_time": "2023-06-28T09:03:03.408Z"
   },
   {
    "duration": 26,
    "start_time": "2023-06-28T09:03:58.821Z"
   },
   {
    "duration": 175,
    "start_time": "2023-06-28T09:04:00.729Z"
   },
   {
    "duration": 23,
    "start_time": "2023-06-28T09:04:06.787Z"
   },
   {
    "duration": 98,
    "start_time": "2023-06-28T09:04:17.021Z"
   },
   {
    "duration": 19,
    "start_time": "2023-06-28T09:04:19.716Z"
   },
   {
    "duration": 12,
    "start_time": "2023-06-28T09:04:37.405Z"
   },
   {
    "duration": 253,
    "start_time": "2023-06-28T09:04:39.168Z"
   },
   {
    "duration": 117,
    "start_time": "2023-06-28T09:04:41.595Z"
   },
   {
    "duration": 169,
    "start_time": "2023-06-28T09:04:44.202Z"
   },
   {
    "duration": 3,
    "start_time": "2023-06-28T10:08:58.143Z"
   },
   {
    "duration": 1623,
    "start_time": "2023-06-28T10:08:58.152Z"
   },
   {
    "duration": 42,
    "start_time": "2023-06-28T10:08:59.777Z"
   },
   {
    "duration": 13,
    "start_time": "2023-06-28T10:08:59.820Z"
   },
   {
    "duration": 33,
    "start_time": "2023-06-28T10:08:59.835Z"
   },
   {
    "duration": 6,
    "start_time": "2023-06-28T10:08:59.870Z"
   },
   {
    "duration": 14,
    "start_time": "2023-06-28T10:08:59.877Z"
   },
   {
    "duration": 24,
    "start_time": "2023-06-28T10:08:59.892Z"
   },
   {
    "duration": 6,
    "start_time": "2023-06-28T10:08:59.917Z"
   },
   {
    "duration": 10,
    "start_time": "2023-06-28T10:08:59.925Z"
   },
   {
    "duration": 174,
    "start_time": "2023-06-28T10:08:59.938Z"
   },
   {
    "duration": 4,
    "start_time": "2023-06-28T10:09:00.114Z"
   },
   {
    "duration": 44,
    "start_time": "2023-06-28T10:09:00.120Z"
   },
   {
    "duration": 76,
    "start_time": "2023-06-28T10:09:00.166Z"
   },
   {
    "duration": 120,
    "start_time": "2023-06-28T10:09:00.244Z"
   },
   {
    "duration": 103,
    "start_time": "2023-06-28T10:09:00.366Z"
   },
   {
    "duration": 13,
    "start_time": "2023-06-28T10:09:00.475Z"
   },
   {
    "duration": 59,
    "start_time": "2023-06-28T10:09:00.490Z"
   },
   {
    "duration": 57,
    "start_time": "2023-06-28T10:09:00.551Z"
   },
   {
    "duration": 27,
    "start_time": "2023-06-28T10:09:00.610Z"
   },
   {
    "duration": 36,
    "start_time": "2023-06-28T10:09:00.639Z"
   },
   {
    "duration": 48,
    "start_time": "2023-06-28T10:09:00.677Z"
   },
   {
    "duration": 2350,
    "start_time": "2023-06-28T10:09:00.726Z"
   },
   {
    "duration": 71,
    "start_time": "2023-06-28T10:09:03.078Z"
   },
   {
    "duration": 1330,
    "start_time": "2023-06-28T10:09:03.150Z"
   },
   {
    "duration": 4,
    "start_time": "2023-06-28T10:09:04.483Z"
   },
   {
    "duration": 19,
    "start_time": "2023-06-28T10:09:04.489Z"
   },
   {
    "duration": 15,
    "start_time": "2023-06-28T10:09:04.510Z"
   },
   {
    "duration": 11,
    "start_time": "2023-06-28T10:09:04.529Z"
   },
   {
    "duration": 32,
    "start_time": "2023-06-28T10:09:04.541Z"
   },
   {
    "duration": 2,
    "start_time": "2023-06-28T10:09:04.575Z"
   },
   {
    "duration": 8,
    "start_time": "2023-06-28T10:09:04.579Z"
   },
   {
    "duration": 96,
    "start_time": "2023-06-28T10:09:04.589Z"
   },
   {
    "duration": 104,
    "start_time": "2023-06-28T10:09:04.687Z"
   },
   {
    "duration": 4,
    "start_time": "2023-06-28T10:09:04.876Z"
   },
   {
    "duration": 12,
    "start_time": "2023-06-28T10:09:04.881Z"
   },
   {
    "duration": 100,
    "start_time": "2023-06-28T10:09:04.894Z"
   },
   {
    "duration": 9,
    "start_time": "2023-06-28T10:09:04.996Z"
   },
   {
    "duration": 23,
    "start_time": "2023-06-28T10:09:05.006Z"
   },
   {
    "duration": 2865,
    "start_time": "2023-06-28T10:09:05.032Z"
   },
   {
    "duration": 101,
    "start_time": "2023-06-28T10:09:07.898Z"
   },
   {
    "duration": 12,
    "start_time": "2023-06-28T10:09:08.001Z"
   },
   {
    "duration": 10,
    "start_time": "2023-06-28T10:09:08.014Z"
   },
   {
    "duration": 8,
    "start_time": "2023-06-28T10:09:08.025Z"
   },
   {
    "duration": 294,
    "start_time": "2023-06-28T10:09:08.035Z"
   },
   {
    "duration": 5,
    "start_time": "2023-06-28T10:09:08.330Z"
   },
   {
    "duration": 12,
    "start_time": "2023-06-28T10:09:08.337Z"
   },
   {
    "duration": 9,
    "start_time": "2023-06-28T10:09:08.351Z"
   },
   {
    "duration": 786,
    "start_time": "2023-06-28T10:09:08.362Z"
   },
   {
    "duration": 5,
    "start_time": "2023-06-28T10:09:09.151Z"
   },
   {
    "duration": 1309,
    "start_time": "2023-06-28T10:09:09.157Z"
   },
   {
    "duration": 7,
    "start_time": "2023-06-28T10:09:10.468Z"
   },
   {
    "duration": 1714,
    "start_time": "2023-06-28T10:09:10.476Z"
   },
   {
    "duration": 89,
    "start_time": "2023-06-28T10:09:12.192Z"
   },
   {
    "duration": 97,
    "start_time": "2023-06-28T10:09:12.283Z"
   },
   {
    "duration": 793,
    "start_time": "2023-06-28T10:09:12.382Z"
   },
   {
    "duration": 953,
    "start_time": "2023-06-28T10:09:13.177Z"
   },
   {
    "duration": 1842,
    "start_time": "2023-06-28T10:09:14.132Z"
   },
   {
    "duration": 101,
    "start_time": "2023-06-28T10:09:15.977Z"
   },
   {
    "duration": 13,
    "start_time": "2023-06-28T10:09:16.080Z"
   },
   {
    "duration": 6,
    "start_time": "2023-06-28T10:09:16.094Z"
   },
   {
    "duration": 13372,
    "start_time": "2023-06-28T10:09:16.102Z"
   },
   {
    "duration": 98,
    "start_time": "2023-06-28T10:09:29.478Z"
   },
   {
    "duration": 21,
    "start_time": "2023-06-28T10:09:29.578Z"
   },
   {
    "duration": 13,
    "start_time": "2023-06-28T10:09:29.601Z"
   },
   {
    "duration": 10,
    "start_time": "2023-06-28T10:09:29.616Z"
   },
   {
    "duration": 29152,
    "start_time": "2023-06-28T10:09:29.628Z"
   },
   {
    "duration": 97,
    "start_time": "2023-06-28T10:09:58.782Z"
   },
   {
    "duration": 25,
    "start_time": "2023-06-28T10:09:58.881Z"
   },
   {
    "duration": 14,
    "start_time": "2023-06-28T10:09:58.907Z"
   },
   {
    "duration": 13082,
    "start_time": "2023-06-28T10:09:58.922Z"
   },
   {
    "duration": 16072,
    "start_time": "2023-06-28T10:10:12.006Z"
   },
   {
    "duration": 5,
    "start_time": "2023-06-28T10:10:28.080Z"
   },
   {
    "duration": 160528,
    "start_time": "2023-06-28T10:10:28.087Z"
   },
   {
    "duration": 178586,
    "start_time": "2023-06-28T10:13:08.616Z"
   },
   {
    "duration": 15,
    "start_time": "2023-06-28T10:16:07.204Z"
   },
   {
    "duration": 14,
    "start_time": "2023-06-28T10:16:07.220Z"
   },
   {
    "duration": 153,
    "start_time": "2023-06-28T10:16:07.235Z"
   },
   {
    "duration": 145,
    "start_time": "2023-06-28T10:16:07.390Z"
   },
   {
    "duration": 287,
    "start_time": "2023-06-28T10:16:07.536Z"
   },
   {
    "duration": 160,
    "start_time": "2023-06-28T10:16:07.825Z"
   },
   {
    "duration": 2328,
    "start_time": "2023-06-28T10:36:31.299Z"
   },
   {
    "duration": 1488,
    "start_time": "2023-06-28T10:36:33.630Z"
   },
   {
    "duration": 41,
    "start_time": "2023-06-28T10:36:35.120Z"
   },
   {
    "duration": 12,
    "start_time": "2023-06-28T10:36:35.164Z"
   },
   {
    "duration": 30,
    "start_time": "2023-06-28T10:36:35.178Z"
   },
   {
    "duration": 28,
    "start_time": "2023-06-28T10:36:35.210Z"
   },
   {
    "duration": 26,
    "start_time": "2023-06-28T10:36:35.240Z"
   },
   {
    "duration": 26,
    "start_time": "2023-06-28T10:36:35.268Z"
   },
   {
    "duration": 18,
    "start_time": "2023-06-28T10:36:35.297Z"
   },
   {
    "duration": 17,
    "start_time": "2023-06-28T10:36:35.318Z"
   },
   {
    "duration": 192,
    "start_time": "2023-06-28T10:36:35.336Z"
   },
   {
    "duration": 5,
    "start_time": "2023-06-28T10:36:35.529Z"
   },
   {
    "duration": 34,
    "start_time": "2023-06-28T10:36:35.535Z"
   },
   {
    "duration": 50,
    "start_time": "2023-06-28T10:36:35.571Z"
   },
   {
    "duration": 125,
    "start_time": "2023-06-28T10:36:35.623Z"
   },
   {
    "duration": 128,
    "start_time": "2023-06-28T10:36:35.750Z"
   },
   {
    "duration": 19,
    "start_time": "2023-06-28T10:36:35.881Z"
   },
   {
    "duration": 27,
    "start_time": "2023-06-28T10:36:35.902Z"
   },
   {
    "duration": 20,
    "start_time": "2023-06-28T10:36:35.931Z"
   },
   {
    "duration": 41,
    "start_time": "2023-06-28T10:36:35.953Z"
   },
   {
    "duration": 27,
    "start_time": "2023-06-28T10:36:35.995Z"
   },
   {
    "duration": 28,
    "start_time": "2023-06-28T10:36:36.024Z"
   },
   {
    "duration": 2418,
    "start_time": "2023-06-28T10:36:36.054Z"
   },
   {
    "duration": 75,
    "start_time": "2023-06-28T10:36:38.477Z"
   },
   {
    "duration": 21,
    "start_time": "2023-06-28T10:36:38.554Z"
   },
   {
    "duration": 7,
    "start_time": "2023-06-28T10:36:38.578Z"
   },
   {
    "duration": 9,
    "start_time": "2023-06-28T10:36:38.589Z"
   },
   {
    "duration": 24,
    "start_time": "2023-06-28T10:36:38.601Z"
   },
   {
    "duration": 42,
    "start_time": "2023-06-28T10:36:38.626Z"
   },
   {
    "duration": 2,
    "start_time": "2023-06-28T10:36:38.669Z"
   },
   {
    "duration": 52,
    "start_time": "2023-06-28T10:36:38.672Z"
   },
   {
    "duration": 95,
    "start_time": "2023-06-28T10:36:38.726Z"
   },
   {
    "duration": 64,
    "start_time": "2023-06-28T10:36:38.823Z"
   },
   {
    "duration": 32,
    "start_time": "2023-06-28T10:36:38.976Z"
   },
   {
    "duration": 17,
    "start_time": "2023-06-28T10:36:39.010Z"
   },
   {
    "duration": 166,
    "start_time": "2023-06-28T10:36:39.031Z"
   },
   {
    "duration": 11,
    "start_time": "2023-06-28T10:36:39.199Z"
   },
   {
    "duration": 19,
    "start_time": "2023-06-28T10:36:39.212Z"
   },
   {
    "duration": 2875,
    "start_time": "2023-06-28T10:36:39.233Z"
   },
   {
    "duration": 93,
    "start_time": "2023-06-28T10:37:28.332Z"
   },
   {
    "duration": 15,
    "start_time": "2023-06-28T10:37:52.095Z"
   },
   {
    "duration": 4,
    "start_time": "2023-06-28T10:37:58.418Z"
   },
   {
    "duration": 4,
    "start_time": "2023-06-28T10:38:08.448Z"
   },
   {
    "duration": 298,
    "start_time": "2023-06-28T10:38:12.643Z"
   },
   {
    "duration": 2,
    "start_time": "2023-06-28T10:40:37.665Z"
   },
   {
    "duration": 5,
    "start_time": "2023-06-28T10:40:39.802Z"
   },
   {
    "duration": 139,
    "start_time": "2023-06-28T10:41:36.187Z"
   },
   {
    "duration": 8,
    "start_time": "2023-06-28T10:41:42.594Z"
   },
   {
    "duration": 3,
    "start_time": "2023-06-28T10:41:44.582Z"
   },
   {
    "duration": 5,
    "start_time": "2023-06-28T10:41:45.818Z"
   },
   {
    "duration": 937,
    "start_time": "2023-06-28T10:41:48.464Z"
   },
   {
    "duration": 9,
    "start_time": "2023-06-28T10:41:53.993Z"
   },
   {
    "duration": 1543,
    "start_time": "2023-06-28T10:42:34.018Z"
   },
   {
    "duration": 5,
    "start_time": "2023-06-28T10:43:10.950Z"
   },
   {
    "duration": 1047,
    "start_time": "2023-06-28T10:43:14.834Z"
   },
   {
    "duration": 8,
    "start_time": "2023-06-28T10:43:23.634Z"
   },
   {
    "duration": 3,
    "start_time": "2023-06-28T10:45:58.567Z"
   },
   {
    "duration": 3200,
    "start_time": "2023-06-28T10:47:09.193Z"
   },
   {
    "duration": 10,
    "start_time": "2023-06-28T10:47:22.178Z"
   },
   {
    "duration": 10,
    "start_time": "2023-06-28T10:47:45.423Z"
   },
   {
    "duration": 8,
    "start_time": "2023-06-28T10:48:13.545Z"
   },
   {
    "duration": 12,
    "start_time": "2023-06-28T10:48:58.679Z"
   },
   {
    "duration": 8,
    "start_time": "2023-06-28T10:49:18.629Z"
   },
   {
    "duration": 10,
    "start_time": "2023-06-28T10:50:35.488Z"
   },
   {
    "duration": 7,
    "start_time": "2023-06-28T10:51:25.319Z"
   },
   {
    "duration": 5,
    "start_time": "2023-06-28T10:51:37.154Z"
   },
   {
    "duration": 10,
    "start_time": "2023-06-28T10:51:49.372Z"
   },
   {
    "duration": 9,
    "start_time": "2023-06-28T10:52:25.920Z"
   },
   {
    "duration": 8,
    "start_time": "2023-06-28T10:52:55.884Z"
   },
   {
    "duration": 2,
    "start_time": "2023-06-28T10:53:45.110Z"
   },
   {
    "duration": 4,
    "start_time": "2023-06-28T10:53:47.372Z"
   },
   {
    "duration": 19,
    "start_time": "2023-06-28T10:53:52.884Z"
   },
   {
    "duration": 5,
    "start_time": "2023-06-28T10:54:28.026Z"
   },
   {
    "duration": 11642,
    "start_time": "2023-06-28T10:54:33.135Z"
   },
   {
    "duration": 9,
    "start_time": "2023-06-28T10:55:07.089Z"
   },
   {
    "duration": 8,
    "start_time": "2023-06-28T10:55:14.749Z"
   },
   {
    "duration": 2,
    "start_time": "2023-06-28T10:56:21.582Z"
   },
   {
    "duration": 4,
    "start_time": "2023-06-28T10:56:23.542Z"
   },
   {
    "duration": 25634,
    "start_time": "2023-06-28T10:56:28.742Z"
   },
   {
    "duration": 8,
    "start_time": "2023-06-28T10:57:15.263Z"
   },
   {
    "duration": 10,
    "start_time": "2023-06-28T10:58:18.760Z"
   },
   {
    "duration": 21,
    "start_time": "2023-06-28T11:02:41.956Z"
   },
   {
    "duration": 7,
    "start_time": "2023-06-28T11:05:51.170Z"
   },
   {
    "duration": 5,
    "start_time": "2023-06-28T11:06:21.713Z"
   },
   {
    "duration": 14746,
    "start_time": "2023-06-28T11:07:18.969Z"
   },
   {
    "duration": 17533,
    "start_time": "2023-06-28T11:08:20.966Z"
   },
   {
    "duration": 3,
    "start_time": "2023-06-28T11:11:01.442Z"
   },
   {
    "duration": 4,
    "start_time": "2023-06-28T11:12:01.834Z"
   },
   {
    "duration": 136135,
    "start_time": "2023-06-28T11:12:04.313Z"
   },
   {
    "duration": 201538,
    "start_time": "2023-06-28T11:14:39.977Z"
   },
   {
    "duration": 325,
    "start_time": "2023-06-28T11:18:55.293Z"
   },
   {
    "duration": 7,
    "start_time": "2023-06-28T11:19:00.643Z"
   },
   {
    "duration": 4,
    "start_time": "2023-06-28T11:25:23.500Z"
   },
   {
    "duration": 147,
    "start_time": "2023-06-28T11:26:53.930Z"
   },
   {
    "duration": 226,
    "start_time": "2023-06-28T11:27:51.231Z"
   },
   {
    "duration": 179,
    "start_time": "2023-06-28T11:28:41.425Z"
   },
   {
    "duration": 252,
    "start_time": "2023-06-28T11:29:31.517Z"
   },
   {
    "duration": 2783,
    "start_time": "2023-06-28T11:46:58.834Z"
   },
   {
    "duration": 2169,
    "start_time": "2023-06-28T11:47:01.620Z"
   },
   {
    "duration": 49,
    "start_time": "2023-06-28T11:47:03.792Z"
   },
   {
    "duration": 14,
    "start_time": "2023-06-28T11:47:03.844Z"
   },
   {
    "duration": 24,
    "start_time": "2023-06-28T11:47:03.860Z"
   },
   {
    "duration": 40,
    "start_time": "2023-06-28T11:47:03.886Z"
   },
   {
    "duration": 13,
    "start_time": "2023-06-28T11:47:03.929Z"
   },
   {
    "duration": 15,
    "start_time": "2023-06-28T11:47:03.944Z"
   },
   {
    "duration": 7,
    "start_time": "2023-06-28T11:47:03.961Z"
   },
   {
    "duration": 38,
    "start_time": "2023-06-28T11:47:03.971Z"
   },
   {
    "duration": 225,
    "start_time": "2023-06-28T11:47:04.011Z"
   },
   {
    "duration": 6,
    "start_time": "2023-06-28T11:47:04.237Z"
   },
   {
    "duration": 33,
    "start_time": "2023-06-28T11:47:04.244Z"
   },
   {
    "duration": 45,
    "start_time": "2023-06-28T11:47:04.279Z"
   },
   {
    "duration": 138,
    "start_time": "2023-06-28T11:47:04.326Z"
   },
   {
    "duration": 130,
    "start_time": "2023-06-28T11:47:04.466Z"
   },
   {
    "duration": 16,
    "start_time": "2023-06-28T11:47:04.599Z"
   },
   {
    "duration": 10,
    "start_time": "2023-06-28T11:47:04.616Z"
   },
   {
    "duration": 5,
    "start_time": "2023-06-28T11:47:04.627Z"
   },
   {
    "duration": 6,
    "start_time": "2023-06-28T11:47:04.633Z"
   },
   {
    "duration": 42,
    "start_time": "2023-06-28T11:47:04.640Z"
   },
   {
    "duration": 27,
    "start_time": "2023-06-28T11:47:04.684Z"
   },
   {
    "duration": 2626,
    "start_time": "2023-06-28T11:47:04.713Z"
   },
   {
    "duration": 83,
    "start_time": "2023-06-28T11:47:07.340Z"
   },
   {
    "duration": 5,
    "start_time": "2023-06-28T11:47:07.424Z"
   },
   {
    "duration": 13,
    "start_time": "2023-06-28T11:47:07.430Z"
   },
   {
    "duration": 7,
    "start_time": "2023-06-28T11:47:07.444Z"
   },
   {
    "duration": 22,
    "start_time": "2023-06-28T11:47:07.454Z"
   },
   {
    "duration": 49,
    "start_time": "2023-06-28T11:47:07.478Z"
   },
   {
    "duration": 2,
    "start_time": "2023-06-28T11:47:07.529Z"
   },
   {
    "duration": 34,
    "start_time": "2023-06-28T11:47:07.533Z"
   },
   {
    "duration": 108,
    "start_time": "2023-06-28T11:47:07.575Z"
   },
   {
    "duration": 116,
    "start_time": "2023-06-28T11:47:07.685Z"
   },
   {
    "duration": 172,
    "start_time": "2023-06-28T11:47:07.806Z"
   },
   {
    "duration": 20,
    "start_time": "2023-06-28T11:47:07.979Z"
   },
   {
    "duration": 120,
    "start_time": "2023-06-28T11:47:08.001Z"
   },
   {
    "duration": 9,
    "start_time": "2023-06-28T11:47:08.123Z"
   },
   {
    "duration": 16,
    "start_time": "2023-06-28T11:47:08.134Z"
   },
   {
    "duration": 3312,
    "start_time": "2023-06-28T11:47:08.151Z"
   },
   {
    "duration": 106,
    "start_time": "2023-06-28T11:47:11.464Z"
   },
   {
    "duration": 17,
    "start_time": "2023-06-28T11:47:11.575Z"
   },
   {
    "duration": 41,
    "start_time": "2023-06-28T11:47:11.594Z"
   },
   {
    "duration": 8,
    "start_time": "2023-06-28T11:47:11.637Z"
   },
   {
    "duration": 380,
    "start_time": "2023-06-28T11:47:11.647Z"
   },
   {
    "duration": 6,
    "start_time": "2023-06-28T11:47:12.028Z"
   },
   {
    "duration": 30,
    "start_time": "2023-06-28T11:47:12.035Z"
   },
   {
    "duration": 29,
    "start_time": "2023-06-28T11:47:12.067Z"
   },
   {
    "duration": 960,
    "start_time": "2023-06-28T11:47:12.099Z"
   },
   {
    "duration": 13,
    "start_time": "2023-06-28T11:47:13.061Z"
   },
   {
    "duration": 1684,
    "start_time": "2023-06-28T11:47:13.077Z"
   },
   {
    "duration": 24,
    "start_time": "2023-06-28T11:47:14.764Z"
   },
   {
    "duration": 1203,
    "start_time": "2023-06-28T11:47:14.800Z"
   },
   {
    "duration": 26,
    "start_time": "2023-06-28T11:47:16.086Z"
   },
   {
    "duration": 6,
    "start_time": "2023-06-28T11:47:16.114Z"
   },
   {
    "duration": 3169,
    "start_time": "2023-06-28T11:47:16.121Z"
   },
   {
    "duration": 87,
    "start_time": "2023-06-28T11:47:19.292Z"
   },
   {
    "duration": 30,
    "start_time": "2023-06-28T11:47:19.381Z"
   },
   {
    "duration": 16,
    "start_time": "2023-06-28T11:47:19.412Z"
   },
   {
    "duration": 11752,
    "start_time": "2023-06-28T11:47:19.430Z"
   },
   {
    "duration": 101,
    "start_time": "2023-06-28T11:47:31.203Z"
   },
   {
    "duration": 61,
    "start_time": "2023-06-28T11:47:31.306Z"
   },
   {
    "duration": 73,
    "start_time": "2023-06-28T11:47:31.368Z"
   },
   {
    "duration": 24236,
    "start_time": "2023-06-28T11:47:31.443Z"
   },
   {
    "duration": 16,
    "start_time": "2023-06-28T11:47:55.681Z"
   },
   {
    "duration": 132,
    "start_time": "2023-06-28T11:47:55.699Z"
   },
   {
    "duration": 5,
    "start_time": "2023-06-28T11:47:55.832Z"
   },
   {
    "duration": 16317,
    "start_time": "2023-06-28T11:47:55.839Z"
   },
   {
    "duration": 18802,
    "start_time": "2023-06-28T11:48:12.157Z"
   },
   {
    "duration": 2,
    "start_time": "2023-06-28T11:48:30.961Z"
   },
   {
    "duration": 50,
    "start_time": "2023-06-28T11:48:30.975Z"
   },
   {
    "duration": 140539,
    "start_time": "2023-06-28T11:48:31.026Z"
   },
   {
    "duration": 207587,
    "start_time": "2023-06-28T11:50:51.567Z"
   },
   {
    "duration": 7,
    "start_time": "2023-06-28T11:54:19.156Z"
   },
   {
    "duration": 26,
    "start_time": "2023-06-28T11:54:19.175Z"
   },
   {
    "duration": 176,
    "start_time": "2023-06-28T11:54:19.203Z"
   },
   {
    "duration": 162,
    "start_time": "2023-06-28T11:54:19.380Z"
   },
   {
    "duration": 263,
    "start_time": "2023-06-28T11:54:19.544Z"
   },
   {
    "duration": 244,
    "start_time": "2023-06-28T11:54:19.809Z"
   },
   {
    "duration": 2283,
    "start_time": "2023-06-29T07:13:14.254Z"
   },
   {
    "duration": 12,
    "start_time": "2023-06-29T07:13:47.105Z"
   },
   {
    "duration": 3698,
    "start_time": "2023-06-29T07:13:57.897Z"
   },
   {
    "duration": 1901,
    "start_time": "2023-06-29T07:14:01.598Z"
   },
   {
    "duration": 0,
    "start_time": "2023-06-29T07:14:03.502Z"
   },
   {
    "duration": 0,
    "start_time": "2023-06-29T07:14:03.504Z"
   },
   {
    "duration": 0,
    "start_time": "2023-06-29T07:14:03.506Z"
   },
   {
    "duration": 0,
    "start_time": "2023-06-29T07:14:03.507Z"
   },
   {
    "duration": 0,
    "start_time": "2023-06-29T07:14:03.508Z"
   },
   {
    "duration": 0,
    "start_time": "2023-06-29T07:14:03.510Z"
   },
   {
    "duration": 0,
    "start_time": "2023-06-29T07:14:03.512Z"
   },
   {
    "duration": 0,
    "start_time": "2023-06-29T07:14:03.513Z"
   },
   {
    "duration": 0,
    "start_time": "2023-06-29T07:14:03.515Z"
   },
   {
    "duration": 0,
    "start_time": "2023-06-29T07:14:03.516Z"
   },
   {
    "duration": 0,
    "start_time": "2023-06-29T07:14:03.518Z"
   },
   {
    "duration": 0,
    "start_time": "2023-06-29T07:14:03.519Z"
   },
   {
    "duration": 0,
    "start_time": "2023-06-29T07:14:03.521Z"
   },
   {
    "duration": 0,
    "start_time": "2023-06-29T07:14:03.522Z"
   },
   {
    "duration": 0,
    "start_time": "2023-06-29T07:14:03.524Z"
   },
   {
    "duration": 0,
    "start_time": "2023-06-29T07:14:03.525Z"
   },
   {
    "duration": 0,
    "start_time": "2023-06-29T07:14:03.527Z"
   },
   {
    "duration": 0,
    "start_time": "2023-06-29T07:14:03.573Z"
   },
   {
    "duration": 0,
    "start_time": "2023-06-29T07:14:03.583Z"
   },
   {
    "duration": 0,
    "start_time": "2023-06-29T07:14:03.585Z"
   },
   {
    "duration": 0,
    "start_time": "2023-06-29T07:14:03.586Z"
   },
   {
    "duration": 0,
    "start_time": "2023-06-29T07:14:03.589Z"
   },
   {
    "duration": 194,
    "start_time": "2023-06-29T07:15:04.905Z"
   },
   {
    "duration": 158,
    "start_time": "2023-06-29T07:15:12.798Z"
   },
   {
    "duration": 2444,
    "start_time": "2023-06-29T07:15:30.894Z"
   },
   {
    "duration": 3169,
    "start_time": "2023-06-29T07:15:36.664Z"
   },
   {
    "duration": 1704,
    "start_time": "2023-06-29T07:15:51.395Z"
   },
   {
    "duration": 3,
    "start_time": "2023-06-29T07:16:20.755Z"
   },
   {
    "duration": 32,
    "start_time": "2023-06-29T07:16:20.766Z"
   },
   {
    "duration": 50,
    "start_time": "2023-06-29T07:16:20.800Z"
   },
   {
    "duration": 254,
    "start_time": "2023-06-29T07:16:20.852Z"
   },
   {
    "duration": 15,
    "start_time": "2023-06-29T07:16:21.107Z"
   },
   {
    "duration": 34,
    "start_time": "2023-06-29T07:16:21.124Z"
   },
   {
    "duration": 23,
    "start_time": "2023-06-29T07:16:21.160Z"
   },
   {
    "duration": 9,
    "start_time": "2023-06-29T07:16:21.185Z"
   },
   {
    "duration": 17,
    "start_time": "2023-06-29T07:16:21.196Z"
   },
   {
    "duration": 13,
    "start_time": "2023-06-29T07:16:21.215Z"
   },
   {
    "duration": 25,
    "start_time": "2023-06-29T07:16:21.229Z"
   },
   {
    "duration": 187,
    "start_time": "2023-06-29T07:16:21.257Z"
   },
   {
    "duration": 5,
    "start_time": "2023-06-29T07:16:21.446Z"
   },
   {
    "duration": 38,
    "start_time": "2023-06-29T07:16:21.453Z"
   },
   {
    "duration": 54,
    "start_time": "2023-06-29T07:16:21.493Z"
   },
   {
    "duration": 136,
    "start_time": "2023-06-29T07:16:21.549Z"
   },
   {
    "duration": 137,
    "start_time": "2023-06-29T07:16:21.687Z"
   },
   {
    "duration": 14,
    "start_time": "2023-06-29T07:16:21.826Z"
   },
   {
    "duration": 39,
    "start_time": "2023-06-29T07:16:21.842Z"
   },
   {
    "duration": 21,
    "start_time": "2023-06-29T07:16:21.883Z"
   },
   {
    "duration": 7,
    "start_time": "2023-06-29T07:16:21.905Z"
   },
   {
    "duration": 13,
    "start_time": "2023-06-29T07:16:21.914Z"
   },
   {
    "duration": 4,
    "start_time": "2023-06-29T07:16:21.929Z"
   },
   {
    "duration": 2907,
    "start_time": "2023-06-29T07:16:21.934Z"
   },
   {
    "duration": 98,
    "start_time": "2023-06-29T07:16:24.844Z"
   },
   {
    "duration": 159,
    "start_time": "2023-06-29T07:16:33.634Z"
   },
   {
    "duration": 11,
    "start_time": "2023-06-29T07:17:11.738Z"
   },
   {
    "duration": 13276,
    "start_time": "2023-06-29T07:17:23.226Z"
   },
   {
    "duration": 60,
    "start_time": "2023-06-29T07:23:02.666Z"
   },
   {
    "duration": 40,
    "start_time": "2023-06-29T07:23:16.106Z"
   },
   {
    "duration": 12030,
    "start_time": "2023-06-29T07:23:27.403Z"
   },
   {
    "duration": 2,
    "start_time": "2023-06-29T07:40:20.980Z"
   },
   {
    "duration": 5,
    "start_time": "2023-06-29T07:40:20.989Z"
   },
   {
    "duration": 6,
    "start_time": "2023-06-29T07:40:20.996Z"
   },
   {
    "duration": 49,
    "start_time": "2023-06-29T07:40:21.004Z"
   },
   {
    "duration": 15,
    "start_time": "2023-06-29T07:40:21.055Z"
   },
   {
    "duration": 15,
    "start_time": "2023-06-29T07:40:21.073Z"
   },
   {
    "duration": 9,
    "start_time": "2023-06-29T07:40:21.091Z"
   },
   {
    "duration": 7,
    "start_time": "2023-06-29T07:40:21.102Z"
   },
   {
    "duration": 23,
    "start_time": "2023-06-29T07:40:21.111Z"
   },
   {
    "duration": 7,
    "start_time": "2023-06-29T07:40:21.166Z"
   },
   {
    "duration": 6,
    "start_time": "2023-06-29T07:40:21.175Z"
   },
   {
    "duration": 195,
    "start_time": "2023-06-29T07:40:21.183Z"
   },
   {
    "duration": 5,
    "start_time": "2023-06-29T07:40:21.381Z"
   },
   {
    "duration": 21,
    "start_time": "2023-06-29T07:40:21.387Z"
   },
   {
    "duration": 68,
    "start_time": "2023-06-29T07:40:21.410Z"
   },
   {
    "duration": 142,
    "start_time": "2023-06-29T07:40:21.479Z"
   },
   {
    "duration": 133,
    "start_time": "2023-06-29T07:40:21.623Z"
   },
   {
    "duration": 18,
    "start_time": "2023-06-29T07:40:21.767Z"
   },
   {
    "duration": 16,
    "start_time": "2023-06-29T07:40:21.787Z"
   },
   {
    "duration": 14,
    "start_time": "2023-06-29T07:40:21.806Z"
   },
   {
    "duration": 10,
    "start_time": "2023-06-29T07:40:21.823Z"
   },
   {
    "duration": 33,
    "start_time": "2023-06-29T07:40:21.835Z"
   },
   {
    "duration": 3,
    "start_time": "2023-06-29T07:40:21.870Z"
   },
   {
    "duration": 2661,
    "start_time": "2023-06-29T07:40:21.875Z"
   },
   {
    "duration": 3,
    "start_time": "2023-06-29T07:40:24.538Z"
   },
   {
    "duration": 12230,
    "start_time": "2023-06-29T07:40:24.544Z"
   },
   {
    "duration": 5,
    "start_time": "2023-06-29T07:40:36.778Z"
   },
   {
    "duration": 19,
    "start_time": "2023-06-29T07:40:36.785Z"
   },
   {
    "duration": 15,
    "start_time": "2023-06-29T07:40:36.806Z"
   },
   {
    "duration": 22,
    "start_time": "2023-06-29T07:40:36.823Z"
   },
   {
    "duration": 1005,
    "start_time": "2023-06-29T07:40:42.120Z"
   },
   {
    "duration": 20,
    "start_time": "2023-06-29T07:46:00.637Z"
   },
   {
    "duration": 3,
    "start_time": "2023-06-29T07:46:15.530Z"
   },
   {
    "duration": 15,
    "start_time": "2023-06-29T07:46:15.538Z"
   },
   {
    "duration": 11,
    "start_time": "2023-06-29T07:46:15.555Z"
   },
   {
    "duration": 56,
    "start_time": "2023-06-29T07:46:15.568Z"
   },
   {
    "duration": 15,
    "start_time": "2023-06-29T07:46:15.626Z"
   },
   {
    "duration": 14,
    "start_time": "2023-06-29T07:46:15.643Z"
   },
   {
    "duration": 25,
    "start_time": "2023-06-29T07:46:15.659Z"
   },
   {
    "duration": 10,
    "start_time": "2023-06-29T07:46:15.687Z"
   },
   {
    "duration": 14,
    "start_time": "2023-06-29T07:46:15.700Z"
   },
   {
    "duration": 7,
    "start_time": "2023-06-29T07:46:15.719Z"
   },
   {
    "duration": 6,
    "start_time": "2023-06-29T07:46:15.728Z"
   },
   {
    "duration": 197,
    "start_time": "2023-06-29T07:46:15.736Z"
   },
   {
    "duration": 5,
    "start_time": "2023-06-29T07:46:15.935Z"
   },
   {
    "duration": 36,
    "start_time": "2023-06-29T07:46:15.942Z"
   },
   {
    "duration": 42,
    "start_time": "2023-06-29T07:46:15.980Z"
   },
   {
    "duration": 145,
    "start_time": "2023-06-29T07:46:16.024Z"
   },
   {
    "duration": 238,
    "start_time": "2023-06-29T07:46:16.171Z"
   },
   {
    "duration": 18,
    "start_time": "2023-06-29T07:46:16.411Z"
   },
   {
    "duration": 11,
    "start_time": "2023-06-29T07:46:16.431Z"
   },
   {
    "duration": 25,
    "start_time": "2023-06-29T07:46:16.444Z"
   },
   {
    "duration": 6,
    "start_time": "2023-06-29T07:46:16.471Z"
   },
   {
    "duration": 6,
    "start_time": "2023-06-29T07:46:16.479Z"
   },
   {
    "duration": 9,
    "start_time": "2023-06-29T07:46:16.487Z"
   },
   {
    "duration": 2493,
    "start_time": "2023-06-29T07:46:16.498Z"
   },
   {
    "duration": 3,
    "start_time": "2023-06-29T07:46:18.994Z"
   },
   {
    "duration": 11900,
    "start_time": "2023-06-29T07:46:18.999Z"
   },
   {
    "duration": 5,
    "start_time": "2023-06-29T07:46:30.901Z"
   },
   {
    "duration": 5,
    "start_time": "2023-06-29T07:46:59.682Z"
   },
   {
    "duration": 2,
    "start_time": "2023-06-29T07:47:10.057Z"
   },
   {
    "duration": 11,
    "start_time": "2023-06-29T07:47:13.109Z"
   },
   {
    "duration": 20,
    "start_time": "2023-06-29T07:47:40.208Z"
   },
   {
    "duration": 4,
    "start_time": "2023-06-29T12:10:19.339Z"
   },
   {
    "duration": 9,
    "start_time": "2023-06-29T12:10:19.346Z"
   },
   {
    "duration": 9,
    "start_time": "2023-06-29T12:10:19.356Z"
   },
   {
    "duration": 61,
    "start_time": "2023-06-29T12:10:19.367Z"
   },
   {
    "duration": 20,
    "start_time": "2023-06-29T12:10:19.430Z"
   },
   {
    "duration": 18,
    "start_time": "2023-06-29T12:10:19.452Z"
   },
   {
    "duration": 10,
    "start_time": "2023-06-29T12:10:19.473Z"
   },
   {
    "duration": 39,
    "start_time": "2023-06-29T12:10:19.485Z"
   },
   {
    "duration": 24,
    "start_time": "2023-06-29T12:10:19.526Z"
   },
   {
    "duration": 8,
    "start_time": "2023-06-29T12:10:19.552Z"
   },
   {
    "duration": 29,
    "start_time": "2023-06-29T12:10:19.561Z"
   },
   {
    "duration": 257,
    "start_time": "2023-06-29T12:10:19.592Z"
   },
   {
    "duration": 6,
    "start_time": "2023-06-29T12:10:19.850Z"
   },
   {
    "duration": 20,
    "start_time": "2023-06-29T12:10:19.868Z"
   },
   {
    "duration": 42,
    "start_time": "2023-06-29T12:10:19.892Z"
   },
   {
    "duration": 161,
    "start_time": "2023-06-29T12:10:19.936Z"
   },
   {
    "duration": 142,
    "start_time": "2023-06-29T12:10:20.100Z"
   },
   {
    "duration": 24,
    "start_time": "2023-06-29T12:10:20.244Z"
   },
   {
    "duration": 18,
    "start_time": "2023-06-29T12:10:20.270Z"
   },
   {
    "duration": 5,
    "start_time": "2023-06-29T12:10:20.292Z"
   },
   {
    "duration": 20,
    "start_time": "2023-06-29T12:10:20.299Z"
   },
   {
    "duration": 63,
    "start_time": "2023-06-29T12:10:20.321Z"
   },
   {
    "duration": 72,
    "start_time": "2023-06-29T12:10:20.386Z"
   },
   {
    "duration": 2712,
    "start_time": "2023-06-29T12:10:20.460Z"
   },
   {
    "duration": 4,
    "start_time": "2023-06-29T12:10:23.174Z"
   },
   {
    "duration": 12953,
    "start_time": "2023-06-29T12:10:23.180Z"
   },
   {
    "duration": 5,
    "start_time": "2023-06-29T12:10:36.135Z"
   },
   {
    "duration": 34,
    "start_time": "2023-06-29T12:10:36.142Z"
   },
   {
    "duration": 28,
    "start_time": "2023-06-29T12:10:36.178Z"
   },
   {
    "duration": 41,
    "start_time": "2023-06-29T12:10:36.209Z"
   },
   {
    "duration": 156,
    "start_time": "2023-06-29T12:10:36.253Z"
   },
   {
    "duration": 13,
    "start_time": "2023-06-29T12:10:36.411Z"
   },
   {
    "duration": 35,
    "start_time": "2023-06-29T12:10:36.426Z"
   },
   {
    "duration": 35,
    "start_time": "2023-06-29T12:10:36.468Z"
   },
   {
    "duration": 146,
    "start_time": "2023-06-29T12:10:36.506Z"
   },
   {
    "duration": 22,
    "start_time": "2023-06-29T12:10:36.654Z"
   },
   {
    "duration": 4,
    "start_time": "2023-06-29T12:10:36.678Z"
   },
   {
    "duration": 26,
    "start_time": "2023-06-29T12:10:36.684Z"
   },
   {
    "duration": 455,
    "start_time": "2023-06-29T12:10:36.714Z"
   },
   {
    "duration": 4,
    "start_time": "2023-06-29T12:10:43.535Z"
   },
   {
    "duration": 21,
    "start_time": "2023-06-29T12:13:23.859Z"
   },
   {
    "duration": 5,
    "start_time": "2023-06-29T12:13:42.023Z"
   },
   {
    "duration": 7,
    "start_time": "2023-06-29T12:13:42.030Z"
   },
   {
    "duration": 1788,
    "start_time": "2023-06-29T12:13:42.039Z"
   },
   {
    "duration": 47,
    "start_time": "2023-06-29T12:13:43.830Z"
   },
   {
    "duration": 21,
    "start_time": "2023-06-29T12:13:43.879Z"
   },
   {
    "duration": 26,
    "start_time": "2023-06-29T12:13:43.906Z"
   },
   {
    "duration": 8,
    "start_time": "2023-06-29T12:13:43.934Z"
   },
   {
    "duration": 10,
    "start_time": "2023-06-29T12:13:43.967Z"
   },
   {
    "duration": 26,
    "start_time": "2023-06-29T12:13:43.980Z"
   },
   {
    "duration": 8,
    "start_time": "2023-06-29T12:13:44.009Z"
   },
   {
    "duration": 8,
    "start_time": "2023-06-29T12:13:44.019Z"
   },
   {
    "duration": 295,
    "start_time": "2023-06-29T12:13:44.029Z"
   },
   {
    "duration": 9,
    "start_time": "2023-06-29T12:13:44.327Z"
   },
   {
    "duration": 36,
    "start_time": "2023-06-29T12:13:44.339Z"
   },
   {
    "duration": 47,
    "start_time": "2023-06-29T12:13:44.378Z"
   },
   {
    "duration": 173,
    "start_time": "2023-06-29T12:13:44.427Z"
   },
   {
    "duration": 142,
    "start_time": "2023-06-29T12:13:44.602Z"
   },
   {
    "duration": 27,
    "start_time": "2023-06-29T12:13:44.747Z"
   },
   {
    "duration": 16,
    "start_time": "2023-06-29T12:13:44.776Z"
   },
   {
    "duration": 17,
    "start_time": "2023-06-29T12:13:44.795Z"
   },
   {
    "duration": 43,
    "start_time": "2023-06-29T12:13:44.814Z"
   },
   {
    "duration": 90,
    "start_time": "2023-06-29T12:13:44.859Z"
   },
   {
    "duration": 23,
    "start_time": "2023-06-29T12:13:44.951Z"
   },
   {
    "duration": 2844,
    "start_time": "2023-06-29T12:13:44.979Z"
   },
   {
    "duration": 4,
    "start_time": "2023-06-29T12:13:47.825Z"
   },
   {
    "duration": 12227,
    "start_time": "2023-06-29T12:13:47.830Z"
   },
   {
    "duration": 6,
    "start_time": "2023-06-29T12:14:00.068Z"
   },
   {
    "duration": 33,
    "start_time": "2023-06-29T12:14:00.076Z"
   },
   {
    "duration": 58,
    "start_time": "2023-06-29T12:14:00.111Z"
   },
   {
    "duration": 33,
    "start_time": "2023-06-29T12:14:00.172Z"
   },
   {
    "duration": 190,
    "start_time": "2023-06-29T12:14:00.207Z"
   },
   {
    "duration": 14,
    "start_time": "2023-06-29T12:14:00.400Z"
   },
   {
    "duration": 62,
    "start_time": "2023-06-29T12:14:00.416Z"
   },
   {
    "duration": 33,
    "start_time": "2023-06-29T12:14:00.480Z"
   },
   {
    "duration": 186,
    "start_time": "2023-06-29T12:14:00.516Z"
   },
   {
    "duration": 20,
    "start_time": "2023-06-29T12:14:00.704Z"
   },
   {
    "duration": 20,
    "start_time": "2023-06-29T12:14:00.727Z"
   },
   {
    "duration": 84,
    "start_time": "2023-06-29T12:14:00.749Z"
   },
   {
    "duration": 405,
    "start_time": "2023-06-29T12:14:00.836Z"
   },
   {
    "duration": 4,
    "start_time": "2023-06-29T12:14:01.244Z"
   },
   {
    "duration": 61,
    "start_time": "2023-06-29T12:14:20.161Z"
   },
   {
    "duration": 3254,
    "start_time": "2023-06-29T12:15:13.881Z"
   },
   {
    "duration": 10,
    "start_time": "2023-06-29T12:25:31.167Z"
   },
   {
    "duration": 3,
    "start_time": "2023-06-29T12:25:33.798Z"
   },
   {
    "duration": 10,
    "start_time": "2023-06-29T12:25:36.918Z"
   },
   {
    "duration": 173,
    "start_time": "2023-06-29T12:25:49.238Z"
   },
   {
    "duration": 8,
    "start_time": "2023-06-29T12:26:07.100Z"
   },
   {
    "duration": 2854,
    "start_time": "2023-06-29T12:26:09.588Z"
   },
   {
    "duration": 8,
    "start_time": "2023-06-29T12:27:34.736Z"
   },
   {
    "duration": 895,
    "start_time": "2023-06-29T12:27:40.352Z"
   },
   {
    "duration": 4,
    "start_time": "2023-06-29T12:28:14.364Z"
   },
   {
    "duration": 7,
    "start_time": "2023-06-29T12:28:14.369Z"
   },
   {
    "duration": 1596,
    "start_time": "2023-06-29T12:28:14.377Z"
   },
   {
    "duration": 44,
    "start_time": "2023-06-29T12:28:15.975Z"
   },
   {
    "duration": 16,
    "start_time": "2023-06-29T12:28:16.022Z"
   },
   {
    "duration": 21,
    "start_time": "2023-06-29T12:28:16.040Z"
   },
   {
    "duration": 11,
    "start_time": "2023-06-29T12:28:16.066Z"
   },
   {
    "duration": 8,
    "start_time": "2023-06-29T12:28:16.078Z"
   },
   {
    "duration": 20,
    "start_time": "2023-06-29T12:28:16.089Z"
   },
   {
    "duration": 21,
    "start_time": "2023-06-29T12:28:16.111Z"
   },
   {
    "duration": 30,
    "start_time": "2023-06-29T12:28:16.134Z"
   },
   {
    "duration": 194,
    "start_time": "2023-06-29T12:28:16.165Z"
   },
   {
    "duration": 6,
    "start_time": "2023-06-29T12:28:16.368Z"
   },
   {
    "duration": 31,
    "start_time": "2023-06-29T12:28:16.375Z"
   },
   {
    "duration": 62,
    "start_time": "2023-06-29T12:28:16.408Z"
   },
   {
    "duration": 170,
    "start_time": "2023-06-29T12:28:16.472Z"
   },
   {
    "duration": 139,
    "start_time": "2023-06-29T12:28:16.644Z"
   },
   {
    "duration": 20,
    "start_time": "2023-06-29T12:28:16.785Z"
   },
   {
    "duration": 25,
    "start_time": "2023-06-29T12:28:16.807Z"
   },
   {
    "duration": 8,
    "start_time": "2023-06-29T12:28:16.834Z"
   },
   {
    "duration": 27,
    "start_time": "2023-06-29T12:28:16.843Z"
   },
   {
    "duration": 10,
    "start_time": "2023-06-29T12:28:16.872Z"
   },
   {
    "duration": 5,
    "start_time": "2023-06-29T12:28:16.884Z"
   },
   {
    "duration": 2594,
    "start_time": "2023-06-29T12:28:16.893Z"
   },
   {
    "duration": 3,
    "start_time": "2023-06-29T12:28:19.489Z"
   },
   {
    "duration": 11807,
    "start_time": "2023-06-29T12:28:19.493Z"
   },
   {
    "duration": 4,
    "start_time": "2023-06-29T12:28:31.302Z"
   },
   {
    "duration": 91,
    "start_time": "2023-06-29T12:28:31.308Z"
   },
   {
    "duration": 69,
    "start_time": "2023-06-29T12:28:31.401Z"
   },
   {
    "duration": 107,
    "start_time": "2023-06-29T12:28:31.472Z"
   },
   {
    "duration": 257,
    "start_time": "2023-06-29T12:28:31.581Z"
   },
   {
    "duration": 27,
    "start_time": "2023-06-29T12:28:31.840Z"
   },
   {
    "duration": 63,
    "start_time": "2023-06-29T12:28:31.869Z"
   },
   {
    "duration": 29,
    "start_time": "2023-06-29T12:28:31.933Z"
   },
   {
    "duration": 129,
    "start_time": "2023-06-29T12:28:31.965Z"
   },
   {
    "duration": 72,
    "start_time": "2023-06-29T12:28:32.096Z"
   },
   {
    "duration": 29,
    "start_time": "2023-06-29T12:28:32.171Z"
   },
   {
    "duration": 54,
    "start_time": "2023-06-29T12:28:32.203Z"
   },
   {
    "duration": 426,
    "start_time": "2023-06-29T12:28:32.259Z"
   },
   {
    "duration": 4,
    "start_time": "2023-06-29T12:28:32.687Z"
   },
   {
    "duration": 66,
    "start_time": "2023-06-29T12:28:32.693Z"
   },
   {
    "duration": 3064,
    "start_time": "2023-06-29T12:28:32.762Z"
   },
   {
    "duration": 7,
    "start_time": "2023-06-29T12:28:35.828Z"
   },
   {
    "duration": 7,
    "start_time": "2023-06-29T12:28:35.837Z"
   },
   {
    "duration": 23,
    "start_time": "2023-06-29T12:28:35.845Z"
   },
   {
    "duration": 851,
    "start_time": "2023-06-29T12:28:39.934Z"
   },
   {
    "duration": 9,
    "start_time": "2023-06-29T12:30:07.534Z"
   },
   {
    "duration": 147,
    "start_time": "2023-06-29T12:30:15.338Z"
   },
   {
    "duration": 16,
    "start_time": "2023-06-29T12:32:32.693Z"
   },
   {
    "duration": 3,
    "start_time": "2023-06-29T12:32:38.434Z"
   },
   {
    "duration": 7,
    "start_time": "2023-06-29T12:32:38.439Z"
   },
   {
    "duration": 14,
    "start_time": "2023-06-29T12:32:38.448Z"
   },
   {
    "duration": 43,
    "start_time": "2023-06-29T12:32:38.464Z"
   },
   {
    "duration": 14,
    "start_time": "2023-06-29T12:32:38.510Z"
   },
   {
    "duration": 16,
    "start_time": "2023-06-29T12:32:38.525Z"
   },
   {
    "duration": 9,
    "start_time": "2023-06-29T12:32:38.543Z"
   },
   {
    "duration": 16,
    "start_time": "2023-06-29T12:32:38.553Z"
   },
   {
    "duration": 18,
    "start_time": "2023-06-29T12:32:38.571Z"
   },
   {
    "duration": 6,
    "start_time": "2023-06-29T12:32:38.592Z"
   },
   {
    "duration": 18,
    "start_time": "2023-06-29T12:32:38.600Z"
   },
   {
    "duration": 198,
    "start_time": "2023-06-29T12:32:38.620Z"
   },
   {
    "duration": 5,
    "start_time": "2023-06-29T12:32:38.821Z"
   },
   {
    "duration": 46,
    "start_time": "2023-06-29T12:32:38.828Z"
   },
   {
    "duration": 48,
    "start_time": "2023-06-29T12:32:38.877Z"
   },
   {
    "duration": 156,
    "start_time": "2023-06-29T12:32:38.927Z"
   },
   {
    "duration": 135,
    "start_time": "2023-06-29T12:32:39.086Z"
   },
   {
    "duration": 18,
    "start_time": "2023-06-29T12:32:39.223Z"
   },
   {
    "duration": 28,
    "start_time": "2023-06-29T12:32:39.243Z"
   },
   {
    "duration": 7,
    "start_time": "2023-06-29T12:32:39.273Z"
   },
   {
    "duration": 18,
    "start_time": "2023-06-29T12:32:39.282Z"
   },
   {
    "duration": 10,
    "start_time": "2023-06-29T12:32:39.302Z"
   },
   {
    "duration": 12,
    "start_time": "2023-06-29T12:32:39.314Z"
   },
   {
    "duration": 2606,
    "start_time": "2023-06-29T12:32:39.328Z"
   },
   {
    "duration": 4,
    "start_time": "2023-06-29T12:32:41.938Z"
   },
   {
    "duration": 11925,
    "start_time": "2023-06-29T12:32:41.944Z"
   },
   {
    "duration": 5,
    "start_time": "2023-06-29T12:32:53.871Z"
   },
   {
    "duration": 5,
    "start_time": "2023-06-29T12:32:53.878Z"
   },
   {
    "duration": 4,
    "start_time": "2023-06-29T12:32:53.885Z"
   },
   {
    "duration": 14,
    "start_time": "2023-06-29T12:32:53.891Z"
   },
   {
    "duration": 148,
    "start_time": "2023-06-29T12:32:53.907Z"
   },
   {
    "duration": 20,
    "start_time": "2023-06-29T12:32:54.057Z"
   },
   {
    "duration": 31,
    "start_time": "2023-06-29T12:32:54.080Z"
   },
   {
    "duration": 3,
    "start_time": "2023-06-29T12:32:54.113Z"
   },
   {
    "duration": 155,
    "start_time": "2023-06-29T12:32:54.117Z"
   },
   {
    "duration": 17,
    "start_time": "2023-06-29T12:32:54.274Z"
   },
   {
    "duration": 4,
    "start_time": "2023-06-29T12:32:54.293Z"
   },
   {
    "duration": 28,
    "start_time": "2023-06-29T12:32:54.299Z"
   },
   {
    "duration": 341,
    "start_time": "2023-06-29T12:32:54.329Z"
   },
   {
    "duration": 4,
    "start_time": "2023-06-29T12:32:54.672Z"
   },
   {
    "duration": 43,
    "start_time": "2023-06-29T12:32:54.678Z"
   },
   {
    "duration": 3090,
    "start_time": "2023-06-29T12:32:54.723Z"
   },
   {
    "duration": 6,
    "start_time": "2023-06-29T12:32:57.816Z"
   },
   {
    "duration": 6,
    "start_time": "2023-06-29T12:32:57.824Z"
   },
   {
    "duration": 9,
    "start_time": "2023-06-29T12:32:57.832Z"
   },
   {
    "duration": 885,
    "start_time": "2023-06-29T12:32:57.867Z"
   },
   {
    "duration": 14,
    "start_time": "2023-06-29T12:32:58.754Z"
   },
   {
    "duration": 34,
    "start_time": "2023-06-29T12:33:06.407Z"
   },
   {
    "duration": 5,
    "start_time": "2023-06-29T12:34:52.605Z"
   },
   {
    "duration": 17,
    "start_time": "2023-06-29T12:34:52.612Z"
   },
   {
    "duration": 1737,
    "start_time": "2023-06-29T12:34:52.631Z"
   },
   {
    "duration": 44,
    "start_time": "2023-06-29T12:34:54.370Z"
   },
   {
    "duration": 16,
    "start_time": "2023-06-29T12:34:54.417Z"
   },
   {
    "duration": 39,
    "start_time": "2023-06-29T12:34:54.435Z"
   },
   {
    "duration": 18,
    "start_time": "2023-06-29T12:34:54.476Z"
   },
   {
    "duration": 13,
    "start_time": "2023-06-29T12:34:54.496Z"
   },
   {
    "duration": 24,
    "start_time": "2023-06-29T12:34:54.511Z"
   },
   {
    "duration": 11,
    "start_time": "2023-06-29T12:34:54.537Z"
   },
   {
    "duration": 34,
    "start_time": "2023-06-29T12:34:54.551Z"
   },
   {
    "duration": 185,
    "start_time": "2023-06-29T12:34:54.587Z"
   },
   {
    "duration": 6,
    "start_time": "2023-06-29T12:34:54.774Z"
   },
   {
    "duration": 21,
    "start_time": "2023-06-29T12:34:54.782Z"
   },
   {
    "duration": 65,
    "start_time": "2023-06-29T12:34:54.805Z"
   },
   {
    "duration": 155,
    "start_time": "2023-06-29T12:34:54.872Z"
   },
   {
    "duration": 146,
    "start_time": "2023-06-29T12:34:55.030Z"
   },
   {
    "duration": 15,
    "start_time": "2023-06-29T12:34:55.178Z"
   },
   {
    "duration": 21,
    "start_time": "2023-06-29T12:34:55.196Z"
   },
   {
    "duration": 10,
    "start_time": "2023-06-29T12:34:55.219Z"
   },
   {
    "duration": 7,
    "start_time": "2023-06-29T12:34:55.231Z"
   },
   {
    "duration": 30,
    "start_time": "2023-06-29T12:34:55.239Z"
   },
   {
    "duration": 15,
    "start_time": "2023-06-29T12:34:55.271Z"
   },
   {
    "duration": 2741,
    "start_time": "2023-06-29T12:34:55.288Z"
   },
   {
    "duration": 3,
    "start_time": "2023-06-29T12:34:58.032Z"
   },
   {
    "duration": 11913,
    "start_time": "2023-06-29T12:34:58.042Z"
   },
   {
    "duration": 10,
    "start_time": "2023-06-29T12:35:09.957Z"
   },
   {
    "duration": 18,
    "start_time": "2023-06-29T12:35:09.969Z"
   },
   {
    "duration": 24,
    "start_time": "2023-06-29T12:35:09.991Z"
   },
   {
    "duration": 32,
    "start_time": "2023-06-29T12:35:10.017Z"
   },
   {
    "duration": 143,
    "start_time": "2023-06-29T12:35:10.051Z"
   },
   {
    "duration": 11,
    "start_time": "2023-06-29T12:35:10.195Z"
   },
   {
    "duration": 20,
    "start_time": "2023-06-29T12:35:10.208Z"
   },
   {
    "duration": 2,
    "start_time": "2023-06-29T12:35:10.230Z"
   },
   {
    "duration": 129,
    "start_time": "2023-06-29T12:35:10.234Z"
   },
   {
    "duration": 18,
    "start_time": "2023-06-29T12:35:10.368Z"
   },
   {
    "duration": 4,
    "start_time": "2023-06-29T12:35:10.388Z"
   },
   {
    "duration": 30,
    "start_time": "2023-06-29T12:35:10.394Z"
   },
   {
    "duration": 349,
    "start_time": "2023-06-29T12:35:10.426Z"
   },
   {
    "duration": 3,
    "start_time": "2023-06-29T12:35:10.777Z"
   },
   {
    "duration": 85,
    "start_time": "2023-06-29T12:35:10.782Z"
   },
   {
    "duration": 3224,
    "start_time": "2023-06-29T12:35:10.870Z"
   },
   {
    "duration": 7,
    "start_time": "2023-06-29T12:35:14.096Z"
   },
   {
    "duration": 7,
    "start_time": "2023-06-29T12:35:14.105Z"
   },
   {
    "duration": 10,
    "start_time": "2023-06-29T12:35:14.114Z"
   },
   {
    "duration": 918,
    "start_time": "2023-06-29T12:35:14.127Z"
   },
   {
    "duration": 8,
    "start_time": "2023-06-29T12:35:15.047Z"
   },
   {
    "duration": 150,
    "start_time": "2023-06-29T12:35:24.621Z"
   },
   {
    "duration": 919,
    "start_time": "2023-06-29T12:37:13.136Z"
   },
   {
    "duration": 870,
    "start_time": "2023-06-29T12:37:42.867Z"
   },
   {
    "duration": 34,
    "start_time": "2023-06-29T12:37:50.310Z"
   },
   {
    "duration": 7,
    "start_time": "2023-06-29T12:38:04.429Z"
   },
   {
    "duration": 1210,
    "start_time": "2023-06-29T12:38:06.808Z"
   },
   {
    "duration": 10,
    "start_time": "2023-06-29T12:38:41.166Z"
   },
   {
    "duration": 8,
    "start_time": "2023-06-29T12:39:22.080Z"
   },
   {
    "duration": 5,
    "start_time": "2023-06-29T12:39:43.066Z"
   },
   {
    "duration": 18,
    "start_time": "2023-06-29T12:39:43.074Z"
   },
   {
    "duration": 1709,
    "start_time": "2023-06-29T12:39:43.096Z"
   },
   {
    "duration": 49,
    "start_time": "2023-06-29T12:39:44.808Z"
   },
   {
    "duration": 20,
    "start_time": "2023-06-29T12:39:44.859Z"
   },
   {
    "duration": 29,
    "start_time": "2023-06-29T12:39:44.882Z"
   },
   {
    "duration": 15,
    "start_time": "2023-06-29T12:39:44.914Z"
   },
   {
    "duration": 9,
    "start_time": "2023-06-29T12:39:44.932Z"
   },
   {
    "duration": 58,
    "start_time": "2023-06-29T12:39:44.943Z"
   },
   {
    "duration": 8,
    "start_time": "2023-06-29T12:39:45.005Z"
   },
   {
    "duration": 26,
    "start_time": "2023-06-29T12:39:45.016Z"
   },
   {
    "duration": 192,
    "start_time": "2023-06-29T12:39:45.045Z"
   },
   {
    "duration": 6,
    "start_time": "2023-06-29T12:39:45.239Z"
   },
   {
    "duration": 45,
    "start_time": "2023-06-29T12:39:45.247Z"
   },
   {
    "duration": 47,
    "start_time": "2023-06-29T12:39:45.294Z"
   },
   {
    "duration": 168,
    "start_time": "2023-06-29T12:39:45.344Z"
   },
   {
    "duration": 158,
    "start_time": "2023-06-29T12:39:45.514Z"
   },
   {
    "duration": 14,
    "start_time": "2023-06-29T12:39:45.674Z"
   },
   {
    "duration": 31,
    "start_time": "2023-06-29T12:39:45.690Z"
   },
   {
    "duration": 6,
    "start_time": "2023-06-29T12:39:45.724Z"
   },
   {
    "duration": 10,
    "start_time": "2023-06-29T12:39:45.732Z"
   },
   {
    "duration": 29,
    "start_time": "2023-06-29T12:39:45.744Z"
   },
   {
    "duration": 5,
    "start_time": "2023-06-29T12:39:45.776Z"
   },
   {
    "duration": 2784,
    "start_time": "2023-06-29T12:39:45.783Z"
   },
   {
    "duration": 3,
    "start_time": "2023-06-29T12:39:48.569Z"
   },
   {
    "duration": 12442,
    "start_time": "2023-06-29T12:39:48.574Z"
   },
   {
    "duration": 7,
    "start_time": "2023-06-29T12:40:01.019Z"
   },
   {
    "duration": 27,
    "start_time": "2023-06-29T12:40:01.031Z"
   },
   {
    "duration": 35,
    "start_time": "2023-06-29T12:40:01.060Z"
   },
   {
    "duration": 39,
    "start_time": "2023-06-29T12:40:01.099Z"
   },
   {
    "duration": 158,
    "start_time": "2023-06-29T12:40:01.142Z"
   },
   {
    "duration": 12,
    "start_time": "2023-06-29T12:40:01.303Z"
   },
   {
    "duration": 74,
    "start_time": "2023-06-29T12:40:01.317Z"
   },
   {
    "duration": 31,
    "start_time": "2023-06-29T12:40:01.393Z"
   },
   {
    "duration": 153,
    "start_time": "2023-06-29T12:40:01.427Z"
   },
   {
    "duration": 15,
    "start_time": "2023-06-29T12:40:01.582Z"
   },
   {
    "duration": 99,
    "start_time": "2023-06-29T12:40:01.599Z"
   },
   {
    "duration": 105,
    "start_time": "2023-06-29T12:40:01.700Z"
   },
   {
    "duration": 435,
    "start_time": "2023-06-29T12:40:01.807Z"
   },
   {
    "duration": 4,
    "start_time": "2023-06-29T12:40:02.245Z"
   },
   {
    "duration": 229,
    "start_time": "2023-06-29T12:40:02.251Z"
   },
   {
    "duration": 3443,
    "start_time": "2023-06-29T12:40:02.482Z"
   },
   {
    "duration": 6,
    "start_time": "2023-06-29T12:40:05.927Z"
   },
   {
    "duration": 31,
    "start_time": "2023-06-29T12:40:05.934Z"
   },
   {
    "duration": 7,
    "start_time": "2023-06-29T12:40:05.968Z"
   },
   {
    "duration": 1202,
    "start_time": "2023-06-29T12:40:05.977Z"
   },
   {
    "duration": 10,
    "start_time": "2023-06-29T12:40:07.181Z"
   },
   {
    "duration": 1247,
    "start_time": "2023-06-29T12:40:07.193Z"
   },
   {
    "duration": 12,
    "start_time": "2023-06-29T12:40:08.443Z"
   },
   {
    "duration": 1197,
    "start_time": "2023-06-29T12:40:17.274Z"
   },
   {
    "duration": 11,
    "start_time": "2023-06-29T12:40:44.340Z"
   },
   {
    "duration": 13,
    "start_time": "2023-06-29T12:40:54.636Z"
   },
   {
    "duration": 5,
    "start_time": "2023-06-29T12:41:33.113Z"
   },
   {
    "duration": 34,
    "start_time": "2023-06-29T12:41:33.121Z"
   },
   {
    "duration": 1881,
    "start_time": "2023-06-29T12:41:33.158Z"
   },
   {
    "duration": 52,
    "start_time": "2023-06-29T12:41:35.041Z"
   },
   {
    "duration": 18,
    "start_time": "2023-06-29T12:41:35.096Z"
   },
   {
    "duration": 20,
    "start_time": "2023-06-29T12:41:35.116Z"
   },
   {
    "duration": 30,
    "start_time": "2023-06-29T12:41:35.139Z"
   },
   {
    "duration": 6,
    "start_time": "2023-06-29T12:41:35.171Z"
   },
   {
    "duration": 22,
    "start_time": "2023-06-29T12:41:35.179Z"
   },
   {
    "duration": 7,
    "start_time": "2023-06-29T12:41:35.203Z"
   },
   {
    "duration": 7,
    "start_time": "2023-06-29T12:41:35.213Z"
   },
   {
    "duration": 264,
    "start_time": "2023-06-29T12:41:35.222Z"
   },
   {
    "duration": 6,
    "start_time": "2023-06-29T12:41:35.489Z"
   },
   {
    "duration": 48,
    "start_time": "2023-06-29T12:41:35.497Z"
   },
   {
    "duration": 65,
    "start_time": "2023-06-29T12:41:35.547Z"
   },
   {
    "duration": 184,
    "start_time": "2023-06-29T12:41:35.614Z"
   },
   {
    "duration": 143,
    "start_time": "2023-06-29T12:41:35.801Z"
   },
   {
    "duration": 22,
    "start_time": "2023-06-29T12:41:35.946Z"
   },
   {
    "duration": 27,
    "start_time": "2023-06-29T12:41:35.970Z"
   },
   {
    "duration": 25,
    "start_time": "2023-06-29T12:41:35.999Z"
   },
   {
    "duration": 28,
    "start_time": "2023-06-29T12:41:36.026Z"
   },
   {
    "duration": 32,
    "start_time": "2023-06-29T12:41:36.056Z"
   },
   {
    "duration": 25,
    "start_time": "2023-06-29T12:41:36.092Z"
   },
   {
    "duration": 2694,
    "start_time": "2023-06-29T12:41:36.120Z"
   },
   {
    "duration": 3,
    "start_time": "2023-06-29T12:41:38.816Z"
   },
   {
    "duration": 12542,
    "start_time": "2023-06-29T12:41:38.821Z"
   },
   {
    "duration": 6,
    "start_time": "2023-06-29T12:41:51.368Z"
   },
   {
    "duration": 24,
    "start_time": "2023-06-29T12:41:51.376Z"
   },
   {
    "duration": 13,
    "start_time": "2023-06-29T12:41:51.406Z"
   },
   {
    "duration": 19,
    "start_time": "2023-06-29T12:41:51.421Z"
   },
   {
    "duration": 132,
    "start_time": "2023-06-29T12:41:51.442Z"
   },
   {
    "duration": 15,
    "start_time": "2023-06-29T12:41:51.576Z"
   },
   {
    "duration": 46,
    "start_time": "2023-06-29T12:41:51.593Z"
   },
   {
    "duration": 3,
    "start_time": "2023-06-29T12:41:51.642Z"
   },
   {
    "duration": 152,
    "start_time": "2023-06-29T12:41:51.647Z"
   },
   {
    "duration": 18,
    "start_time": "2023-06-29T12:41:51.801Z"
   },
   {
    "duration": 21,
    "start_time": "2023-06-29T12:41:51.822Z"
   },
   {
    "duration": 45,
    "start_time": "2023-06-29T12:41:51.847Z"
   },
   {
    "duration": 363,
    "start_time": "2023-06-29T12:41:51.894Z"
   },
   {
    "duration": 3,
    "start_time": "2023-06-29T12:41:52.259Z"
   },
   {
    "duration": 61,
    "start_time": "2023-06-29T12:41:52.267Z"
   },
   {
    "duration": 3463,
    "start_time": "2023-06-29T12:41:52.330Z"
   },
   {
    "duration": 6,
    "start_time": "2023-06-29T12:41:55.795Z"
   },
   {
    "duration": 27,
    "start_time": "2023-06-29T12:41:55.803Z"
   },
   {
    "duration": 18,
    "start_time": "2023-06-29T12:41:55.832Z"
   },
   {
    "duration": 924,
    "start_time": "2023-06-29T12:41:55.852Z"
   },
   {
    "duration": 9,
    "start_time": "2023-06-29T12:41:56.778Z"
   },
   {
    "duration": 1328,
    "start_time": "2023-06-29T12:41:56.790Z"
   },
   {
    "duration": 13,
    "start_time": "2023-06-29T12:41:58.120Z"
   },
   {
    "duration": 1448,
    "start_time": "2023-06-29T12:41:58.136Z"
   },
   {
    "duration": 13,
    "start_time": "2023-06-29T12:42:03.958Z"
   },
   {
    "duration": 3,
    "start_time": "2023-06-29T12:43:10.101Z"
   },
   {
    "duration": 23,
    "start_time": "2023-06-29T12:43:10.106Z"
   },
   {
    "duration": 10,
    "start_time": "2023-06-29T12:43:10.132Z"
   },
   {
    "duration": 47,
    "start_time": "2023-06-29T12:43:10.145Z"
   },
   {
    "duration": 16,
    "start_time": "2023-06-29T12:43:10.194Z"
   },
   {
    "duration": 23,
    "start_time": "2023-06-29T12:43:10.213Z"
   },
   {
    "duration": 34,
    "start_time": "2023-06-29T12:43:10.238Z"
   },
   {
    "duration": 8,
    "start_time": "2023-06-29T12:43:10.277Z"
   },
   {
    "duration": 15,
    "start_time": "2023-06-29T12:43:10.288Z"
   },
   {
    "duration": 11,
    "start_time": "2023-06-29T12:43:10.305Z"
   },
   {
    "duration": 49,
    "start_time": "2023-06-29T12:43:10.318Z"
   },
   {
    "duration": 222,
    "start_time": "2023-06-29T12:43:10.372Z"
   },
   {
    "duration": 8,
    "start_time": "2023-06-29T12:43:10.596Z"
   },
   {
    "duration": 35,
    "start_time": "2023-06-29T12:43:10.607Z"
   },
   {
    "duration": 63,
    "start_time": "2023-06-29T12:43:10.644Z"
   },
   {
    "duration": 191,
    "start_time": "2023-06-29T12:43:10.709Z"
   },
   {
    "duration": 201,
    "start_time": "2023-06-29T12:43:10.903Z"
   },
   {
    "duration": 20,
    "start_time": "2023-06-29T12:43:11.107Z"
   },
   {
    "duration": 13,
    "start_time": "2023-06-29T12:43:11.129Z"
   },
   {
    "duration": 7,
    "start_time": "2023-06-29T12:43:11.166Z"
   },
   {
    "duration": 26,
    "start_time": "2023-06-29T12:43:11.176Z"
   },
   {
    "duration": 6,
    "start_time": "2023-06-29T12:43:11.205Z"
   },
   {
    "duration": 5,
    "start_time": "2023-06-29T12:43:11.213Z"
   },
   {
    "duration": 3081,
    "start_time": "2023-06-29T12:43:11.220Z"
   },
   {
    "duration": 5,
    "start_time": "2023-06-29T12:43:14.304Z"
   },
   {
    "duration": 13074,
    "start_time": "2023-06-29T12:43:14.311Z"
   },
   {
    "duration": 5,
    "start_time": "2023-06-29T12:43:27.388Z"
   },
   {
    "duration": 9,
    "start_time": "2023-06-29T12:43:27.395Z"
   },
   {
    "duration": 9,
    "start_time": "2023-06-29T12:43:27.406Z"
   },
   {
    "duration": 10,
    "start_time": "2023-06-29T12:43:27.421Z"
   },
   {
    "duration": 195,
    "start_time": "2023-06-29T12:43:27.434Z"
   },
   {
    "duration": 15,
    "start_time": "2023-06-29T12:43:27.632Z"
   },
   {
    "duration": 40,
    "start_time": "2023-06-29T12:43:27.649Z"
   },
   {
    "duration": 3,
    "start_time": "2023-06-29T12:43:27.691Z"
   },
   {
    "duration": 159,
    "start_time": "2023-06-29T12:43:27.696Z"
   },
   {
    "duration": 27,
    "start_time": "2023-06-29T12:43:27.858Z"
   },
   {
    "duration": 10,
    "start_time": "2023-06-29T12:43:27.891Z"
   },
   {
    "duration": 21,
    "start_time": "2023-06-29T12:43:27.903Z"
   },
   {
    "duration": 347,
    "start_time": "2023-06-29T12:43:27.926Z"
   },
   {
    "duration": 3,
    "start_time": "2023-06-29T12:43:28.276Z"
   },
   {
    "duration": 59,
    "start_time": "2023-06-29T12:43:28.281Z"
   },
   {
    "duration": 3163,
    "start_time": "2023-06-29T12:43:28.342Z"
   },
   {
    "duration": 7,
    "start_time": "2023-06-29T12:43:31.508Z"
   },
   {
    "duration": 70,
    "start_time": "2023-06-29T12:43:31.517Z"
   },
   {
    "duration": 62,
    "start_time": "2023-06-29T12:43:31.590Z"
   },
   {
    "duration": 1067,
    "start_time": "2023-06-29T12:43:31.654Z"
   },
   {
    "duration": 10,
    "start_time": "2023-06-29T12:43:32.723Z"
   },
   {
    "duration": 1275,
    "start_time": "2023-06-29T12:43:32.736Z"
   },
   {
    "duration": 10,
    "start_time": "2023-06-29T12:43:34.016Z"
   },
   {
    "duration": 1645,
    "start_time": "2023-06-29T12:43:34.028Z"
   },
   {
    "duration": 11,
    "start_time": "2023-06-29T12:43:45.782Z"
   },
   {
    "duration": 3,
    "start_time": "2023-06-29T12:47:18.107Z"
   },
   {
    "duration": 4074,
    "start_time": "2023-06-29T12:47:22.311Z"
   },
   {
    "duration": 13,
    "start_time": "2023-06-29T12:47:41.098Z"
   },
   {
    "duration": 130,
    "start_time": "2023-06-29T12:51:08.256Z"
   },
   {
    "duration": 3,
    "start_time": "2023-06-29T12:51:16.615Z"
   },
   {
    "duration": 6,
    "start_time": "2023-06-29T12:51:17.931Z"
   },
   {
    "duration": 14,
    "start_time": "2023-06-29T12:51:19.928Z"
   },
   {
    "duration": 15,
    "start_time": "2023-06-29T12:51:34.444Z"
   },
   {
    "duration": 17,
    "start_time": "2023-06-29T12:51:42.752Z"
   },
   {
    "duration": 22,
    "start_time": "2023-06-29T12:51:50.425Z"
   },
   {
    "duration": 16,
    "start_time": "2023-06-29T12:51:54.874Z"
   },
   {
    "duration": 16,
    "start_time": "2023-06-29T12:52:05.228Z"
   },
   {
    "duration": 57,
    "start_time": "2023-06-29T12:52:22.206Z"
   },
   {
    "duration": 4,
    "start_time": "2023-06-29T12:52:31.533Z"
   },
   {
    "duration": 91,
    "start_time": "2023-06-29T12:52:31.549Z"
   },
   {
    "duration": 2219,
    "start_time": "2023-06-29T12:52:31.643Z"
   },
   {
    "duration": 56,
    "start_time": "2023-06-29T12:52:33.864Z"
   },
   {
    "duration": 21,
    "start_time": "2023-06-29T12:52:33.925Z"
   },
   {
    "duration": 41,
    "start_time": "2023-06-29T12:52:33.950Z"
   },
   {
    "duration": 8,
    "start_time": "2023-06-29T12:52:33.994Z"
   },
   {
    "duration": 19,
    "start_time": "2023-06-29T12:52:34.005Z"
   },
   {
    "duration": 43,
    "start_time": "2023-06-29T12:52:34.027Z"
   },
   {
    "duration": 8,
    "start_time": "2023-06-29T12:52:34.072Z"
   },
   {
    "duration": 20,
    "start_time": "2023-06-29T12:52:34.082Z"
   },
   {
    "duration": 267,
    "start_time": "2023-06-29T12:52:34.105Z"
   },
   {
    "duration": 7,
    "start_time": "2023-06-29T12:52:34.374Z"
   },
   {
    "duration": 37,
    "start_time": "2023-06-29T12:52:34.384Z"
   },
   {
    "duration": 76,
    "start_time": "2023-06-29T12:52:34.426Z"
   },
   {
    "duration": 200,
    "start_time": "2023-06-29T12:52:34.504Z"
   },
   {
    "duration": 194,
    "start_time": "2023-06-29T12:52:34.707Z"
   },
   {
    "duration": 21,
    "start_time": "2023-06-29T12:52:34.904Z"
   },
   {
    "duration": 17,
    "start_time": "2023-06-29T12:52:34.927Z"
   },
   {
    "duration": 8,
    "start_time": "2023-06-29T12:52:34.968Z"
   },
   {
    "duration": 30,
    "start_time": "2023-06-29T12:52:34.978Z"
   },
   {
    "duration": 35,
    "start_time": "2023-06-29T12:52:35.012Z"
   },
   {
    "duration": 10,
    "start_time": "2023-06-29T12:52:35.050Z"
   },
   {
    "duration": 3255,
    "start_time": "2023-06-29T12:52:35.063Z"
   },
   {
    "duration": 3,
    "start_time": "2023-06-29T12:52:38.321Z"
   },
   {
    "duration": 14107,
    "start_time": "2023-06-29T12:52:38.326Z"
   },
   {
    "duration": 7,
    "start_time": "2023-06-29T12:52:52.434Z"
   },
   {
    "duration": 25,
    "start_time": "2023-06-29T12:52:52.443Z"
   },
   {
    "duration": 12,
    "start_time": "2023-06-29T12:52:52.470Z"
   },
   {
    "duration": 14,
    "start_time": "2023-06-29T12:52:52.485Z"
   },
   {
    "duration": 177,
    "start_time": "2023-06-29T12:52:52.502Z"
   },
   {
    "duration": 13,
    "start_time": "2023-06-29T12:52:52.681Z"
   },
   {
    "duration": 42,
    "start_time": "2023-06-29T12:52:52.696Z"
   },
   {
    "duration": 3,
    "start_time": "2023-06-29T12:52:52.740Z"
   },
   {
    "duration": 146,
    "start_time": "2023-06-29T12:52:52.745Z"
   },
   {
    "duration": 23,
    "start_time": "2023-06-29T12:52:52.894Z"
   },
   {
    "duration": 4,
    "start_time": "2023-06-29T12:52:52.919Z"
   },
   {
    "duration": 10,
    "start_time": "2023-06-29T12:52:52.925Z"
   },
   {
    "duration": 425,
    "start_time": "2023-06-29T12:52:52.937Z"
   },
   {
    "duration": 4,
    "start_time": "2023-06-29T12:52:53.367Z"
   },
   {
    "duration": 63,
    "start_time": "2023-06-29T12:52:53.373Z"
   },
   {
    "duration": 3719,
    "start_time": "2023-06-29T12:52:53.441Z"
   },
   {
    "duration": 8,
    "start_time": "2023-06-29T12:52:57.168Z"
   },
   {
    "duration": 10,
    "start_time": "2023-06-29T12:52:57.177Z"
   },
   {
    "duration": 9,
    "start_time": "2023-06-29T12:52:57.190Z"
   },
   {
    "duration": 927,
    "start_time": "2023-06-29T12:52:57.201Z"
   },
   {
    "duration": 8,
    "start_time": "2023-06-29T12:52:58.130Z"
   },
   {
    "duration": 1441,
    "start_time": "2023-06-29T12:52:58.140Z"
   },
   {
    "duration": 10,
    "start_time": "2023-06-29T12:52:59.584Z"
   },
   {
    "duration": 1183,
    "start_time": "2023-06-29T12:52:59.596Z"
   },
   {
    "duration": 97,
    "start_time": "2023-06-29T12:53:00.781Z"
   },
   {
    "duration": 88,
    "start_time": "2023-06-29T12:53:00.881Z"
   },
   {
    "duration": 3509,
    "start_time": "2023-06-29T12:53:00.973Z"
   },
   {
    "duration": 11,
    "start_time": "2023-06-29T12:53:04.568Z"
   },
   {
    "duration": 88,
    "start_time": "2023-06-29T12:53:04.581Z"
   },
   {
    "duration": 12,
    "start_time": "2023-06-29T12:53:04.671Z"
   },
   {
    "duration": 19,
    "start_time": "2023-06-29T12:53:10.811Z"
   },
   {
    "duration": 15,
    "start_time": "2023-06-29T12:53:40.548Z"
   },
   {
    "duration": 3,
    "start_time": "2023-06-29T12:54:13.247Z"
   },
   {
    "duration": 31,
    "start_time": "2023-06-29T12:54:13.253Z"
   },
   {
    "duration": 28,
    "start_time": "2023-06-29T12:54:13.286Z"
   },
   {
    "duration": 54,
    "start_time": "2023-06-29T12:54:13.316Z"
   },
   {
    "duration": 18,
    "start_time": "2023-06-29T12:54:13.373Z"
   },
   {
    "duration": 24,
    "start_time": "2023-06-29T12:54:13.394Z"
   },
   {
    "duration": 16,
    "start_time": "2023-06-29T12:54:13.421Z"
   },
   {
    "duration": 36,
    "start_time": "2023-06-29T12:54:13.439Z"
   },
   {
    "duration": 22,
    "start_time": "2023-06-29T12:54:13.477Z"
   },
   {
    "duration": 8,
    "start_time": "2023-06-29T12:54:13.502Z"
   },
   {
    "duration": 21,
    "start_time": "2023-06-29T12:54:13.514Z"
   },
   {
    "duration": 274,
    "start_time": "2023-06-29T12:54:13.537Z"
   },
   {
    "duration": 9,
    "start_time": "2023-06-29T12:54:13.813Z"
   },
   {
    "duration": 47,
    "start_time": "2023-06-29T12:54:13.825Z"
   },
   {
    "duration": 57,
    "start_time": "2023-06-29T12:54:13.875Z"
   },
   {
    "duration": 205,
    "start_time": "2023-06-29T12:54:13.934Z"
   },
   {
    "duration": 185,
    "start_time": "2023-06-29T12:54:14.141Z"
   },
   {
    "duration": 21,
    "start_time": "2023-06-29T12:54:14.329Z"
   },
   {
    "duration": 31,
    "start_time": "2023-06-29T12:54:14.367Z"
   },
   {
    "duration": 21,
    "start_time": "2023-06-29T12:54:14.400Z"
   },
   {
    "duration": 10,
    "start_time": "2023-06-29T12:54:14.423Z"
   },
   {
    "duration": 9,
    "start_time": "2023-06-29T12:54:14.435Z"
   },
   {
    "duration": 6,
    "start_time": "2023-06-29T12:54:14.447Z"
   },
   {
    "duration": 2901,
    "start_time": "2023-06-29T12:54:14.455Z"
   },
   {
    "duration": 9,
    "start_time": "2023-06-29T12:54:17.358Z"
   },
   {
    "duration": 12766,
    "start_time": "2023-06-29T12:54:17.370Z"
   },
   {
    "duration": 7,
    "start_time": "2023-06-29T12:54:30.138Z"
   },
   {
    "duration": 33,
    "start_time": "2023-06-29T12:54:30.149Z"
   },
   {
    "duration": 26,
    "start_time": "2023-06-29T12:54:30.188Z"
   },
   {
    "duration": 10,
    "start_time": "2023-06-29T12:54:30.216Z"
   },
   {
    "duration": 123,
    "start_time": "2023-06-29T12:54:30.228Z"
   },
   {
    "duration": 22,
    "start_time": "2023-06-29T12:54:30.354Z"
   },
   {
    "duration": 34,
    "start_time": "2023-06-29T12:54:30.378Z"
   },
   {
    "duration": 3,
    "start_time": "2023-06-29T12:54:30.415Z"
   },
   {
    "duration": 129,
    "start_time": "2023-06-29T12:54:30.421Z"
   },
   {
    "duration": 24,
    "start_time": "2023-06-29T12:54:30.552Z"
   },
   {
    "duration": 16,
    "start_time": "2023-06-29T12:54:30.578Z"
   },
   {
    "duration": 33,
    "start_time": "2023-06-29T12:54:30.596Z"
   },
   {
    "duration": 377,
    "start_time": "2023-06-29T12:54:30.631Z"
   },
   {
    "duration": 3,
    "start_time": "2023-06-29T12:54:31.011Z"
   },
   {
    "duration": 82,
    "start_time": "2023-06-29T12:54:31.016Z"
   },
   {
    "duration": 3401,
    "start_time": "2023-06-29T12:54:31.101Z"
   },
   {
    "duration": 8,
    "start_time": "2023-06-29T12:54:34.504Z"
   },
   {
    "duration": 11,
    "start_time": "2023-06-29T12:54:34.514Z"
   },
   {
    "duration": 12,
    "start_time": "2023-06-29T12:54:34.528Z"
   },
   {
    "duration": 972,
    "start_time": "2023-06-29T12:54:34.543Z"
   },
   {
    "duration": 11,
    "start_time": "2023-06-29T12:54:35.518Z"
   },
   {
    "duration": 1297,
    "start_time": "2023-06-29T12:54:35.531Z"
   },
   {
    "duration": 8,
    "start_time": "2023-06-29T12:54:36.830Z"
   },
   {
    "duration": 1541,
    "start_time": "2023-06-29T12:54:36.841Z"
   },
   {
    "duration": 91,
    "start_time": "2023-06-29T12:54:38.385Z"
   },
   {
    "duration": 3,
    "start_time": "2023-06-29T12:54:38.479Z"
   },
   {
    "duration": 3884,
    "start_time": "2023-06-29T12:54:38.485Z"
   },
   {
    "duration": 13,
    "start_time": "2023-06-29T12:54:42.372Z"
   },
   {
    "duration": 3,
    "start_time": "2023-06-29T12:54:42.466Z"
   },
   {
    "duration": 9,
    "start_time": "2023-06-29T12:54:42.472Z"
   },
   {
    "duration": 18,
    "start_time": "2023-06-29T12:59:33.269Z"
   },
   {
    "duration": 16,
    "start_time": "2023-06-29T12:59:48.103Z"
   },
   {
    "duration": 147,
    "start_time": "2023-06-29T13:00:16.142Z"
   },
   {
    "duration": 18,
    "start_time": "2023-06-29T13:00:48.756Z"
   },
   {
    "duration": 2194,
    "start_time": "2023-06-29T13:01:49.157Z"
   },
   {
    "duration": 5297,
    "start_time": "2023-06-29T13:02:32.870Z"
   },
   {
    "duration": 11,
    "start_time": "2023-06-29T13:04:23.439Z"
   },
   {
    "duration": 19,
    "start_time": "2023-06-29T13:07:44.000Z"
   },
   {
    "duration": 6,
    "start_time": "2023-06-29T13:07:51.057Z"
   },
   {
    "duration": 3085,
    "start_time": "2023-06-29T13:07:52.993Z"
   },
   {
    "duration": 3172,
    "start_time": "2023-06-29T13:08:12.898Z"
   },
   {
    "duration": 3971,
    "start_time": "2023-06-29T13:08:33.913Z"
   },
   {
    "duration": 2856,
    "start_time": "2023-06-29T13:08:42.419Z"
   },
   {
    "duration": 3107,
    "start_time": "2023-06-29T13:08:49.960Z"
   },
   {
    "duration": 3025,
    "start_time": "2023-06-29T13:08:55.546Z"
   },
   {
    "duration": 10,
    "start_time": "2023-06-29T13:09:20.379Z"
   },
   {
    "duration": 4,
    "start_time": "2023-06-29T13:09:40.216Z"
   },
   {
    "duration": 3,
    "start_time": "2023-06-29T13:09:49.464Z"
   },
   {
    "duration": 11,
    "start_time": "2023-06-29T13:09:49.469Z"
   },
   {
    "duration": 16,
    "start_time": "2023-06-29T13:09:49.483Z"
   },
   {
    "duration": 55,
    "start_time": "2023-06-29T13:09:49.502Z"
   },
   {
    "duration": 18,
    "start_time": "2023-06-29T13:09:49.560Z"
   },
   {
    "duration": 19,
    "start_time": "2023-06-29T13:09:49.580Z"
   },
   {
    "duration": 11,
    "start_time": "2023-06-29T13:09:49.603Z"
   },
   {
    "duration": 22,
    "start_time": "2023-06-29T13:09:49.617Z"
   },
   {
    "duration": 14,
    "start_time": "2023-06-29T13:09:49.669Z"
   },
   {
    "duration": 7,
    "start_time": "2023-06-29T13:09:49.685Z"
   },
   {
    "duration": 16,
    "start_time": "2023-06-29T13:09:49.694Z"
   },
   {
    "duration": 251,
    "start_time": "2023-06-29T13:09:49.712Z"
   },
   {
    "duration": 6,
    "start_time": "2023-06-29T13:09:49.965Z"
   },
   {
    "duration": 184,
    "start_time": "2023-06-29T13:09:49.973Z"
   },
   {
    "duration": 72,
    "start_time": "2023-06-29T13:09:50.159Z"
   },
   {
    "duration": 196,
    "start_time": "2023-06-29T13:09:50.234Z"
   },
   {
    "duration": 188,
    "start_time": "2023-06-29T13:09:50.432Z"
   },
   {
    "duration": 18,
    "start_time": "2023-06-29T13:09:50.623Z"
   },
   {
    "duration": 31,
    "start_time": "2023-06-29T13:09:50.644Z"
   },
   {
    "duration": 8,
    "start_time": "2023-06-29T13:09:50.677Z"
   },
   {
    "duration": 15,
    "start_time": "2023-06-29T13:09:50.690Z"
   },
   {
    "duration": 18,
    "start_time": "2023-06-29T13:09:50.707Z"
   },
   {
    "duration": 4,
    "start_time": "2023-06-29T13:09:50.728Z"
   },
   {
    "duration": 3454,
    "start_time": "2023-06-29T13:09:50.734Z"
   },
   {
    "duration": 3,
    "start_time": "2023-06-29T13:09:54.191Z"
   },
   {
    "duration": 14041,
    "start_time": "2023-06-29T13:09:54.196Z"
   },
   {
    "duration": 6,
    "start_time": "2023-06-29T13:10:08.240Z"
   },
   {
    "duration": 21,
    "start_time": "2023-06-29T13:10:08.249Z"
   },
   {
    "duration": 13,
    "start_time": "2023-06-29T13:10:08.273Z"
   },
   {
    "duration": 29,
    "start_time": "2023-06-29T13:10:08.288Z"
   },
   {
    "duration": 117,
    "start_time": "2023-06-29T13:10:08.319Z"
   },
   {
    "duration": 16,
    "start_time": "2023-06-29T13:10:08.439Z"
   },
   {
    "duration": 37,
    "start_time": "2023-06-29T13:10:08.466Z"
   },
   {
    "duration": 4,
    "start_time": "2023-06-29T13:10:08.505Z"
   },
   {
    "duration": 167,
    "start_time": "2023-06-29T13:10:08.511Z"
   },
   {
    "duration": 19,
    "start_time": "2023-06-29T13:10:08.680Z"
   },
   {
    "duration": 5,
    "start_time": "2023-06-29T13:10:08.701Z"
   },
   {
    "duration": 6,
    "start_time": "2023-06-29T13:10:08.708Z"
   },
   {
    "duration": 438,
    "start_time": "2023-06-29T13:10:08.717Z"
   },
   {
    "duration": 10,
    "start_time": "2023-06-29T13:10:09.157Z"
   },
   {
    "duration": 71,
    "start_time": "2023-06-29T13:10:09.170Z"
   },
   {
    "duration": 3295,
    "start_time": "2023-06-29T13:10:09.243Z"
   },
   {
    "duration": 6,
    "start_time": "2023-06-29T13:10:12.540Z"
   },
   {
    "duration": 27,
    "start_time": "2023-06-29T13:10:12.548Z"
   },
   {
    "duration": 20,
    "start_time": "2023-06-29T13:10:12.578Z"
   },
   {
    "duration": 968,
    "start_time": "2023-06-29T13:10:12.600Z"
   },
   {
    "duration": 8,
    "start_time": "2023-06-29T13:10:13.571Z"
   },
   {
    "duration": 1376,
    "start_time": "2023-06-29T13:10:13.581Z"
   },
   {
    "duration": 18,
    "start_time": "2023-06-29T13:10:14.959Z"
   },
   {
    "duration": 1389,
    "start_time": "2023-06-29T13:10:14.979Z"
   },
   {
    "duration": 13,
    "start_time": "2023-06-29T13:10:16.370Z"
   },
   {
    "duration": 4,
    "start_time": "2023-06-29T13:10:16.466Z"
   },
   {
    "duration": 4596,
    "start_time": "2023-06-29T13:10:16.472Z"
   },
   {
    "duration": 96,
    "start_time": "2023-06-29T13:10:21.070Z"
   },
   {
    "duration": 7,
    "start_time": "2023-06-29T13:10:21.170Z"
   },
   {
    "duration": 11,
    "start_time": "2023-06-29T13:10:21.179Z"
   },
   {
    "duration": 4183,
    "start_time": "2023-06-29T13:10:21.195Z"
   },
   {
    "duration": 100,
    "start_time": "2023-06-29T13:10:25.380Z"
   },
   {
    "duration": 88,
    "start_time": "2023-06-29T13:10:25.482Z"
   },
   {
    "duration": 6,
    "start_time": "2023-06-29T13:10:25.572Z"
   },
   {
    "duration": 2993,
    "start_time": "2023-06-29T13:10:25.580Z"
   },
   {
    "duration": 94,
    "start_time": "2023-06-29T13:10:28.577Z"
   },
   {
    "duration": 3,
    "start_time": "2023-06-29T13:25:24.600Z"
   },
   {
    "duration": 4,
    "start_time": "2023-06-29T13:25:39.520Z"
   },
   {
    "duration": 9,
    "start_time": "2023-06-29T13:25:45.130Z"
   },
   {
    "duration": 5,
    "start_time": "2023-06-29T13:27:14.864Z"
   },
   {
    "duration": 5,
    "start_time": "2023-06-29T13:35:35.634Z"
   },
   {
    "duration": 8,
    "start_time": "2023-06-29T13:35:35.644Z"
   },
   {
    "duration": 2088,
    "start_time": "2023-06-29T13:35:35.655Z"
   },
   {
    "duration": 51,
    "start_time": "2023-06-29T13:35:37.746Z"
   },
   {
    "duration": 20,
    "start_time": "2023-06-29T13:35:37.801Z"
   },
   {
    "duration": 33,
    "start_time": "2023-06-29T13:35:37.822Z"
   },
   {
    "duration": 9,
    "start_time": "2023-06-29T13:35:37.868Z"
   },
   {
    "duration": 6,
    "start_time": "2023-06-29T13:35:37.880Z"
   },
   {
    "duration": 20,
    "start_time": "2023-06-29T13:35:37.888Z"
   },
   {
    "duration": 8,
    "start_time": "2023-06-29T13:35:37.910Z"
   },
   {
    "duration": 7,
    "start_time": "2023-06-29T13:35:37.921Z"
   },
   {
    "duration": 290,
    "start_time": "2023-06-29T13:35:37.967Z"
   },
   {
    "duration": 11,
    "start_time": "2023-06-29T13:35:38.260Z"
   },
   {
    "duration": 49,
    "start_time": "2023-06-29T13:35:38.275Z"
   },
   {
    "duration": 77,
    "start_time": "2023-06-29T13:35:38.326Z"
   },
   {
    "duration": 179,
    "start_time": "2023-06-29T13:35:38.406Z"
   },
   {
    "duration": 183,
    "start_time": "2023-06-29T13:35:38.587Z"
   },
   {
    "duration": 20,
    "start_time": "2023-06-29T13:35:38.772Z"
   },
   {
    "duration": 52,
    "start_time": "2023-06-29T13:35:38.794Z"
   },
   {
    "duration": 19,
    "start_time": "2023-06-29T13:35:38.848Z"
   },
   {
    "duration": 14,
    "start_time": "2023-06-29T13:35:38.868Z"
   },
   {
    "duration": 19,
    "start_time": "2023-06-29T13:35:38.884Z"
   },
   {
    "duration": 47,
    "start_time": "2023-06-29T13:35:38.905Z"
   },
   {
    "duration": 3169,
    "start_time": "2023-06-29T13:35:38.955Z"
   },
   {
    "duration": 5,
    "start_time": "2023-06-29T13:35:42.127Z"
   },
   {
    "duration": 13166,
    "start_time": "2023-06-29T13:35:42.134Z"
   },
   {
    "duration": 6,
    "start_time": "2023-06-29T13:35:55.302Z"
   },
   {
    "duration": 17,
    "start_time": "2023-06-29T13:35:55.310Z"
   },
   {
    "duration": 26,
    "start_time": "2023-06-29T13:35:55.333Z"
   },
   {
    "duration": 37,
    "start_time": "2023-06-29T13:35:55.362Z"
   },
   {
    "duration": 169,
    "start_time": "2023-06-29T13:35:55.402Z"
   },
   {
    "duration": 14,
    "start_time": "2023-06-29T13:35:55.574Z"
   },
   {
    "duration": 28,
    "start_time": "2023-06-29T13:35:55.590Z"
   },
   {
    "duration": 4,
    "start_time": "2023-06-29T13:35:55.620Z"
   },
   {
    "duration": 192,
    "start_time": "2023-06-29T13:35:55.627Z"
   },
   {
    "duration": 32,
    "start_time": "2023-06-29T13:35:55.821Z"
   },
   {
    "duration": 12,
    "start_time": "2023-06-29T13:35:55.857Z"
   },
   {
    "duration": 11,
    "start_time": "2023-06-29T13:35:55.872Z"
   },
   {
    "duration": 495,
    "start_time": "2023-06-29T13:35:55.885Z"
   },
   {
    "duration": 5,
    "start_time": "2023-06-29T13:35:56.382Z"
   },
   {
    "duration": 74,
    "start_time": "2023-06-29T13:35:56.398Z"
   },
   {
    "duration": 4016,
    "start_time": "2023-06-29T13:35:56.475Z"
   },
   {
    "duration": 6,
    "start_time": "2023-06-29T13:36:00.494Z"
   },
   {
    "duration": 68,
    "start_time": "2023-06-29T13:36:00.502Z"
   },
   {
    "duration": 46,
    "start_time": "2023-06-29T13:36:00.573Z"
   },
   {
    "duration": 1335,
    "start_time": "2023-06-29T13:36:00.622Z"
   },
   {
    "duration": 11,
    "start_time": "2023-06-29T13:36:01.966Z"
   },
   {
    "duration": 1764,
    "start_time": "2023-06-29T13:36:01.979Z"
   },
   {
    "duration": 12,
    "start_time": "2023-06-29T13:36:03.745Z"
   },
   {
    "duration": 2315,
    "start_time": "2023-06-29T13:36:03.758Z"
   },
   {
    "duration": 92,
    "start_time": "2023-06-29T13:36:06.078Z"
   },
   {
    "duration": 4,
    "start_time": "2023-06-29T13:36:06.172Z"
   },
   {
    "duration": 4612,
    "start_time": "2023-06-29T13:36:06.178Z"
   },
   {
    "duration": 82,
    "start_time": "2023-06-29T13:36:10.791Z"
   },
   {
    "duration": 6,
    "start_time": "2023-06-29T13:36:10.877Z"
   },
   {
    "duration": 7,
    "start_time": "2023-06-29T13:36:10.887Z"
   },
   {
    "duration": 4685,
    "start_time": "2023-06-29T13:36:10.896Z"
   },
   {
    "duration": 85,
    "start_time": "2023-06-29T13:36:15.584Z"
   },
   {
    "duration": 18,
    "start_time": "2023-06-29T13:36:15.672Z"
   },
   {
    "duration": 83,
    "start_time": "2023-06-29T13:36:15.692Z"
   },
   {
    "duration": 3699,
    "start_time": "2023-06-29T13:36:15.777Z"
   },
   {
    "duration": 94,
    "start_time": "2023-06-29T13:36:19.482Z"
   },
   {
    "duration": 85,
    "start_time": "2023-06-29T13:36:19.582Z"
   },
   {
    "duration": 4,
    "start_time": "2023-06-29T16:17:17.150Z"
   },
   {
    "duration": 3,
    "start_time": "2023-06-29T16:17:17.162Z"
   },
   {
    "duration": 1676,
    "start_time": "2023-06-29T16:17:17.167Z"
   },
   {
    "duration": 48,
    "start_time": "2023-06-29T16:17:18.845Z"
   },
   {
    "duration": 20,
    "start_time": "2023-06-29T16:17:18.896Z"
   },
   {
    "duration": 23,
    "start_time": "2023-06-29T16:17:18.920Z"
   },
   {
    "duration": 31,
    "start_time": "2023-06-29T16:17:18.945Z"
   },
   {
    "duration": 9,
    "start_time": "2023-06-29T16:17:18.978Z"
   },
   {
    "duration": 26,
    "start_time": "2023-06-29T16:17:18.989Z"
   },
   {
    "duration": 6,
    "start_time": "2023-06-29T16:17:19.017Z"
   },
   {
    "duration": 13,
    "start_time": "2023-06-29T16:17:19.025Z"
   },
   {
    "duration": 190,
    "start_time": "2023-06-29T16:17:19.040Z"
   },
   {
    "duration": 5,
    "start_time": "2023-06-29T16:17:19.232Z"
   },
   {
    "duration": 37,
    "start_time": "2023-06-29T16:17:19.239Z"
   },
   {
    "duration": 42,
    "start_time": "2023-06-29T16:17:19.280Z"
   },
   {
    "duration": 145,
    "start_time": "2023-06-29T16:17:19.324Z"
   },
   {
    "duration": 137,
    "start_time": "2023-06-29T16:17:19.470Z"
   },
   {
    "duration": 14,
    "start_time": "2023-06-29T16:17:19.608Z"
   },
   {
    "duration": 10,
    "start_time": "2023-06-29T16:17:19.623Z"
   },
   {
    "duration": 5,
    "start_time": "2023-06-29T16:17:19.635Z"
   },
   {
    "duration": 28,
    "start_time": "2023-06-29T16:17:19.641Z"
   },
   {
    "duration": 4,
    "start_time": "2023-06-29T16:17:19.671Z"
   },
   {
    "duration": 5,
    "start_time": "2023-06-29T16:17:19.677Z"
   },
   {
    "duration": 2595,
    "start_time": "2023-06-29T16:17:19.684Z"
   },
   {
    "duration": 3,
    "start_time": "2023-06-29T16:17:22.281Z"
   },
   {
    "duration": 11365,
    "start_time": "2023-06-29T16:17:22.286Z"
   },
   {
    "duration": 13,
    "start_time": "2023-06-29T16:17:33.654Z"
   },
   {
    "duration": 5,
    "start_time": "2023-06-29T16:17:33.669Z"
   },
   {
    "duration": 6,
    "start_time": "2023-06-29T16:17:33.676Z"
   },
   {
    "duration": 16,
    "start_time": "2023-06-29T16:17:33.683Z"
   },
   {
    "duration": 113,
    "start_time": "2023-06-29T16:17:33.701Z"
   },
   {
    "duration": 11,
    "start_time": "2023-06-29T16:17:33.816Z"
   },
   {
    "duration": 39,
    "start_time": "2023-06-29T16:17:33.829Z"
   },
   {
    "duration": 3,
    "start_time": "2023-06-29T16:17:33.870Z"
   },
   {
    "duration": 143,
    "start_time": "2023-06-29T16:17:33.875Z"
   },
   {
    "duration": 19,
    "start_time": "2023-06-29T16:17:34.020Z"
   },
   {
    "duration": 4,
    "start_time": "2023-06-29T16:17:34.041Z"
   },
   {
    "duration": 22,
    "start_time": "2023-06-29T16:17:34.047Z"
   },
   {
    "duration": 354,
    "start_time": "2023-06-29T16:17:34.071Z"
   },
   {
    "duration": 3,
    "start_time": "2023-06-29T16:17:34.427Z"
   },
   {
    "duration": 51,
    "start_time": "2023-06-29T16:17:34.432Z"
   },
   {
    "duration": 3003,
    "start_time": "2023-06-29T16:17:34.487Z"
   },
   {
    "duration": 5,
    "start_time": "2023-06-29T16:17:37.492Z"
   },
   {
    "duration": 17,
    "start_time": "2023-06-29T16:17:37.498Z"
   },
   {
    "duration": 10,
    "start_time": "2023-06-29T16:17:37.517Z"
   },
   {
    "duration": 858,
    "start_time": "2023-06-29T16:17:37.528Z"
   },
   {
    "duration": 8,
    "start_time": "2023-06-29T16:17:38.388Z"
   },
   {
    "duration": 1203,
    "start_time": "2023-06-29T16:17:38.398Z"
   },
   {
    "duration": 8,
    "start_time": "2023-06-29T16:17:39.604Z"
   },
   {
    "duration": 1755,
    "start_time": "2023-06-29T16:17:39.613Z"
   },
   {
    "duration": 100,
    "start_time": "2023-06-29T16:17:41.370Z"
   },
   {
    "duration": 4,
    "start_time": "2023-06-29T16:17:41.472Z"
   },
   {
    "duration": 3891,
    "start_time": "2023-06-29T16:17:41.477Z"
   },
   {
    "duration": 100,
    "start_time": "2023-06-29T16:17:45.370Z"
   },
   {
    "duration": 4,
    "start_time": "2023-06-29T16:17:45.472Z"
   },
   {
    "duration": 13,
    "start_time": "2023-06-29T16:17:45.478Z"
   },
   {
    "duration": 4276,
    "start_time": "2023-06-29T16:17:45.493Z"
   },
   {
    "duration": 99,
    "start_time": "2023-06-29T16:17:49.771Z"
   },
   {
    "duration": 11,
    "start_time": "2023-06-29T16:17:49.872Z"
   },
   {
    "duration": 7,
    "start_time": "2023-06-29T16:17:49.885Z"
   },
   {
    "duration": 3375,
    "start_time": "2023-06-29T16:17:49.894Z"
   },
   {
    "duration": 102,
    "start_time": "2023-06-29T16:17:53.271Z"
   },
   {
    "duration": 27,
    "start_time": "2023-06-29T16:17:53.375Z"
   },
   {
    "duration": 85480,
    "start_time": "2023-06-29T16:18:10.061Z"
   },
   {
    "duration": 86991,
    "start_time": "2023-06-29T16:22:54.242Z"
   },
   {
    "duration": 22,
    "start_time": "2023-06-29T16:24:29.666Z"
   },
   {
    "duration": 88456,
    "start_time": "2023-06-29T16:26:46.137Z"
   },
   {
    "duration": 10,
    "start_time": "2023-06-29T16:28:40.759Z"
   },
   {
    "duration": 11,
    "start_time": "2023-06-29T16:28:58.874Z"
   },
   {
    "duration": 35,
    "start_time": "2023-06-29T16:32:47.114Z"
   },
   {
    "duration": 6,
    "start_time": "2023-06-29T16:32:53.151Z"
   },
   {
    "duration": 191,
    "start_time": "2023-06-29T16:32:55.452Z"
   },
   {
    "duration": 66470,
    "start_time": "2023-06-29T16:33:54.331Z"
   },
   {
    "duration": 5,
    "start_time": "2023-06-29T16:43:26.960Z"
   },
   {
    "duration": 22,
    "start_time": "2023-06-29T16:43:26.970Z"
   },
   {
    "duration": 1720,
    "start_time": "2023-06-29T16:43:26.997Z"
   },
   {
    "duration": 44,
    "start_time": "2023-06-29T16:43:28.720Z"
   },
   {
    "duration": 32,
    "start_time": "2023-06-29T16:43:28.765Z"
   },
   {
    "duration": 27,
    "start_time": "2023-06-29T16:43:28.798Z"
   },
   {
    "duration": 7,
    "start_time": "2023-06-29T16:43:28.826Z"
   },
   {
    "duration": 18,
    "start_time": "2023-06-29T16:43:28.836Z"
   },
   {
    "duration": 20,
    "start_time": "2023-06-29T16:43:28.856Z"
   },
   {
    "duration": 7,
    "start_time": "2023-06-29T16:43:28.880Z"
   },
   {
    "duration": 7,
    "start_time": "2023-06-29T16:43:28.893Z"
   },
   {
    "duration": 204,
    "start_time": "2023-06-29T16:43:28.902Z"
   },
   {
    "duration": 5,
    "start_time": "2023-06-29T16:43:29.108Z"
   },
   {
    "duration": 27,
    "start_time": "2023-06-29T16:43:29.115Z"
   },
   {
    "duration": 62,
    "start_time": "2023-06-29T16:43:29.143Z"
   },
   {
    "duration": 160,
    "start_time": "2023-06-29T16:43:29.207Z"
   },
   {
    "duration": 148,
    "start_time": "2023-06-29T16:43:29.368Z"
   },
   {
    "duration": 13,
    "start_time": "2023-06-29T16:43:29.519Z"
   },
   {
    "duration": 35,
    "start_time": "2023-06-29T16:43:29.534Z"
   },
   {
    "duration": 6,
    "start_time": "2023-06-29T16:43:29.573Z"
   },
   {
    "duration": 16,
    "start_time": "2023-06-29T16:43:29.586Z"
   },
   {
    "duration": 4,
    "start_time": "2023-06-29T16:43:29.605Z"
   },
   {
    "duration": 5,
    "start_time": "2023-06-29T16:43:29.611Z"
   },
   {
    "duration": 2983,
    "start_time": "2023-06-29T16:43:29.618Z"
   },
   {
    "duration": 3,
    "start_time": "2023-06-29T16:43:32.604Z"
   },
   {
    "duration": 12914,
    "start_time": "2023-06-29T16:43:32.609Z"
   },
   {
    "duration": 5,
    "start_time": "2023-06-29T16:43:45.526Z"
   },
   {
    "duration": 25,
    "start_time": "2023-06-29T16:43:45.533Z"
   },
   {
    "duration": 23,
    "start_time": "2023-06-29T16:43:45.560Z"
   },
   {
    "duration": 11,
    "start_time": "2023-06-29T16:43:45.585Z"
   },
   {
    "duration": 116,
    "start_time": "2023-06-29T16:43:45.598Z"
   },
   {
    "duration": 10,
    "start_time": "2023-06-29T16:43:45.716Z"
   },
   {
    "duration": 20,
    "start_time": "2023-06-29T16:43:45.727Z"
   },
   {
    "duration": 2,
    "start_time": "2023-06-29T16:43:45.749Z"
   },
   {
    "duration": 119,
    "start_time": "2023-06-29T16:43:45.769Z"
   },
   {
    "duration": 17,
    "start_time": "2023-06-29T16:43:45.890Z"
   },
   {
    "duration": 16,
    "start_time": "2023-06-29T16:43:45.909Z"
   },
   {
    "duration": 32,
    "start_time": "2023-06-29T16:43:45.927Z"
   },
   {
    "duration": 363,
    "start_time": "2023-06-29T16:43:45.961Z"
   },
   {
    "duration": 3,
    "start_time": "2023-06-29T16:43:46.326Z"
   },
   {
    "duration": 62,
    "start_time": "2023-06-29T16:43:46.331Z"
   },
   {
    "duration": 3286,
    "start_time": "2023-06-29T16:43:46.397Z"
   },
   {
    "duration": 8,
    "start_time": "2023-06-29T16:43:49.685Z"
   },
   {
    "duration": 24,
    "start_time": "2023-06-29T16:43:49.695Z"
   },
   {
    "duration": 8,
    "start_time": "2023-06-29T16:43:49.721Z"
   },
   {
    "duration": 955,
    "start_time": "2023-06-29T16:43:49.731Z"
   },
   {
    "duration": 10,
    "start_time": "2023-06-29T16:43:50.687Z"
   },
   {
    "duration": 1275,
    "start_time": "2023-06-29T16:43:50.699Z"
   },
   {
    "duration": 10,
    "start_time": "2023-06-29T16:43:51.976Z"
   },
   {
    "duration": 1298,
    "start_time": "2023-06-29T16:43:51.989Z"
   },
   {
    "duration": 77,
    "start_time": "2023-06-29T16:43:53.297Z"
   },
   {
    "duration": 7,
    "start_time": "2023-06-29T16:43:53.378Z"
   },
   {
    "duration": 3700,
    "start_time": "2023-06-29T16:43:53.386Z"
   },
   {
    "duration": 77,
    "start_time": "2023-06-29T16:43:57.092Z"
   },
   {
    "duration": 10,
    "start_time": "2023-06-29T16:43:57.172Z"
   },
   {
    "duration": 83,
    "start_time": "2023-06-29T16:43:57.188Z"
   },
   {
    "duration": 4397,
    "start_time": "2023-06-29T16:43:57.274Z"
   },
   {
    "duration": 104,
    "start_time": "2023-06-29T16:44:01.682Z"
   },
   {
    "duration": 34,
    "start_time": "2023-06-29T16:44:01.788Z"
   },
   {
    "duration": 81,
    "start_time": "2023-06-29T16:44:01.824Z"
   },
   {
    "duration": 3274,
    "start_time": "2023-06-29T16:44:01.907Z"
   },
   {
    "duration": 96,
    "start_time": "2023-06-29T16:44:05.187Z"
   },
   {
    "duration": 5,
    "start_time": "2023-06-29T16:44:05.289Z"
   },
   {
    "duration": 28,
    "start_time": "2023-06-29T16:44:05.296Z"
   },
   {
    "duration": 93085,
    "start_time": "2023-06-29T16:44:05.325Z"
   },
   {
    "duration": 132774,
    "start_time": "2023-06-29T16:45:38.411Z"
   },
   {
    "duration": 89806,
    "start_time": "2023-06-29T16:47:51.187Z"
   },
   {
    "duration": 18,
    "start_time": "2023-06-29T16:49:20.995Z"
   },
   {
    "duration": 8,
    "start_time": "2023-06-29T16:49:21.016Z"
   },
   {
    "duration": 67941,
    "start_time": "2023-06-29T16:49:21.026Z"
   },
   {
    "duration": 8,
    "start_time": "2023-06-29T16:50:28.969Z"
   },
   {
    "duration": 152,
    "start_time": "2023-06-29T16:50:28.979Z"
   },
   {
    "duration": 0,
    "start_time": "2023-06-29T16:50:29.133Z"
   },
   {
    "duration": 0,
    "start_time": "2023-06-29T16:50:29.134Z"
   },
   {
    "duration": 6,
    "start_time": "2023-06-29T16:53:22.109Z"
   },
   {
    "duration": 15,
    "start_time": "2023-06-29T16:53:24.198Z"
   },
   {
    "duration": 4,
    "start_time": "2023-06-29T16:57:33.642Z"
   },
   {
    "duration": 12,
    "start_time": "2023-06-29T16:57:33.649Z"
   },
   {
    "duration": 1672,
    "start_time": "2023-06-29T16:57:33.663Z"
   },
   {
    "duration": 43,
    "start_time": "2023-06-29T16:57:35.337Z"
   },
   {
    "duration": 13,
    "start_time": "2023-06-29T16:57:35.383Z"
   },
   {
    "duration": 17,
    "start_time": "2023-06-29T16:57:35.398Z"
   },
   {
    "duration": 16,
    "start_time": "2023-06-29T16:57:35.417Z"
   },
   {
    "duration": 8,
    "start_time": "2023-06-29T16:57:35.435Z"
   },
   {
    "duration": 29,
    "start_time": "2023-06-29T16:57:35.444Z"
   },
   {
    "duration": 5,
    "start_time": "2023-06-29T16:57:35.475Z"
   },
   {
    "duration": 9,
    "start_time": "2023-06-29T16:57:35.483Z"
   },
   {
    "duration": 175,
    "start_time": "2023-06-29T16:57:35.494Z"
   },
   {
    "duration": 5,
    "start_time": "2023-06-29T16:57:35.671Z"
   },
   {
    "duration": 22,
    "start_time": "2023-06-29T16:57:35.677Z"
   },
   {
    "duration": 40,
    "start_time": "2023-06-29T16:57:35.700Z"
   },
   {
    "duration": 152,
    "start_time": "2023-06-29T16:57:35.742Z"
   },
   {
    "duration": 122,
    "start_time": "2023-06-29T16:57:35.896Z"
   },
   {
    "duration": 13,
    "start_time": "2023-06-29T16:57:36.020Z"
   },
   {
    "duration": 11,
    "start_time": "2023-06-29T16:57:36.035Z"
   },
   {
    "duration": 5,
    "start_time": "2023-06-29T16:57:36.066Z"
   },
   {
    "duration": 4,
    "start_time": "2023-06-29T16:57:36.073Z"
   },
   {
    "duration": 43,
    "start_time": "2023-06-29T16:57:36.079Z"
   },
   {
    "duration": 6,
    "start_time": "2023-06-29T16:57:36.123Z"
   },
   {
    "duration": 2560,
    "start_time": "2023-06-29T16:57:36.131Z"
   },
   {
    "duration": 2,
    "start_time": "2023-06-29T16:57:38.693Z"
   },
   {
    "duration": 11539,
    "start_time": "2023-06-29T16:57:38.697Z"
   },
   {
    "duration": 5,
    "start_time": "2023-06-29T16:57:50.238Z"
   },
   {
    "duration": 24,
    "start_time": "2023-06-29T16:57:50.245Z"
   },
   {
    "duration": 25,
    "start_time": "2023-06-29T16:57:50.275Z"
   },
   {
    "duration": 50,
    "start_time": "2023-06-29T16:57:50.303Z"
   },
   {
    "duration": 144,
    "start_time": "2023-06-29T16:57:50.355Z"
   },
   {
    "duration": 12,
    "start_time": "2023-06-29T16:57:50.501Z"
   },
   {
    "duration": 58,
    "start_time": "2023-06-29T16:57:50.515Z"
   },
   {
    "duration": 17,
    "start_time": "2023-06-29T16:57:50.575Z"
   },
   {
    "duration": 135,
    "start_time": "2023-06-29T16:57:50.594Z"
   },
   {
    "duration": 14,
    "start_time": "2023-06-29T16:57:50.731Z"
   },
   {
    "duration": 4,
    "start_time": "2023-06-29T16:57:50.747Z"
   },
   {
    "duration": 15,
    "start_time": "2023-06-29T16:57:50.753Z"
   },
   {
    "duration": 357,
    "start_time": "2023-06-29T16:57:50.769Z"
   },
   {
    "duration": 3,
    "start_time": "2023-06-29T16:57:51.128Z"
   },
   {
    "duration": 82,
    "start_time": "2023-06-29T16:57:51.133Z"
   },
   {
    "duration": 3170,
    "start_time": "2023-06-29T16:57:51.217Z"
   },
   {
    "duration": 5,
    "start_time": "2023-06-29T16:57:54.389Z"
   },
   {
    "duration": 6,
    "start_time": "2023-06-29T16:57:54.396Z"
   },
   {
    "duration": 8,
    "start_time": "2023-06-29T16:57:54.404Z"
   },
   {
    "duration": 884,
    "start_time": "2023-06-29T16:57:54.413Z"
   },
   {
    "duration": 7,
    "start_time": "2023-06-29T16:57:55.299Z"
   },
   {
    "duration": 1151,
    "start_time": "2023-06-29T16:57:55.308Z"
   },
   {
    "duration": 10,
    "start_time": "2023-06-29T16:57:56.461Z"
   },
   {
    "duration": 1794,
    "start_time": "2023-06-29T16:57:56.473Z"
   },
   {
    "duration": 97,
    "start_time": "2023-06-29T16:57:58.272Z"
   },
   {
    "duration": 3,
    "start_time": "2023-06-29T16:57:58.371Z"
   },
   {
    "duration": 3893,
    "start_time": "2023-06-29T16:57:58.375Z"
   },
   {
    "duration": 97,
    "start_time": "2023-06-29T16:58:02.270Z"
   },
   {
    "duration": 30,
    "start_time": "2023-06-29T16:58:02.370Z"
   },
   {
    "duration": 46,
    "start_time": "2023-06-29T16:58:02.402Z"
   },
   {
    "duration": 4317,
    "start_time": "2023-06-29T16:58:02.450Z"
   },
   {
    "duration": 99,
    "start_time": "2023-06-29T16:58:06.770Z"
   },
   {
    "duration": 3,
    "start_time": "2023-06-29T16:58:06.871Z"
   },
   {
    "duration": 6,
    "start_time": "2023-06-29T16:58:06.875Z"
   },
   {
    "duration": 2994,
    "start_time": "2023-06-29T16:58:06.882Z"
   },
   {
    "duration": 100,
    "start_time": "2023-06-29T16:58:09.968Z"
   },
   {
    "duration": 3,
    "start_time": "2023-06-29T16:58:10.070Z"
   },
   {
    "duration": 12,
    "start_time": "2023-06-29T16:58:10.075Z"
   },
   {
    "duration": 41838,
    "start_time": "2023-06-29T16:58:10.089Z"
   },
   {
    "duration": 63039,
    "start_time": "2023-06-29T16:58:51.929Z"
   },
   {
    "duration": 85984,
    "start_time": "2023-06-29T16:59:54.970Z"
   },
   {
    "duration": 11,
    "start_time": "2023-06-29T17:01:20.956Z"
   },
   {
    "duration": 5,
    "start_time": "2023-06-29T17:01:20.969Z"
   },
   {
    "duration": 378,
    "start_time": "2023-06-29T17:01:20.976Z"
   },
   {
    "duration": 13,
    "start_time": "2023-06-29T17:01:21.356Z"
   },
   {
    "duration": 274,
    "start_time": "2023-06-29T17:01:21.371Z"
   },
   {
    "duration": 6,
    "start_time": "2023-06-29T17:01:21.646Z"
   },
   {
    "duration": 190,
    "start_time": "2023-06-29T17:01:21.653Z"
   },
   {
    "duration": 7,
    "start_time": "2023-06-29T17:02:51.556Z"
   },
   {
    "duration": 282,
    "start_time": "2023-06-29T17:02:51.565Z"
   },
   {
    "duration": 38,
    "start_time": "2023-06-29T17:02:51.849Z"
   },
   {
    "duration": 289,
    "start_time": "2023-06-29T17:03:08.565Z"
   },
   {
    "duration": 6,
    "start_time": "2023-06-29T17:03:12.777Z"
   },
   {
    "duration": 439,
    "start_time": "2023-06-29T17:03:15.410Z"
   },
   {
    "duration": 4,
    "start_time": "2023-06-29T17:13:41.812Z"
   },
   {
    "duration": 7,
    "start_time": "2023-06-29T17:13:41.818Z"
   },
   {
    "duration": 1632,
    "start_time": "2023-06-29T17:13:41.826Z"
   },
   {
    "duration": 43,
    "start_time": "2023-06-29T17:13:43.460Z"
   },
   {
    "duration": 15,
    "start_time": "2023-06-29T17:13:43.506Z"
   },
   {
    "duration": 17,
    "start_time": "2023-06-29T17:13:43.523Z"
   },
   {
    "duration": 6,
    "start_time": "2023-06-29T17:13:43.542Z"
   },
   {
    "duration": 19,
    "start_time": "2023-06-29T17:13:43.550Z"
   },
   {
    "duration": 19,
    "start_time": "2023-06-29T17:13:43.571Z"
   },
   {
    "duration": 7,
    "start_time": "2023-06-29T17:13:43.592Z"
   },
   {
    "duration": 15,
    "start_time": "2023-06-29T17:13:43.600Z"
   },
   {
    "duration": 191,
    "start_time": "2023-06-29T17:13:43.617Z"
   },
   {
    "duration": 6,
    "start_time": "2023-06-29T17:13:43.810Z"
   },
   {
    "duration": 46,
    "start_time": "2023-06-29T17:13:43.819Z"
   },
   {
    "duration": 62,
    "start_time": "2023-06-29T17:13:43.866Z"
   },
   {
    "duration": 163,
    "start_time": "2023-06-29T17:13:43.931Z"
   },
   {
    "duration": 151,
    "start_time": "2023-06-29T17:13:44.096Z"
   },
   {
    "duration": 24,
    "start_time": "2023-06-29T17:13:44.249Z"
   },
   {
    "duration": 28,
    "start_time": "2023-06-29T17:13:44.275Z"
   },
   {
    "duration": 10,
    "start_time": "2023-06-29T17:13:44.305Z"
   },
   {
    "duration": 13,
    "start_time": "2023-06-29T17:13:44.318Z"
   },
   {
    "duration": 18,
    "start_time": "2023-06-29T17:13:44.333Z"
   },
   {
    "duration": 5,
    "start_time": "2023-06-29T17:13:44.353Z"
   },
   {
    "duration": 2569,
    "start_time": "2023-06-29T17:13:44.359Z"
   },
   {
    "duration": 3,
    "start_time": "2023-06-29T17:13:46.930Z"
   },
   {
    "duration": 12454,
    "start_time": "2023-06-29T17:13:46.934Z"
   },
   {
    "duration": 5,
    "start_time": "2023-06-29T17:13:59.390Z"
   },
   {
    "duration": 70,
    "start_time": "2023-06-29T17:13:59.397Z"
   },
   {
    "duration": 4,
    "start_time": "2023-06-29T17:13:59.470Z"
   },
   {
    "duration": 42,
    "start_time": "2023-06-29T17:13:59.476Z"
   },
   {
    "duration": 246,
    "start_time": "2023-06-29T17:13:59.520Z"
   },
   {
    "duration": 12,
    "start_time": "2023-06-29T17:13:59.769Z"
   },
   {
    "duration": 31,
    "start_time": "2023-06-29T17:13:59.783Z"
   },
   {
    "duration": 51,
    "start_time": "2023-06-29T17:13:59.816Z"
   },
   {
    "duration": 200,
    "start_time": "2023-06-29T17:13:59.869Z"
   },
   {
    "duration": 19,
    "start_time": "2023-06-29T17:14:00.072Z"
   },
   {
    "duration": 25,
    "start_time": "2023-06-29T17:14:00.093Z"
   },
   {
    "duration": 6,
    "start_time": "2023-06-29T17:14:00.168Z"
   },
   {
    "duration": 725,
    "start_time": "2023-06-29T17:14:00.176Z"
   },
   {
    "duration": 3,
    "start_time": "2023-06-29T17:14:00.903Z"
   },
   {
    "duration": 158,
    "start_time": "2023-06-29T17:14:00.913Z"
   },
   {
    "duration": 4026,
    "start_time": "2023-06-29T17:14:01.073Z"
   },
   {
    "duration": 5,
    "start_time": "2023-06-29T17:14:05.101Z"
   },
   {
    "duration": 10,
    "start_time": "2023-06-29T17:14:05.108Z"
   },
   {
    "duration": 15,
    "start_time": "2023-06-29T17:14:05.120Z"
   },
   {
    "duration": 1443,
    "start_time": "2023-06-29T17:14:05.137Z"
   },
   {
    "duration": 10,
    "start_time": "2023-06-29T17:14:06.582Z"
   },
   {
    "duration": 1618,
    "start_time": "2023-06-29T17:14:06.594Z"
   },
   {
    "duration": 7,
    "start_time": "2023-06-29T17:14:08.214Z"
   },
   {
    "duration": 1356,
    "start_time": "2023-06-29T17:14:08.222Z"
   },
   {
    "duration": 93,
    "start_time": "2023-06-29T17:14:09.580Z"
   },
   {
    "duration": 93,
    "start_time": "2023-06-29T17:14:09.676Z"
   },
   {
    "duration": 3401,
    "start_time": "2023-06-29T17:14:09.772Z"
   },
   {
    "duration": 100,
    "start_time": "2023-06-29T17:14:13.175Z"
   },
   {
    "duration": 9,
    "start_time": "2023-06-29T17:14:13.277Z"
   },
   {
    "duration": 11,
    "start_time": "2023-06-29T17:14:13.288Z"
   },
   {
    "duration": 4281,
    "start_time": "2023-06-29T17:14:13.301Z"
   },
   {
    "duration": 101,
    "start_time": "2023-06-29T17:14:17.668Z"
   },
   {
    "duration": 3,
    "start_time": "2023-06-29T17:14:17.772Z"
   },
   {
    "duration": 5,
    "start_time": "2023-06-29T17:14:17.777Z"
   },
   {
    "duration": 2882,
    "start_time": "2023-06-29T17:14:17.784Z"
   },
   {
    "duration": 100,
    "start_time": "2023-06-29T17:14:20.673Z"
   },
   {
    "duration": 17,
    "start_time": "2023-06-29T17:14:20.775Z"
   },
   {
    "duration": 9,
    "start_time": "2023-06-29T17:14:20.794Z"
   },
   {
    "duration": 42528,
    "start_time": "2023-06-29T17:14:20.805Z"
   },
   {
    "duration": 64569,
    "start_time": "2023-06-29T17:15:03.335Z"
   },
   {
    "duration": 85873,
    "start_time": "2023-06-29T17:16:07.906Z"
   },
   {
    "duration": 9,
    "start_time": "2023-06-29T17:17:33.781Z"
   },
   {
    "duration": 9,
    "start_time": "2023-06-29T17:17:33.791Z"
   },
   {
    "duration": 436,
    "start_time": "2023-06-29T17:17:33.802Z"
   },
   {
    "duration": 7,
    "start_time": "2023-06-29T17:17:34.240Z"
   },
   {
    "duration": 330,
    "start_time": "2023-06-29T17:17:34.249Z"
   },
   {
    "duration": 7,
    "start_time": "2023-06-29T17:17:34.581Z"
   },
   {
    "duration": 35,
    "start_time": "2023-06-29T17:17:34.591Z"
   },
   {
    "duration": 10,
    "start_time": "2023-06-30T07:08:55.084Z"
   },
   {
    "duration": 6,
    "start_time": "2023-06-30T07:08:55.100Z"
   },
   {
    "duration": 2419,
    "start_time": "2023-06-30T07:08:55.109Z"
   },
   {
    "duration": 0,
    "start_time": "2023-06-30T07:08:57.533Z"
   },
   {
    "duration": 0,
    "start_time": "2023-06-30T07:08:57.535Z"
   },
   {
    "duration": 0,
    "start_time": "2023-06-30T07:08:57.536Z"
   },
   {
    "duration": 0,
    "start_time": "2023-06-30T07:08:57.537Z"
   },
   {
    "duration": 0,
    "start_time": "2023-06-30T07:08:57.539Z"
   },
   {
    "duration": 0,
    "start_time": "2023-06-30T07:08:57.541Z"
   },
   {
    "duration": 0,
    "start_time": "2023-06-30T07:08:57.542Z"
   },
   {
    "duration": 0,
    "start_time": "2023-06-30T07:08:57.544Z"
   },
   {
    "duration": 0,
    "start_time": "2023-06-30T07:08:57.544Z"
   },
   {
    "duration": 0,
    "start_time": "2023-06-30T07:08:57.545Z"
   },
   {
    "duration": 0,
    "start_time": "2023-06-30T07:08:57.558Z"
   },
   {
    "duration": 0,
    "start_time": "2023-06-30T07:08:57.564Z"
   },
   {
    "duration": 0,
    "start_time": "2023-06-30T07:08:57.568Z"
   },
   {
    "duration": 0,
    "start_time": "2023-06-30T07:08:57.570Z"
   },
   {
    "duration": 0,
    "start_time": "2023-06-30T07:08:57.572Z"
   },
   {
    "duration": 0,
    "start_time": "2023-06-30T07:08:57.576Z"
   },
   {
    "duration": 0,
    "start_time": "2023-06-30T07:08:57.578Z"
   },
   {
    "duration": 0,
    "start_time": "2023-06-30T07:08:57.582Z"
   },
   {
    "duration": 1,
    "start_time": "2023-06-30T07:08:57.583Z"
   },
   {
    "duration": 0,
    "start_time": "2023-06-30T07:08:57.585Z"
   },
   {
    "duration": 0,
    "start_time": "2023-06-30T07:08:57.587Z"
   },
   {
    "duration": 0,
    "start_time": "2023-06-30T07:08:57.590Z"
   },
   {
    "duration": 0,
    "start_time": "2023-06-30T07:08:57.591Z"
   },
   {
    "duration": 0,
    "start_time": "2023-06-30T07:08:57.594Z"
   },
   {
    "duration": 0,
    "start_time": "2023-06-30T07:08:57.596Z"
   },
   {
    "duration": 0,
    "start_time": "2023-06-30T07:08:57.598Z"
   },
   {
    "duration": 0,
    "start_time": "2023-06-30T07:08:57.600Z"
   },
   {
    "duration": 0,
    "start_time": "2023-06-30T07:08:57.603Z"
   },
   {
    "duration": 0,
    "start_time": "2023-06-30T07:08:57.605Z"
   },
   {
    "duration": 0,
    "start_time": "2023-06-30T07:08:57.607Z"
   },
   {
    "duration": 0,
    "start_time": "2023-06-30T07:08:57.610Z"
   },
   {
    "duration": 0,
    "start_time": "2023-06-30T07:08:57.613Z"
   },
   {
    "duration": 0,
    "start_time": "2023-06-30T07:08:57.615Z"
   },
   {
    "duration": 0,
    "start_time": "2023-06-30T07:08:57.617Z"
   },
   {
    "duration": 0,
    "start_time": "2023-06-30T07:08:57.619Z"
   },
   {
    "duration": 0,
    "start_time": "2023-06-30T07:08:57.621Z"
   },
   {
    "duration": 0,
    "start_time": "2023-06-30T07:08:57.622Z"
   },
   {
    "duration": 0,
    "start_time": "2023-06-30T07:08:57.625Z"
   },
   {
    "duration": 0,
    "start_time": "2023-06-30T07:08:57.627Z"
   },
   {
    "duration": 0,
    "start_time": "2023-06-30T07:08:57.628Z"
   },
   {
    "duration": 0,
    "start_time": "2023-06-30T07:08:57.630Z"
   },
   {
    "duration": 0,
    "start_time": "2023-06-30T07:08:57.655Z"
   },
   {
    "duration": 0,
    "start_time": "2023-06-30T07:08:57.656Z"
   },
   {
    "duration": 0,
    "start_time": "2023-06-30T07:08:57.666Z"
   },
   {
    "duration": 0,
    "start_time": "2023-06-30T07:08:57.667Z"
   },
   {
    "duration": 0,
    "start_time": "2023-06-30T07:08:57.679Z"
   },
   {
    "duration": 0,
    "start_time": "2023-06-30T07:08:57.684Z"
   },
   {
    "duration": 0,
    "start_time": "2023-06-30T07:08:57.685Z"
   },
   {
    "duration": 0,
    "start_time": "2023-06-30T07:08:57.686Z"
   },
   {
    "duration": 0,
    "start_time": "2023-06-30T07:08:57.689Z"
   },
   {
    "duration": 0,
    "start_time": "2023-06-30T07:08:57.704Z"
   },
   {
    "duration": 0,
    "start_time": "2023-06-30T07:08:57.706Z"
   },
   {
    "duration": 0,
    "start_time": "2023-06-30T07:08:57.707Z"
   },
   {
    "duration": 0,
    "start_time": "2023-06-30T07:08:57.708Z"
   },
   {
    "duration": 0,
    "start_time": "2023-06-30T07:08:57.715Z"
   },
   {
    "duration": 0,
    "start_time": "2023-06-30T07:08:57.716Z"
   },
   {
    "duration": 0,
    "start_time": "2023-06-30T07:08:57.717Z"
   },
   {
    "duration": 0,
    "start_time": "2023-06-30T07:08:57.719Z"
   },
   {
    "duration": 0,
    "start_time": "2023-06-30T07:08:57.720Z"
   },
   {
    "duration": 0,
    "start_time": "2023-06-30T07:08:57.721Z"
   },
   {
    "duration": 0,
    "start_time": "2023-06-30T07:08:57.723Z"
   },
   {
    "duration": 5,
    "start_time": "2023-06-30T07:10:25.431Z"
   },
   {
    "duration": 6,
    "start_time": "2023-06-30T07:10:25.439Z"
   },
   {
    "duration": 48,
    "start_time": "2023-06-30T07:10:25.448Z"
   },
   {
    "duration": 0,
    "start_time": "2023-06-30T07:10:25.505Z"
   },
   {
    "duration": 0,
    "start_time": "2023-06-30T07:10:25.508Z"
   },
   {
    "duration": 0,
    "start_time": "2023-06-30T07:10:25.511Z"
   },
   {
    "duration": 0,
    "start_time": "2023-06-30T07:10:25.514Z"
   },
   {
    "duration": 0,
    "start_time": "2023-06-30T07:10:25.518Z"
   },
   {
    "duration": 0,
    "start_time": "2023-06-30T07:10:25.521Z"
   },
   {
    "duration": 23,
    "start_time": "2023-06-30T07:10:25.529Z"
   },
   {
    "duration": 0,
    "start_time": "2023-06-30T07:10:25.562Z"
   },
   {
    "duration": 0,
    "start_time": "2023-06-30T07:10:25.569Z"
   },
   {
    "duration": 0,
    "start_time": "2023-06-30T07:10:25.573Z"
   },
   {
    "duration": 0,
    "start_time": "2023-06-30T07:10:25.575Z"
   },
   {
    "duration": 0,
    "start_time": "2023-06-30T07:10:25.577Z"
   },
   {
    "duration": 0,
    "start_time": "2023-06-30T07:10:25.590Z"
   },
   {
    "duration": 0,
    "start_time": "2023-06-30T07:10:25.591Z"
   },
   {
    "duration": 0,
    "start_time": "2023-06-30T07:10:25.592Z"
   },
   {
    "duration": 0,
    "start_time": "2023-06-30T07:10:25.606Z"
   },
   {
    "duration": 0,
    "start_time": "2023-06-30T07:10:25.607Z"
   },
   {
    "duration": 0,
    "start_time": "2023-06-30T07:10:25.608Z"
   },
   {
    "duration": 21,
    "start_time": "2023-06-30T07:10:25.618Z"
   },
   {
    "duration": 0,
    "start_time": "2023-06-30T07:10:25.646Z"
   },
   {
    "duration": 0,
    "start_time": "2023-06-30T07:10:25.647Z"
   },
   {
    "duration": 0,
    "start_time": "2023-06-30T07:10:25.648Z"
   },
   {
    "duration": 0,
    "start_time": "2023-06-30T07:10:25.650Z"
   },
   {
    "duration": 0,
    "start_time": "2023-06-30T07:10:25.652Z"
   },
   {
    "duration": 0,
    "start_time": "2023-06-30T07:10:25.654Z"
   },
   {
    "duration": 0,
    "start_time": "2023-06-30T07:10:25.656Z"
   },
   {
    "duration": 0,
    "start_time": "2023-06-30T07:10:25.658Z"
   },
   {
    "duration": 0,
    "start_time": "2023-06-30T07:10:25.659Z"
   },
   {
    "duration": 0,
    "start_time": "2023-06-30T07:10:25.660Z"
   },
   {
    "duration": 0,
    "start_time": "2023-06-30T07:10:25.662Z"
   },
   {
    "duration": 0,
    "start_time": "2023-06-30T07:10:25.663Z"
   },
   {
    "duration": 15,
    "start_time": "2023-06-30T07:10:25.666Z"
   },
   {
    "duration": 0,
    "start_time": "2023-06-30T07:10:25.684Z"
   },
   {
    "duration": 0,
    "start_time": "2023-06-30T07:10:25.686Z"
   },
   {
    "duration": 11,
    "start_time": "2023-06-30T07:10:25.714Z"
   },
   {
    "duration": 37,
    "start_time": "2023-06-30T07:10:25.728Z"
   },
   {
    "duration": 0,
    "start_time": "2023-06-30T07:10:25.768Z"
   },
   {
    "duration": 0,
    "start_time": "2023-06-30T07:10:25.772Z"
   },
   {
    "duration": 0,
    "start_time": "2023-06-30T07:10:25.774Z"
   },
   {
    "duration": 0,
    "start_time": "2023-06-30T07:10:25.775Z"
   },
   {
    "duration": 0,
    "start_time": "2023-06-30T07:10:25.776Z"
   },
   {
    "duration": 0,
    "start_time": "2023-06-30T07:10:25.779Z"
   },
   {
    "duration": 0,
    "start_time": "2023-06-30T07:10:25.780Z"
   },
   {
    "duration": 0,
    "start_time": "2023-06-30T07:10:25.790Z"
   },
   {
    "duration": 0,
    "start_time": "2023-06-30T07:10:25.792Z"
   },
   {
    "duration": 0,
    "start_time": "2023-06-30T07:10:25.793Z"
   },
   {
    "duration": 0,
    "start_time": "2023-06-30T07:10:25.794Z"
   },
   {
    "duration": 0,
    "start_time": "2023-06-30T07:10:25.796Z"
   },
   {
    "duration": 7,
    "start_time": "2023-06-30T07:10:25.802Z"
   },
   {
    "duration": 58,
    "start_time": "2023-06-30T07:10:25.811Z"
   },
   {
    "duration": 0,
    "start_time": "2023-06-30T07:10:25.872Z"
   },
   {
    "duration": 0,
    "start_time": "2023-06-30T07:10:25.878Z"
   },
   {
    "duration": 0,
    "start_time": "2023-06-30T07:10:25.880Z"
   },
   {
    "duration": 0,
    "start_time": "2023-06-30T07:10:25.893Z"
   },
   {
    "duration": 0,
    "start_time": "2023-06-30T07:10:25.895Z"
   },
   {
    "duration": 0,
    "start_time": "2023-06-30T07:10:25.896Z"
   },
   {
    "duration": 0,
    "start_time": "2023-06-30T07:10:25.897Z"
   },
   {
    "duration": 0,
    "start_time": "2023-06-30T07:10:25.899Z"
   },
   {
    "duration": 0,
    "start_time": "2023-06-30T07:10:25.900Z"
   },
   {
    "duration": 0,
    "start_time": "2023-06-30T07:10:25.901Z"
   },
   {
    "duration": 0,
    "start_time": "2023-06-30T07:10:25.919Z"
   },
   {
    "duration": 5168,
    "start_time": "2023-06-30T07:10:54.712Z"
   },
   {
    "duration": 5918,
    "start_time": "2023-06-30T07:10:59.883Z"
   },
   {
    "duration": 236,
    "start_time": "2023-06-30T07:11:05.803Z"
   },
   {
    "duration": 423,
    "start_time": "2023-06-30T07:11:06.042Z"
   },
   {
    "duration": 65,
    "start_time": "2023-06-30T07:11:06.480Z"
   },
   {
    "duration": 72,
    "start_time": "2023-06-30T07:11:06.551Z"
   },
   {
    "duration": 30,
    "start_time": "2023-06-30T07:11:06.639Z"
   },
   {
    "duration": 28,
    "start_time": "2023-06-30T07:11:06.677Z"
   },
   {
    "duration": 72,
    "start_time": "2023-06-30T07:11:06.717Z"
   },
   {
    "duration": 21,
    "start_time": "2023-06-30T07:11:06.808Z"
   },
   {
    "duration": 25,
    "start_time": "2023-06-30T07:11:06.836Z"
   },
   {
    "duration": 367,
    "start_time": "2023-06-30T07:11:06.868Z"
   },
   {
    "duration": 17,
    "start_time": "2023-06-30T07:11:07.241Z"
   },
   {
    "duration": 45,
    "start_time": "2023-06-30T07:11:07.272Z"
   },
   {
    "duration": 103,
    "start_time": "2023-06-30T07:11:07.323Z"
   },
   {
    "duration": 205,
    "start_time": "2023-06-30T07:11:07.432Z"
   },
   {
    "duration": 306,
    "start_time": "2023-06-30T07:11:07.644Z"
   },
   {
    "duration": 34,
    "start_time": "2023-06-30T07:11:07.956Z"
   },
   {
    "duration": 23,
    "start_time": "2023-06-30T07:11:08.000Z"
   },
   {
    "duration": 15,
    "start_time": "2023-06-30T07:11:08.029Z"
   },
   {
    "duration": 38,
    "start_time": "2023-06-30T07:11:08.051Z"
   },
   {
    "duration": 31,
    "start_time": "2023-06-30T07:11:08.106Z"
   },
   {
    "duration": 22,
    "start_time": "2023-06-30T07:11:08.150Z"
   },
   {
    "duration": 3737,
    "start_time": "2023-06-30T07:11:08.175Z"
   },
   {
    "duration": 4,
    "start_time": "2023-06-30T07:11:11.918Z"
   },
   {
    "duration": 18105,
    "start_time": "2023-06-30T07:11:11.928Z"
   },
   {
    "duration": 8,
    "start_time": "2023-06-30T07:11:30.041Z"
   },
   {
    "duration": 55,
    "start_time": "2023-06-30T07:11:30.054Z"
   },
   {
    "duration": 12,
    "start_time": "2023-06-30T07:11:30.126Z"
   },
   {
    "duration": 45,
    "start_time": "2023-06-30T07:11:30.140Z"
   },
   {
    "duration": 229,
    "start_time": "2023-06-30T07:11:30.193Z"
   },
   {
    "duration": 28,
    "start_time": "2023-06-30T07:11:30.428Z"
   },
   {
    "duration": 35,
    "start_time": "2023-06-30T07:11:30.462Z"
   },
   {
    "duration": 5,
    "start_time": "2023-06-30T07:11:30.504Z"
   },
   {
    "duration": 212,
    "start_time": "2023-06-30T07:11:30.516Z"
   },
   {
    "duration": 31,
    "start_time": "2023-06-30T07:11:30.735Z"
   },
   {
    "duration": 18,
    "start_time": "2023-06-30T07:11:30.781Z"
   },
   {
    "duration": 55,
    "start_time": "2023-06-30T07:11:30.809Z"
   },
   {
    "duration": 658,
    "start_time": "2023-06-30T07:11:30.872Z"
   },
   {
    "duration": 7,
    "start_time": "2023-06-30T07:11:31.538Z"
   },
   {
    "duration": 102,
    "start_time": "2023-06-30T07:11:31.561Z"
   },
   {
    "duration": 4967,
    "start_time": "2023-06-30T07:11:31.670Z"
   },
   {
    "duration": 15,
    "start_time": "2023-06-30T07:11:36.647Z"
   },
   {
    "duration": 5,
    "start_time": "2023-06-30T07:11:36.670Z"
   },
   {
    "duration": 18,
    "start_time": "2023-06-30T07:11:36.677Z"
   },
   {
    "duration": 1189,
    "start_time": "2023-06-30T07:11:36.697Z"
   },
   {
    "duration": 25,
    "start_time": "2023-06-30T07:11:37.895Z"
   },
   {
    "duration": 1697,
    "start_time": "2023-06-30T07:11:37.923Z"
   },
   {
    "duration": 9,
    "start_time": "2023-06-30T07:11:39.623Z"
   },
   {
    "duration": 1654,
    "start_time": "2023-06-30T07:11:39.635Z"
   },
   {
    "duration": 78,
    "start_time": "2023-06-30T07:11:41.322Z"
   },
   {
    "duration": 17,
    "start_time": "2023-06-30T07:11:41.407Z"
   },
   {
    "duration": 4170,
    "start_time": "2023-06-30T07:11:41.428Z"
   },
   {
    "duration": 68,
    "start_time": "2023-06-30T07:11:45.605Z"
   },
   {
    "duration": 19,
    "start_time": "2023-06-30T07:11:45.696Z"
   },
   {
    "duration": 31,
    "start_time": "2023-06-30T07:11:45.727Z"
   },
   {
    "duration": 5241,
    "start_time": "2023-06-30T07:11:45.760Z"
   },
   {
    "duration": 57,
    "start_time": "2023-06-30T07:11:51.056Z"
   },
   {
    "duration": 6,
    "start_time": "2023-06-30T07:11:51.119Z"
   },
   {
    "duration": 6,
    "start_time": "2023-06-30T07:11:51.130Z"
   },
   {
    "duration": 3654,
    "start_time": "2023-06-30T07:11:51.139Z"
   },
   {
    "duration": 116,
    "start_time": "2023-06-30T07:11:54.806Z"
   },
   {
    "duration": 155,
    "start_time": "2023-06-30T07:11:54.927Z"
   },
   {
    "duration": 0,
    "start_time": "2023-06-30T07:11:55.088Z"
   },
   {
    "duration": 180,
    "start_time": "2023-06-30T07:37:12.407Z"
   },
   {
    "duration": 3,
    "start_time": "2023-06-30T07:37:20.729Z"
   },
   {
    "duration": 8,
    "start_time": "2023-06-30T07:37:26.116Z"
   },
   {
    "duration": 13,
    "start_time": "2023-06-30T07:37:28.291Z"
   },
   {
    "duration": 11,
    "start_time": "2023-06-30T07:37:59.782Z"
   },
   {
    "duration": 14,
    "start_time": "2023-06-30T07:38:01.901Z"
   },
   {
    "duration": 10,
    "start_time": "2023-06-30T07:38:11.263Z"
   },
   {
    "duration": 4,
    "start_time": "2023-06-30T07:38:13.333Z"
   },
   {
    "duration": 6,
    "start_time": "2023-06-30T07:38:26.022Z"
   },
   {
    "duration": 6,
    "start_time": "2023-06-30T07:38:35.134Z"
   },
   {
    "duration": 197,
    "start_time": "2023-06-30T08:19:06.990Z"
   },
   {
    "duration": 4,
    "start_time": "2023-06-30T08:19:24.328Z"
   },
   {
    "duration": 18,
    "start_time": "2023-06-30T08:20:17.881Z"
   },
   {
    "duration": 3,
    "start_time": "2023-06-30T08:20:38.614Z"
   },
   {
    "duration": 4,
    "start_time": "2023-06-30T08:24:44.145Z"
   },
   {
    "duration": 11,
    "start_time": "2023-06-30T08:24:45.500Z"
   },
   {
    "duration": 12,
    "start_time": "2023-06-30T08:24:47.676Z"
   },
   {
    "duration": 22,
    "start_time": "2023-06-30T08:24:49.728Z"
   },
   {
    "duration": 22,
    "start_time": "2023-06-30T08:25:19.931Z"
   },
   {
    "duration": 9,
    "start_time": "2023-06-30T08:25:55.442Z"
   },
   {
    "duration": 26,
    "start_time": "2023-06-30T08:25:58.524Z"
   },
   {
    "duration": 21,
    "start_time": "2023-06-30T08:26:13.089Z"
   },
   {
    "duration": 85,
    "start_time": "2023-06-30T08:26:16.211Z"
   },
   {
    "duration": 17,
    "start_time": "2023-06-30T08:30:00.582Z"
   },
   {
    "duration": 15,
    "start_time": "2023-06-30T08:30:11.084Z"
   },
   {
    "duration": 72,
    "start_time": "2023-06-30T08:30:13.534Z"
   },
   {
    "duration": 23,
    "start_time": "2023-06-30T08:31:18.083Z"
   },
   {
    "duration": 65,
    "start_time": "2023-06-30T08:31:25.101Z"
   },
   {
    "duration": 197,
    "start_time": "2023-06-30T08:32:23.324Z"
   },
   {
    "duration": 17,
    "start_time": "2023-06-30T08:32:31.660Z"
   },
   {
    "duration": 85,
    "start_time": "2023-06-30T08:32:35.016Z"
   },
   {
    "duration": 15,
    "start_time": "2023-06-30T08:33:12.974Z"
   },
   {
    "duration": 62,
    "start_time": "2023-06-30T08:33:16.004Z"
   },
   {
    "duration": 7,
    "start_time": "2023-06-30T08:33:33.100Z"
   },
   {
    "duration": 2899,
    "start_time": "2023-06-30T08:38:08.210Z"
   },
   {
    "duration": 3012,
    "start_time": "2023-06-30T08:38:11.112Z"
   },
   {
    "duration": 1870,
    "start_time": "2023-06-30T08:38:14.127Z"
   },
   {
    "duration": 49,
    "start_time": "2023-06-30T08:38:16.001Z"
   },
   {
    "duration": 16,
    "start_time": "2023-06-30T08:38:16.060Z"
   },
   {
    "duration": 44,
    "start_time": "2023-06-30T08:38:16.078Z"
   },
   {
    "duration": 23,
    "start_time": "2023-06-30T08:38:16.124Z"
   },
   {
    "duration": 40,
    "start_time": "2023-06-30T08:38:16.149Z"
   },
   {
    "duration": 15,
    "start_time": "2023-06-30T08:38:16.194Z"
   },
   {
    "duration": 10,
    "start_time": "2023-06-30T08:38:16.211Z"
   },
   {
    "duration": 28,
    "start_time": "2023-06-30T08:38:16.223Z"
   },
   {
    "duration": 247,
    "start_time": "2023-06-30T08:38:16.253Z"
   },
   {
    "duration": 15,
    "start_time": "2023-06-30T08:38:16.507Z"
   },
   {
    "duration": 43,
    "start_time": "2023-06-30T08:38:16.526Z"
   },
   {
    "duration": 60,
    "start_time": "2023-06-30T08:38:16.581Z"
   },
   {
    "duration": 165,
    "start_time": "2023-06-30T08:38:16.643Z"
   },
   {
    "duration": 142,
    "start_time": "2023-06-30T08:38:16.810Z"
   },
   {
    "duration": 30,
    "start_time": "2023-06-30T08:38:16.955Z"
   },
   {
    "duration": 18,
    "start_time": "2023-06-30T08:38:16.987Z"
   },
   {
    "duration": 15,
    "start_time": "2023-06-30T08:38:17.007Z"
   },
   {
    "duration": 14,
    "start_time": "2023-06-30T08:38:17.024Z"
   },
   {
    "duration": 28,
    "start_time": "2023-06-30T08:38:17.040Z"
   },
   {
    "duration": 25,
    "start_time": "2023-06-30T08:38:17.070Z"
   },
   {
    "duration": 3066,
    "start_time": "2023-06-30T08:38:17.097Z"
   },
   {
    "duration": 11,
    "start_time": "2023-06-30T08:38:20.172Z"
   },
   {
    "duration": 14243,
    "start_time": "2023-06-30T08:38:20.186Z"
   },
   {
    "duration": 6,
    "start_time": "2023-06-30T08:38:34.433Z"
   },
   {
    "duration": 6,
    "start_time": "2023-06-30T08:38:34.441Z"
   },
   {
    "duration": 18,
    "start_time": "2023-06-30T08:38:34.449Z"
   },
   {
    "duration": 5,
    "start_time": "2023-06-30T08:38:34.474Z"
   },
   {
    "duration": 143,
    "start_time": "2023-06-30T08:38:34.481Z"
   },
   {
    "duration": 13,
    "start_time": "2023-06-30T08:38:34.626Z"
   },
   {
    "duration": 39,
    "start_time": "2023-06-30T08:38:34.641Z"
   },
   {
    "duration": 3,
    "start_time": "2023-06-30T08:38:34.684Z"
   },
   {
    "duration": 140,
    "start_time": "2023-06-30T08:38:34.693Z"
   },
   {
    "duration": 50,
    "start_time": "2023-06-30T08:38:34.835Z"
   },
   {
    "duration": 12,
    "start_time": "2023-06-30T08:38:34.894Z"
   },
   {
    "duration": 16,
    "start_time": "2023-06-30T08:38:34.908Z"
   },
   {
    "duration": 473,
    "start_time": "2023-06-30T08:38:34.927Z"
   },
   {
    "duration": 4,
    "start_time": "2023-06-30T08:38:35.403Z"
   },
   {
    "duration": 82,
    "start_time": "2023-06-30T08:38:35.413Z"
   },
   {
    "duration": 3623,
    "start_time": "2023-06-30T08:38:35.504Z"
   },
   {
    "duration": 5,
    "start_time": "2023-06-30T08:38:39.130Z"
   },
   {
    "duration": 21,
    "start_time": "2023-06-30T08:38:39.137Z"
   },
   {
    "duration": 25,
    "start_time": "2023-06-30T08:38:39.160Z"
   },
   {
    "duration": 1023,
    "start_time": "2023-06-30T08:38:39.190Z"
   },
   {
    "duration": 7,
    "start_time": "2023-06-30T08:38:40.215Z"
   },
   {
    "duration": 1393,
    "start_time": "2023-06-30T08:38:40.224Z"
   },
   {
    "duration": 10,
    "start_time": "2023-06-30T08:38:41.619Z"
   },
   {
    "duration": 1662,
    "start_time": "2023-06-30T08:38:41.631Z"
   },
   {
    "duration": 17,
    "start_time": "2023-06-30T08:38:43.379Z"
   },
   {
    "duration": 11,
    "start_time": "2023-06-30T08:38:43.411Z"
   },
   {
    "duration": 4099,
    "start_time": "2023-06-30T08:38:43.425Z"
   },
   {
    "duration": 34,
    "start_time": "2023-06-30T08:38:47.565Z"
   },
   {
    "duration": 9,
    "start_time": "2023-06-30T08:38:47.605Z"
   },
   {
    "duration": 7,
    "start_time": "2023-06-30T08:38:47.621Z"
   },
   {
    "duration": 4664,
    "start_time": "2023-06-30T08:38:47.630Z"
   },
   {
    "duration": 92,
    "start_time": "2023-06-30T08:38:52.301Z"
   },
   {
    "duration": 15,
    "start_time": "2023-06-30T08:38:52.411Z"
   },
   {
    "duration": 32,
    "start_time": "2023-06-30T08:38:52.428Z"
   },
   {
    "duration": 3512,
    "start_time": "2023-06-30T08:38:52.463Z"
   },
   {
    "duration": 73,
    "start_time": "2023-06-30T08:38:55.982Z"
   },
   {
    "duration": 22,
    "start_time": "2023-06-30T08:38:56.064Z"
   },
   {
    "duration": 17,
    "start_time": "2023-06-30T08:38:56.107Z"
   },
   {
    "duration": 15,
    "start_time": "2023-06-30T08:38:56.127Z"
   },
   {
    "duration": 2933,
    "start_time": "2023-06-30T08:40:32.643Z"
   },
   {
    "duration": 2956,
    "start_time": "2023-06-30T08:40:35.579Z"
   },
   {
    "duration": 1844,
    "start_time": "2023-06-30T08:40:38.538Z"
   },
   {
    "duration": 52,
    "start_time": "2023-06-30T08:40:40.384Z"
   },
   {
    "duration": 14,
    "start_time": "2023-06-30T08:40:40.438Z"
   },
   {
    "duration": 47,
    "start_time": "2023-06-30T08:40:40.454Z"
   },
   {
    "duration": 18,
    "start_time": "2023-06-30T08:40:40.502Z"
   },
   {
    "duration": 25,
    "start_time": "2023-06-30T08:40:40.521Z"
   },
   {
    "duration": 55,
    "start_time": "2023-06-30T08:40:40.547Z"
   },
   {
    "duration": 11,
    "start_time": "2023-06-30T08:40:40.606Z"
   },
   {
    "duration": 20,
    "start_time": "2023-06-30T08:40:40.619Z"
   },
   {
    "duration": 228,
    "start_time": "2023-06-30T08:40:40.641Z"
   },
   {
    "duration": 16,
    "start_time": "2023-06-30T08:40:40.882Z"
   },
   {
    "duration": 34,
    "start_time": "2023-06-30T08:40:40.900Z"
   },
   {
    "duration": 63,
    "start_time": "2023-06-30T08:40:40.936Z"
   },
   {
    "duration": 138,
    "start_time": "2023-06-30T08:40:41.002Z"
   },
   {
    "duration": 156,
    "start_time": "2023-06-30T08:40:41.142Z"
   },
   {
    "duration": 13,
    "start_time": "2023-06-30T08:40:41.302Z"
   },
   {
    "duration": 17,
    "start_time": "2023-06-30T08:40:41.317Z"
   },
   {
    "duration": 5,
    "start_time": "2023-06-30T08:40:41.335Z"
   },
   {
    "duration": 9,
    "start_time": "2023-06-30T08:40:41.341Z"
   },
   {
    "duration": 13,
    "start_time": "2023-06-30T08:40:41.358Z"
   },
   {
    "duration": 8,
    "start_time": "2023-06-30T08:40:41.373Z"
   },
   {
    "duration": 2922,
    "start_time": "2023-06-30T08:40:41.388Z"
   },
   {
    "duration": 2,
    "start_time": "2023-06-30T08:40:44.312Z"
   },
   {
    "duration": 13104,
    "start_time": "2023-06-30T08:40:44.316Z"
   },
   {
    "duration": 6,
    "start_time": "2023-06-30T08:40:57.422Z"
   },
   {
    "duration": 6,
    "start_time": "2023-06-30T08:40:57.433Z"
   },
   {
    "duration": 23,
    "start_time": "2023-06-30T08:40:57.457Z"
   },
   {
    "duration": 5,
    "start_time": "2023-06-30T08:40:57.490Z"
   },
   {
    "duration": 144,
    "start_time": "2023-06-30T08:40:57.503Z"
   },
   {
    "duration": 15,
    "start_time": "2023-06-30T08:40:57.650Z"
   },
   {
    "duration": 27,
    "start_time": "2023-06-30T08:40:57.667Z"
   },
   {
    "duration": 2,
    "start_time": "2023-06-30T08:40:57.696Z"
   },
   {
    "duration": 142,
    "start_time": "2023-06-30T08:40:57.700Z"
   },
   {
    "duration": 33,
    "start_time": "2023-06-30T08:40:57.847Z"
   },
   {
    "duration": 5,
    "start_time": "2023-06-30T08:40:57.882Z"
   },
   {
    "duration": 19,
    "start_time": "2023-06-30T08:40:57.889Z"
   },
   {
    "duration": 363,
    "start_time": "2023-06-30T08:40:57.914Z"
   },
   {
    "duration": 6,
    "start_time": "2023-06-30T08:40:58.279Z"
   },
   {
    "duration": 56,
    "start_time": "2023-06-30T08:40:58.287Z"
   },
   {
    "duration": 3383,
    "start_time": "2023-06-30T08:40:58.345Z"
   },
   {
    "duration": 5,
    "start_time": "2023-06-30T08:41:01.730Z"
   },
   {
    "duration": 34,
    "start_time": "2023-06-30T08:41:01.737Z"
   },
   {
    "duration": 28,
    "start_time": "2023-06-30T08:41:01.781Z"
   },
   {
    "duration": 1058,
    "start_time": "2023-06-30T08:41:01.811Z"
   },
   {
    "duration": 12,
    "start_time": "2023-06-30T08:41:02.872Z"
   },
   {
    "duration": 1416,
    "start_time": "2023-06-30T08:41:02.885Z"
   },
   {
    "duration": 14,
    "start_time": "2023-06-30T08:41:04.304Z"
   },
   {
    "duration": 1868,
    "start_time": "2023-06-30T08:41:04.320Z"
   },
   {
    "duration": 67,
    "start_time": "2023-06-30T08:41:06.198Z"
   },
   {
    "duration": 4,
    "start_time": "2023-06-30T08:41:06.268Z"
   },
   {
    "duration": 4033,
    "start_time": "2023-06-30T08:41:06.277Z"
   },
   {
    "duration": 46,
    "start_time": "2023-06-30T08:41:10.361Z"
   },
   {
    "duration": 7,
    "start_time": "2023-06-30T08:41:10.461Z"
   },
   {
    "duration": 25,
    "start_time": "2023-06-30T08:41:10.472Z"
   },
   {
    "duration": 4072,
    "start_time": "2023-06-30T08:41:10.499Z"
   },
   {
    "duration": 115,
    "start_time": "2023-06-30T08:41:14.583Z"
   },
   {
    "duration": 3,
    "start_time": "2023-06-30T08:41:14.701Z"
   },
   {
    "duration": 16,
    "start_time": "2023-06-30T08:41:14.706Z"
   },
   {
    "duration": 2971,
    "start_time": "2023-06-30T08:41:14.724Z"
   },
   {
    "duration": 82,
    "start_time": "2023-06-30T08:41:17.697Z"
   },
   {
    "duration": 7,
    "start_time": "2023-06-30T08:41:17.788Z"
   },
   {
    "duration": 58,
    "start_time": "2023-06-30T08:41:17.797Z"
   },
   {
    "duration": 22,
    "start_time": "2023-06-30T08:41:17.867Z"
   },
   {
    "duration": 1807879,
    "start_time": "2023-06-30T08:41:17.896Z"
   },
   {
    "duration": 4,
    "start_time": "2023-06-30T09:11:25.777Z"
   },
   {
    "duration": 4798,
    "start_time": "2023-06-30T09:57:48.837Z"
   },
   {
    "duration": 3084,
    "start_time": "2023-06-30T09:57:53.637Z"
   },
   {
    "duration": 2820,
    "start_time": "2023-06-30T09:57:56.724Z"
   },
   {
    "duration": 229,
    "start_time": "2023-06-30T09:57:59.547Z"
   },
   {
    "duration": 19,
    "start_time": "2023-06-30T09:57:59.778Z"
   },
   {
    "duration": 35,
    "start_time": "2023-06-30T09:57:59.799Z"
   },
   {
    "duration": 33,
    "start_time": "2023-06-30T09:57:59.836Z"
   },
   {
    "duration": 12,
    "start_time": "2023-06-30T09:57:59.872Z"
   },
   {
    "duration": 24,
    "start_time": "2023-06-30T09:57:59.885Z"
   },
   {
    "duration": 7,
    "start_time": "2023-06-30T09:57:59.917Z"
   },
   {
    "duration": 10,
    "start_time": "2023-06-30T09:57:59.926Z"
   },
   {
    "duration": 377,
    "start_time": "2023-06-30T09:57:59.938Z"
   },
   {
    "duration": 5,
    "start_time": "2023-06-30T09:58:00.321Z"
   },
   {
    "duration": 92,
    "start_time": "2023-06-30T09:58:00.328Z"
   },
   {
    "duration": 98,
    "start_time": "2023-06-30T09:58:00.424Z"
   },
   {
    "duration": 156,
    "start_time": "2023-06-30T09:58:00.524Z"
   },
   {
    "duration": 149,
    "start_time": "2023-06-30T09:58:00.682Z"
   },
   {
    "duration": 33,
    "start_time": "2023-06-30T09:58:00.833Z"
   },
   {
    "duration": 54,
    "start_time": "2023-06-30T09:58:00.867Z"
   },
   {
    "duration": 17,
    "start_time": "2023-06-30T09:58:00.926Z"
   },
   {
    "duration": 28,
    "start_time": "2023-06-30T09:58:00.945Z"
   },
   {
    "duration": 33,
    "start_time": "2023-06-30T09:58:00.979Z"
   },
   {
    "duration": 33,
    "start_time": "2023-06-30T09:58:01.016Z"
   },
   {
    "duration": 3175,
    "start_time": "2023-06-30T09:58:01.051Z"
   },
   {
    "duration": 3,
    "start_time": "2023-06-30T09:58:04.227Z"
   },
   {
    "duration": 15679,
    "start_time": "2023-06-30T09:58:04.233Z"
   },
   {
    "duration": 9,
    "start_time": "2023-06-30T09:58:19.914Z"
   },
   {
    "duration": 6,
    "start_time": "2023-06-30T09:58:19.928Z"
   },
   {
    "duration": 10,
    "start_time": "2023-06-30T09:58:19.935Z"
   },
   {
    "duration": 19,
    "start_time": "2023-06-30T09:58:19.947Z"
   },
   {
    "duration": 153,
    "start_time": "2023-06-30T09:58:19.968Z"
   },
   {
    "duration": 10,
    "start_time": "2023-06-30T09:58:20.123Z"
   },
   {
    "duration": 33,
    "start_time": "2023-06-30T09:58:20.135Z"
   },
   {
    "duration": 3,
    "start_time": "2023-06-30T09:58:20.170Z"
   },
   {
    "duration": 139,
    "start_time": "2023-06-30T09:58:20.175Z"
   },
   {
    "duration": 15,
    "start_time": "2023-06-30T09:58:20.316Z"
   },
   {
    "duration": 16,
    "start_time": "2023-06-30T09:58:20.333Z"
   },
   {
    "duration": 18,
    "start_time": "2023-06-30T09:58:20.350Z"
   },
   {
    "duration": 432,
    "start_time": "2023-06-30T09:58:20.370Z"
   },
   {
    "duration": 4,
    "start_time": "2023-06-30T09:58:20.803Z"
   },
   {
    "duration": 65,
    "start_time": "2023-06-30T09:58:20.809Z"
   },
   {
    "duration": 3690,
    "start_time": "2023-06-30T09:58:20.881Z"
   },
   {
    "duration": 5,
    "start_time": "2023-06-30T09:58:24.574Z"
   },
   {
    "duration": 6,
    "start_time": "2023-06-30T09:58:24.583Z"
   },
   {
    "duration": 26,
    "start_time": "2023-06-30T09:58:24.591Z"
   },
   {
    "duration": 1025,
    "start_time": "2023-06-30T09:58:24.621Z"
   },
   {
    "duration": 12,
    "start_time": "2023-06-30T09:58:25.653Z"
   },
   {
    "duration": 1493,
    "start_time": "2023-06-30T09:58:25.667Z"
   },
   {
    "duration": 24,
    "start_time": "2023-06-30T09:58:27.168Z"
   },
   {
    "duration": 1507,
    "start_time": "2023-06-30T09:58:27.195Z"
   },
   {
    "duration": 105,
    "start_time": "2023-06-30T09:58:28.708Z"
   },
   {
    "duration": 40,
    "start_time": "2023-06-30T09:58:28.820Z"
   },
   {
    "duration": 4196,
    "start_time": "2023-06-30T09:58:28.867Z"
   },
   {
    "duration": 42,
    "start_time": "2023-06-30T09:58:33.076Z"
   },
   {
    "duration": 19,
    "start_time": "2023-06-30T09:58:33.123Z"
   },
   {
    "duration": 41,
    "start_time": "2023-06-30T09:58:33.144Z"
   },
   {
    "duration": 4532,
    "start_time": "2023-06-30T09:58:33.191Z"
   },
   {
    "duration": 107,
    "start_time": "2023-06-30T09:58:37.758Z"
   },
   {
    "duration": 18,
    "start_time": "2023-06-30T09:58:37.867Z"
   },
   {
    "duration": 24,
    "start_time": "2023-06-30T09:58:37.887Z"
   },
   {
    "duration": 3526,
    "start_time": "2023-06-30T09:58:37.918Z"
   },
   {
    "duration": 69,
    "start_time": "2023-06-30T09:58:41.448Z"
   },
   {
    "duration": 26,
    "start_time": "2023-06-30T09:58:41.531Z"
   },
   {
    "duration": 33,
    "start_time": "2023-06-30T09:58:41.568Z"
   },
   {
    "duration": 23,
    "start_time": "2023-06-30T09:58:41.613Z"
   },
   {
    "duration": 247776,
    "start_time": "2023-06-30T09:58:41.638Z"
   },
   {
    "duration": 3,
    "start_time": "2023-06-30T10:02:49.416Z"
   },
   {
    "duration": 1289835,
    "start_time": "2023-06-30T10:02:49.421Z"
   },
   {
    "duration": 157,
    "start_time": "2023-06-30T10:24:19.258Z"
   },
   {
    "duration": 0,
    "start_time": "2023-06-30T10:24:19.418Z"
   },
   {
    "duration": 94989,
    "start_time": "2023-06-30T10:25:16.225Z"
   },
   {
    "duration": 21,
    "start_time": "2023-06-30T10:27:18.073Z"
   },
   {
    "duration": 3587,
    "start_time": "2023-06-30T10:33:26.991Z"
   },
   {
    "duration": 2765,
    "start_time": "2023-06-30T10:33:30.581Z"
   },
   {
    "duration": 2351,
    "start_time": "2023-06-30T10:33:33.349Z"
   },
   {
    "duration": 44,
    "start_time": "2023-06-30T10:33:35.702Z"
   },
   {
    "duration": 692,
    "start_time": "2023-06-30T10:33:35.748Z"
   },
   {
    "duration": 298,
    "start_time": "2023-06-30T10:33:36.442Z"
   },
   {
    "duration": 6,
    "start_time": "2023-06-30T10:33:36.741Z"
   },
   {
    "duration": 26,
    "start_time": "2023-06-30T10:33:36.749Z"
   },
   {
    "duration": 31,
    "start_time": "2023-06-30T10:33:36.778Z"
   },
   {
    "duration": 7,
    "start_time": "2023-06-30T10:33:36.812Z"
   },
   {
    "duration": 5,
    "start_time": "2023-06-30T10:33:36.820Z"
   },
   {
    "duration": 213,
    "start_time": "2023-06-30T10:33:36.826Z"
   },
   {
    "duration": 14,
    "start_time": "2023-06-30T10:33:37.041Z"
   },
   {
    "duration": 28,
    "start_time": "2023-06-30T10:33:37.060Z"
   },
   {
    "duration": 43,
    "start_time": "2023-06-30T10:33:37.090Z"
   },
   {
    "duration": 172,
    "start_time": "2023-06-30T10:33:37.135Z"
   },
   {
    "duration": 166,
    "start_time": "2023-06-30T10:33:37.310Z"
   },
   {
    "duration": 23,
    "start_time": "2023-06-30T10:33:37.477Z"
   },
   {
    "duration": 14,
    "start_time": "2023-06-30T10:33:37.503Z"
   },
   {
    "duration": 9,
    "start_time": "2023-06-30T10:33:37.520Z"
   },
   {
    "duration": 26,
    "start_time": "2023-06-30T10:33:37.532Z"
   },
   {
    "duration": 9,
    "start_time": "2023-06-30T10:33:37.561Z"
   },
   {
    "duration": 6,
    "start_time": "2023-06-30T10:33:37.577Z"
   },
   {
    "duration": 2927,
    "start_time": "2023-06-30T10:33:37.588Z"
   },
   {
    "duration": 2,
    "start_time": "2023-06-30T10:33:40.518Z"
   },
   {
    "duration": 13348,
    "start_time": "2023-06-30T10:33:40.522Z"
   },
   {
    "duration": 7,
    "start_time": "2023-06-30T10:33:53.873Z"
   },
   {
    "duration": 9,
    "start_time": "2023-06-30T10:33:53.901Z"
   },
   {
    "duration": 28,
    "start_time": "2023-06-30T10:33:53.911Z"
   },
   {
    "duration": 47,
    "start_time": "2023-06-30T10:33:53.942Z"
   },
   {
    "duration": 157,
    "start_time": "2023-06-30T10:33:53.992Z"
   },
   {
    "duration": 29,
    "start_time": "2023-06-30T10:33:54.151Z"
   },
   {
    "duration": 71,
    "start_time": "2023-06-30T10:33:54.181Z"
   },
   {
    "duration": 18,
    "start_time": "2023-06-30T10:33:54.255Z"
   },
   {
    "duration": 121,
    "start_time": "2023-06-30T10:33:54.276Z"
   },
   {
    "duration": 13,
    "start_time": "2023-06-30T10:33:54.399Z"
   },
   {
    "duration": 51,
    "start_time": "2023-06-30T10:33:54.414Z"
   },
   {
    "duration": 31,
    "start_time": "2023-06-30T10:33:54.468Z"
   },
   {
    "duration": 409,
    "start_time": "2023-06-30T10:33:54.501Z"
   },
   {
    "duration": 3,
    "start_time": "2023-06-30T10:33:54.912Z"
   },
   {
    "duration": 97,
    "start_time": "2023-06-30T10:33:54.917Z"
   },
   {
    "duration": 3549,
    "start_time": "2023-06-30T10:33:55.016Z"
   },
   {
    "duration": 6,
    "start_time": "2023-06-30T10:33:58.575Z"
   },
   {
    "duration": 8,
    "start_time": "2023-06-30T10:33:58.583Z"
   },
   {
    "duration": 9,
    "start_time": "2023-06-30T10:33:58.593Z"
   },
   {
    "duration": 969,
    "start_time": "2023-06-30T10:33:58.603Z"
   },
   {
    "duration": 11,
    "start_time": "2023-06-30T10:33:59.574Z"
   },
   {
    "duration": 1385,
    "start_time": "2023-06-30T10:33:59.587Z"
   },
   {
    "duration": 11,
    "start_time": "2023-06-30T10:34:00.980Z"
   },
   {
    "duration": 1678,
    "start_time": "2023-06-30T10:34:00.993Z"
   },
   {
    "duration": 120,
    "start_time": "2023-06-30T10:34:02.674Z"
   },
   {
    "duration": 16,
    "start_time": "2023-06-30T10:34:02.865Z"
   },
   {
    "duration": 3913,
    "start_time": "2023-06-30T10:34:02.884Z"
   },
   {
    "duration": 15,
    "start_time": "2023-06-30T10:34:06.855Z"
   },
   {
    "duration": 5,
    "start_time": "2023-06-30T10:34:06.872Z"
   },
   {
    "duration": 8,
    "start_time": "2023-06-30T10:34:06.955Z"
   },
   {
    "duration": 4226,
    "start_time": "2023-06-30T10:34:06.967Z"
   },
   {
    "duration": 78,
    "start_time": "2023-06-30T10:34:11.195Z"
   },
   {
    "duration": 7,
    "start_time": "2023-06-30T10:34:11.281Z"
   },
   {
    "duration": 17,
    "start_time": "2023-06-30T10:34:11.360Z"
   },
   {
    "duration": 3192,
    "start_time": "2023-06-30T10:34:11.380Z"
   },
   {
    "duration": 93,
    "start_time": "2023-06-30T10:34:14.580Z"
   },
   {
    "duration": 14,
    "start_time": "2023-06-30T10:34:14.678Z"
   },
   {
    "duration": 48,
    "start_time": "2023-06-30T10:34:14.695Z"
   },
   {
    "duration": 61,
    "start_time": "2023-06-30T10:34:14.745Z"
   },
   {
    "duration": 228801,
    "start_time": "2023-06-30T10:34:14.809Z"
   },
   {
    "duration": 3,
    "start_time": "2023-06-30T10:38:03.612Z"
   },
   {
    "duration": 1278717,
    "start_time": "2023-06-30T10:38:03.617Z"
   },
   {
    "duration": 101759,
    "start_time": "2023-06-30T10:59:22.336Z"
   },
   {
    "duration": 19,
    "start_time": "2023-06-30T11:19:20.239Z"
   },
   {
    "duration": 8,
    "start_time": "2023-06-30T11:19:45.860Z"
   },
   {
    "duration": 565,
    "start_time": "2023-06-30T11:19:48.175Z"
   },
   {
    "duration": 6,
    "start_time": "2023-06-30T11:22:09.706Z"
   },
   {
    "duration": 8,
    "start_time": "2023-06-30T11:22:11.851Z"
   },
   {
    "duration": 32,
    "start_time": "2023-06-30T11:22:14.408Z"
   },
   {
    "duration": 2768,
    "start_time": "2023-06-30T11:22:22.177Z"
   },
   {
    "duration": 2694,
    "start_time": "2023-06-30T11:22:24.947Z"
   },
   {
    "duration": 1661,
    "start_time": "2023-06-30T11:22:27.644Z"
   },
   {
    "duration": 42,
    "start_time": "2023-06-30T11:22:29.308Z"
   },
   {
    "duration": 20,
    "start_time": "2023-06-30T11:22:29.352Z"
   },
   {
    "duration": 32,
    "start_time": "2023-06-30T11:22:29.374Z"
   },
   {
    "duration": 23,
    "start_time": "2023-06-30T11:22:29.409Z"
   },
   {
    "duration": 35,
    "start_time": "2023-06-30T11:22:29.434Z"
   },
   {
    "duration": 26,
    "start_time": "2023-06-30T11:22:29.471Z"
   },
   {
    "duration": 6,
    "start_time": "2023-06-30T11:22:29.500Z"
   },
   {
    "duration": 6,
    "start_time": "2023-06-30T11:22:29.508Z"
   },
   {
    "duration": 193,
    "start_time": "2023-06-30T11:22:29.515Z"
   },
   {
    "duration": 4,
    "start_time": "2023-06-30T11:22:29.710Z"
   },
   {
    "duration": 26,
    "start_time": "2023-06-30T11:22:29.716Z"
   },
   {
    "duration": 53,
    "start_time": "2023-06-30T11:22:29.757Z"
   },
   {
    "duration": 134,
    "start_time": "2023-06-30T11:22:29.812Z"
   },
   {
    "duration": 139,
    "start_time": "2023-06-30T11:22:29.948Z"
   },
   {
    "duration": 15,
    "start_time": "2023-06-30T11:22:30.089Z"
   },
   {
    "duration": 67,
    "start_time": "2023-06-30T11:22:30.107Z"
   },
   {
    "duration": 23,
    "start_time": "2023-06-30T11:22:30.178Z"
   },
   {
    "duration": 50,
    "start_time": "2023-06-30T11:22:30.203Z"
   },
   {
    "duration": 40,
    "start_time": "2023-06-30T11:22:30.260Z"
   },
   {
    "duration": 27,
    "start_time": "2023-06-30T11:22:30.302Z"
   },
   {
    "duration": 2778,
    "start_time": "2023-06-30T11:22:30.332Z"
   },
   {
    "duration": 2,
    "start_time": "2023-06-30T11:22:33.112Z"
   },
   {
    "duration": 12068,
    "start_time": "2023-06-30T11:22:33.116Z"
   },
   {
    "duration": 6,
    "start_time": "2023-06-30T11:22:45.186Z"
   },
   {
    "duration": 89,
    "start_time": "2023-06-30T11:22:45.198Z"
   },
   {
    "duration": 67,
    "start_time": "2023-06-30T11:22:45.290Z"
   },
   {
    "duration": 16,
    "start_time": "2023-06-30T11:22:45.359Z"
   },
   {
    "duration": 141,
    "start_time": "2023-06-30T11:22:45.380Z"
   },
   {
    "duration": 13,
    "start_time": "2023-06-30T11:22:45.523Z"
   },
   {
    "duration": 41,
    "start_time": "2023-06-30T11:22:45.538Z"
   },
   {
    "duration": 3,
    "start_time": "2023-06-30T11:22:45.581Z"
   },
   {
    "duration": 125,
    "start_time": "2023-06-30T11:22:45.586Z"
   },
   {
    "duration": 16,
    "start_time": "2023-06-30T11:22:45.714Z"
   },
   {
    "duration": 4,
    "start_time": "2023-06-30T11:22:45.732Z"
   },
   {
    "duration": 22,
    "start_time": "2023-06-30T11:22:45.738Z"
   },
   {
    "duration": 355,
    "start_time": "2023-06-30T11:22:45.762Z"
   },
   {
    "duration": 4,
    "start_time": "2023-06-30T11:22:46.119Z"
   },
   {
    "duration": 62,
    "start_time": "2023-06-30T11:22:46.125Z"
   },
   {
    "duration": 3208,
    "start_time": "2023-06-30T11:22:46.189Z"
   },
   {
    "duration": 5,
    "start_time": "2023-06-30T11:22:49.399Z"
   },
   {
    "duration": 36,
    "start_time": "2023-06-30T11:22:49.406Z"
   },
   {
    "duration": 35,
    "start_time": "2023-06-30T11:22:49.445Z"
   },
   {
    "duration": 980,
    "start_time": "2023-06-30T11:22:49.483Z"
   },
   {
    "duration": 8,
    "start_time": "2023-06-30T11:22:50.471Z"
   },
   {
    "duration": 1264,
    "start_time": "2023-06-30T11:22:50.481Z"
   },
   {
    "duration": 22,
    "start_time": "2023-06-30T11:22:51.747Z"
   },
   {
    "duration": 1893,
    "start_time": "2023-06-30T11:22:51.771Z"
   },
   {
    "duration": 118,
    "start_time": "2023-06-30T11:22:53.666Z"
   },
   {
    "duration": 6,
    "start_time": "2023-06-30T11:22:53.786Z"
   },
   {
    "duration": 3963,
    "start_time": "2023-06-30T11:22:53.794Z"
   },
   {
    "duration": 26,
    "start_time": "2023-06-30T11:22:57.759Z"
   },
   {
    "duration": 68,
    "start_time": "2023-06-30T11:22:57.789Z"
   },
   {
    "duration": 11,
    "start_time": "2023-06-30T11:22:57.860Z"
   },
   {
    "duration": 4490,
    "start_time": "2023-06-30T11:22:57.877Z"
   },
   {
    "duration": 87,
    "start_time": "2023-06-30T11:23:02.375Z"
   },
   {
    "duration": 4,
    "start_time": "2023-06-30T11:23:02.465Z"
   },
   {
    "duration": 11,
    "start_time": "2023-06-30T11:23:02.478Z"
   },
   {
    "duration": 3365,
    "start_time": "2023-06-30T11:23:02.493Z"
   },
   {
    "duration": 103,
    "start_time": "2023-06-30T11:23:05.866Z"
   },
   {
    "duration": 11,
    "start_time": "2023-06-30T11:23:05.972Z"
   },
   {
    "duration": 9,
    "start_time": "2023-06-30T11:23:05.985Z"
   },
   {
    "duration": 8,
    "start_time": "2023-06-30T11:23:05.996Z"
   },
   {
    "duration": 2911,
    "start_time": "2023-06-30T11:45:30.478Z"
   },
   {
    "duration": 2840,
    "start_time": "2023-06-30T11:45:33.392Z"
   },
   {
    "duration": 1887,
    "start_time": "2023-06-30T11:45:36.234Z"
   },
   {
    "duration": 64,
    "start_time": "2023-06-30T11:45:38.123Z"
   },
   {
    "duration": 15,
    "start_time": "2023-06-30T11:45:38.189Z"
   },
   {
    "duration": 17,
    "start_time": "2023-06-30T11:45:38.206Z"
   },
   {
    "duration": 6,
    "start_time": "2023-06-30T11:45:38.225Z"
   },
   {
    "duration": 24,
    "start_time": "2023-06-30T11:45:38.232Z"
   },
   {
    "duration": 28,
    "start_time": "2023-06-30T11:45:38.259Z"
   },
   {
    "duration": 7,
    "start_time": "2023-06-30T11:45:38.290Z"
   },
   {
    "duration": 9,
    "start_time": "2023-06-30T11:45:38.299Z"
   },
   {
    "duration": 225,
    "start_time": "2023-06-30T11:45:38.310Z"
   },
   {
    "duration": 5,
    "start_time": "2023-06-30T11:45:38.537Z"
   },
   {
    "duration": 34,
    "start_time": "2023-06-30T11:45:38.557Z"
   },
   {
    "duration": 64,
    "start_time": "2023-06-30T11:45:38.594Z"
   },
   {
    "duration": 150,
    "start_time": "2023-06-30T11:45:38.661Z"
   },
   {
    "duration": 136,
    "start_time": "2023-06-30T11:45:38.813Z"
   },
   {
    "duration": 33,
    "start_time": "2023-06-30T11:45:38.955Z"
   },
   {
    "duration": 12,
    "start_time": "2023-06-30T11:45:38.990Z"
   },
   {
    "duration": 5,
    "start_time": "2023-06-30T11:45:39.004Z"
   },
   {
    "duration": 4,
    "start_time": "2023-06-30T11:45:39.011Z"
   },
   {
    "duration": 5,
    "start_time": "2023-06-30T11:45:39.017Z"
   },
   {
    "duration": 7,
    "start_time": "2023-06-30T11:45:39.024Z"
   },
   {
    "duration": 2924,
    "start_time": "2023-06-30T11:45:39.033Z"
   },
   {
    "duration": 4,
    "start_time": "2023-06-30T11:45:41.963Z"
   },
   {
    "duration": 12779,
    "start_time": "2023-06-30T11:45:41.969Z"
   },
   {
    "duration": 5,
    "start_time": "2023-06-30T11:45:54.749Z"
   },
   {
    "duration": 14,
    "start_time": "2023-06-30T11:45:54.756Z"
   },
   {
    "duration": 8,
    "start_time": "2023-06-30T11:45:54.776Z"
   },
   {
    "duration": 7,
    "start_time": "2023-06-30T11:45:54.787Z"
   },
   {
    "duration": 127,
    "start_time": "2023-06-30T11:45:54.796Z"
   },
   {
    "duration": 11,
    "start_time": "2023-06-30T11:45:54.925Z"
   },
   {
    "duration": 68,
    "start_time": "2023-06-30T11:45:54.937Z"
   },
   {
    "duration": 5,
    "start_time": "2023-06-30T11:45:55.006Z"
   },
   {
    "duration": 112,
    "start_time": "2023-06-30T11:45:55.013Z"
   },
   {
    "duration": 32,
    "start_time": "2023-06-30T11:45:55.127Z"
   },
   {
    "duration": 9,
    "start_time": "2023-06-30T11:45:55.161Z"
   },
   {
    "duration": 13,
    "start_time": "2023-06-30T11:45:55.172Z"
   },
   {
    "duration": 405,
    "start_time": "2023-06-30T11:45:55.191Z"
   },
   {
    "duration": 3,
    "start_time": "2023-06-30T11:45:55.598Z"
   },
   {
    "duration": 68,
    "start_time": "2023-06-30T11:45:55.607Z"
   },
   {
    "duration": 3413,
    "start_time": "2023-06-30T11:45:55.677Z"
   },
   {
    "duration": 5,
    "start_time": "2023-06-30T11:45:59.092Z"
   },
   {
    "duration": 8,
    "start_time": "2023-06-30T11:45:59.099Z"
   },
   {
    "duration": 7,
    "start_time": "2023-06-30T11:45:59.109Z"
   },
   {
    "duration": 993,
    "start_time": "2023-06-30T11:45:59.118Z"
   },
   {
    "duration": 7,
    "start_time": "2023-06-30T11:46:00.113Z"
   },
   {
    "duration": 1480,
    "start_time": "2023-06-30T11:46:00.122Z"
   },
   {
    "duration": 8,
    "start_time": "2023-06-30T11:46:01.604Z"
   },
   {
    "duration": 1474,
    "start_time": "2023-06-30T11:46:01.615Z"
   },
   {
    "duration": 33,
    "start_time": "2023-06-30T11:46:03.156Z"
   },
   {
    "duration": 6,
    "start_time": "2023-06-30T11:46:03.197Z"
   },
   {
    "duration": 4293,
    "start_time": "2023-06-30T11:46:03.205Z"
   },
   {
    "duration": 88,
    "start_time": "2023-06-30T11:46:07.502Z"
   },
   {
    "duration": 7,
    "start_time": "2023-06-30T11:46:07.592Z"
   },
   {
    "duration": 14,
    "start_time": "2023-06-30T11:46:07.659Z"
   },
   {
    "duration": 4299,
    "start_time": "2023-06-30T11:46:07.676Z"
   },
   {
    "duration": 101,
    "start_time": "2023-06-30T11:46:11.978Z"
   },
   {
    "duration": 3,
    "start_time": "2023-06-30T11:46:12.088Z"
   },
   {
    "duration": 9,
    "start_time": "2023-06-30T11:46:12.093Z"
   },
   {
    "duration": 2873,
    "start_time": "2023-06-30T11:46:12.104Z"
   },
   {
    "duration": 89,
    "start_time": "2023-06-30T11:46:14.982Z"
   },
   {
    "duration": 10,
    "start_time": "2023-06-30T11:46:15.077Z"
   },
   {
    "duration": 67,
    "start_time": "2023-06-30T11:46:15.092Z"
   },
   {
    "duration": 14,
    "start_time": "2023-06-30T11:46:15.162Z"
   },
   {
    "duration": 232124,
    "start_time": "2023-06-30T11:46:15.179Z"
   },
   {
    "duration": 8,
    "start_time": "2023-06-30T11:50:07.305Z"
   },
   {
    "duration": 1213279,
    "start_time": "2023-06-30T11:50:07.316Z"
   },
   {
    "duration": 92640,
    "start_time": "2023-06-30T12:25:37.692Z"
   },
   {
    "duration": 13,
    "start_time": "2023-06-30T12:27:16.154Z"
   },
   {
    "duration": 7,
    "start_time": "2023-06-30T12:27:25.538Z"
   },
   {
    "duration": 240,
    "start_time": "2023-06-30T12:27:28.745Z"
   },
   {
    "duration": 232,
    "start_time": "2023-06-30T12:28:01.937Z"
   },
   {
    "duration": 17,
    "start_time": "2023-06-30T12:28:34.261Z"
   },
   {
    "duration": 350,
    "start_time": "2023-06-30T12:28:38.018Z"
   },
   {
    "duration": 5,
    "start_time": "2023-06-30T12:29:02.577Z"
   },
   {
    "duration": 32,
    "start_time": "2023-06-30T12:29:04.911Z"
   }
  ],
  "kernelspec": {
   "display_name": "Python 3 (ipykernel)",
   "language": "python",
   "name": "python3"
  },
  "language_info": {
   "codemirror_mode": {
    "name": "ipython",
    "version": 3
   },
   "file_extension": ".py",
   "mimetype": "text/x-python",
   "name": "python",
   "nbconvert_exporter": "python",
   "pygments_lexer": "ipython3",
   "version": "3.11.3"
  },
  "toc": {
   "base_numbering": 1,
   "nav_menu": {},
   "number_sections": true,
   "sideBar": true,
   "skip_h1_title": true,
   "title_cell": "Содержание",
   "title_sidebar": "Contents",
   "toc_cell": true,
   "toc_position": {
    "height": "calc(100% - 180px)",
    "left": "10px",
    "top": "150px",
    "width": "165px"
   },
   "toc_section_display": true,
   "toc_window_display": true
  }
 },
 "nbformat": 4,
 "nbformat_minor": 2
}
